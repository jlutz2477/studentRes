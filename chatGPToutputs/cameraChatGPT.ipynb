{
 "cells": [
  {
   "cell_type": "markdown",
   "id": "fa74b36a",
   "metadata": {},
   "source": [
    "# ChatGPT Code Responses"
   ]
  },
  {
   "cell_type": "markdown",
   "id": "a957f9eb",
   "metadata": {},
   "source": [
    "## Initial response to: write sysml v2 code for a camera"
   ]
  },
  {
   "cell_type": "code",
   "execution_count": 2,
   "id": "a413876f",
   "metadata": {
    "vscode": {
     "languageId": "sysml"
    }
   },
   "outputs": [
    {
     "name": "stderr",
     "output_type": "stream",
     "text": [
      "ERROR:no viable alternative at input 'aperture' (2.sysml line : 4 column : 19)\n",
      "ERROR:no viable alternative at input 'aperture' (2.sysml line : 5 column : 7)\n",
      "ERROR:no viable alternative at input 'focalLength' (2.sysml line : 5 column : 17)\n",
      "ERROR:no viable alternative at input 'focalLength' (2.sysml line : 6 column : 7)\n",
      "ERROR:no viable alternative at input '}' (2.sysml line : 6 column : 20)\n",
      "ERROR:no viable alternative at input '}' (2.sysml line : 7 column : 5)\n",
      "ERROR:no viable alternative at input 'Camera' (2.sysml line : 10 column : 9)\n",
      "ERROR:no viable alternative at input 'lens' (2.sysml line : 12 column : 15)\n",
      "ERROR:no viable alternative at input 'lens' (2.sysml line : 13 column : 7)\n",
      "ERROR:no viable alternative at input '}' (2.sysml line : 13 column : 13)\n",
      "ERROR:no viable alternative at input '}' (2.sysml line : 14 column : 5)\n",
      "ERROR:no viable alternative at input '(' (2.sysml line : 16 column : 25)\n",
      "ERROR:no viable alternative at input 'sensor' (2.sysml line : 16 column : 26)\n",
      "ERROR:no viable alternative at input '.' (2.sysml line : 16 column : 32)\n",
      "ERROR:no viable alternative at input ',' (2.sysml line : 16 column : 39)\n",
      "ERROR:no viable alternative at input '.' (2.sysml line : 16 column : 45)\n",
      "ERROR:no viable alternative at input ')' (2.sysml line : 16 column : 51)\n",
      "ERROR:no viable alternative at input 'Sensor' (2.sysml line : 20 column : 9)\n",
      "ERROR:no viable alternative at input '}' (2.sysml line : 22 column : 15)\n",
      "ERROR:no viable alternative at input '}' (2.sysml line : 23 column : 5)\n",
      "ERROR:no viable alternative at input 'Lens' (2.sysml line : 26 column : 9)\n",
      "ERROR:no viable alternative at input '}' (2.sysml line : 28 column : 14)\n",
      "ERROR:no viable alternative at input '}' (2.sysml line : 29 column : 5)\n",
      "ERROR:no viable alternative at input 'Resolution' (2.sysml line : 32 column : 8)\n",
      "ERROR:no viable alternative at input 'height' (2.sysml line : 33 column : 12)\n",
      "ERROR:no viable alternative at input 'height' (2.sysml line : 34 column : 5)\n",
      "ERROR:no viable alternative at input '}' (2.sysml line : 34 column : 13)\n",
      "ERROR:no viable alternative at input '}' (2.sysml line : 35 column : 3)\n",
      "ERROR:no viable alternative at input 'target' (2.sysml line : 38 column : 13)\n",
      "ERROR:no viable alternative at input 'target' (2.sysml line : 39 column : 5)\n",
      "ERROR:no viable alternative at input '}' (2.sysml line : 39 column : 13)\n",
      "ERROR:no viable alternative at input '}' (2.sysml line : 40 column : 3)\n",
      "ERROR:missing '}' at 'properties' (2.sysml line : 43 column : 5)\n",
      "ERROR:no viable alternative at input '}' (2.sysml line : 44 column : 19)\n",
      "ERROR:no viable alternative at input '}' (2.sysml line : 45 column : 5)\n",
      "ERROR:missing '}' at 'properties' (2.sysml line : 49 column : 5)\n",
      "ERROR:no viable alternative at input '}' (2.sysml line : 50 column : 19)\n",
      "ERROR:no viable alternative at input '}' (2.sysml line : 51 column : 5)\n",
      "ERROR:mismatched input '<EOF>' expecting '}' (2.sysml line : 53 column : 2)\n"
     ]
    },
    {
     "data": {
      "text/plain": []
     },
     "execution_count": 2,
     "metadata": {},
     "output_type": "execute_result"
    }
   ],
   "source": [
    "package CameraSystem {\n",
    "  part camera: Camera {\n",
    "    properties {\n",
    "      resolution: Resolution\n",
    "      aperture: Real\n",
    "      focalLength: Real\n",
    "    }\n",
    "  }\n",
    "\n",
    "  block Camera {\n",
    "    ports {\n",
    "      sensor: Sensor\n",
    "      lens: Lens\n",
    "    }\n",
    "    flows {\n",
    "      dataFlow: DataFlow(sensor.output, lens.input)\n",
    "    }\n",
    "  }\n",
    "\n",
    "  block Sensor {\n",
    "    ports {\n",
    "      output: OutputPort\n",
    "    }\n",
    "  }\n",
    "\n",
    "  block Lens {\n",
    "    ports {\n",
    "      input: InputPort\n",
    "    }\n",
    "  }\n",
    "\n",
    "  data Resolution {\n",
    "    width: Integer\n",
    "    height: Integer\n",
    "  }\n",
    "\n",
    "  flow DataFlow {\n",
    "    source: OutputPort\n",
    "    target: InputPort\n",
    "  }\n",
    "\n",
    "  interface OutputPort {\n",
    "    properties {\n",
    "      dataFormat: String\n",
    "    }\n",
    "  }\n",
    "\n",
    "  interface InputPort {\n",
    "    properties {\n",
    "      dataFormat: String\n",
    "    }\n",
    "  }\n",
    "}\n"
   ]
  },
  {
   "cell_type": "markdown",
   "id": "daab90ee",
   "metadata": {},
   "source": [
    "## With only human Revision"
   ]
  },
  {
   "cell_type": "code",
   "execution_count": 1,
   "id": "85c718ab",
   "metadata": {
    "vscode": {
     "languageId": "sysml"
    }
   },
   "outputs": [
    {
     "name": "stdout",
     "output_type": "stream",
     "text": [
      "WARNING:Duplicate of inherited member name (1.sysml line : 27 column : 19)\n",
      "WARNING:Duplicate of inherited member name (1.sysml line : 28 column : 19)\n"
     ]
    },
    {
     "data": {
      "text/plain": [
       "Package CameraSystem (760abe55-35f2-4a7b-8a7a-7c7661b6a6a8)\n"
      ]
     },
     "execution_count": 1,
     "metadata": {},
     "output_type": "execute_result"
    }
   ],
   "source": [
    "package CameraSystem {\n",
    "  part def camera{\n",
    "      attribute def resolution;\n",
    "      attribute def aperture;\n",
    "      attribute def focalLength;\n",
    "  }\n",
    "\n",
    "  port def lens {\n",
    "      out item sensor: Sensor;\n",
    "      in item lens: Lens;\n",
    "  }\n",
    "\n",
    "  part def Sensor {\n",
    "    item def output;\n",
    "  }\n",
    "\n",
    "  port def Lens {\n",
    "    item def Input;\n",
    "  }\n",
    "\n",
    "  part def 'data Resolution' {\n",
    "    attribute def width;\n",
    "    attribute def height;\n",
    "  }\n",
    "\n",
    "  flow DataFlow {\n",
    "    attribute def source;\n",
    "    attribute def target;\n",
    "  }\n",
    "}\n"
   ]
  },
  {
   "cell_type": "code",
   "execution_count": 2,
   "id": "b58ac026",
   "metadata": {
    "vscode": {
     "languageId": "sysml"
    }
   },
   "outputs": [
    {
     "data": {
      "image/svg+xml": [
       "<?xml version=\"1.0\" encoding=\"UTF-8\" standalone=\"no\"?><svg xmlns=\"http://www.w3.org/2000/svg\" xmlns:xlink=\"http://www.w3.org/1999/xlink\" contentStyleType=\"text/css\" height=\"449px\" preserveAspectRatio=\"none\" style=\"width:885px;height:449px;background:#FFFFFF;\" version=\"1.1\" viewBox=\"0 0 885 449\" width=\"885px\" zoomAndPan=\"magnify\"><defs/><g><!--MD5=[fbc87193dbaf4d95561dea2c320d4a47]\n",
       "cluster E1--><g id=\"cluster_E1\"><a href=\"psysml:760abe55-35f2-4a7b-8a7a-7c7661b6a6a8\" target=\"_top\" title=\"psysml:760abe55-35f2-4a7b-8a7a-7c7661b6a6a8\" xlink:actuate=\"onRequest\" xlink:href=\"psysml:760abe55-35f2-4a7b-8a7a-7c7661b6a6a8\" xlink:show=\"new\" xlink:title=\"psysml:760abe55-35f2-4a7b-8a7a-7c7661b6a6a8\" xlink:type=\"simple\"><polygon fill=\"none\" points=\"16,6,125,6,132,29.6094,868,29.6094,868,442,16,442,16,6\" style=\"stroke:#000000;stroke-width:1.5;\"/><line style=\"stroke:#000000;stroke-width:1.5;\" x1=\"16\" x2=\"132\" y1=\"29.6094\" y2=\"29.6094\"/><text fill=\"#000000\" font-family=\"sans-serif\" font-size=\"14\" font-weight=\"bold\" lengthAdjust=\"spacing\" textLength=\"103\" x=\"20\" y=\"22.5332\">CameraSystem</text></a></g><!--MD5=[b4997ac47864f28c2f74865a473b2911]\n",
       "class E2--><a href=\"psysml:b8d3a1b9-7b49-4511-b443-1658642740e7\" target=\"_top\" title=\"psysml:b8d3a1b9-7b49-4511-b443-1658642740e7\" xlink:actuate=\"onRequest\" xlink:href=\"psysml:b8d3a1b9-7b49-4511-b443-1658642740e7\" xlink:show=\"new\" xlink:title=\"psysml:b8d3a1b9-7b49-4511-b443-1658642740e7\" xlink:type=\"simple\"><g id=\"elem_E2\"><rect fill=\"#FFFFFF\" height=\"50.7031\" id=\"E2\" style=\"stroke:#181818;stroke-width:0.5;\" width=\"60\" x=\"661\" y=\"42\"/><text fill=\"#000000\" font-family=\"sans-serif\" font-size=\"12\" font-style=\"italic\" lengthAdjust=\"spacing\" textLength=\"58\" x=\"662\" y=\"59.457\">«part  def»</text><text fill=\"#000000\" font-family=\"sans-serif\" font-size=\"14\" lengthAdjust=\"spacing\" textLength=\"47\" x=\"667.5\" y=\"76.627\">camera</text><line style=\"stroke:#181818;stroke-width:0.5;\" x1=\"662\" x2=\"720\" y1=\"84.7031\" y2=\"84.7031\"/></g></a><!--MD5=[09b614a08d8cba4a07c9adeb5e0fee81]\n",
       "class E3--><a href=\"psysml:4bd561a8-fd76-492d-97f4-1b2fc9889dcd\" target=\"_top\" title=\"psysml:4bd561a8-fd76-492d-97f4-1b2fc9889dcd\" xlink:actuate=\"onRequest\" xlink:href=\"psysml:4bd561a8-fd76-492d-97f4-1b2fc9889dcd\" xlink:show=\"new\" xlink:title=\"psysml:4bd561a8-fd76-492d-97f4-1b2fc9889dcd\" xlink:type=\"simple\"><g id=\"elem_E3\"><rect fill=\"#FFFFFF\" height=\"50.7031\" id=\"E3\" style=\"stroke:#181818;stroke-width:0.5;\" width=\"84\" x=\"530\" y=\"153\"/><text fill=\"#000000\" font-family=\"sans-serif\" font-size=\"12\" font-style=\"italic\" lengthAdjust=\"spacing\" textLength=\"82\" x=\"531\" y=\"170.457\">«attribute  def»</text><text fill=\"#000000\" font-family=\"sans-serif\" font-size=\"14\" lengthAdjust=\"spacing\" textLength=\"62\" x=\"541\" y=\"187.627\">resolution</text><line style=\"stroke:#181818;stroke-width:0.5;\" x1=\"531\" x2=\"613\" y1=\"195.7031\" y2=\"195.7031\"/></g></a><!--MD5=[ebbe1d658d1005bcc118a6aa81145e00]\n",
       "class E4--><a href=\"psysml:4664ac87-0fa1-4716-99c5-b021bbb3ddda\" target=\"_top\" title=\"psysml:4664ac87-0fa1-4716-99c5-b021bbb3ddda\" xlink:actuate=\"onRequest\" xlink:href=\"psysml:4664ac87-0fa1-4716-99c5-b021bbb3ddda\" xlink:show=\"new\" xlink:title=\"psysml:4664ac87-0fa1-4716-99c5-b021bbb3ddda\" xlink:type=\"simple\"><g id=\"elem_E4\"><rect fill=\"#FFFFFF\" height=\"50.7031\" id=\"E4\" style=\"stroke:#181818;stroke-width:0.5;\" width=\"84\" x=\"649\" y=\"153\"/><text fill=\"#000000\" font-family=\"sans-serif\" font-size=\"12\" font-style=\"italic\" lengthAdjust=\"spacing\" textLength=\"82\" x=\"650\" y=\"170.457\">«attribute  def»</text><text fill=\"#000000\" font-family=\"sans-serif\" font-size=\"14\" lengthAdjust=\"spacing\" textLength=\"54\" x=\"664\" y=\"187.627\">aperture</text><line style=\"stroke:#181818;stroke-width:0.5;\" x1=\"650\" x2=\"732\" y1=\"195.7031\" y2=\"195.7031\"/></g></a><!--MD5=[270fce915f116d4de14055a7c1d9a0f3]\n",
       "class E5--><a href=\"psysml:2201db3c-a0c3-4dee-a09a-072c035097b9\" target=\"_top\" title=\"psysml:2201db3c-a0c3-4dee-a09a-072c035097b9\" xlink:actuate=\"onRequest\" xlink:href=\"psysml:2201db3c-a0c3-4dee-a09a-072c035097b9\" xlink:show=\"new\" xlink:title=\"psysml:2201db3c-a0c3-4dee-a09a-072c035097b9\" xlink:type=\"simple\"><g id=\"elem_E5\"><rect fill=\"#FFFFFF\" height=\"50.7031\" id=\"E5\" style=\"stroke:#181818;stroke-width:0.5;\" width=\"84\" x=\"768\" y=\"153\"/><text fill=\"#000000\" font-family=\"sans-serif\" font-size=\"12\" font-style=\"italic\" lengthAdjust=\"spacing\" textLength=\"82\" x=\"769\" y=\"170.457\">«attribute  def»</text><text fill=\"#000000\" font-family=\"sans-serif\" font-size=\"14\" lengthAdjust=\"spacing\" textLength=\"74\" x=\"773\" y=\"187.627\">focalLength</text><line style=\"stroke:#181818;stroke-width:0.5;\" x1=\"769\" x2=\"851\" y1=\"195.7031\" y2=\"195.7031\"/></g></a><!--MD5=[60a26617385b1d2d0262a64233df1f8d]\n",
       "class E6--><a href=\"psysml:e125890f-331c-4bf4-964d-d37c30c1f7c0\" target=\"_top\" title=\"psysml:e125890f-331c-4bf4-964d-d37c30c1f7c0\" xlink:actuate=\"onRequest\" xlink:href=\"psysml:e125890f-331c-4bf4-964d-d37c30c1f7c0\" xlink:show=\"new\" xlink:title=\"psysml:e125890f-331c-4bf4-964d-d37c30c1f7c0\" xlink:type=\"simple\"><g id=\"elem_E6\"><rect fill=\"#FFFFFF\" height=\"50.7031\" id=\"E6\" style=\"stroke:#181818;stroke-width:0.5;\" width=\"60\" x=\"360\" y=\"42\"/><text fill=\"#000000\" font-family=\"sans-serif\" font-size=\"12\" font-style=\"italic\" lengthAdjust=\"spacing\" textLength=\"58\" x=\"361\" y=\"59.457\">«port  def»</text><text fill=\"#000000\" font-family=\"sans-serif\" font-size=\"14\" lengthAdjust=\"spacing\" textLength=\"26\" x=\"377\" y=\"76.627\">lens</text><line style=\"stroke:#181818;stroke-width:0.5;\" x1=\"361\" x2=\"419\" y1=\"84.7031\" y2=\"84.7031\"/></g></a><!--MD5=[2156ba9850f5573cc1fc38a6a4b2f02b]\n",
       "class E7--><a href=\"psysml:a4d2b582-d5d6-4fbb-984c-020176c55e88\" target=\"_top\" title=\"psysml:a4d2b582-d5d6-4fbb-984c-020176c55e88\" xlink:actuate=\"onRequest\" xlink:href=\"psysml:a4d2b582-d5d6-4fbb-984c-020176c55e88\" xlink:show=\"new\" xlink:title=\"psysml:a4d2b582-d5d6-4fbb-984c-020176c55e88\" xlink:type=\"simple\"><g id=\"elem_E7\"><rect fill=\"#FFFFFF\" height=\"50.7031\" id=\"E7\" rx=\"10\" ry=\"10\" style=\"stroke:#181818;stroke-width:0.5;\" width=\"110\" x=\"270\" y=\"153\"/><text fill=\"#000000\" font-family=\"sans-serif\" font-size=\"12\" font-style=\"italic\" lengthAdjust=\"spacing\" textLength=\"38\" x=\"306\" y=\"170.457\">«item»</text><text fill=\"#000000\" font-family=\"sans-serif\" font-size=\"14\" lengthAdjust=\"spacing\" textLength=\"96\" x=\"273\" y=\"187.627\">sensor: Sensor</text><line style=\"stroke:#181818;stroke-width:0.5;\" x1=\"271\" x2=\"379\" y1=\"195.7031\" y2=\"195.7031\"/></g></a><!--MD5=[b9389687b975829384b498ac4b7476b2]\n",
       "class E8--><a href=\"psysml:a41a5267-d773-4242-8271-0880ab854e68\" target=\"_top\" title=\"psysml:a41a5267-d773-4242-8271-0880ab854e68\" xlink:actuate=\"onRequest\" xlink:href=\"psysml:a41a5267-d773-4242-8271-0880ab854e68\" xlink:show=\"new\" xlink:title=\"psysml:a41a5267-d773-4242-8271-0880ab854e68\" xlink:type=\"simple\"><g id=\"elem_E8\"><rect fill=\"#FFFFFF\" height=\"50.7031\" id=\"E8\" rx=\"10\" ry=\"10\" style=\"stroke:#181818;stroke-width:0.5;\" width=\"79\" x=\"415.5\" y=\"153\"/><text fill=\"#000000\" font-family=\"sans-serif\" font-size=\"12\" font-style=\"italic\" lengthAdjust=\"spacing\" textLength=\"38\" x=\"436\" y=\"170.457\">«item»</text><text fill=\"#000000\" font-family=\"sans-serif\" font-size=\"14\" lengthAdjust=\"spacing\" textLength=\"65\" x=\"418.5\" y=\"187.627\">lens: Lens</text><line style=\"stroke:#181818;stroke-width:0.5;\" x1=\"416.5\" x2=\"493.5\" y1=\"195.7031\" y2=\"195.7031\"/></g></a><!--MD5=[fd4143e9d270a159db93a4ea2a975926]\n",
       "class E9--><a href=\"psysml:609c2d2c-0018-4285-aa81-9d7c3c1945e9\" target=\"_top\" title=\"psysml:609c2d2c-0018-4285-aa81-9d7c3c1945e9\" xlink:actuate=\"onRequest\" xlink:href=\"psysml:609c2d2c-0018-4285-aa81-9d7c3c1945e9\" xlink:show=\"new\" xlink:title=\"psysml:609c2d2c-0018-4285-aa81-9d7c3c1945e9\" xlink:type=\"simple\"><g id=\"elem_E9\"><rect fill=\"#FFFFFF\" height=\"50.7031\" id=\"E9\" style=\"stroke:#181818;stroke-width:0.5;\" width=\"60\" x=\"295\" y=\"264\"/><text fill=\"#000000\" font-family=\"sans-serif\" font-size=\"12\" font-style=\"italic\" lengthAdjust=\"spacing\" textLength=\"58\" x=\"296\" y=\"281.457\">«part  def»</text><text fill=\"#000000\" font-family=\"sans-serif\" font-size=\"14\" lengthAdjust=\"spacing\" textLength=\"45\" x=\"302.5\" y=\"298.627\">Sensor</text><line style=\"stroke:#181818;stroke-width:0.5;\" x1=\"296\" x2=\"354\" y1=\"306.7031\" y2=\"306.7031\"/></g></a><!--MD5=[96f4274e9e20536e775497830990834d]\n",
       "class E10--><a href=\"psysml:f4f18c0c-eb14-4653-9a7a-483a7bc6916e\" target=\"_top\" title=\"psysml:f4f18c0c-eb14-4653-9a7a-483a7bc6916e\" xlink:actuate=\"onRequest\" xlink:href=\"psysml:f4f18c0c-eb14-4653-9a7a-483a7bc6916e\" xlink:show=\"new\" xlink:title=\"psysml:f4f18c0c-eb14-4653-9a7a-483a7bc6916e\" xlink:type=\"simple\"><g id=\"elem_E10\"><rect fill=\"#FFFFFF\" height=\"50.7031\" id=\"E10\" style=\"stroke:#181818;stroke-width:0.5;\" width=\"63\" x=\"293.5\" y=\"375\"/><text fill=\"#000000\" font-family=\"sans-serif\" font-size=\"12\" font-style=\"italic\" lengthAdjust=\"spacing\" textLength=\"61\" x=\"294.5\" y=\"392.457\">«item  def»</text><text fill=\"#000000\" font-family=\"sans-serif\" font-size=\"14\" lengthAdjust=\"spacing\" textLength=\"40\" x=\"305\" y=\"409.627\">output</text><line style=\"stroke:#181818;stroke-width:0.5;\" x1=\"294.5\" x2=\"355.5\" y1=\"417.7031\" y2=\"417.7031\"/></g></a><!--MD5=[1dd1bfd58a279cf63c5f349dbc8fc6a1]\n",
       "class E11--><a href=\"psysml:93c5a1b7-4ceb-4395-81c2-bf7cc9bd11b3\" target=\"_top\" title=\"psysml:93c5a1b7-4ceb-4395-81c2-bf7cc9bd11b3\" xlink:actuate=\"onRequest\" xlink:href=\"psysml:93c5a1b7-4ceb-4395-81c2-bf7cc9bd11b3\" xlink:show=\"new\" xlink:title=\"psysml:93c5a1b7-4ceb-4395-81c2-bf7cc9bd11b3\" xlink:type=\"simple\"><g id=\"elem_E11\"><rect fill=\"#FFFFFF\" height=\"50.7031\" id=\"E11\" style=\"stroke:#181818;stroke-width:0.5;\" width=\"60\" x=\"425\" y=\"264\"/><text fill=\"#000000\" font-family=\"sans-serif\" font-size=\"12\" font-style=\"italic\" lengthAdjust=\"spacing\" textLength=\"58\" x=\"426\" y=\"281.457\">«port  def»</text><text fill=\"#000000\" font-family=\"sans-serif\" font-size=\"14\" lengthAdjust=\"spacing\" textLength=\"31\" x=\"439.5\" y=\"298.627\">Lens</text><line style=\"stroke:#181818;stroke-width:0.5;\" x1=\"426\" x2=\"484\" y1=\"306.7031\" y2=\"306.7031\"/></g></a><!--MD5=[49a0ec8f00dab7302a31f22d0f0fe584]\n",
       "class E12--><a href=\"psysml:b8cc3bb8-052e-4168-b81e-da82d610f753\" target=\"_top\" title=\"psysml:b8cc3bb8-052e-4168-b81e-da82d610f753\" xlink:actuate=\"onRequest\" xlink:href=\"psysml:b8cc3bb8-052e-4168-b81e-da82d610f753\" xlink:show=\"new\" xlink:title=\"psysml:b8cc3bb8-052e-4168-b81e-da82d610f753\" xlink:type=\"simple\"><g id=\"elem_E12\"><rect fill=\"#FFFFFF\" height=\"50.7031\" id=\"E12\" style=\"stroke:#181818;stroke-width:0.5;\" width=\"63\" x=\"423.5\" y=\"375\"/><text fill=\"#000000\" font-family=\"sans-serif\" font-size=\"12\" font-style=\"italic\" lengthAdjust=\"spacing\" textLength=\"61\" x=\"424.5\" y=\"392.457\">«item  def»</text><text fill=\"#000000\" font-family=\"sans-serif\" font-size=\"14\" lengthAdjust=\"spacing\" textLength=\"31\" x=\"439.5\" y=\"409.627\">Input</text><line style=\"stroke:#181818;stroke-width:0.5;\" x1=\"424.5\" x2=\"485.5\" y1=\"417.7031\" y2=\"417.7031\"/></g></a><!--MD5=[ee3c913d1a06f366521f9ef512b67efe]\n",
       "class E13--><a href=\"psysml:7f587824-ce5e-4fcf-8b9c-aa6713d16ae8\" target=\"_top\" title=\"psysml:7f587824-ce5e-4fcf-8b9c-aa6713d16ae8\" xlink:actuate=\"onRequest\" xlink:href=\"psysml:7f587824-ce5e-4fcf-8b9c-aa6713d16ae8\" xlink:show=\"new\" xlink:title=\"psysml:7f587824-ce5e-4fcf-8b9c-aa6713d16ae8\" xlink:type=\"simple\"><g id=\"elem_E13\"><rect fill=\"#FFFFFF\" height=\"50.7031\" id=\"E13\" style=\"stroke:#181818;stroke-width:0.5;\" width=\"105\" x=\"86.5\" y=\"42\"/><text fill=\"#000000\" font-family=\"sans-serif\" font-size=\"12\" font-style=\"italic\" lengthAdjust=\"spacing\" textLength=\"58\" x=\"110\" y=\"59.457\">«part  def»</text><text fill=\"#000000\" font-family=\"sans-serif\" font-size=\"14\" lengthAdjust=\"spacing\" textLength=\"99\" x=\"89.5\" y=\"76.627\">data Resolution</text><line style=\"stroke:#181818;stroke-width:0.5;\" x1=\"87.5\" x2=\"190.5\" y1=\"84.7031\" y2=\"84.7031\"/></g></a><!--MD5=[bee11217b2f71d958a27249dc326068c]\n",
       "class E14--><a href=\"psysml:05323ee8-abf5-4477-846a-d9944b638cb3\" target=\"_top\" title=\"psysml:05323ee8-abf5-4477-846a-d9944b638cb3\" xlink:actuate=\"onRequest\" xlink:href=\"psysml:05323ee8-abf5-4477-846a-d9944b638cb3\" xlink:show=\"new\" xlink:title=\"psysml:05323ee8-abf5-4477-846a-d9944b638cb3\" xlink:type=\"simple\"><g id=\"elem_E14\"><rect fill=\"#FFFFFF\" height=\"50.7031\" id=\"E14\" style=\"stroke:#181818;stroke-width:0.5;\" width=\"84\" x=\"32\" y=\"153\"/><text fill=\"#000000\" font-family=\"sans-serif\" font-size=\"12\" font-style=\"italic\" lengthAdjust=\"spacing\" textLength=\"82\" x=\"33\" y=\"170.457\">«attribute  def»</text><text fill=\"#000000\" font-family=\"sans-serif\" font-size=\"14\" lengthAdjust=\"spacing\" textLength=\"32\" x=\"58\" y=\"187.627\">width</text><line style=\"stroke:#181818;stroke-width:0.5;\" x1=\"33\" x2=\"115\" y1=\"195.7031\" y2=\"195.7031\"/></g></a><!--MD5=[0c48fb7552dae8cbbef69381101a84c8]\n",
       "class E15--><a href=\"psysml:782869bf-578a-4865-91b2-da4a2c6f0960\" target=\"_top\" title=\"psysml:782869bf-578a-4865-91b2-da4a2c6f0960\" xlink:actuate=\"onRequest\" xlink:href=\"psysml:782869bf-578a-4865-91b2-da4a2c6f0960\" xlink:show=\"new\" xlink:title=\"psysml:782869bf-578a-4865-91b2-da4a2c6f0960\" xlink:type=\"simple\"><g id=\"elem_E15\"><rect fill=\"#FFFFFF\" height=\"50.7031\" id=\"E15\" style=\"stroke:#181818;stroke-width:0.5;\" width=\"84\" x=\"151\" y=\"153\"/><text fill=\"#000000\" font-family=\"sans-serif\" font-size=\"12\" font-style=\"italic\" lengthAdjust=\"spacing\" textLength=\"82\" x=\"152\" y=\"170.457\">«attribute  def»</text><text fill=\"#000000\" font-family=\"sans-serif\" font-size=\"14\" lengthAdjust=\"spacing\" textLength=\"39\" x=\"173.5\" y=\"187.627\">height</text><line style=\"stroke:#181818;stroke-width:0.5;\" x1=\"152\" x2=\"234\" y1=\"195.7031\" y2=\"195.7031\"/></g></a><!--MD5=[209b3feb70ccb6233bfe1053d122c12c]\n",
       "reverse link E2 to E3--><g id=\"link_E2_E3\"><a href=\"psysml:8f7d19f1-9cea-447e-8a24-643f670aea08\" target=\"_top\" title=\"psysml:8f7d19f1-9cea-447e-8a24-643f670aea08\" xlink:actuate=\"onRequest\" xlink:href=\"psysml:8f7d19f1-9cea-447e-8a24-643f670aea08\" xlink:show=\"new\" xlink:title=\"psysml:8f7d19f1-9cea-447e-8a24-643f670aea08\" xlink:type=\"simple\"><path d=\"M652.93,103.37 C635.33,119.49 614.85,138.25 598.9,152.86 \" fill=\"none\" id=\"E2-backto-E3\" style=\"stroke:#181818;stroke-width:1.0;\"/><ellipse cx=\"658.0974\" cy=\"98.6299\" fill=\"#FFFFFF\" rx=\"8\" ry=\"8\" style=\"stroke:#181818;stroke-width:1.0;\"/><line style=\"stroke:#181818;stroke-width:1.0;\" x1=\"652.1948\" x2=\"664\" y1=\"104.0299\" y2=\"93.23\"/><line style=\"stroke:#181818;stroke-width:1.0;\" x1=\"652.6975\" x2=\"663.4973\" y1=\"92.7273\" y2=\"104.5325\"/></a></g><!--MD5=[9618e71518536f8baf3342ff6fdab317]\n",
       "reverse link E2 to E4--><g id=\"link_E2_E4\"><a href=\"psysml:26084e11-379e-40c5-85e0-921728b0c06c\" target=\"_top\" title=\"psysml:26084e11-379e-40c5-85e0-921728b0c06c\" xlink:actuate=\"onRequest\" xlink:href=\"psysml:26084e11-379e-40c5-85e0-921728b0c06c\" xlink:show=\"new\" xlink:title=\"psysml:26084e11-379e-40c5-85e0-921728b0c06c\" xlink:type=\"simple\"><path d=\"M691,108.52 C691,123.37 691,139.78 691,152.86 \" fill=\"none\" id=\"E2-backto-E4\" style=\"stroke:#181818;stroke-width:1.0;\"/><ellipse cx=\"691\" cy=\"101.23\" fill=\"#FFFFFF\" rx=\"8\" ry=\"8\" style=\"stroke:#181818;stroke-width:1.0;\"/><line style=\"stroke:#181818;stroke-width:1.0;\" x1=\"691\" x2=\"691\" y1=\"109.23\" y2=\"93.23\"/><line style=\"stroke:#181818;stroke-width:1.0;\" x1=\"683\" x2=\"699\" y1=\"101.23\" y2=\"101.23\"/></a></g><!--MD5=[4e1a83fab71cdb913c109063314ae896]\n",
       "reverse link E2 to E5--><g id=\"link_E2_E5\"><a href=\"psysml:5c1a8b14-0c40-4d49-9390-3ce1e85232a2\" target=\"_top\" title=\"psysml:5c1a8b14-0c40-4d49-9390-3ce1e85232a2\" xlink:actuate=\"onRequest\" xlink:href=\"psysml:5c1a8b14-0c40-4d49-9390-3ce1e85232a2\" xlink:show=\"new\" xlink:title=\"psysml:5c1a8b14-0c40-4d49-9390-3ce1e85232a2\" xlink:type=\"simple\"><path d=\"M729.07,103.37 C746.67,119.49 767.15,138.25 783.1,152.86 \" fill=\"none\" id=\"E2-backto-E5\" style=\"stroke:#181818;stroke-width:1.0;\"/><ellipse cx=\"723.9026\" cy=\"98.6299\" fill=\"#FFFFFF\" rx=\"8\" ry=\"8\" style=\"stroke:#181818;stroke-width:1.0;\"/><line style=\"stroke:#181818;stroke-width:1.0;\" x1=\"729.8052\" x2=\"718\" y1=\"104.0299\" y2=\"93.23\"/><line style=\"stroke:#181818;stroke-width:1.0;\" x1=\"718.5027\" x2=\"729.3025\" y1=\"104.5325\" y2=\"92.7273\"/></a></g><!--MD5=[3f50a3473f1dfb74d3f76443e03635af]\n",
       "reverse link E6 to E7--><g id=\"link_E6_E7\"><a href=\"psysml:81d17b30-5b5e-4039-a7fb-61c7adb1b834\" target=\"_top\" title=\"psysml:81d17b30-5b5e-4039-a7fb-61c7adb1b834\" xlink:actuate=\"onRequest\" xlink:href=\"psysml:81d17b30-5b5e-4039-a7fb-61c7adb1b834\" xlink:show=\"new\" xlink:title=\"psysml:81d17b30-5b5e-4039-a7fb-61c7adb1b834\" xlink:type=\"simple\"><path d=\"M368.38,104.76 C358.96,120.56 348.16,138.67 339.69,152.86 \" fill=\"none\" id=\"E6-backto-E7\" style=\"stroke:#181818;stroke-width:1.0;\"/><polygon fill=\"none\" points=\"375.25,93.23,368.7424,96.3366,369.1071,103.5385,375.6147,100.4319,375.25,93.23\" style=\"stroke:#181818;stroke-width:1.0;\"/><text fill=\"#000000\" font-family=\"sans-serif\" font-size=\"13\" lengthAdjust=\"spacing\" textLength=\"7\" x=\"335.4176\" y=\"142.2344\">1</text></a></g><!--MD5=[f4cf0736d43fd73c4ef68817c49d37d5]\n",
       "reverse link E6 to E8--><g id=\"link_E6_E8\"><a href=\"psysml:3b2879c7-9190-4ade-b120-9fbdb9b16984\" target=\"_top\" title=\"psysml:3b2879c7-9190-4ade-b120-9fbdb9b16984\" xlink:actuate=\"onRequest\" xlink:href=\"psysml:3b2879c7-9190-4ade-b120-9fbdb9b16984\" xlink:show=\"new\" xlink:title=\"psysml:3b2879c7-9190-4ade-b120-9fbdb9b16984\" xlink:type=\"simple\"><path d=\"M411.62,104.76 C421.04,120.56 431.84,138.67 440.31,152.86 \" fill=\"none\" id=\"E6-backto-E8\" style=\"stroke:#181818;stroke-width:1.0;\"/><polygon fill=\"none\" points=\"404.75,93.23,404.3853,100.4319,410.8929,103.5385,411.2576,96.3366,404.75,93.23\" style=\"stroke:#181818;stroke-width:1.0;\"/><text fill=\"#000000\" font-family=\"sans-serif\" font-size=\"13\" lengthAdjust=\"spacing\" textLength=\"7\" x=\"428.8762\" y=\"142.2344\">1</text></a></g><!--MD5=[1c0b9414cc86e0744215edee6abd8926]\n",
       "link E7 to E9--><g id=\"link_E7_E9\"><a href=\"psysml:421f1a63-8c83-4e4d-b908-4865b706431a\" target=\"_top\" title=\"psysml:421f1a63-8c83-4e4d-b908-4865b706431a\" xlink:actuate=\"onRequest\" xlink:href=\"psysml:421f1a63-8c83-4e4d-b908-4865b706431a\" xlink:show=\"new\" xlink:title=\"psysml:421f1a63-8c83-4e4d-b908-4865b706431a\" xlink:type=\"simple\"><path d=\"M325,204.23 C325,215.94 325,230.29 325,243.81 \" fill=\"none\" id=\"E7-to-E9\" style=\"stroke:#181818;stroke-width:1.0;\"/><polygon fill=\"#FFFFFF\" points=\"325,263.86,318,244.86,332,244.86,325,263.86\" style=\"stroke:#181818;stroke-width:1.0;\"/><ellipse cx=\"320\" cy=\"239.16\" fill=\"#181818\" rx=\"2\" ry=\"2\" style=\"stroke:#181818;stroke-width:1.0;\"/><ellipse cx=\"330\" cy=\"239.16\" fill=\"#181818\" rx=\"2\" ry=\"2\" style=\"stroke:#181818;stroke-width:1.0;\"/></a></g><!--MD5=[23ac544a70576c3e717098101004234c]\n",
       "reverse link E9 to E10--><g id=\"link_E9_E10\"><a href=\"psysml:31897d7a-2335-4fc7-b691-abcc2385b708\" target=\"_top\" title=\"psysml:31897d7a-2335-4fc7-b691-abcc2385b708\" xlink:actuate=\"onRequest\" xlink:href=\"psysml:31897d7a-2335-4fc7-b691-abcc2385b708\" xlink:show=\"new\" xlink:title=\"psysml:31897d7a-2335-4fc7-b691-abcc2385b708\" xlink:type=\"simple\"><path d=\"M325,330.52 C325,345.37 325,361.78 325,374.86 \" fill=\"none\" id=\"E9-backto-E10\" style=\"stroke:#181818;stroke-width:1.0;\"/><ellipse cx=\"325\" cy=\"323.23\" fill=\"#FFFFFF\" rx=\"8\" ry=\"8\" style=\"stroke:#181818;stroke-width:1.0;\"/><line style=\"stroke:#181818;stroke-width:1.0;\" x1=\"325\" x2=\"325\" y1=\"331.23\" y2=\"315.23\"/><line style=\"stroke:#181818;stroke-width:1.0;\" x1=\"317\" x2=\"333\" y1=\"323.23\" y2=\"323.23\"/></a></g><!--MD5=[4c4a73c5a655405ae5766743f691417b]\n",
       "link E8 to E11--><g id=\"link_E8_E11\"><a href=\"psysml:456858ff-238e-4c58-839e-0e703aa2c494\" target=\"_top\" title=\"psysml:456858ff-238e-4c58-839e-0e703aa2c494\" xlink:actuate=\"onRequest\" xlink:href=\"psysml:456858ff-238e-4c58-839e-0e703aa2c494\" xlink:show=\"new\" xlink:title=\"psysml:456858ff-238e-4c58-839e-0e703aa2c494\" xlink:type=\"simple\"><path d=\"M455,204.23 C455,215.94 455,230.29 455,243.81 \" fill=\"none\" id=\"E8-to-E11\" style=\"stroke:#181818;stroke-width:1.0;\"/><polygon fill=\"#FFFFFF\" points=\"455,263.86,448,244.86,462,244.86,455,263.86\" style=\"stroke:#181818;stroke-width:1.0;\"/><ellipse cx=\"450\" cy=\"239.16\" fill=\"#181818\" rx=\"2\" ry=\"2\" style=\"stroke:#181818;stroke-width:1.0;\"/><ellipse cx=\"460\" cy=\"239.16\" fill=\"#181818\" rx=\"2\" ry=\"2\" style=\"stroke:#181818;stroke-width:1.0;\"/></a></g><!--MD5=[94adabc162ce7e41b39f13be14fbaeb3]\n",
       "reverse link E11 to E12--><g id=\"link_E11_E12\"><a href=\"psysml:8b495cd9-65c6-4b36-9305-a0ad69593c8c\" target=\"_top\" title=\"psysml:8b495cd9-65c6-4b36-9305-a0ad69593c8c\" xlink:actuate=\"onRequest\" xlink:href=\"psysml:8b495cd9-65c6-4b36-9305-a0ad69593c8c\" xlink:show=\"new\" xlink:title=\"psysml:8b495cd9-65c6-4b36-9305-a0ad69593c8c\" xlink:type=\"simple\"><path d=\"M455,330.52 C455,345.37 455,361.78 455,374.86 \" fill=\"none\" id=\"E11-backto-E12\" style=\"stroke:#181818;stroke-width:1.0;\"/><ellipse cx=\"455\" cy=\"323.23\" fill=\"#FFFFFF\" rx=\"8\" ry=\"8\" style=\"stroke:#181818;stroke-width:1.0;\"/><line style=\"stroke:#181818;stroke-width:1.0;\" x1=\"455\" x2=\"455\" y1=\"331.23\" y2=\"315.23\"/><line style=\"stroke:#181818;stroke-width:1.0;\" x1=\"447\" x2=\"463\" y1=\"323.23\" y2=\"323.23\"/></a></g><!--MD5=[01db00f33b28669d6d9febea71002831]\n",
       "reverse link E13 to E14--><g id=\"link_E13_E14\"><a href=\"psysml:a49ad8c7-8304-4d1b-a313-b2d4186ab376\" target=\"_top\" title=\"psysml:a49ad8c7-8304-4d1b-a313-b2d4186ab376\" xlink:actuate=\"onRequest\" xlink:href=\"psysml:a49ad8c7-8304-4d1b-a313-b2d4186ab376\" xlink:show=\"new\" xlink:title=\"psysml:a49ad8c7-8304-4d1b-a313-b2d4186ab376\" xlink:type=\"simple\"><path d=\"M116.54,106.16 C107.32,121.62 96.91,139.08 88.69,152.86 \" fill=\"none\" id=\"E13-backto-E14\" style=\"stroke:#181818;stroke-width:1.0;\"/><ellipse cx=\"120.152\" cy=\"100.1007\" fill=\"#FFFFFF\" rx=\"8\" ry=\"8\" style=\"stroke:#181818;stroke-width:1.0;\"/><line style=\"stroke:#181818;stroke-width:1.0;\" x1=\"116.0539\" x2=\"124.25\" y1=\"106.9713\" y2=\"93.23\"/><line style=\"stroke:#181818;stroke-width:1.0;\" x1=\"113.2813\" x2=\"127.0226\" y1=\"96.0026\" y2=\"104.1987\"/></a></g><!--MD5=[e9a5e828c71fd2209a11a152f562d491]\n",
       "reverse link E13 to E15--><g id=\"link_E13_E15\"><a href=\"psysml:92f83941-bebd-449b-a328-4a2d102f7d72\" target=\"_top\" title=\"psysml:92f83941-bebd-449b-a328-4a2d102f7d72\" xlink:actuate=\"onRequest\" xlink:href=\"psysml:92f83941-bebd-449b-a328-4a2d102f7d72\" xlink:show=\"new\" xlink:title=\"psysml:92f83941-bebd-449b-a328-4a2d102f7d72\" xlink:type=\"simple\"><path d=\"M158.12,107.1 C165.67,122.32 174.11,139.36 180.8,152.86 \" fill=\"none\" id=\"E13-backto-E15\" style=\"stroke:#181818;stroke-width:1.0;\"/><ellipse cx=\"154.8064\" cy=\"100.396\" fill=\"#FFFFFF\" rx=\"8\" ry=\"8\" style=\"stroke:#181818;stroke-width:1.0;\"/><line style=\"stroke:#181818;stroke-width:1.0;\" x1=\"158.3627\" x2=\"151.25\" y1=\"107.5621\" y2=\"93.23\"/><line style=\"stroke:#181818;stroke-width:1.0;\" x1=\"147.6403\" x2=\"161.9724\" y1=\"103.9524\" y2=\"96.8397\"/></a></g><!--MD5=[f2cb62d006dc72bd80ef71d002cd74a8]\n",
       "@startuml\r\n",
       "skin sysmlbw\r\n",
       "skinparam monochrome true\r\n",
       "skinparam wrapWidth 300\r\n",
       "hide circle\r\n",
       "\r\n",
       "package \"CameraSystem\" as E1  [[psysml:760abe55-35f2-4a7b-8a7a-7c7661b6a6a8 ]]  {\r\n",
       "comp def \"camera\" as E2  <<(T,blue) part  def>> [[psysml:b8d3a1b9-7b49-4511-b443-1658642740e7 ]] {\r\n",
       "}\r\n",
       "comp def \"resolution\" as E3  <<(T,blue) attribute  def>> [[psysml:4bd561a8-fd76-492d-97f4-1b2fc9889dcd ]] {\r\n",
       "}\r\n",
       "comp def \"aperture\" as E4  <<(T,blue) attribute  def>> [[psysml:4664ac87-0fa1-4716-99c5-b021bbb3ddda ]] {\r\n",
       "}\r\n",
       "comp def \"focalLength\" as E5  <<(T,blue) attribute  def>> [[psysml:2201db3c-a0c3-4dee-a09a-072c035097b9 ]] {\r\n",
       "}\r\n",
       "comp def \"lens\" as E6  <<(T,blue) port  def>> [[psysml:e125890f-331c-4bf4-964d-d37c30c1f7c0 ]] {\r\n",
       "}\r\n",
       "comp usage \"sensor: Sensor  \" as E7  <<(T,blue) item>> [[psysml:a4d2b582-d5d6-4fbb-984c-020176c55e88 ]] {\r\n",
       "}\r\n",
       "comp usage \"lens: Lens  \" as E8  <<(T,blue) item>> [[psysml:a41a5267-d773-4242-8271-0880ab854e68 ]] {\r\n",
       "}\r\n",
       "comp def \"Sensor\" as E9  <<(T,blue) part  def>> [[psysml:609c2d2c-0018-4285-aa81-9d7c3c1945e9 ]] {\r\n",
       "}\r\n",
       "comp def \"output\" as E10  <<(T,blue) item  def>> [[psysml:f4f18c0c-eb14-4653-9a7a-483a7bc6916e ]] {\r\n",
       "}\r\n",
       "comp def \"Lens\" as E11  <<(T,blue) port  def>> [[psysml:93c5a1b7-4ceb-4395-81c2-bf7cc9bd11b3 ]] {\r\n",
       "}\r\n",
       "comp def \"Input\" as E12  <<(T,blue) item  def>> [[psysml:b8cc3bb8-052e-4168-b81e-da82d610f753 ]] {\r\n",
       "}\r\n",
       "comp def \"data Resolution\" as E13  <<(T,blue) part  def>> [[psysml:7f587824-ce5e-4fcf-8b9c-aa6713d16ae8 ]] {\r\n",
       "}\r\n",
       "comp def \"width\" as E14  <<(T,blue) attribute  def>> [[psysml:05323ee8-abf5-4477-846a-d9944b638cb3 ]] {\r\n",
       "}\r\n",
       "comp def \"height\" as E15  <<(T,blue) attribute  def>> [[psysml:782869bf-578a-4865-91b2-da4a2c6f0960 ]] {\r\n",
       "}\r\n",
       "}\r\n",
       "E2 +- - E3 [[psysml:8f7d19f1-9cea-447e-8a24-643f670aea08 ]] \r\n",
       "E2 +- - E4 [[psysml:26084e11-379e-40c5-85e0-921728b0c06c ]] \r\n",
       "E2 +- - E5 [[psysml:5c1a8b14-0c40-4d49-9390-3ce1e85232a2 ]] \r\n",
       "E6 o- - \"1\"E7 [[psysml:81d17b30-5b5e-4039-a7fb-61c7adb1b834 ]] \r\n",
       "E6 o- - \"1\"E8 [[psysml:3b2879c7-9190-4ade-b120-9fbdb9b16984 ]] \r\n",
       "E7 - -:|> E9 [[psysml:421f1a63-8c83-4e4d-b908-4865b706431a ]] \r\n",
       "E9 +- - E10 [[psysml:31897d7a-2335-4fc7-b691-abcc2385b708 ]] \r\n",
       "E8 - -:|> E11 [[psysml:456858ff-238e-4c58-839e-0e703aa2c494 ]] \r\n",
       "E11 +- - E12 [[psysml:8b495cd9-65c6-4b36-9305-a0ad69593c8c ]] \r\n",
       "E13 +- - E14 [[psysml:a49ad8c7-8304-4d1b-a313-b2d4186ab376 ]] \r\n",
       "E13 +- - E15 [[psysml:92f83941-bebd-449b-a328-4a2d102f7d72 ]] \r\n",
       "@enduml\r\n",
       "\n",
       "PlantUML version 1.2022.7(Mon Aug 22 13:01:30 EDT 2022)\n",
       "(EPL source distribution)\n",
       "Java Runtime: OpenJDK Runtime Environment\n",
       "JVM: OpenJDK 64-Bit Server VM\n",
       "Default Encoding: Cp1252\n",
       "Language: en\n",
       "Country: US\n",
       "--></g></svg>"
      ]
     },
     "execution_count": 2,
     "metadata": {},
     "output_type": "execute_result"
    }
   ],
   "source": [
    "%viz --view=Tree CameraSystem"
   ]
  },
  {
   "cell_type": "markdown",
   "id": "107e119c",
   "metadata": {},
   "source": [
    "## Given working code to chatgpt, how would it rewrite its response:\n",
    "'Rewrite sysml v2 code for a camera given this sysml v2 code'"
   ]
  },
  {
   "cell_type": "code",
   "execution_count": 17,
   "id": "9ed68f40",
   "metadata": {
    "vscode": {
     "languageId": "sysml"
    }
   },
   "outputs": [
    {
     "name": "stderr",
     "output_type": "stream",
     "text": [
      "ERROR:An action must be typed by action definitions. (17.sysml line : 5 column : 5)\n",
      "ERROR:Features must have at least one type (17.sysml line : 5 column : 5)\n",
      "ERROR:An action must be typed by action definitions. (17.sysml line : 8 column : 7)\n",
      "ERROR:Features must have at least one type (17.sysml line : 8 column : 7)\n",
      "ERROR:An action must be typed by action definitions. (17.sysml line : 12 column : 7)\n",
      "ERROR:Features must have at least one type (17.sysml line : 12 column : 7)\n",
      "ERROR:Features must have at least one type (17.sysml line : 20 column : 7)\n",
      "ERROR:Features must have at least one type (17.sysml line : 24 column : 7)\n",
      "ERROR:An action must be typed by action definitions. (17.sysml line : 28 column : 7)\n",
      "ERROR:Features must have at least one type (17.sysml line : 28 column : 7)\n",
      "ERROR:Features must have at least one type (17.sysml line : 29 column : 18)\n",
      "ERROR:Features must have at least one type (17.sysml line : 29 column : 32)\n",
      "ERROR:An action must be typed by action definitions. (17.sysml line : 30 column : 7)\n",
      "ERROR:Features must have at least one type (17.sysml line : 30 column : 7)\n"
     ]
    },
    {
     "data": {
      "text/plain": []
     },
     "execution_count": 17,
     "metadata": {},
     "output_type": "execute_result"
    }
   ],
   "source": [
    "package CameraSystem {\n",
    "  part Camera {\n",
    "    import PictureTaking::*;\n",
    "\n",
    "    perform action takePicture[*]: PictureTaking::takePicture;\n",
    "\n",
    "    part FocusingSubsystem {\n",
    "      perform takePicture.focus;\n",
    "    }\n",
    "\n",
    "    part ImagingSubsystem {\n",
    "      perform takePicture.shoot;\n",
    "    }\n",
    "  }\n",
    "\n",
    "  package PictureTaking {\n",
    "    part Exposure;\n",
    "\n",
    "    action Focus {\n",
    "      out xrsl: Exposure;\n",
    "    }\n",
    "\n",
    "    action Shoot {\n",
    "      in xsf: Exposure;\n",
    "    }\n",
    "\n",
    "    action takePicture {\n",
    "      action focus: Focus[1];\n",
    "      flow focus.xrsl to shoot.xsf;\n",
    "      action shoot: Shoot[1];\n",
    "    }\n",
    "  }\n",
    "}\n"
   ]
  },
  {
   "cell_type": "markdown",
   "id": "21304c34",
   "metadata": {},
   "source": [
    "## With Revision"
   ]
  },
  {
   "cell_type": "code",
   "execution_count": 13,
   "id": "de65d112",
   "metadata": {
    "vscode": {
     "languageId": "sysml"
    }
   },
   "outputs": [
    {
     "data": {
      "text/plain": [
       "Package CameraSystem (a86259be-976e-4b56-9d74-c77fc3047d8f)\n"
      ]
     },
     "execution_count": 13,
     "metadata": {},
     "output_type": "execute_result"
    }
   ],
   "source": [
    "package CameraSystem {\n",
    "  part def Camera {\n",
    "    import PictureTaking::*;\n",
    "\n",
    "    action def takePicture {\n",
    "         action shoot: Shoot;\n",
    "         action focus: Focus;\n",
    "    }\n",
    "\n",
    "    part def FocusingSubsystem {\n",
    "      action takePictureFocus;\n",
    "    }\n",
    "\n",
    "    part def ImagingSubsystem {\n",
    "      action takePictureShoot;\n",
    "    }\n",
    "  }\n",
    "\n",
    "  package PictureTaking {\n",
    "    part def Exposure;\n",
    "\n",
    "    action def Focus {\n",
    "      out xrsl: Exposure;\n",
    "    }\n",
    "\n",
    "    action def Shoot {\n",
    "      in xsf: Exposure;\n",
    "    }\n",
    "\n",
    "    action def takePicture {\n",
    "      action def focus { \n",
    "          Focus[1];\n",
    "      }\n",
    "      \n",
    "      \n",
    "      action def shoot {\n",
    "          Shoot[1];\n",
    "      } \n",
    "    }\n",
    "  }\n",
    "}"
   ]
  },
  {
   "cell_type": "code",
   "execution_count": 14,
   "id": "bba03766",
   "metadata": {},
   "outputs": [
    {
     "data": {
      "image/svg+xml": [
       "<?xml version=\"1.0\" encoding=\"UTF-8\" standalone=\"no\"?><svg xmlns=\"http://www.w3.org/2000/svg\" xmlns:xlink=\"http://www.w3.org/1999/xlink\" contentStyleType=\"text/css\" height=\"704px\" preserveAspectRatio=\"none\" style=\"width:648px;height:704px;background:#FFFFFF;\" version=\"1.1\" viewBox=\"0 0 648 704\" width=\"648px\" zoomAndPan=\"magnify\"><defs/><g><!--MD5=[fbc87193dbaf4d95561dea2c320d4a47]\n",
       "cluster E1--><g id=\"cluster_E1\"><a href=\"psysml:a86259be-976e-4b56-9d74-c77fc3047d8f\" target=\"_top\" title=\"psysml:a86259be-976e-4b56-9d74-c77fc3047d8f\" xlink:actuate=\"onRequest\" xlink:href=\"psysml:a86259be-976e-4b56-9d74-c77fc3047d8f\" xlink:show=\"new\" xlink:title=\"psysml:a86259be-976e-4b56-9d74-c77fc3047d8f\" xlink:type=\"simple\"><polygon fill=\"none\" points=\"16,6,125,6,132,29.6094,626,29.6094,626,697,16,697,16,6\" style=\"stroke:#000000;stroke-width:1.5;\"/><line style=\"stroke:#000000;stroke-width:1.5;\" x1=\"16\" x2=\"132\" y1=\"29.6094\" y2=\"29.6094\"/><text fill=\"#000000\" font-family=\"sans-serif\" font-size=\"14\" font-weight=\"bold\" lengthAdjust=\"spacing\" textLength=\"103\" x=\"20\" y=\"22.5332\">CameraSystem</text></a></g><!--MD5=[a84b4591f868c1fa4a211716a82f2f0d]\n",
       "cluster E10--><g id=\"cluster_E10\"><a href=\"psysml:5b6c1ad9-565a-479a-bae6-f701f7c2f926\" target=\"_top\" title=\"psysml:5b6c1ad9-565a-479a-bae6-f701f7c2f926\" xlink:actuate=\"onRequest\" xlink:href=\"psysml:5b6c1ad9-565a-479a-bae6-f701f7c2f926\" xlink:show=\"new\" xlink:title=\"psysml:5b6c1ad9-565a-479a-bae6-f701f7c2f926\" xlink:type=\"simple\"><polygon fill=\"none\" points=\"48,389,150,389,157,412.6094,407,412.6094,407,665,48,665,48,389\" style=\"stroke:#000000;stroke-width:1.5;\"/><line style=\"stroke:#000000;stroke-width:1.5;\" x1=\"48\" x2=\"157\" y1=\"412.6094\" y2=\"412.6094\"/><text fill=\"#000000\" font-family=\"sans-serif\" font-size=\"14\" font-weight=\"bold\" lengthAdjust=\"spacing\" textLength=\"96\" x=\"52\" y=\"405.5332\">PictureTaking</text></a></g><!--MD5=[b4997ac47864f28c2f74865a473b2911]\n",
       "class E2--><a href=\"psysml:73629b51-74da-46fe-968f-e07af7488d73\" target=\"_top\" title=\"psysml:73629b51-74da-46fe-968f-e07af7488d73\" xlink:actuate=\"onRequest\" xlink:href=\"psysml:73629b51-74da-46fe-968f-e07af7488d73\" xlink:show=\"new\" xlink:title=\"psysml:73629b51-74da-46fe-968f-e07af7488d73\" xlink:type=\"simple\"><g id=\"elem_E2\"><rect fill=\"#FFFFFF\" height=\"50.7031\" id=\"E2\" style=\"stroke:#181818;stroke-width:0.5;\" width=\"60\" x=\"324\" y=\"42\"/><text fill=\"#000000\" font-family=\"sans-serif\" font-size=\"12\" font-style=\"italic\" lengthAdjust=\"spacing\" textLength=\"58\" x=\"325\" y=\"59.457\">«part  def»</text><text fill=\"#000000\" font-family=\"sans-serif\" font-size=\"14\" lengthAdjust=\"spacing\" textLength=\"50\" x=\"329\" y=\"76.627\">Camera</text><line style=\"stroke:#181818;stroke-width:0.5;\" x1=\"325\" x2=\"383\" y1=\"84.7031\" y2=\"84.7031\"/></g></a><!--MD5=[09b614a08d8cba4a07c9adeb5e0fee81]\n",
       "class E3--><a href=\"psysml:5f9bc4a0-31cd-4a5c-9a91-2dc0c9e89bfb\" target=\"_top\" title=\"psysml:5f9bc4a0-31cd-4a5c-9a91-2dc0c9e89bfb\" xlink:actuate=\"onRequest\" xlink:href=\"psysml:5f9bc4a0-31cd-4a5c-9a91-2dc0c9e89bfb\" xlink:show=\"new\" xlink:title=\"psysml:5f9bc4a0-31cd-4a5c-9a91-2dc0c9e89bfb\" xlink:type=\"simple\"><g id=\"elem_E3\"><rect fill=\"#FFFFFF\" height=\"50.7031\" id=\"E3\" style=\"stroke:#181818;stroke-width:0.5;\" width=\"77\" x=\"112.5\" y=\"154\"/><text fill=\"#000000\" font-family=\"sans-serif\" font-size=\"12\" font-style=\"italic\" lengthAdjust=\"spacing\" textLength=\"70\" x=\"116\" y=\"171.457\">«action  def»</text><text fill=\"#000000\" font-family=\"sans-serif\" font-size=\"14\" lengthAdjust=\"spacing\" textLength=\"71\" x=\"115.5\" y=\"188.627\">takePicture</text><line style=\"stroke:#181818;stroke-width:0.5;\" x1=\"113.5\" x2=\"188.5\" y1=\"196.7031\" y2=\"196.7031\"/></g></a><!--MD5=[ebbe1d658d1005bcc118a6aa81145e00]\n",
       "class E4--><a href=\"psysml:33b2b8d7-a40c-4001-85d0-d5e2fd0bd920\" target=\"_top\" title=\"psysml:33b2b8d7-a40c-4001-85d0-d5e2fd0bd920\" xlink:actuate=\"onRequest\" xlink:href=\"psysml:33b2b8d7-a40c-4001-85d0-d5e2fd0bd920\" xlink:show=\"new\" xlink:title=\"psysml:33b2b8d7-a40c-4001-85d0-d5e2fd0bd920\" xlink:type=\"simple\"><g id=\"elem_E4\"><rect fill=\"#FFFFFF\" height=\"50.7031\" id=\"E4\" rx=\"10\" ry=\"10\" style=\"stroke:#181818;stroke-width:0.5;\" width=\"94\" x=\"32\" y=\"283\"/><text fill=\"#000000\" font-family=\"sans-serif\" font-size=\"12\" font-style=\"italic\" lengthAdjust=\"spacing\" textLength=\"47\" x=\"55.5\" y=\"300.457\">«action»</text><text fill=\"#000000\" font-family=\"sans-serif\" font-size=\"14\" lengthAdjust=\"spacing\" textLength=\"80\" x=\"35\" y=\"317.627\">shoot: Shoot</text><line style=\"stroke:#181818;stroke-width:0.5;\" x1=\"33\" x2=\"125\" y1=\"325.7031\" y2=\"325.7031\"/></g></a><!--MD5=[270fce915f116d4de14055a7c1d9a0f3]\n",
       "class E5--><a href=\"psysml:76538e78-b01b-4fb0-9d4d-54c9c694ea83\" target=\"_top\" title=\"psysml:76538e78-b01b-4fb0-9d4d-54c9c694ea83\" xlink:actuate=\"onRequest\" xlink:href=\"psysml:76538e78-b01b-4fb0-9d4d-54c9c694ea83\" xlink:show=\"new\" xlink:title=\"psysml:76538e78-b01b-4fb0-9d4d-54c9c694ea83\" xlink:type=\"simple\"><g id=\"elem_E5\"><rect fill=\"#FFFFFF\" height=\"50.7031\" id=\"E5\" rx=\"10\" ry=\"10\" style=\"stroke:#181818;stroke-width:0.5;\" width=\"95\" x=\"161.5\" y=\"283\"/><text fill=\"#000000\" font-family=\"sans-serif\" font-size=\"12\" font-style=\"italic\" lengthAdjust=\"spacing\" textLength=\"47\" x=\"185.5\" y=\"300.457\">«action»</text><text fill=\"#000000\" font-family=\"sans-serif\" font-size=\"14\" lengthAdjust=\"spacing\" textLength=\"81\" x=\"164.5\" y=\"317.627\">focus: Focus</text><line style=\"stroke:#181818;stroke-width:0.5;\" x1=\"162.5\" x2=\"255.5\" y1=\"325.7031\" y2=\"325.7031\"/></g></a><!--MD5=[60a26617385b1d2d0262a64233df1f8d]\n",
       "class E6--><a href=\"psysml:bd4bd8eb-357d-4c0e-a3d8-912a804f09e4\" target=\"_top\" title=\"psysml:bd4bd8eb-357d-4c0e-a3d8-912a804f09e4\" xlink:actuate=\"onRequest\" xlink:href=\"psysml:bd4bd8eb-357d-4c0e-a3d8-912a804f09e4\" xlink:show=\"new\" xlink:title=\"psysml:bd4bd8eb-357d-4c0e-a3d8-912a804f09e4\" xlink:type=\"simple\"><g id=\"elem_E6\"><rect fill=\"#FFFFFF\" height=\"50.7031\" id=\"E6\" style=\"stroke:#181818;stroke-width:0.5;\" width=\"133\" x=\"224.5\" y=\"154\"/><text fill=\"#000000\" font-family=\"sans-serif\" font-size=\"12\" font-style=\"italic\" lengthAdjust=\"spacing\" textLength=\"58\" x=\"262\" y=\"171.457\">«part  def»</text><text fill=\"#000000\" font-family=\"sans-serif\" font-size=\"14\" lengthAdjust=\"spacing\" textLength=\"127\" x=\"227.5\" y=\"188.627\">FocusingSubsystem</text><line style=\"stroke:#181818;stroke-width:0.5;\" x1=\"225.5\" x2=\"356.5\" y1=\"196.7031\" y2=\"196.7031\"/></g></a><!--MD5=[2156ba9850f5573cc1fc38a6a4b2f02b]\n",
       "class E7--><a href=\"psysml:c090d1a7-502f-4f89-872b-b10866c37e01\" target=\"_top\" title=\"psysml:c090d1a7-502f-4f89-872b-b10866c37e01\" xlink:actuate=\"onRequest\" xlink:href=\"psysml:c090d1a7-502f-4f89-872b-b10866c37e01\" xlink:show=\"new\" xlink:title=\"psysml:c090d1a7-502f-4f89-872b-b10866c37e01\" xlink:type=\"simple\"><g id=\"elem_E7\"><rect fill=\"#FFFFFF\" height=\"50.7031\" id=\"E7\" rx=\"10\" ry=\"10\" style=\"stroke:#181818;stroke-width:0.5;\" width=\"124\" x=\"292\" y=\"283\"/><text fill=\"#000000\" font-family=\"sans-serif\" font-size=\"12\" font-style=\"italic\" lengthAdjust=\"spacing\" textLength=\"47\" x=\"330.5\" y=\"300.457\">«action»</text><text fill=\"#000000\" font-family=\"sans-serif\" font-size=\"14\" lengthAdjust=\"spacing\" textLength=\"110\" x=\"295\" y=\"317.627\">takePictureFocus</text><line style=\"stroke:#181818;stroke-width:0.5;\" x1=\"293\" x2=\"415\" y1=\"325.7031\" y2=\"325.7031\"/></g></a><!--MD5=[b9389687b975829384b498ac4b7476b2]\n",
       "class E8--><a href=\"psysml:aa96da4e-514a-43e7-87ea-e8174e40bea3\" target=\"_top\" title=\"psysml:aa96da4e-514a-43e7-87ea-e8174e40bea3\" xlink:actuate=\"onRequest\" xlink:href=\"psysml:aa96da4e-514a-43e7-87ea-e8174e40bea3\" xlink:show=\"new\" xlink:title=\"psysml:aa96da4e-514a-43e7-87ea-e8174e40bea3\" xlink:type=\"simple\"><g id=\"elem_E8\"><rect fill=\"#FFFFFF\" height=\"50.7031\" id=\"E8\" style=\"stroke:#181818;stroke-width:0.5;\" width=\"124\" x=\"393\" y=\"154\"/><text fill=\"#000000\" font-family=\"sans-serif\" font-size=\"12\" font-style=\"italic\" lengthAdjust=\"spacing\" textLength=\"58\" x=\"426\" y=\"171.457\">«part  def»</text><text fill=\"#000000\" font-family=\"sans-serif\" font-size=\"14\" lengthAdjust=\"spacing\" textLength=\"118\" x=\"396\" y=\"188.627\">ImagingSubsystem</text><line style=\"stroke:#181818;stroke-width:0.5;\" x1=\"394\" x2=\"516\" y1=\"196.7031\" y2=\"196.7031\"/></g></a><!--MD5=[fd4143e9d270a159db93a4ea2a975926]\n",
       "class E9--><a href=\"psysml:fe6e1576-9f07-478c-8c34-f16c1f52c9a3\" target=\"_top\" title=\"psysml:fe6e1576-9f07-478c-8c34-f16c1f52c9a3\" xlink:actuate=\"onRequest\" xlink:href=\"psysml:fe6e1576-9f07-478c-8c34-f16c1f52c9a3\" xlink:show=\"new\" xlink:title=\"psysml:fe6e1576-9f07-478c-8c34-f16c1f52c9a3\" xlink:type=\"simple\"><g id=\"elem_E9\"><rect fill=\"#FFFFFF\" height=\"50.7031\" id=\"E9\" rx=\"10\" ry=\"10\" style=\"stroke:#181818;stroke-width:0.5;\" width=\"122\" x=\"451\" y=\"283\"/><text fill=\"#000000\" font-family=\"sans-serif\" font-size=\"12\" font-style=\"italic\" lengthAdjust=\"spacing\" textLength=\"47\" x=\"488.5\" y=\"300.457\">«action»</text><text fill=\"#000000\" font-family=\"sans-serif\" font-size=\"14\" lengthAdjust=\"spacing\" textLength=\"108\" x=\"454\" y=\"317.627\">takePictureShoot</text><line style=\"stroke:#181818;stroke-width:0.5;\" x1=\"452\" x2=\"572\" y1=\"325.7031\" y2=\"325.7031\"/></g></a><!--MD5=[1dd1bfd58a279cf63c5f349dbc8fc6a1]\n",
       "class E11--><a href=\"psysml:61169b60-6d14-43af-9e14-45b553be7e69\" target=\"_top\" title=\"psysml:61169b60-6d14-43af-9e14-45b553be7e69\" xlink:actuate=\"onRequest\" xlink:href=\"psysml:61169b60-6d14-43af-9e14-45b553be7e69\" xlink:show=\"new\" xlink:title=\"psysml:61169b60-6d14-43af-9e14-45b553be7e69\" xlink:type=\"simple\"><g id=\"elem_E11\"><rect fill=\"#FFFFFF\" height=\"50.7031\" id=\"E11\" style=\"stroke:#181818;stroke-width:0.5;\" width=\"65\" x=\"294.5\" y=\"576\"/><text fill=\"#000000\" font-family=\"sans-serif\" font-size=\"12\" font-style=\"italic\" lengthAdjust=\"spacing\" textLength=\"58\" x=\"298\" y=\"593.457\">«part  def»</text><text fill=\"#000000\" font-family=\"sans-serif\" font-size=\"14\" lengthAdjust=\"spacing\" textLength=\"59\" x=\"297.5\" y=\"610.627\">Exposure</text><line style=\"stroke:#181818;stroke-width:0.5;\" x1=\"295.5\" x2=\"358.5\" y1=\"618.7031\" y2=\"618.7031\"/></g></a><!--MD5=[49a0ec8f00dab7302a31f22d0f0fe584]\n",
       "class E12--><a href=\"psysml:57fce4b7-24ae-49c7-8d3a-b39ee37cedc5\" target=\"_top\" title=\"psysml:57fce4b7-24ae-49c7-8d3a-b39ee37cedc5\" xlink:actuate=\"onRequest\" xlink:href=\"psysml:57fce4b7-24ae-49c7-8d3a-b39ee37cedc5\" xlink:show=\"new\" xlink:title=\"psysml:57fce4b7-24ae-49c7-8d3a-b39ee37cedc5\" xlink:type=\"simple\"><g id=\"elem_E12\"><rect fill=\"#FFFFFF\" height=\"50.7031\" id=\"E12\" style=\"stroke:#181818;stroke-width:0.5;\" width=\"72\" x=\"292\" y=\"433\"/><text fill=\"#000000\" font-family=\"sans-serif\" font-size=\"12\" font-style=\"italic\" lengthAdjust=\"spacing\" textLength=\"70\" x=\"293\" y=\"450.457\">«action  def»</text><text fill=\"#000000\" font-family=\"sans-serif\" font-size=\"14\" lengthAdjust=\"spacing\" textLength=\"39\" x=\"308.5\" y=\"467.627\">Focus</text><line style=\"stroke:#181818;stroke-width:0.5;\" x1=\"293\" x2=\"363\" y1=\"475.7031\" y2=\"475.7031\"/></g></a><!--MD5=[ee3c913d1a06f366521f9ef512b67efe]\n",
       "class E13--><a href=\"psysml:f1e1da3d-7492-4c2f-b6c2-dbaa0836ffd5\" target=\"_top\" title=\"psysml:f1e1da3d-7492-4c2f-b6c2-dbaa0836ffd5\" xlink:actuate=\"onRequest\" xlink:href=\"psysml:f1e1da3d-7492-4c2f-b6c2-dbaa0836ffd5\" xlink:show=\"new\" xlink:title=\"psysml:f1e1da3d-7492-4c2f-b6c2-dbaa0836ffd5\" xlink:type=\"simple\"><g id=\"elem_E13\"><rect fill=\"#FFFFFF\" height=\"50.7031\" id=\"E13\" style=\"stroke:#181818;stroke-width:0.5;\" width=\"72\" x=\"185\" y=\"433\"/><text fill=\"#000000\" font-family=\"sans-serif\" font-size=\"12\" font-style=\"italic\" lengthAdjust=\"spacing\" textLength=\"70\" x=\"186\" y=\"450.457\">«action  def»</text><text fill=\"#000000\" font-family=\"sans-serif\" font-size=\"14\" lengthAdjust=\"spacing\" textLength=\"37\" x=\"202.5\" y=\"467.627\">Shoot</text><line style=\"stroke:#181818;stroke-width:0.5;\" x1=\"186\" x2=\"256\" y1=\"475.7031\" y2=\"475.7031\"/></g></a><!--MD5=[bee11217b2f71d958a27249dc326068c]\n",
       "class E14--><a href=\"psysml:d4e51159-690e-432d-8679-a77a8dddd57d\" target=\"_top\" title=\"psysml:d4e51159-690e-432d-8679-a77a8dddd57d\" xlink:actuate=\"onRequest\" xlink:href=\"psysml:d4e51159-690e-432d-8679-a77a8dddd57d\" xlink:show=\"new\" xlink:title=\"psysml:d4e51159-690e-432d-8679-a77a8dddd57d\" xlink:type=\"simple\"><g id=\"elem_E14\"><rect fill=\"#FFFFFF\" height=\"50.7031\" id=\"E14\" style=\"stroke:#181818;stroke-width:0.5;\" width=\"77\" x=\"72.5\" y=\"433\"/><text fill=\"#000000\" font-family=\"sans-serif\" font-size=\"12\" font-style=\"italic\" lengthAdjust=\"spacing\" textLength=\"70\" x=\"76\" y=\"450.457\">«action  def»</text><text fill=\"#000000\" font-family=\"sans-serif\" font-size=\"14\" lengthAdjust=\"spacing\" textLength=\"71\" x=\"75.5\" y=\"467.627\">takePicture</text><line style=\"stroke:#181818;stroke-width:0.5;\" x1=\"73.5\" x2=\"148.5\" y1=\"475.7031\" y2=\"475.7031\"/></g></a><!--MD5=[0c48fb7552dae8cbbef69381101a84c8]\n",
       "class E15--><a href=\"psysml:1c9600e0-440f-4c05-9546-965af3bb4c54\" target=\"_top\" title=\"psysml:1c9600e0-440f-4c05-9546-965af3bb4c54\" xlink:actuate=\"onRequest\" xlink:href=\"psysml:1c9600e0-440f-4c05-9546-965af3bb4c54\" xlink:show=\"new\" xlink:title=\"psysml:1c9600e0-440f-4c05-9546-965af3bb4c54\" xlink:type=\"simple\"><g id=\"elem_E15\"><rect fill=\"#FFFFFF\" height=\"79.3563\" id=\"E15\" style=\"stroke:#181818;stroke-width:0.5;\" width=\"76\" x=\"72\" y=\"562\"/><text fill=\"#000000\" font-family=\"sans-serif\" font-size=\"12\" font-style=\"italic\" lengthAdjust=\"spacing\" textLength=\"70\" x=\"75\" y=\"579.457\">«action  def»</text><text fill=\"#000000\" font-family=\"sans-serif\" font-size=\"14\" lengthAdjust=\"spacing\" textLength=\"34\" x=\"93\" y=\"596.627\">focus</text><line style=\"stroke:#181818;stroke-width:0.5;\" x1=\"73\" x2=\"147\" y1=\"604.7031\" y2=\"604.7031\"/><text fill=\"#000000\" font-family=\"sans-serif\" font-size=\"14\" lengthAdjust=\"spacing\" textLength=\"39\" x=\"78\" y=\"634.2801\">Focus</text><text fill=\"#000000\" font-family=\"sans-serif\" font-size=\"14\" font-style=\"italic\" lengthAdjust=\"spacing\" textLength=\"68\" x=\"76\" y=\"617.9316\">references</text></g></a><!--MD5=[35f0587eaee8d5bb9a02e25b63afc23b]\n",
       "class E16--><a href=\"psysml:617da693-43e8-4369-bfa3-39b842f1a709\" target=\"_top\" title=\"psysml:617da693-43e8-4369-bfa3-39b842f1a709\" xlink:actuate=\"onRequest\" xlink:href=\"psysml:617da693-43e8-4369-bfa3-39b842f1a709\" xlink:show=\"new\" xlink:title=\"psysml:617da693-43e8-4369-bfa3-39b842f1a709\" xlink:type=\"simple\"><g id=\"elem_E16\"><rect fill=\"#FFFFFF\" height=\"79.3563\" id=\"E16\" style=\"stroke:#181818;stroke-width:0.5;\" width=\"76\" x=\"183\" y=\"562\"/><text fill=\"#000000\" font-family=\"sans-serif\" font-size=\"12\" font-style=\"italic\" lengthAdjust=\"spacing\" textLength=\"70\" x=\"186\" y=\"579.457\">«action  def»</text><text fill=\"#000000\" font-family=\"sans-serif\" font-size=\"14\" lengthAdjust=\"spacing\" textLength=\"35\" x=\"203.5\" y=\"596.627\">shoot</text><line style=\"stroke:#181818;stroke-width:0.5;\" x1=\"184\" x2=\"258\" y1=\"604.7031\" y2=\"604.7031\"/><text fill=\"#000000\" font-family=\"sans-serif\" font-size=\"14\" lengthAdjust=\"spacing\" textLength=\"37\" x=\"189\" y=\"634.2801\">Shoot</text><text fill=\"#000000\" font-family=\"sans-serif\" font-size=\"14\" font-style=\"italic\" lengthAdjust=\"spacing\" textLength=\"68\" x=\"187\" y=\"617.9316\">references</text></g></a><!--MD5=[209b3feb70ccb6233bfe1053d122c12c]\n",
       "reverse link E2 to E3--><g id=\"link_E2_E3\"><a href=\"psysml:490cb877-c659-4610-a867-8a7cf8550416\" target=\"_top\" title=\"psysml:490cb877-c659-4610-a867-8a7cf8550416\" xlink:actuate=\"onRequest\" xlink:href=\"psysml:490cb877-c659-4610-a867-8a7cf8550416\" xlink:show=\"new\" xlink:title=\"psysml:490cb877-c659-4610-a867-8a7cf8550416\" xlink:type=\"simple\"><path d=\"M310.15,92.26 C274.25,111.71 223.97,138.96 189.59,157.59 \" fill=\"none\" id=\"E2-backto-E3\" style=\"stroke:#181818;stroke-width:1.0;\"/><ellipse cx=\"316.5758\" cy=\"88.7805\" fill=\"#FFFFFF\" rx=\"8\" ry=\"8\" style=\"stroke:#181818;stroke-width:1.0;\"/><line style=\"stroke:#181818;stroke-width:1.0;\" x1=\"309.5416\" x2=\"323.61\" y1=\"92.591\" y2=\"84.97\"/><line style=\"stroke:#181818;stroke-width:1.0;\" x1=\"312.7653\" x2=\"320.3863\" y1=\"81.7463\" y2=\"95.8147\"/></a></g><!--MD5=[4672eba38e49728da53d11aeb285b987]\n",
       "reverse link E3 to E4--><g id=\"link_E3_E4\"><a href=\"psysml:b1b78d30-4963-4488-9cab-cb7d16ef57ab\" target=\"_top\" title=\"psysml:b1b78d30-4963-4488-9cab-cb7d16ef57ab\" xlink:actuate=\"onRequest\" xlink:href=\"psysml:b1b78d30-4963-4488-9cab-cb7d16ef57ab\" xlink:show=\"new\" xlink:title=\"psysml:b1b78d30-4963-4488-9cab-cb7d16ef57ab\" xlink:type=\"simple\"><path d=\"M130.45,216.75 C118.46,237.89 103.66,264 93.02,282.77 \" fill=\"none\" id=\"E3-backto-E4\" style=\"stroke:#181818;stroke-width:1.0;\"/><polygon fill=\"#181818\" points=\"136.95,205.29,130.5095,208.5334,131.0262,215.7259,137.4667,212.4826,136.95,205.29\" style=\"stroke:#181818;stroke-width:1.0;\"/><text fill=\"#000000\" font-family=\"sans-serif\" font-size=\"13\" lengthAdjust=\"spacing\" textLength=\"5\" x=\"90.828\" y=\"272.1225\">*</text></a></g><!--MD5=[191cde3d490a3f6d7bb551fe3ddca469]\n",
       "reverse link E3 to E5--><g id=\"link_E3_E5\"><a href=\"psysml:1ed67d12-e142-4743-acbf-f2c6862e7b33\" target=\"_top\" title=\"psysml:1ed67d12-e142-4743-acbf-f2c6862e7b33\" xlink:actuate=\"onRequest\" xlink:href=\"psysml:1ed67d12-e142-4743-acbf-f2c6862e7b33\" xlink:show=\"new\" xlink:title=\"psysml:1ed67d12-e142-4743-acbf-f2c6862e7b33\" xlink:type=\"simple\"><path d=\"M167.83,217.34 C177.43,238.37 189.21,264.17 197.71,282.77 \" fill=\"none\" id=\"E3-backto-E5\" style=\"stroke:#181818;stroke-width:1.0;\"/><polygon fill=\"#181818\" points=\"162.32,205.29,161.173,212.4093,167.3035,216.2063,168.4505,209.087,162.32,205.29\" style=\"stroke:#181818;stroke-width:1.0;\"/><text fill=\"#000000\" font-family=\"sans-serif\" font-size=\"13\" lengthAdjust=\"spacing\" textLength=\"5\" x=\"189.3487\" y=\"272.1225\">*</text></a></g><!--MD5=[ce036f65110ae2351ccce5a81dc2e928]\n",
       "reverse link E2 to E6--><g id=\"link_E2_E6\"><a href=\"psysml:edee607e-1129-4bcc-9107-87addee58159\" target=\"_top\" title=\"psysml:edee607e-1129-4bcc-9107-87addee58159\" xlink:actuate=\"onRequest\" xlink:href=\"psysml:edee607e-1129-4bcc-9107-87addee58159\" xlink:show=\"new\" xlink:title=\"psysml:edee607e-1129-4bcc-9107-87addee58159\" xlink:type=\"simple\"><path d=\"M332.33,106.33 C323.32,122.07 313.11,139.9 305.09,153.9 \" fill=\"none\" id=\"E2-backto-E6\" style=\"stroke:#181818;stroke-width:1.0;\"/><ellipse cx=\"335.8827\" cy=\"100.1313\" fill=\"#FFFFFF\" rx=\"8\" ry=\"8\" style=\"stroke:#181818;stroke-width:1.0;\"/><line style=\"stroke:#181818;stroke-width:1.0;\" x1=\"331.9054\" x2=\"339.86\" y1=\"107.0725\" y2=\"93.19\"/><line style=\"stroke:#181818;stroke-width:1.0;\" x1=\"328.9414\" x2=\"342.8239\" y1=\"96.1539\" y2=\"104.1086\"/></a></g><!--MD5=[3f50a3473f1dfb74d3f76443e03635af]\n",
       "reverse link E6 to E7--><g id=\"link_E6_E7\"><a href=\"psysml:0d90f8c7-ca4f-45ed-b0c1-23efe4e52d03\" target=\"_top\" title=\"psysml:0d90f8c7-ca4f-45ed-b0c1-23efe4e52d03\" xlink:actuate=\"onRequest\" xlink:href=\"psysml:0d90f8c7-ca4f-45ed-b0c1-23efe4e52d03\" xlink:show=\"new\" xlink:title=\"psysml:0d90f8c7-ca4f-45ed-b0c1-23efe4e52d03\" xlink:type=\"simple\"><path d=\"M309.13,217.05 C319.59,238.13 332.46,264.08 341.73,282.77 \" fill=\"none\" id=\"E6-backto-E7\" style=\"stroke:#181818;stroke-width:1.0;\"/><polygon fill=\"#181818\" points=\"303.3,205.29,302.388,212.4432,308.6402,216.0363,309.5522,208.8831,303.3,205.29\" style=\"stroke:#181818;stroke-width:1.0;\"/><text fill=\"#000000\" font-family=\"sans-serif\" font-size=\"13\" lengthAdjust=\"spacing\" textLength=\"5\" x=\"333.1298\" y=\"272.1225\">*</text></a></g><!--MD5=[65f962d72b3a6bed1ede4f3c867e43a4]\n",
       "reverse link E2 to E8--><g id=\"link_E2_E8\"><a href=\"psysml:e9c88f47-98d7-48ef-b6dd-cd94808ba6d9\" target=\"_top\" title=\"psysml:e9c88f47-98d7-48ef-b6dd-cd94808ba6d9\" xlink:actuate=\"onRequest\" xlink:href=\"psysml:e9c88f47-98d7-48ef-b6dd-cd94808ba6d9\" xlink:show=\"new\" xlink:title=\"psysml:e9c88f47-98d7-48ef-b6dd-cd94808ba6d9\" xlink:type=\"simple\"><path d=\"M387,104.44 C401.86,120.63 419.04,139.33 432.41,153.9 \" fill=\"none\" id=\"E2-backto-E8\" style=\"stroke:#181818;stroke-width:1.0;\"/><ellipse cx=\"382.082\" cy=\"99.0815\" fill=\"#FFFFFF\" rx=\"8\" ry=\"8\" style=\"stroke:#181818;stroke-width:1.0;\"/><line style=\"stroke:#181818;stroke-width:1.0;\" x1=\"387.494\" x2=\"376.67\" y1=\"104.9731\" y2=\"93.19\"/><line style=\"stroke:#181818;stroke-width:1.0;\" x1=\"376.1905\" x2=\"387.9735\" y1=\"104.4935\" y2=\"93.6695\"/></a></g><!--MD5=[22f5b4bae7e060dce8a1c8021efdb95b]\n",
       "reverse link E8 to E9--><g id=\"link_E8_E9\"><a href=\"psysml:0d68f015-28fa-44ea-8871-a7d0f9147acb\" target=\"_top\" title=\"psysml:0d68f015-28fa-44ea-8871-a7d0f9147acb\" xlink:actuate=\"onRequest\" xlink:href=\"psysml:0d68f015-28fa-44ea-8871-a7d0f9147acb\" xlink:show=\"new\" xlink:title=\"psysml:0d68f015-28fa-44ea-8871-a7d0f9147acb\" xlink:type=\"simple\"><path d=\"M471.54,217.34 C480.98,238.37 492.55,264.17 500.9,282.77 \" fill=\"none\" id=\"E8-backto-E9\" style=\"stroke:#181818;stroke-width:1.0;\"/><polygon fill=\"#181818\" points=\"466.13,205.29,464.9338,212.4012,471.0379,216.2405,472.2341,209.1293,466.13,205.29\" style=\"stroke:#181818;stroke-width:1.0;\"/><text fill=\"#000000\" font-family=\"sans-serif\" font-size=\"13\" lengthAdjust=\"spacing\" textLength=\"5\" x=\"492.585\" y=\"272.1225\">*</text></a></g><!--MD5=[d6b805c7e7607b55f48f5ca395e57c47]\n",
       "link E2 to E10--><g id=\"link_E2_E10\"><a href=\"psysml:c0102c64-5d25-4172-aa4b-ebbfde6e1a84\" target=\"_top\" title=\"psysml:c0102c64-5d25-4172-aa4b-ebbfde6e1a84\" xlink:actuate=\"onRequest\" xlink:href=\"psysml:c0102c64-5d25-4172-aa4b-ebbfde6e1a84\" xlink:show=\"new\" xlink:title=\"psysml:c0102c64-5d25-4172-aa4b-ebbfde6e1a84\" xlink:type=\"simple\"><path d=\"M384.19,75.64 C423.64,86.4 492.68,110.32 535,154 C578.49,198.89 578.29,221.8 591,283 C595.61,305.19 601.86,314.1 591,334 C567.075,377.835 520.19,408.4375 478.7413,428.2138 C458.0169,438.1019 438.6516,445.2834 424.1948,450.0592 C420.5807,451.2532 417.2733,452.2967 414.3281,453.1947 C412.8556,453.6436 411.4735,454.0562 410.189,454.4329 C409.5468,454.6213 408.9289,454.8007 408.3362,454.9712 C408.0399,455.0564 407.7499,455.1395 407.4663,455.2203 C407.3245,455.2607 407.1843,455.3006 407.0458,455.3399 \" fill=\"none\" id=\"E2-to-E10\" style=\"stroke:#181818;stroke-width:1.0;stroke-dasharray:7.0,7.0;\"/><polygon fill=\"#181818\" points=\"407.0458,455.3399,416.7957,456.732,411.856,453.9754,414.6126,449.0356,407.0458,455.3399\" style=\"stroke:#181818;stroke-width:1.0;\"/><text fill=\"#000000\" font-family=\"sans-serif\" font-size=\"13\" lengthAdjust=\"spacing\" textLength=\"55\" x=\"585\" y=\"249.4951\">«import»*</text></a></g><!--MD5=[a79e74f60dfc26843a14fbe8779e978c]\n",
       "link E5 to E12--><g id=\"link_E5_E12\"><a href=\"psysml:b15acbfb-11f5-4f0c-8147-ed6ad09d148f\" target=\"_top\" title=\"psysml:b15acbfb-11f5-4f0c-8147-ed6ad09d148f\" xlink:actuate=\"onRequest\" xlink:href=\"psysml:b15acbfb-11f5-4f0c-8147-ed6ad09d148f\" xlink:show=\"new\" xlink:title=\"psysml:b15acbfb-11f5-4f0c-8147-ed6ad09d148f\" xlink:type=\"simple\"><path d=\"M237.49,334.05 C249.73,345.3 263.77,359.18 275,373 C285.63,386.08 295.84,401.43 304.41,415.44 \" fill=\"none\" id=\"E5-to-E12\" style=\"stroke:#181818;stroke-width:1.0;\"/><polygon fill=\"#FFFFFF\" points=\"314.63,432.76,298.9505,419.9477,311.0107,412.8376,314.63,432.76\" style=\"stroke:#181818;stroke-width:1.0;\"/><ellipse cx=\"297.7786\" cy=\"414.0218\" fill=\"#181818\" rx=\"2\" ry=\"2\" style=\"stroke:#181818;stroke-width:1.0;\"/><ellipse cx=\"306.393\" cy=\"408.9432\" fill=\"#181818\" rx=\"2\" ry=\"2\" style=\"stroke:#181818;stroke-width:1.0;\"/></a></g><!--MD5=[e93d9a5d868a8770aff31d255f5e3ef2]\n",
       "reverse link E12 to E11--><g id=\"link_E12_E11\"><a href=\"psysml:74392cbd-fcb5-433d-aee5-5e09faa65f92\" target=\"_top\" title=\"psysml:74392cbd-fcb5-433d-aee5-5e09faa65f92\" xlink:actuate=\"onRequest\" xlink:href=\"psysml:74392cbd-fcb5-433d-aee5-5e09faa65f92\" xlink:show=\"new\" xlink:title=\"psysml:74392cbd-fcb5-433d-aee5-5e09faa65f92\" xlink:type=\"simple\"><path d=\"M327.73,497.07 C327.56,521.99 327.33,553.98 327.18,575.75 \" fill=\"none\" id=\"E12-backto-E11\" style=\"stroke:#181818;stroke-width:1.0;\"/><polygon fill=\"none\" points=\"327.83,484.06,323.7905,490.0335,327.7509,496.0597,331.7904,490.0862,327.83,484.06\" style=\"stroke:#181818;stroke-width:1.0;\"/><text fill=\"#000000\" font-family=\"sans-serif\" font-size=\"13\" lengthAdjust=\"spacing\" textLength=\"21\" x=\"328\" y=\"528.4951\">xrsl</text><text fill=\"#000000\" font-family=\"sans-serif\" font-size=\"13\" lengthAdjust=\"spacing\" textLength=\"5\" x=\"321.6145\" y=\"565.0976\">*</text></a></g><!--MD5=[0cf84cb22573639595e2e3e1621c62b5]\n",
       "link E4 to E13--><g id=\"link_E4_E13\"><a href=\"psysml:fbd6cb50-3fac-43d9-96d3-7c55b6191b7c\" target=\"_top\" title=\"psysml:fbd6cb50-3fac-43d9-96d3-7c55b6191b7c\" xlink:actuate=\"onRequest\" xlink:href=\"psysml:fbd6cb50-3fac-43d9-96d3-7c55b6191b7c\" xlink:show=\"new\" xlink:title=\"psysml:fbd6cb50-3fac-43d9-96d3-7c55b6191b7c\" xlink:type=\"simple\"><path d=\"M119.66,334.1 C135.51,344.85 153.15,358.35 167,373 C178.81,385.49 189.54,400.92 198.27,415.16 \" fill=\"none\" id=\"E4-to-E13\" style=\"stroke:#181818;stroke-width:1.0;\"/><polygon fill=\"#FFFFFF\" points=\"208.51,432.84,192.9298,419.9072,205.0444,412.8903,208.51,432.84\" style=\"stroke:#181818;stroke-width:1.0;\"/><ellipse cx=\"191.8036\" cy=\"413.9724\" fill=\"#181818\" rx=\"2\" ry=\"2\" style=\"stroke:#181818;stroke-width:1.0;\"/><ellipse cx=\"200.4569\" cy=\"408.9604\" fill=\"#181818\" rx=\"2\" ry=\"2\" style=\"stroke:#181818;stroke-width:1.0;\"/></a></g><!--MD5=[24b5a74f994511b591ae4b95a7f0a581]\n",
       "reverse link E13 to E11--><g id=\"link_E13_E11\"><a href=\"psysml:6a935166-5584-48c5-b789-290557919ad9\" target=\"_top\" title=\"psysml:6a935166-5584-48c5-b789-290557919ad9\" xlink:actuate=\"onRequest\" xlink:href=\"psysml:6a935166-5584-48c5-b789-290557919ad9\" xlink:show=\"new\" xlink:title=\"psysml:6a935166-5584-48c5-b789-290557919ad9\" xlink:type=\"simple\"><path d=\"M247.44,494.67 C266.41,519.9 291.5,553.28 308.39,575.75 \" fill=\"none\" id=\"E13-backto-E11\" style=\"stroke:#181818;stroke-width:1.0;\"/><polygon fill=\"none\" points=\"239.46,484.06,239.8711,491.2594,246.6748,493.6489,246.2637,486.4495,239.46,484.06\" style=\"stroke:#181818;stroke-width:1.0;\"/><text fill=\"#000000\" font-family=\"sans-serif\" font-size=\"13\" lengthAdjust=\"spacing\" textLength=\"17\" x=\"275\" y=\"528.4951\">xsf</text><text fill=\"#000000\" font-family=\"sans-serif\" font-size=\"13\" lengthAdjust=\"spacing\" textLength=\"5\" x=\"298.2444\" y=\"565.0976\">*</text></a></g><!--MD5=[17bf29720e4688890742b92d9a67fdf0]\n",
       "reverse link E14 to E15--><g id=\"link_E14_E15\"><a href=\"psysml:7f3819fa-91ba-48e6-9521-31bcc4b8a88d\" target=\"_top\" title=\"psysml:7f3819fa-91ba-48e6-9521-31bcc4b8a88d\" xlink:actuate=\"onRequest\" xlink:href=\"psysml:7f3819fa-91ba-48e6-9521-31bcc4b8a88d\" xlink:show=\"new\" xlink:title=\"psysml:7f3819fa-91ba-48e6-9521-31bcc4b8a88d\" xlink:type=\"simple\"><path d=\"M110.72,499.12 C110.58,518.76 110.41,542.38 110.27,561.88 \" fill=\"none\" id=\"E14-backto-E15\" style=\"stroke:#181818;stroke-width:1.0;\"/><ellipse cx=\"110.769\" cy=\"492.0598\" fill=\"#FFFFFF\" rx=\"8\" ry=\"8\" style=\"stroke:#181818;stroke-width:1.0;\"/><line style=\"stroke:#181818;stroke-width:1.0;\" x1=\"110.7081\" x2=\"110.83\" y1=\"500.0595\" y2=\"484.06\"/><line style=\"stroke:#181818;stroke-width:1.0;\" x1=\"102.7693\" x2=\"118.7688\" y1=\"491.9988\" y2=\"492.1207\"/></a></g><!--MD5=[36895fc31f394b908ff7b74f18d83e00]\n",
       "reverse link E14 to E16--><g id=\"link_E14_E16\"><a href=\"psysml:69bb302f-ff0b-40cd-846d-2e31f851b824\" target=\"_top\" title=\"psysml:69bb302f-ff0b-40cd-846d-2e31f851b824\" xlink:actuate=\"onRequest\" xlink:href=\"psysml:69bb302f-ff0b-40cd-846d-2e31f851b824\" xlink:show=\"new\" xlink:title=\"psysml:69bb302f-ff0b-40cd-846d-2e31f851b824\" xlink:type=\"simple\"><path d=\"M139.42,495.93 C155.2,516.16 174.82,541.31 190.87,561.88 \" fill=\"none\" id=\"E14-backto-E16\" style=\"stroke:#181818;stroke-width:1.0;\"/><ellipse cx=\"135.081\" cy=\"490.3674\" fill=\"#FFFFFF\" rx=\"8\" ry=\"8\" style=\"stroke:#181818;stroke-width:1.0;\"/><line style=\"stroke:#181818;stroke-width:1.0;\" x1=\"140.002\" x2=\"130.16\" y1=\"496.6749\" y2=\"484.06\"/><line style=\"stroke:#181818;stroke-width:1.0;\" x1=\"128.7736\" x2=\"141.3884\" y1=\"495.2884\" y2=\"485.4464\"/></a></g><!--MD5=[0955a6f99cbbe09731b1a12c6dcd03c1]\n",
       "@startuml\r\n",
       "skin sysmlbw\r\n",
       "skinparam monochrome true\r\n",
       "skinparam wrapWidth 300\r\n",
       "hide circle\r\n",
       "\r\n",
       "package \"CameraSystem\" as E1  [[psysml:a86259be-976e-4b56-9d74-c77fc3047d8f ]]  {\r\n",
       "comp def \"Camera\" as E2  <<(T,blue) part  def>> [[psysml:73629b51-74da-46fe-968f-e07af7488d73 ]] {\r\n",
       "}\r\n",
       "comp def \"takePicture\" as E3  <<(T,blue) action  def>> [[psysml:5f9bc4a0-31cd-4a5c-9a91-2dc0c9e89bfb ]] {\r\n",
       "}\r\n",
       "comp usage \"shoot: Shoot  \" as E4  <<(T,blue) action>> [[psysml:33b2b8d7-a40c-4001-85d0-d5e2fd0bd920 ]] {\r\n",
       "}\r\n",
       "comp usage \"focus: Focus  \" as E5  <<(T,blue) action>> [[psysml:76538e78-b01b-4fb0-9d4d-54c9c694ea83 ]] {\r\n",
       "}\r\n",
       "comp def \"FocusingSubsystem\" as E6  <<(T,blue) part  def>> [[psysml:bd4bd8eb-357d-4c0e-a3d8-912a804f09e4 ]] {\r\n",
       "}\r\n",
       "comp usage \"takePictureFocus  \" as E7  <<(T,blue) action>> [[psysml:c090d1a7-502f-4f89-872b-b10866c37e01 ]] {\r\n",
       "}\r\n",
       "comp def \"ImagingSubsystem\" as E8  <<(T,blue) part  def>> [[psysml:aa96da4e-514a-43e7-87ea-e8174e40bea3 ]] {\r\n",
       "}\r\n",
       "comp usage \"takePictureShoot  \" as E9  <<(T,blue) action>> [[psysml:fe6e1576-9f07-478c-8c34-f16c1f52c9a3 ]] {\r\n",
       "}\r\n",
       "package \"PictureTaking\" as E10  [[psysml:5b6c1ad9-565a-479a-bae6-f701f7c2f926 ]]  {\r\n",
       "comp def \"Exposure\" as E11  <<(T,blue) part  def>> [[psysml:61169b60-6d14-43af-9e14-45b553be7e69 ]] {\r\n",
       "}\r\n",
       "comp def \"Focus\" as E12  <<(T,blue) action  def>> [[psysml:57fce4b7-24ae-49c7-8d3a-b39ee37cedc5 ]] {\r\n",
       "}\r\n",
       "comp def \"Shoot\" as E13  <<(T,blue) action  def>> [[psysml:f1e1da3d-7492-4c2f-b6c2-dbaa0836ffd5 ]] {\r\n",
       "}\r\n",
       "comp def \"takePicture\" as E14  <<(T,blue) action  def>> [[psysml:d4e51159-690e-432d-8679-a77a8dddd57d ]] {\r\n",
       "}\r\n",
       "comp def \"focus\" as E15  <<(T,blue) action  def>> [[psysml:1c9600e0-440f-4c05-9546-965af3bb4c54 ]] {\r\n",
       "##//references//##\r\n",
       "Focus\r\n",
       "}\r\n",
       "comp def \"shoot\" as E16  <<(T,blue) action  def>> [[psysml:617da693-43e8-4369-bfa3-39b842f1a709 ]] {\r\n",
       "##//references//##\r\n",
       "Shoot\r\n",
       "}\r\n",
       "}\r\n",
       "}\r\n",
       "E2 +- - E3 [[psysml:490cb877-c659-4610-a867-8a7cf8550416 ]] \r\n",
       "E3 *- - \"*\"E4 [[psysml:b1b78d30-4963-4488-9cab-cb7d16ef57ab ]] \r\n",
       "E3 *- - \"*\"E5 [[psysml:1ed67d12-e142-4743-acbf-f2c6862e7b33 ]] \r\n",
       "E2 +- - E6 [[psysml:edee607e-1129-4bcc-9107-87addee58159 ]] \r\n",
       "E6 *- - \"*\"E7 [[psysml:0d90f8c7-ca4f-45ed-b0c1-23efe4e52d03 ]] \r\n",
       "E2 +- - E8 [[psysml:e9c88f47-98d7-48ef-b6dd-cd94808ba6d9 ]] \r\n",
       "E8 *- - \"*\"E9 [[psysml:0d68f015-28fa-44ea-8871-a7d0f9147acb ]] \r\n",
       "E2 ..> E10 [[psysml:c0102c64-5d25-4172-aa4b-ebbfde6e1a84 ]] : <<import>>*\r\n",
       "E5 - -:|> E12 [[psysml:b15acbfb-11f5-4f0c-8147-ed6ad09d148f ]] \r\n",
       "E12 o- - \"*\"E11 [[psysml:74392cbd-fcb5-433d-aee5-5e09faa65f92 ]] : xrsl\r\n",
       "E4 - -:|> E13 [[psysml:fbd6cb50-3fac-43d9-96d3-7c55b6191b7c ]] \r\n",
       "E13 o- - \"*\"E11 [[psysml:6a935166-5584-48c5-b789-290557919ad9 ]] : xsf\r\n",
       "E14 +- - E15 [[psysml:7f3819fa-91ba-48e6-9521-31bcc4b8a88d ]] \r\n",
       "E14 +- - E16 [[psysml:69bb302f-ff0b-40cd-846d-2e31f851b824 ]] \r\n",
       "@enduml\r\n",
       "\n",
       "PlantUML version 1.2022.7(Mon Aug 22 13:01:30 EDT 2022)\n",
       "(EPL source distribution)\n",
       "Java Runtime: OpenJDK Runtime Environment\n",
       "JVM: OpenJDK 64-Bit Server VM\n",
       "Default Encoding: Cp1252\n",
       "Language: en\n",
       "Country: US\n",
       "--></g></svg>"
      ]
     },
     "execution_count": 14,
     "metadata": {},
     "output_type": "execute_result"
    }
   ],
   "source": [
    "%viz --view=Tree CameraSystem"
   ]
  },
  {
   "cell_type": "markdown",
   "id": "92eea7e5",
   "metadata": {},
   "source": [
    "## Giving Working Code and sysml v2 key words with defined parts ChatGPT response:"
   ]
  },
  {
   "cell_type": "markdown",
   "id": "14400c65",
   "metadata": {},
   "source": [
    "'Write sysml v2 code for a camera system with action takePicture, part focusingSUbsystem, part imagingSystem, package pictureTacking, part exposure, action focus, action shoot, action takePicture based on this sysml v2 code:'"
   ]
  },
  {
   "cell_type": "code",
   "execution_count": 1,
   "id": "26aac2ac",
   "metadata": {},
   "outputs": [
    {
     "name": "stderr",
     "output_type": "stream",
     "text": [
      "ERROR:An action must be typed by action definitions. (1.sysml line : 8 column : 4)\n",
      "ERROR:Features must have at least one type (1.sysml line : 8 column : 4)\n",
      "ERROR:An action must be typed by action definitions. (1.sysml line : 12 column : 4)\n",
      "ERROR:Features must have at least one type (1.sysml line : 12 column : 4)\n",
      "ERROR:Features must have at least one type (1.sysml line : 19 column : 18)\n",
      "ERROR:Features must have at least one type (1.sysml line : 20 column : 18)\n",
      "ERROR:An action must be typed by action definitions. (1.sysml line : 23 column : 4)\n",
      "ERROR:Features must have at least one type (1.sysml line : 23 column : 4)\n",
      "ERROR:Features must have at least one type (1.sysml line : 24 column : 15)\n",
      "ERROR:Features must have at least one type (1.sysml line : 24 column : 29)\n",
      "ERROR:An action must be typed by action definitions. (1.sysml line : 25 column : 4)\n",
      "ERROR:Features must have at least one type (1.sysml line : 25 column : 4)\n"
     ]
    },
    {
     "data": {
      "text/plain": []
     },
     "execution_count": 1,
     "metadata": {},
     "output_type": "execute_result"
    }
   ],
   "source": [
    "package CameraSystem {\n",
    "\timport PictureTaking::*;\n",
    "\t\n",
    "\tpart Camera {\n",
    "\t\tperform action takePicture[*] :> PictureTaking::takePicture;\n",
    "\t\t\n",
    "\t\tpart focusingSubsystem {\n",
    "\t\t\tperform takePicture.focus;\n",
    "\t\t}\n",
    "\t\t\n",
    "\t\tpart imagingSubsystem {\n",
    "\t\t\tperform takePicture.shoot;\n",
    "\t\t}\n",
    "\t}\n",
    "\t\n",
    "\tpackage PictureTaking {\n",
    "\t\tpart Exposure;\n",
    "\t\t\n",
    "\t\taction Focus { out xrsl: Exposure; }\n",
    "\t\taction Shoot { in xsf: Exposure; }\t\n",
    "\t\t\n",
    "\t\taction takePicture {\t\t\n",
    "\t\t\taction focus: Focus[1];\n",
    "\t\t\tflow focus.xrsl to shoot.xsf;\n",
    "\t\t\taction shoot: Shoot[1];\n",
    "\t\t}\n",
    "\t}\n",
    "}\n"
   ]
  },
  {
   "cell_type": "markdown",
   "id": "3a0033fb",
   "metadata": {},
   "source": [
    "## With revision"
   ]
  },
  {
   "cell_type": "code",
   "execution_count": 2,
   "id": "7a2cb918",
   "metadata": {},
   "outputs": [
    {
     "data": {
      "text/plain": [
       "Package CameraSystem (2c318999-bf3c-4ee4-873b-53ac46296f44)\n"
      ]
     },
     "execution_count": 2,
     "metadata": {},
     "output_type": "execute_result"
    }
   ],
   "source": [
    "package CameraSystem {\n",
    "\timport PictureTaking::*;\n",
    "\t\n",
    "\tpart Camera {\n",
    "\t\tperform action takePicture[*] :> PictureTaking::takePicture;\n",
    "\t\t\n",
    "\t\tpart focusingSubsystem {\n",
    "\t\t\tperform takePicture.focus;\n",
    "\t\t}\n",
    "\t\t\n",
    "\t\tpart imagingSubsystem {\n",
    "\t\t\tperform takePicture.shoot;\n",
    "\t\t}\n",
    "\t}\n",
    "\t\n",
    "\tpackage PictureTaking {\n",
    "\t\tpart def Exposure;\n",
    "\t\t\n",
    "\t\taction def Focus { out xrsl: Exposure; }\n",
    "\t\taction def Shoot { in xsf: Exposure; }\t\n",
    "\t\t\n",
    "\t\taction takePicture {\t\t\n",
    "\t\t\taction focus: Focus[1];\n",
    "\t\t\tflow focus.xrsl to shoot.xsf;\n",
    "\t\t\taction shoot: Shoot[1];\n",
    "\t\t}\n",
    "\t}\n",
    "}\n"
   ]
  },
  {
   "cell_type": "code",
   "execution_count": 3,
   "id": "f648f39e",
   "metadata": {},
   "outputs": [
    {
     "data": {
      "image/svg+xml": [
       "<?xml version=\"1.0\" encoding=\"UTF-8\" standalone=\"no\"?><svg xmlns=\"http://www.w3.org/2000/svg\" xmlns:xlink=\"http://www.w3.org/1999/xlink\" contentStyleType=\"text/css\" height=\"832px\" preserveAspectRatio=\"none\" style=\"width:791px;height:832px;background:#FFFFFF;\" version=\"1.1\" viewBox=\"0 0 791 832\" width=\"791px\" zoomAndPan=\"magnify\"><defs/><g><!--MD5=[fbc87193dbaf4d95561dea2c320d4a47]\n",
       "cluster E1--><g id=\"cluster_E1\"><a href=\"psysml:2c318999-bf3c-4ee4-873b-53ac46296f44\" target=\"_top\" title=\"psysml:2c318999-bf3c-4ee4-873b-53ac46296f44\" xlink:actuate=\"onRequest\" xlink:href=\"psysml:2c318999-bf3c-4ee4-873b-53ac46296f44\" xlink:show=\"new\" xlink:title=\"psysml:2c318999-bf3c-4ee4-873b-53ac46296f44\" xlink:type=\"simple\"><polygon fill=\"none\" points=\"16,6,125,6,132,29.6094,774,29.6094,774,825,16,825,16,6\" style=\"stroke:#000000;stroke-width:1.5;\"/><line style=\"stroke:#000000;stroke-width:1.5;\" x1=\"16\" x2=\"132\" y1=\"29.6094\" y2=\"29.6094\"/><text fill=\"#000000\" font-family=\"sans-serif\" font-size=\"14\" font-weight=\"bold\" lengthAdjust=\"spacing\" textLength=\"103\" x=\"20\" y=\"22.5332\">CameraSystem</text></a></g><!--MD5=[a84b4591f868c1fa4a211716a82f2f0d]\n",
       "cluster E10--><g id=\"cluster_E10\"><a href=\"psysml:7654099e-2456-427a-8dd8-1de3defaf8cc\" target=\"_top\" title=\"psysml:7654099e-2456-427a-8dd8-1de3defaf8cc\" xlink:actuate=\"onRequest\" xlink:href=\"psysml:7654099e-2456-427a-8dd8-1de3defaf8cc\" xlink:show=\"new\" xlink:title=\"psysml:7654099e-2456-427a-8dd8-1de3defaf8cc\" xlink:type=\"simple\"><polygon fill=\"none\" points=\"64,285,166,285,173,308.6094,491,308.6094,491,785,64,785,64,285\" style=\"stroke:#000000;stroke-width:1.5;\"/><line style=\"stroke:#000000;stroke-width:1.5;\" x1=\"64\" x2=\"173\" y1=\"308.6094\" y2=\"308.6094\"/><text fill=\"#000000\" font-family=\"sans-serif\" font-size=\"14\" font-weight=\"bold\" lengthAdjust=\"spacing\" textLength=\"96\" x=\"68\" y=\"301.5332\">PictureTaking</text></a></g><!--MD5=[b4997ac47864f28c2f74865a473b2911]\n",
       "class E2--><a href=\"psysml:684fca33-05b6-4008-bb67-41f713267c77\" target=\"_top\" title=\"psysml:684fca33-05b6-4008-bb67-41f713267c77\" xlink:actuate=\"onRequest\" xlink:href=\"psysml:684fca33-05b6-4008-bb67-41f713267c77\" xlink:show=\"new\" xlink:title=\"psysml:684fca33-05b6-4008-bb67-41f713267c77\" xlink:type=\"simple\"><g id=\"elem_E2\"><rect fill=\"#FFFFFF\" height=\"50.7031\" id=\"E2\" rx=\"10\" ry=\"10\" style=\"stroke:#181818;stroke-width:0.5;\" width=\"64\" x=\"419\" y=\"50\"/><text fill=\"#000000\" font-family=\"sans-serif\" font-size=\"12\" font-style=\"italic\" lengthAdjust=\"spacing\" textLength=\"35\" x=\"433.5\" y=\"67.457\">«part»</text><text fill=\"#000000\" font-family=\"sans-serif\" font-size=\"14\" lengthAdjust=\"spacing\" textLength=\"50\" x=\"422\" y=\"84.627\">Camera</text><line style=\"stroke:#181818;stroke-width:0.5;\" x1=\"420\" x2=\"482\" y1=\"92.7031\" y2=\"92.7031\"/></g></a><!--MD5=[09b614a08d8cba4a07c9adeb5e0fee81]\n",
       "class E3--><a href=\"psysml:30dc54ae-63fc-48dd-8ad5-fe8d629f3917\" target=\"_top\" title=\"psysml:30dc54ae-63fc-48dd-8ad5-fe8d629f3917\" xlink:actuate=\"onRequest\" xlink:href=\"psysml:30dc54ae-63fc-48dd-8ad5-fe8d629f3917\" xlink:show=\"new\" xlink:title=\"psysml:30dc54ae-63fc-48dd-8ad5-fe8d629f3917\" xlink:type=\"simple\"><g id=\"elem_E3\"><rect fill=\"#FFFFFF\" height=\"50.7031\" id=\"E3\" rx=\"10\" ry=\"10\" style=\"stroke:#181818;stroke-width:0.5;\" width=\"263\" x=\"319.5\" y=\"162\"/><text fill=\"#000000\" font-family=\"sans-serif\" font-size=\"12\" font-style=\"italic\" lengthAdjust=\"spacing\" textLength=\"93\" x=\"404.5\" y=\"179.457\">«perform action»</text><text fill=\"#000000\" font-family=\"sans-serif\" font-size=\"14\" lengthAdjust=\"spacing\" textLength=\"253\" x=\"322.5\" y=\"196.627\">takePicture :&gt;PictureTaking::takePicture</text><line style=\"stroke:#181818;stroke-width:0.5;\" x1=\"320.5\" x2=\"581.5\" y1=\"204.7031\" y2=\"204.7031\"/></g></a><!--MD5=[ebbe1d658d1005bcc118a6aa81145e00]\n",
       "class E4--><a href=\"psysml:27feed3b-5451-4499-b07b-17fb6eab92f3\" target=\"_top\" title=\"psysml:27feed3b-5451-4499-b07b-17fb6eab92f3\" xlink:actuate=\"onRequest\" xlink:href=\"psysml:27feed3b-5451-4499-b07b-17fb6eab92f3\" xlink:show=\"new\" xlink:title=\"psysml:27feed3b-5451-4499-b07b-17fb6eab92f3\" xlink:type=\"simple\"><g id=\"elem_E4\"><rect fill=\"#FFFFFF\" height=\"50.7031\" id=\"E4\" rx=\"10\" ry=\"10\" style=\"stroke:#181818;stroke-width:0.5;\" width=\"100\" x=\"515\" y=\"469\"/><text fill=\"#000000\" font-family=\"sans-serif\" font-size=\"12\" font-style=\"italic\" lengthAdjust=\"spacing\" textLength=\"47\" x=\"541.5\" y=\"486.457\">«action»</text><text fill=\"#000000\" font-family=\"sans-serif\" font-size=\"14\" lengthAdjust=\"spacing\" textLength=\"86\" x=\"518\" y=\"503.627\">^focus: Focus</text><line style=\"stroke:#181818;stroke-width:0.5;\" x1=\"516\" x2=\"614\" y1=\"511.7031\" y2=\"511.7031\"/></g></a><!--MD5=[270fce915f116d4de14055a7c1d9a0f3]\n",
       "class E5--><a href=\"psysml:82e10e23-8a91-4243-9396-5b770babdd8d\" target=\"_top\" title=\"psysml:82e10e23-8a91-4243-9396-5b770babdd8d\" xlink:actuate=\"onRequest\" xlink:href=\"psysml:82e10e23-8a91-4243-9396-5b770babdd8d\" xlink:show=\"new\" xlink:title=\"psysml:82e10e23-8a91-4243-9396-5b770babdd8d\" xlink:type=\"simple\"><g id=\"elem_E5\"><rect fill=\"#FFFFFF\" height=\"50.7031\" id=\"E5\" rx=\"10\" ry=\"10\" style=\"stroke:#181818;stroke-width:0.5;\" width=\"99\" x=\"650.5\" y=\"469\"/><text fill=\"#000000\" font-family=\"sans-serif\" font-size=\"12\" font-style=\"italic\" lengthAdjust=\"spacing\" textLength=\"47\" x=\"676.5\" y=\"486.457\">«action»</text><text fill=\"#000000\" font-family=\"sans-serif\" font-size=\"14\" lengthAdjust=\"spacing\" textLength=\"85\" x=\"653.5\" y=\"503.627\">^shoot: Shoot</text><line style=\"stroke:#181818;stroke-width:0.5;\" x1=\"651.5\" x2=\"748.5\" y1=\"511.7031\" y2=\"511.7031\"/></g></a><!--MD5=[60a26617385b1d2d0262a64233df1f8d]\n",
       "class E6--><a href=\"psysml:d71083b0-e735-40f4-8d07-0c380fea9318\" target=\"_top\" title=\"psysml:d71083b0-e735-40f4-8d07-0c380fea9318\" xlink:actuate=\"onRequest\" xlink:href=\"psysml:d71083b0-e735-40f4-8d07-0c380fea9318\" xlink:show=\"new\" xlink:title=\"psysml:d71083b0-e735-40f4-8d07-0c380fea9318\" xlink:type=\"simple\"><g id=\"elem_E6\"><rect fill=\"#FFFFFF\" height=\"50.7031\" id=\"E6\" rx=\"10\" ry=\"10\" style=\"stroke:#181818;stroke-width:0.5;\" width=\"136\" x=\"148\" y=\"162\"/><text fill=\"#000000\" font-family=\"sans-serif\" font-size=\"12\" font-style=\"italic\" lengthAdjust=\"spacing\" textLength=\"35\" x=\"198.5\" y=\"179.457\">«part»</text><text fill=\"#000000\" font-family=\"sans-serif\" font-size=\"14\" lengthAdjust=\"spacing\" textLength=\"122\" x=\"151\" y=\"196.627\">focusingSubsystem</text><line style=\"stroke:#181818;stroke-width:0.5;\" x1=\"149\" x2=\"283\" y1=\"204.7031\" y2=\"204.7031\"/></g></a><!--MD5=[2156ba9850f5573cc1fc38a6a4b2f02b]\n",
       "class E7--><a href=\"psysml:0cfae8d1-dba5-4225-adad-b6acb538b542\" target=\"_top\" title=\"psysml:0cfae8d1-dba5-4225-adad-b6acb538b542\" xlink:actuate=\"onRequest\" xlink:href=\"psysml:0cfae8d1-dba5-4225-adad-b6acb538b542\" xlink:show=\"new\" xlink:title=\"psysml:0cfae8d1-dba5-4225-adad-b6acb538b542\" xlink:type=\"simple\"><g id=\"elem_E7\"><rect fill=\"#FFFFFF\" height=\"50.7031\" id=\"E7\" rx=\"10\" ry=\"10\" style=\"stroke:#181818;stroke-width:0.5;\" width=\"59\" x=\"515.5\" y=\"343\"/><text fill=\"#000000\" font-family=\"sans-serif\" font-size=\"12\" font-style=\"italic\" lengthAdjust=\"spacing\" textLength=\"57\" x=\"516.5\" y=\"360.457\">«perform»</text><text fill=\"#000000\" font-family=\"sans-serif\" font-size=\"14\" lengthAdjust=\"spacing\" textLength=\"34\" x=\"526\" y=\"377.627\">focus</text><line style=\"stroke:#181818;stroke-width:0.5;\" x1=\"516.5\" x2=\"573.5\" y1=\"385.7031\" y2=\"385.7031\"/></g></a><!--MD5=[b9389687b975829384b498ac4b7476b2]\n",
       "class E8--><a href=\"psysml:02261fa6-5418-45e4-9b05-7b3a775c184d\" target=\"_top\" title=\"psysml:02261fa6-5418-45e4-9b05-7b3a775c184d\" xlink:actuate=\"onRequest\" xlink:href=\"psysml:02261fa6-5418-45e4-9b05-7b3a775c184d\" xlink:show=\"new\" xlink:title=\"psysml:02261fa6-5418-45e4-9b05-7b3a775c184d\" xlink:type=\"simple\"><g id=\"elem_E8\"><rect fill=\"#FFFFFF\" height=\"50.7031\" id=\"E8\" rx=\"10\" ry=\"10\" style=\"stroke:#181818;stroke-width:0.5;\" width=\"132\" x=\"618\" y=\"162\"/><text fill=\"#000000\" font-family=\"sans-serif\" font-size=\"12\" font-style=\"italic\" lengthAdjust=\"spacing\" textLength=\"35\" x=\"666.5\" y=\"179.457\">«part»</text><text fill=\"#000000\" font-family=\"sans-serif\" font-size=\"14\" lengthAdjust=\"spacing\" textLength=\"118\" x=\"621\" y=\"196.627\">imagingSubsystem</text><line style=\"stroke:#181818;stroke-width:0.5;\" x1=\"619\" x2=\"749\" y1=\"204.7031\" y2=\"204.7031\"/></g></a><!--MD5=[fd4143e9d270a159db93a4ea2a975926]\n",
       "class E9--><a href=\"psysml:2aa75640-3319-4e53-a203-4f579819b2d9\" target=\"_top\" title=\"psysml:2aa75640-3319-4e53-a203-4f579819b2d9\" xlink:actuate=\"onRequest\" xlink:href=\"psysml:2aa75640-3319-4e53-a203-4f579819b2d9\" xlink:show=\"new\" xlink:title=\"psysml:2aa75640-3319-4e53-a203-4f579819b2d9\" xlink:type=\"simple\"><g id=\"elem_E9\"><rect fill=\"#FFFFFF\" height=\"50.7031\" id=\"E9\" rx=\"10\" ry=\"10\" style=\"stroke:#181818;stroke-width:0.5;\" width=\"59\" x=\"684.5\" y=\"343\"/><text fill=\"#000000\" font-family=\"sans-serif\" font-size=\"12\" font-style=\"italic\" lengthAdjust=\"spacing\" textLength=\"57\" x=\"685.5\" y=\"360.457\">«perform»</text><text fill=\"#000000\" font-family=\"sans-serif\" font-size=\"14\" lengthAdjust=\"spacing\" textLength=\"35\" x=\"694.5\" y=\"377.627\">shoot</text><line style=\"stroke:#181818;stroke-width:0.5;\" x1=\"685.5\" x2=\"742.5\" y1=\"385.7031\" y2=\"385.7031\"/></g></a><!--MD5=[1dd1bfd58a279cf63c5f349dbc8fc6a1]\n",
       "class E11--><a href=\"psysml:4f4f8bc8-0c22-49ee-9f26-3a9a6b7edca9\" target=\"_top\" title=\"psysml:4f4f8bc8-0c22-49ee-9f26-3a9a6b7edca9\" xlink:actuate=\"onRequest\" xlink:href=\"psysml:4f4f8bc8-0c22-49ee-9f26-3a9a6b7edca9\" xlink:show=\"new\" xlink:title=\"psysml:4f4f8bc8-0c22-49ee-9f26-3a9a6b7edca9\" xlink:type=\"simple\"><g id=\"elem_E11\"><rect fill=\"#FFFFFF\" height=\"50.7031\" id=\"E11\" style=\"stroke:#181818;stroke-width:0.5;\" width=\"65\" x=\"216.5\" y=\"710\"/><text fill=\"#000000\" font-family=\"sans-serif\" font-size=\"12\" font-style=\"italic\" lengthAdjust=\"spacing\" textLength=\"58\" x=\"220\" y=\"727.457\">«part  def»</text><text fill=\"#000000\" font-family=\"sans-serif\" font-size=\"14\" lengthAdjust=\"spacing\" textLength=\"59\" x=\"219.5\" y=\"744.627\">Exposure</text><line style=\"stroke:#181818;stroke-width:0.5;\" x1=\"217.5\" x2=\"280.5\" y1=\"752.7031\" y2=\"752.7031\"/></g></a><!--MD5=[49a0ec8f00dab7302a31f22d0f0fe584]\n",
       "class E12--><a href=\"psysml:cbe92bd2-935f-417a-ac43-7c049c25d02f\" target=\"_top\" title=\"psysml:cbe92bd2-935f-417a-ac43-7c049c25d02f\" xlink:actuate=\"onRequest\" xlink:href=\"psysml:cbe92bd2-935f-417a-ac43-7c049c25d02f\" xlink:show=\"new\" xlink:title=\"psysml:cbe92bd2-935f-417a-ac43-7c049c25d02f\" xlink:type=\"simple\"><g id=\"elem_E12\"><rect fill=\"#FFFFFF\" height=\"50.7031\" id=\"E12\" style=\"stroke:#181818;stroke-width:0.5;\" width=\"72\" x=\"288\" y=\"581\"/><text fill=\"#000000\" font-family=\"sans-serif\" font-size=\"12\" font-style=\"italic\" lengthAdjust=\"spacing\" textLength=\"70\" x=\"289\" y=\"598.457\">«action  def»</text><text fill=\"#000000\" font-family=\"sans-serif\" font-size=\"14\" lengthAdjust=\"spacing\" textLength=\"39\" x=\"304.5\" y=\"615.627\">Focus</text><line style=\"stroke:#181818;stroke-width:0.5;\" x1=\"289\" x2=\"359\" y1=\"623.7031\" y2=\"623.7031\"/></g></a><!--MD5=[ee3c913d1a06f366521f9ef512b67efe]\n",
       "class E13--><a href=\"psysml:01a0e6a8-f9b1-41db-8a78-d8cb1f7d6c8c\" target=\"_top\" title=\"psysml:01a0e6a8-f9b1-41db-8a78-d8cb1f7d6c8c\" xlink:actuate=\"onRequest\" xlink:href=\"psysml:01a0e6a8-f9b1-41db-8a78-d8cb1f7d6c8c\" xlink:show=\"new\" xlink:title=\"psysml:01a0e6a8-f9b1-41db-8a78-d8cb1f7d6c8c\" xlink:type=\"simple\"><g id=\"elem_E13\"><rect fill=\"#FFFFFF\" height=\"50.7031\" id=\"E13\" style=\"stroke:#181818;stroke-width:0.5;\" width=\"72\" x=\"395\" y=\"581\"/><text fill=\"#000000\" font-family=\"sans-serif\" font-size=\"12\" font-style=\"italic\" lengthAdjust=\"spacing\" textLength=\"70\" x=\"396\" y=\"598.457\">«action  def»</text><text fill=\"#000000\" font-family=\"sans-serif\" font-size=\"14\" lengthAdjust=\"spacing\" textLength=\"37\" x=\"412.5\" y=\"615.627\">Shoot</text><line style=\"stroke:#181818;stroke-width:0.5;\" x1=\"396\" x2=\"466\" y1=\"623.7031\" y2=\"623.7031\"/></g></a><!--MD5=[bee11217b2f71d958a27249dc326068c]\n",
       "class E14--><a href=\"psysml:1ae7bedb-d87e-48b5-885f-b7c0989dab8d\" target=\"_top\" title=\"psysml:1ae7bedb-d87e-48b5-885f-b7c0989dab8d\" xlink:actuate=\"onRequest\" xlink:href=\"psysml:1ae7bedb-d87e-48b5-885f-b7c0989dab8d\" xlink:show=\"new\" xlink:title=\"psysml:1ae7bedb-d87e-48b5-885f-b7c0989dab8d\" xlink:type=\"simple\"><g id=\"elem_E14\"><rect fill=\"#FFFFFF\" height=\"79.3563\" id=\"E14\" rx=\"10\" ry=\"10\" style=\"stroke:#181818;stroke-width:0.5;\" width=\"234\" x=\"233\" y=\"329\"/><text fill=\"#000000\" font-family=\"sans-serif\" font-size=\"12\" font-style=\"italic\" lengthAdjust=\"spacing\" textLength=\"47\" x=\"326.5\" y=\"346.457\">«action»</text><text fill=\"#000000\" font-family=\"sans-serif\" font-size=\"14\" lengthAdjust=\"spacing\" textLength=\"71\" x=\"310.5\" y=\"363.627\">takePicture</text><line style=\"stroke:#181818;stroke-width:0.5;\" x1=\"234\" x2=\"466\" y1=\"371.7031\" y2=\"371.7031\"/><text fill=\"#000000\" font-family=\"sans-serif\" font-size=\"14\" lengthAdjust=\"spacing\" textLength=\"222\" x=\"239\" y=\"401.2801\">noname from focus.xrsl to shoot.xsf</text><text fill=\"#000000\" font-family=\"sans-serif\" font-size=\"14\" font-style=\"italic\" lengthAdjust=\"spacing\" textLength=\"31\" x=\"334.5\" y=\"384.9316\">flows</text></g></a><!--MD5=[0c48fb7552dae8cbbef69381101a84c8]\n",
       "class E15--><a href=\"psysml:27feed3b-5451-4499-b07b-17fb6eab92f3\" target=\"_top\" title=\"psysml:27feed3b-5451-4499-b07b-17fb6eab92f3\" xlink:actuate=\"onRequest\" xlink:href=\"psysml:27feed3b-5451-4499-b07b-17fb6eab92f3\" xlink:show=\"new\" xlink:title=\"psysml:27feed3b-5451-4499-b07b-17fb6eab92f3\" xlink:type=\"simple\"><g id=\"elem_E15\"><rect fill=\"#FFFFFF\" height=\"50.7031\" id=\"E15\" rx=\"10\" ry=\"10\" style=\"stroke:#181818;stroke-width:0.5;\" width=\"95\" x=\"211.5\" y=\"469\"/><text fill=\"#000000\" font-family=\"sans-serif\" font-size=\"12\" font-style=\"italic\" lengthAdjust=\"spacing\" textLength=\"47\" x=\"235.5\" y=\"486.457\">«action»</text><text fill=\"#000000\" font-family=\"sans-serif\" font-size=\"14\" lengthAdjust=\"spacing\" textLength=\"81\" x=\"214.5\" y=\"503.627\">focus: Focus</text><line style=\"stroke:#181818;stroke-width:0.5;\" x1=\"212.5\" x2=\"305.5\" y1=\"511.7031\" y2=\"511.7031\"/></g></a><!--MD5=[35f0587eaee8d5bb9a02e25b63afc23b]\n",
       "class E16--><a href=\"psysml:82e10e23-8a91-4243-9396-5b770babdd8d\" target=\"_top\" title=\"psysml:82e10e23-8a91-4243-9396-5b770babdd8d\" xlink:actuate=\"onRequest\" xlink:href=\"psysml:82e10e23-8a91-4243-9396-5b770babdd8d\" xlink:show=\"new\" xlink:title=\"psysml:82e10e23-8a91-4243-9396-5b770babdd8d\" xlink:type=\"simple\"><g id=\"elem_E16\"><rect fill=\"#FFFFFF\" height=\"50.7031\" id=\"E16\" rx=\"10\" ry=\"10\" style=\"stroke:#181818;stroke-width:0.5;\" width=\"94\" x=\"342\" y=\"469\"/><text fill=\"#000000\" font-family=\"sans-serif\" font-size=\"12\" font-style=\"italic\" lengthAdjust=\"spacing\" textLength=\"47\" x=\"365.5\" y=\"486.457\">«action»</text><text fill=\"#000000\" font-family=\"sans-serif\" font-size=\"14\" lengthAdjust=\"spacing\" textLength=\"80\" x=\"345\" y=\"503.627\">shoot: Shoot</text><line style=\"stroke:#181818;stroke-width:0.5;\" x1=\"343\" x2=\"435\" y1=\"511.7031\" y2=\"511.7031\"/></g></a><!--MD5=[209b3feb70ccb6233bfe1053d122c12c]\n",
       "reverse link E2 to E3--><g id=\"link_E2_E3\"><a href=\"psysml:e588595f-4c8c-4d74-a4de-17361ea2ad74\" target=\"_top\" title=\"psysml:e588595f-4c8c-4d74-a4de-17361ea2ad74\" xlink:actuate=\"onRequest\" xlink:href=\"psysml:e588595f-4c8c-4d74-a4de-17361ea2ad74\" xlink:show=\"new\" xlink:title=\"psysml:e588595f-4c8c-4d74-a4de-17361ea2ad74\" xlink:type=\"simple\"><path d=\"M451,114.33 C451,130.07 451,147.9 451,161.9 \" fill=\"none\" id=\"E2-backto-E3\" style=\"stroke:#181818;stroke-width:1.0;\"/><polygon fill=\"none\" points=\"451,101.19,447,107.19,451,113.19,455,107.19,451,101.19\" style=\"stroke:#181818;stroke-width:1.0;\"/><text fill=\"#000000\" font-family=\"sans-serif\" font-size=\"13\" lengthAdjust=\"spacing\" textLength=\"5\" x=\"445.3906\" y=\"151.2841\">*</text></a></g><!--MD5=[4672eba38e49728da53d11aeb285b987]\n",
       "reverse link E3 to E4--><g id=\"link_E3_E4\"><a href=\"psysml:420b92f3-5d98-4e65-a792-8b98df01fd58\" target=\"_top\" title=\"psysml:420b92f3-5d98-4e65-a792-8b98df01fd58\" xlink:actuate=\"onRequest\" xlink:href=\"psysml:420b92f3-5d98-4e65-a792-8b98df01fd58\" xlink:show=\"new\" xlink:title=\"psysml:420b92f3-5d98-4e65-a792-8b98df01fd58\" xlink:type=\"simple\"><path d=\"M537.26,219.22 C558.92,231.27 579.52,247.51 592,269 C629.35,333.33 596.61,425.44 577.08,468.95 \" fill=\"none\" id=\"E3-backto-E4\" style=\"stroke:#181818;stroke-width:1.0;\"/><polygon fill=\"#181818\" points=\"525.53,213.12,529.015,219.433,536.1829,218.6442,532.6978,212.3311,525.53,213.12\" style=\"stroke:#181818;stroke-width:1.0;\"/><text fill=\"#000000\" font-family=\"sans-serif\" font-size=\"13\" lengthAdjust=\"spacing\" textLength=\"7\" x=\"572.1714\" y=\"458.3463\">1</text></a></g><!--MD5=[191cde3d490a3f6d7bb551fe3ddca469]\n",
       "reverse link E3 to E5--><g id=\"link_E3_E5\"><a href=\"psysml:9f0c117e-18ca-46bf-8c84-9388701f4492\" target=\"_top\" title=\"psysml:9f0c117e-18ca-46bf-8c84-9388701f4492\" xlink:actuate=\"onRequest\" xlink:href=\"psysml:9f0c117e-18ca-46bf-8c84-9388701f4492\" xlink:show=\"new\" xlink:title=\"psysml:9f0c117e-18ca-46bf-8c84-9388701f4492\" xlink:type=\"simple\"><path d=\"M544.97,218.37 C560.07,225.24 574.99,233.42 588,243 C599.96,251.81 601.46,256.2 609,269 C619.7,287.16 669.46,414.59 690.53,468.98 \" fill=\"none\" id=\"E3-backto-E5\" style=\"stroke:#181818;stroke-width:1.0;\"/><polygon fill=\"#181818\" points=\"532.85,213.14,536.7726,219.1909,543.8667,217.8972,539.9441,211.8464,532.85,213.14\" style=\"stroke:#181818;stroke-width:1.0;\"/><text fill=\"#000000\" font-family=\"sans-serif\" font-size=\"13\" lengthAdjust=\"spacing\" textLength=\"7\" x=\"680.2064\" y=\"457.9687\">1</text></a></g><!--MD5=[ce036f65110ae2351ccce5a81dc2e928]\n",
       "reverse link E2 to E6--><g id=\"link_E2_E6\"><a href=\"psysml:84609350-455d-47b4-949f-8a4f846d3251\" target=\"_top\" title=\"psysml:84609350-455d-47b4-949f-8a4f846d3251\" xlink:actuate=\"onRequest\" xlink:href=\"psysml:84609350-455d-47b4-949f-8a4f846d3251\" xlink:show=\"new\" xlink:title=\"psysml:84609350-455d-47b4-949f-8a4f846d3251\" xlink:type=\"simple\"><path d=\"M407,97.09 C367.74,115.47 310.16,142.43 268.5,161.93 \" fill=\"none\" id=\"E2-backto-E6\" style=\"stroke:#181818;stroke-width:1.0;\"/><polygon fill=\"#181818\" points=\"418.82,91.56,411.6903,90.4797,407.9509,96.6454,415.0806,97.7258,418.82,91.56\" style=\"stroke:#181818;stroke-width:1.0;\"/><text fill=\"#000000\" font-family=\"sans-serif\" font-size=\"13\" lengthAdjust=\"spacing\" textLength=\"7\" x=\"273.4438\" y=\"151.3215\">1</text></a></g><!--MD5=[3f50a3473f1dfb74d3f76443e03635af]\n",
       "reverse link E6 to E7--><g id=\"link_E6_E7\"><a href=\"psysml:d3f58e78-a976-49d1-b3e8-959ed251ff52\" target=\"_top\" title=\"psysml:d3f58e78-a976-49d1-b3e8-959ed251ff52\" xlink:actuate=\"onRequest\" xlink:href=\"psysml:d3f58e78-a976-49d1-b3e8-959ed251ff52\" xlink:show=\"new\" xlink:title=\"psysml:d3f58e78-a976-49d1-b3e8-959ed251ff52\" xlink:type=\"simple\"><path d=\"M297.11,211.85 C298.75,212.24 300.38,212.63 302,213 C376.34,230.14 408.26,199.61 471,243 C506.05,267.24 527.13,313.96 537.37,342.77 \" fill=\"none\" id=\"E6-backto-E7\" style=\"stroke:#181818;stroke-width:1.0;\"/><polygon fill=\"none\" points=\"284.37,208.66,289.2193,213.9971,296.0109,211.5735,291.1616,206.2365,284.37,208.66\" style=\"stroke:#181818;stroke-width:1.0;\"/><text fill=\"#000000\" font-family=\"sans-serif\" font-size=\"13\" lengthAdjust=\"spacing\" textLength=\"20\" x=\"513.0727\" y=\"332.1225\">1..*</text></a></g><!--MD5=[6bdd27f9905911a7e892a3dc65cf6b7c]\n",
       "link E7 to E4--><g id=\"link_E7_E4\"><a href=\"psysml:01a26107-59c0-43e3-a4ed-cb73478cd0ce\" target=\"_top\" title=\"psysml:01a26107-59c0-43e3-a4ed-cb73478cd0ce\" xlink:actuate=\"onRequest\" xlink:href=\"psysml:01a26107-59c0-43e3-a4ed-cb73478cd0ce\" xlink:show=\"new\" xlink:title=\"psysml:01a26107-59c0-43e3-a4ed-cb73478cd0ce\" xlink:type=\"simple\"><path d=\"M549,394.3 C551.52,409.92 554.85,430.56 557.82,448.96 \" fill=\"none\" id=\"E7-to-E4\" style=\"stroke:#181818;stroke-width:1.0;\"/><polygon fill=\"none\" points=\"564.73,447.89,561.01,468.75,550.91,450.12,564.73,447.89\" style=\"stroke:#181818;stroke-width:1.0;\"/></a></g><!--MD5=[65f962d72b3a6bed1ede4f3c867e43a4]\n",
       "reverse link E2 to E8--><g id=\"link_E2_E8\"><a href=\"psysml:fd87894b-de61-4aec-9201-dcb691fab7a6\" target=\"_top\" title=\"psysml:fd87894b-de61-4aec-9201-dcb691fab7a6\" xlink:actuate=\"onRequest\" xlink:href=\"psysml:fd87894b-de61-4aec-9201-dcb691fab7a6\" xlink:show=\"new\" xlink:title=\"psysml:fd87894b-de61-4aec-9201-dcb691fab7a6\" xlink:type=\"simple\"><path d=\"M495.35,97.44 C534.2,115.78 590.7,142.45 631.74,161.83 \" fill=\"none\" id=\"E2-backto-E8\" style=\"stroke:#181818;stroke-width:1.0;\"/><polygon fill=\"#181818\" points=\"483.4,91.8,487.1152,97.9804,494.2491,96.928,490.5339,90.7476,483.4,91.8\" style=\"stroke:#181818;stroke-width:1.0;\"/><text fill=\"#000000\" font-family=\"sans-serif\" font-size=\"13\" lengthAdjust=\"spacing\" textLength=\"7\" x=\"611.1485\" y=\"151.1971\">1</text></a></g><!--MD5=[22f5b4bae7e060dce8a1c8021efdb95b]\n",
       "reverse link E8 to E9--><g id=\"link_E8_E9\"><a href=\"psysml:766eb4a1-0b91-4692-8347-e0d0fb2e2d88\" target=\"_top\" title=\"psysml:766eb4a1-0b91-4692-8347-e0d0fb2e2d88\" xlink:actuate=\"onRequest\" xlink:href=\"psysml:766eb4a1-0b91-4692-8347-e0d0fb2e2d88\" xlink:show=\"new\" xlink:title=\"psysml:766eb4a1-0b91-4692-8347-e0d0fb2e2d88\" xlink:type=\"simple\"><path d=\"M690.3,226.07 C696.19,261.26 704.84,312.82 709.89,343 \" fill=\"none\" id=\"E8-backto-E9\" style=\"stroke:#181818;stroke-width:1.0;\"/><polygon fill=\"none\" points=\"688.11,213.01,685.1615,219.5908,690.102,224.8435,693.0505,218.2627,688.11,213.01\" style=\"stroke:#181818;stroke-width:1.0;\"/><text fill=\"#000000\" font-family=\"sans-serif\" font-size=\"13\" lengthAdjust=\"spacing\" textLength=\"20\" x=\"686.2743\" y=\"331.9938\">1..*</text></a></g><!--MD5=[bfc3ddf2e613be37104f658f09af896c]\n",
       "link E9 to E5--><g id=\"link_E9_E5\"><a href=\"psysml:8d29c65b-5074-4137-a76a-ed8dce22fd23\" target=\"_top\" title=\"psysml:8d29c65b-5074-4137-a76a-ed8dce22fd23\" xlink:actuate=\"onRequest\" xlink:href=\"psysml:8d29c65b-5074-4137-a76a-ed8dce22fd23\" xlink:show=\"new\" xlink:title=\"psysml:8d29c65b-5074-4137-a76a-ed8dce22fd23\" xlink:type=\"simple\"><path d=\"M711.2,394.3 C709.45,409.84 707.13,430.34 705.06,448.66 \" fill=\"none\" id=\"E9-to-E5\" style=\"stroke:#181818;stroke-width:1.0;\"/><polygon fill=\"none\" points=\"711.99,449.66,702.79,468.75,698.08,448.09,711.99,449.66\" style=\"stroke:#181818;stroke-width:1.0;\"/></a></g><!--MD5=[0ebb7641bcb0d4fb9a3dd9700ebb7034]\n",
       "link E1 to E10--><g id=\"link_E1_E10\"><a href=\"psysml:1cfc66b6-6643-4032-8f09-50a78239cff5\" target=\"_top\" title=\"psysml:1cfc66b6-6643-4032-8f09-50a78239cff5\" xlink:actuate=\"onRequest\" xlink:href=\"psysml:1cfc66b6-6643-4032-8f09-50a78239cff5\" xlink:show=\"new\" xlink:title=\"psysml:1cfc66b6-6643-4032-8f09-50a78239cff5\" xlink:type=\"simple\"><path d=\"M23.96,188.62 C23.24,191.06 11.84,230.54 19,261 C24.86,285.93 37.4775,311.695 48.9312,331.6375 C51.7947,336.6231 54.5854,341.2448 57.1796,345.3986 C58.4767,347.4755 59.7247,349.4354 60.908,351.2654 C61.4997,352.1803 62.0753,353.0628 62.6327,353.9111 C62.9115,354.3353 63.1857,354.751 63.4551,355.1579 C63.5898,355.3613 63.7234,355.5626 63.8557,355.7617 \" fill=\"none\" id=\"E1-to-E10\" style=\"stroke:#181818;stroke-width:1.0;stroke-dasharray:7.0,7.0;\"/><polygon fill=\"#181818\" points=\"63.8557,355.7617,62.205,346.0521,61.0879,351.5976,55.5425,350.4805,63.8557,355.7617\" style=\"stroke:#181818;stroke-width:1.0;\"/><text fill=\"#000000\" font-family=\"sans-serif\" font-size=\"13\" lengthAdjust=\"spacing\" textLength=\"55\" x=\"20\" y=\"257.4951\">«import»*</text></a></g><!--MD5=[00c3723be73e9fbcd8b6d8a8c369e7f1]\n",
       "link E4 to E12--><g id=\"link_E4_E12\"><a href=\"psysml:b98c2afb-1b3b-4e6d-aa74-49239e5bd38b\" target=\"_top\" title=\"psysml:b98c2afb-1b3b-4e6d-aa74-49239e5bd38b\" xlink:actuate=\"onRequest\" xlink:href=\"psysml:b98c2afb-1b3b-4e6d-aa74-49239e5bd38b\" xlink:show=\"new\" xlink:title=\"psysml:b98c2afb-1b3b-4e6d-aa74-49239e5bd38b\" xlink:type=\"simple\"><path d=\"M514.77,518.43 C474.88,536.63 419.19,562.05 378.27,580.73 \" fill=\"none\" id=\"E4-to-E12\" style=\"stroke:#181818;stroke-width:1.0;\"/><polygon fill=\"#FFFFFF\" points=\"360.07,589.04,374.4392,574.7737,380.2603,587.5061,360.07,589.04\" style=\"stroke:#181818;stroke-width:1.0;\"/><ellipse cx=\"380.4547\" cy=\"574.2226\" fill=\"#181818\" rx=\"2\" ry=\"2\" style=\"stroke:#181818;stroke-width:1.0;\"/><ellipse cx=\"384.6126\" cy=\"583.3172\" fill=\"#181818\" rx=\"2\" ry=\"2\" style=\"stroke:#181818;stroke-width:1.0;\"/></a></g><!--MD5=[e93d9a5d868a8770aff31d255f5e3ef2]\n",
       "reverse link E12 to E11--><g id=\"link_E12_E11\"><a href=\"psysml:cdc88977-61ae-4cc9-9bfe-de46b4260e58\" target=\"_top\" title=\"psysml:cdc88977-61ae-4cc9-9bfe-de46b4260e58\" xlink:actuate=\"onRequest\" xlink:href=\"psysml:cdc88977-61ae-4cc9-9bfe-de46b4260e58\" xlink:show=\"new\" xlink:title=\"psysml:cdc88977-61ae-4cc9-9bfe-de46b4260e58\" xlink:type=\"simple\"><path d=\"M302.59,643.75 C290.11,664.89 274.69,691 263.6,709.77 \" fill=\"none\" id=\"E12-backto-E11\" style=\"stroke:#181818;stroke-width:1.0;\"/><polygon fill=\"none\" points=\"309.36,632.29,302.8647,635.4223,303.2579,642.6227,309.7532,639.4904,309.36,632.29\" style=\"stroke:#181818;stroke-width:1.0;\"/><text fill=\"#000000\" font-family=\"sans-serif\" font-size=\"13\" lengthAdjust=\"spacing\" textLength=\"21\" x=\"291\" y=\"676.4951\">xrsl</text><text fill=\"#000000\" font-family=\"sans-serif\" font-size=\"13\" lengthAdjust=\"spacing\" textLength=\"5\" x=\"261.5494\" y=\"699.1225\">*</text></a></g><!--MD5=[5e8699dd255f7bc1216657a2fdc55236]\n",
       "link E5 to E13--><g id=\"link_E5_E13\"><a href=\"psysml:bd36eb65-8404-4f02-8766-aa2d2f86aca6\" target=\"_top\" title=\"psysml:bd36eb65-8404-4f02-8766-aa2d2f86aca6\" xlink:actuate=\"onRequest\" xlink:href=\"psysml:bd36eb65-8404-4f02-8766-aa2d2f86aca6\" xlink:show=\"new\" xlink:title=\"psysml:bd36eb65-8404-4f02-8766-aa2d2f86aca6\" xlink:type=\"simple\"><path d=\"M650.35,515.8 C603.65,534.9 533.88,563.43 485.63,583.16 \" fill=\"none\" id=\"E5-to-E13\" style=\"stroke:#181818;stroke-width:1.0;\"/><polygon fill=\"#FFFFFF\" points=\"467.02,590.77,481.9566,577.0989,487.2559,590.0572,467.02,590.77\" style=\"stroke:#181818;stroke-width:1.0;\"/><ellipse cx=\"487.9895\" cy=\"576.7926\" fill=\"#181818\" rx=\"2\" ry=\"2\" style=\"stroke:#181818;stroke-width:1.0;\"/><ellipse cx=\"491.7747\" cy=\"586.0485\" fill=\"#181818\" rx=\"2\" ry=\"2\" style=\"stroke:#181818;stroke-width:1.0;\"/></a></g><!--MD5=[24b5a74f994511b591ae4b95a7f0a581]\n",
       "reverse link E13 to E11--><g id=\"link_E13_E11\"><a href=\"psysml:2ec73137-7ec0-4c8e-b359-f48ba6813f04\" target=\"_top\" title=\"psysml:2ec73137-7ec0-4c8e-b359-f48ba6813f04\" xlink:actuate=\"onRequest\" xlink:href=\"psysml:2ec73137-7ec0-4c8e-b359-f48ba6813f04\" xlink:show=\"new\" xlink:title=\"psysml:2ec73137-7ec0-4c8e-b359-f48ba6813f04\" xlink:type=\"simple\"><path d=\"M384.55,639.91 C352.38,662.36 310.36,691.69 281.68,711.69 \" fill=\"none\" id=\"E13-backto-E11\" style=\"stroke:#181818;stroke-width:1.0;\"/><polygon fill=\"none\" points=\"395.48,632.29,388.2706,632.4461,385.6418,639.1609,392.8512,639.0049,395.48,632.29\" style=\"stroke:#181818;stroke-width:1.0;\"/><text fill=\"#000000\" font-family=\"sans-serif\" font-size=\"13\" lengthAdjust=\"spacing\" textLength=\"17\" x=\"351\" y=\"676.4951\">xsf</text><text fill=\"#000000\" font-family=\"sans-serif\" font-size=\"13\" lengthAdjust=\"spacing\" textLength=\"5\" x=\"289.3756\" y=\"702.2976\">*</text></a></g><!--MD5=[396fc4c2dca3d78ab0afa661e4c18309]\n",
       "link E3 to E14--><g id=\"link_E3_E14\"><a href=\"psysml:cdb428f4-404f-4dcc-9cdb-3e07a75b38da\" target=\"_top\" title=\"psysml:cdb428f4-404f-4dcc-9cdb-3e07a75b38da\" xlink:actuate=\"onRequest\" xlink:href=\"psysml:cdb428f4-404f-4dcc-9cdb-3e07a75b38da\" xlink:show=\"new\" xlink:title=\"psysml:cdb428f4-404f-4dcc-9cdb-3e07a75b38da\" xlink:type=\"simple\"><path d=\"M437.17,213.01 C422.95,238.22 400.3,278.35 381.66,311.39 \" fill=\"none\" id=\"E3-to-E14\" style=\"stroke:#181818;stroke-width:1.0;\"/><polygon fill=\"none\" points=\"387.72,314.89,371.8,328.87,375.53,308.01,387.72,314.89\" style=\"stroke:#181818;stroke-width:1.0;\"/></a></g><!--MD5=[17bf29720e4688890742b92d9a67fdf0]\n",
       "reverse link E14 to E15--><g id=\"link_E14_E15\"><a href=\"psysml:420b92f3-5d98-4e65-a792-8b98df01fd58\" target=\"_top\" title=\"psysml:420b92f3-5d98-4e65-a792-8b98df01fd58\" xlink:actuate=\"onRequest\" xlink:href=\"psysml:420b92f3-5d98-4e65-a792-8b98df01fd58\" xlink:show=\"new\" xlink:title=\"psysml:420b92f3-5d98-4e65-a792-8b98df01fd58\" xlink:type=\"simple\"><path d=\"M313.66,419.01 C301.15,436.06 287.67,454.43 277.23,468.66 \" fill=\"none\" id=\"E14-backto-E15\" style=\"stroke:#181818;stroke-width:1.0;\"/><polygon fill=\"#181818\" points=\"321.71,408.05,314.933,410.5142,314.6011,417.7176,321.3781,415.2535,321.71,408.05\" style=\"stroke:#181818;stroke-width:1.0;\"/><text fill=\"#000000\" font-family=\"sans-serif\" font-size=\"13\" lengthAdjust=\"spacing\" textLength=\"7\" x=\"273.8204\" y=\"457.9856\">1</text></a></g><!--MD5=[a546ee16b1a335e34a66b897e54348cf]\n",
       "link E15 to E12--><g id=\"link_E15_E12\"><a href=\"psysml:b98c2afb-1b3b-4e6d-aa74-49239e5bd38b\" target=\"_top\" title=\"psysml:b98c2afb-1b3b-4e6d-aa74-49239e5bd38b\" xlink:actuate=\"onRequest\" xlink:href=\"psysml:b98c2afb-1b3b-4e6d-aa74-49239e5bd38b\" xlink:show=\"new\" xlink:title=\"psysml:b98c2afb-1b3b-4e6d-aa74-49239e5bd38b\" xlink:type=\"simple\"><path d=\"M273.59,520.19 C281.11,532.92 290.51,548.82 299.14,563.42 \" fill=\"none\" id=\"E15-to-E12\" style=\"stroke:#181818;stroke-width:1.0;\"/><polygon fill=\"#FFFFFF\" points=\"309.46,580.9,293.768,568.1031,305.8212,560.9812,309.46,580.9\" style=\"stroke:#181818;stroke-width:1.0;\"/><ellipse cx=\"292.5903\" cy=\"562.1783\" fill=\"#181818\" rx=\"2\" ry=\"2\" style=\"stroke:#181818;stroke-width:1.0;\"/><ellipse cx=\"301.1997\" cy=\"557.0912\" fill=\"#181818\" rx=\"2\" ry=\"2\" style=\"stroke:#181818;stroke-width:1.0;\"/></a></g><!--MD5=[3032f834ca00a08ecc74b66fdbabc7e6]\n",
       "reverse link E15 to E11--><g id=\"link_E15_E11\"><a href=\"psysml:cdc88977-61ae-4cc9-9bfe-de46b4260e58\" target=\"_top\" title=\"psysml:cdc88977-61ae-4cc9-9bfe-de46b4260e58\" xlink:actuate=\"onRequest\" xlink:href=\"psysml:cdc88977-61ae-4cc9-9bfe-de46b4260e58\" xlink:show=\"new\" xlink:title=\"psysml:cdc88977-61ae-4cc9-9bfe-de46b4260e58\" xlink:type=\"simple\"><path d=\"M204.24,527.85 C186.04,541.71 167.9,559.66 158,581 C135.98,628.5 182.69,680.18 216.98,709.82 \" fill=\"none\" id=\"E15-backto-E11\" style=\"stroke:#181818;stroke-width:1.0;\"/><polygon fill=\"none\" points=\"214.91,520.17,207.7035,520.4274,205.1693,527.1785,212.3758,526.9212,214.91,520.17\" style=\"stroke:#181818;stroke-width:1.0;\"/><text fill=\"#000000\" font-family=\"sans-serif\" font-size=\"13\" lengthAdjust=\"spacing\" textLength=\"26\" x=\"159\" y=\"611.9951\">^xrsl</text><text fill=\"#000000\" font-family=\"sans-serif\" font-size=\"13\" lengthAdjust=\"spacing\" textLength=\"5\" x=\"203.5657\" y=\"699.1846\">*</text></a></g><!--MD5=[36895fc31f394b908ff7b74f18d83e00]\n",
       "reverse link E14 to E16--><g id=\"link_E14_E16\"><a href=\"psysml:9f0c117e-18ca-46bf-8c84-9388701f4492\" target=\"_top\" title=\"psysml:9f0c117e-18ca-46bf-8c84-9388701f4492\" xlink:actuate=\"onRequest\" xlink:href=\"psysml:9f0c117e-18ca-46bf-8c84-9388701f4492\" xlink:show=\"new\" xlink:title=\"psysml:9f0c117e-18ca-46bf-8c84-9388701f4492\" xlink:type=\"simple\"><path d=\"M354.53,421.38 C355.7,427.4 357.16,433.38 359,439 C362.36,449.27 367.67,459.83 372.9,468.89 \" fill=\"none\" id=\"E14-backto-E16\" style=\"stroke:#181818;stroke-width:1.0;\"/><polygon fill=\"#181818\" points=\"352.43,408.31,349.4364,414.8704,354.3408,420.1569,357.3344,413.5965,352.43,408.31\" style=\"stroke:#181818;stroke-width:1.0;\"/><text fill=\"#000000\" font-family=\"sans-serif\" font-size=\"13\" lengthAdjust=\"spacing\" textLength=\"7\" x=\"361.1225\" y=\"458.2717\">1</text></a></g><!--MD5=[c175550ace7c98fdd656248429b37efa]\n",
       "link E16 to E13--><g id=\"link_E16_E13\"><a href=\"psysml:bd36eb65-8404-4f02-8766-aa2d2f86aca6\" target=\"_top\" title=\"psysml:bd36eb65-8404-4f02-8766-aa2d2f86aca6\" xlink:actuate=\"onRequest\" xlink:href=\"psysml:bd36eb65-8404-4f02-8766-aa2d2f86aca6\" xlink:show=\"new\" xlink:title=\"psysml:bd36eb65-8404-4f02-8766-aa2d2f86aca6\" xlink:type=\"simple\"><path d=\"M393.36,520.22 C395.45,529.98 398.31,541.18 402,551 C403.49,554.96 405.21,558.99 407.05,562.98 \" fill=\"none\" id=\"E16-to-E13\" style=\"stroke:#181818;stroke-width:1.0;\"/><polygon fill=\"#FFFFFF\" points=\"416.17,580.9,401.3104,567.1452,413.7861,560.7924,416.17,580.9\" style=\"stroke:#181818;stroke-width:1.0;\"/><ellipse cx=\"400.5062\" cy=\"561.1583\" fill=\"#181818\" rx=\"2\" ry=\"2\" style=\"stroke:#181818;stroke-width:1.0;\"/><ellipse cx=\"409.4173\" cy=\"556.6206\" fill=\"#181818\" rx=\"2\" ry=\"2\" style=\"stroke:#181818;stroke-width:1.0;\"/></a></g><!--MD5=[78f318ef201463580dde56f24c1bc413]\n",
       "reverse link E16 to E11--><g id=\"link_E16_E11\"><a href=\"psysml:2ec73137-7ec0-4c8e-b359-f48ba6813f04\" target=\"_top\" title=\"psysml:2ec73137-7ec0-4c8e-b359-f48ba6813f04\" xlink:actuate=\"onRequest\" xlink:href=\"psysml:2ec73137-7ec0-4c8e-b359-f48ba6813f04\" xlink:show=\"new\" xlink:title=\"psysml:2ec73137-7ec0-4c8e-b359-f48ba6813f04\" xlink:type=\"simple\"><path d=\"M329.94,523.56 C295.31,541.36 256.53,564.14 247,581 C224.18,621.37 233.31,677.78 241.49,709.77 \" fill=\"none\" id=\"E16-backto-E11\" style=\"stroke:#181818;stroke-width:1.0;\"/><polygon fill=\"none\" points=\"341.96,517.49,334.8011,516.6237,331.2481,522.8987,338.4069,523.765,341.96,517.49\" style=\"stroke:#181818;stroke-width:1.0;\"/><text fill=\"#000000\" font-family=\"sans-serif\" font-size=\"13\" lengthAdjust=\"spacing\" textLength=\"22\" x=\"248\" y=\"611.9951\">^xsf</text><text fill=\"#000000\" font-family=\"sans-serif\" font-size=\"13\" lengthAdjust=\"spacing\" textLength=\"5\" x=\"234.0501\" y=\"699.1225\">*</text></a></g><!--MD5=[6dcb8e389f6f828429f75a81f2227366]\n",
       "@startuml\r\n",
       "skin sysmlbw\r\n",
       "skinparam monochrome true\r\n",
       "skinparam wrapWidth 300\r\n",
       "hide circle\r\n",
       "\r\n",
       "package \"CameraSystem\" as E1  [[psysml:2c318999-bf3c-4ee4-873b-53ac46296f44 ]]  {\r\n",
       "comp usage \"Camera  \" as E2  <<(T,blue) part>> [[psysml:684fca33-05b6-4008-bb67-41f713267c77 ]] {\r\n",
       "}\r\n",
       "comp usage \"takePicture :>PictureTaking::takePicture \" as E3  << perform action>> [[psysml:30dc54ae-63fc-48dd-8ad5-fe8d629f3917 ]] {\r\n",
       "}\r\n",
       "comp usage \"^focus: Focus  \" as E4  <<(T,blue) action>> [[psysml:27feed3b-5451-4499-b07b-17fb6eab92f3 ]] {\r\n",
       "}\r\n",
       "comp usage \"^shoot: Shoot  \" as E5  <<(T,blue) action>> [[psysml:82e10e23-8a91-4243-9396-5b770babdd8d ]] {\r\n",
       "}\r\n",
       "comp usage \"focusingSubsystem  \" as E6  <<(T,blue) part>> [[psysml:d71083b0-e735-40f4-8d07-0c380fea9318 ]] {\r\n",
       "}\r\n",
       "comp usage \"focus \" as E7  << perform>> [[psysml:0cfae8d1-dba5-4225-adad-b6acb538b542 ]] {\r\n",
       "}\r\n",
       "comp usage \"imagingSubsystem  \" as E8  <<(T,blue) part>> [[psysml:02261fa6-5418-45e4-9b05-7b3a775c184d ]] {\r\n",
       "}\r\n",
       "comp usage \"shoot \" as E9  << perform>> [[psysml:2aa75640-3319-4e53-a203-4f579819b2d9 ]] {\r\n",
       "}\r\n",
       "package \"PictureTaking\" as E10  [[psysml:7654099e-2456-427a-8dd8-1de3defaf8cc ]]  {\r\n",
       "comp def \"Exposure\" as E11  <<(T,blue) part  def>> [[psysml:4f4f8bc8-0c22-49ee-9f26-3a9a6b7edca9 ]] {\r\n",
       "}\r\n",
       "comp def \"Focus\" as E12  <<(T,blue) action  def>> [[psysml:cbe92bd2-935f-417a-ac43-7c049c25d02f ]] {\r\n",
       "}\r\n",
       "comp def \"Shoot\" as E13  <<(T,blue) action  def>> [[psysml:01a0e6a8-f9b1-41db-8a78-d8cb1f7d6c8c ]] {\r\n",
       "}\r\n",
       "comp usage \"takePicture  \" as E14  <<(T,blue) action>> [[psysml:1ae7bedb-d87e-48b5-885f-b7c0989dab8d ]] {\r\n",
       "##//flows//##\r\n",
       "noname from focus.xrsl to shoot.xsf\r\n",
       "}\r\n",
       "comp usage \"focus: Focus  \" as E15  <<(T,blue) action>> [[psysml:27feed3b-5451-4499-b07b-17fb6eab92f3 ]] {\r\n",
       "}\r\n",
       "comp usage \"shoot: Shoot  \" as E16  <<(T,blue) action>> [[psysml:82e10e23-8a91-4243-9396-5b770babdd8d ]] {\r\n",
       "}\r\n",
       "}\r\n",
       "}\r\n",
       "E2 o- - \"*\"E3 [[psysml:e588595f-4c8c-4d74-a4de-17361ea2ad74 ]] \r\n",
       "E3 *- - \"1\"E4 [[psysml:420b92f3-5d98-4e65-a792-8b98df01fd58 ]] \r\n",
       "E3 *- - \"1\"E5 [[psysml:9f0c117e-18ca-46bf-8c84-9388701f4492 ]] \r\n",
       "E2 *- - \"1\"E6 [[psysml:84609350-455d-47b4-949f-8a4f846d3251 ]] \r\n",
       "E6 o- - \"1..*\"E7 [[psysml:d3f58e78-a976-49d1-b3e8-959ed251ff52 ]] \r\n",
       "E7 - -|> E4 [[psysml:01a26107-59c0-43e3-a4ed-cb73478cd0ce ]] \r\n",
       "E2 *- - \"1\"E8 [[psysml:fd87894b-de61-4aec-9201-dcb691fab7a6 ]] \r\n",
       "E8 o- - \"1..*\"E9 [[psysml:766eb4a1-0b91-4692-8347-e0d0fb2e2d88 ]] \r\n",
       "E9 - -|> E5 [[psysml:8d29c65b-5074-4137-a76a-ed8dce22fd23 ]] \r\n",
       "E1 ..> E10 [[psysml:1cfc66b6-6643-4032-8f09-50a78239cff5 ]] : <<import>>*\r\n",
       "E4 - -:|> E12 [[psysml:b98c2afb-1b3b-4e6d-aa74-49239e5bd38b ]] \r\n",
       "E12 o- - \"*\"E11 [[psysml:cdc88977-61ae-4cc9-9bfe-de46b4260e58 ]] : xrsl\r\n",
       "E5 - -:|> E13 [[psysml:bd36eb65-8404-4f02-8766-aa2d2f86aca6 ]] \r\n",
       "E13 o- - \"*\"E11 [[psysml:2ec73137-7ec0-4c8e-b359-f48ba6813f04 ]] : xsf\r\n",
       "E3 - -|> E14 [[psysml:cdb428f4-404f-4dcc-9cdb-3e07a75b38da ]] \r\n",
       "E14 *- - \"1\"E15 [[psysml:420b92f3-5d98-4e65-a792-8b98df01fd58 ]] \r\n",
       "E15 - -:|> E12 [[psysml:b98c2afb-1b3b-4e6d-aa74-49239e5bd38b ]] \r\n",
       "E15 o- - \"*\"E11 [[psysml:cdc88977-61ae-4cc9-9bfe-de46b4260e58 ]] : ^xrsl\r\n",
       "E14 *- - \"1\"E16 [[psysml:9f0c117e-18ca-46bf-8c84-9388701f4492 ]] \r\n",
       "E16 - -:|> E13 [[psysml:bd36eb65-8404-4f02-8766-aa2d2f86aca6 ]] \r\n",
       "E16 o- - \"*\"E11 [[psysml:2ec73137-7ec0-4c8e-b359-f48ba6813f04 ]] : ^xsf\r\n",
       "@enduml\r\n",
       "\n",
       "PlantUML version 1.2022.7(Mon Aug 22 13:01:30 EDT 2022)\n",
       "(EPL source distribution)\n",
       "Java Runtime: OpenJDK Runtime Environment\n",
       "JVM: OpenJDK 64-Bit Server VM\n",
       "Default Encoding: Cp1252\n",
       "Language: en\n",
       "Country: US\n",
       "--></g></svg>"
      ]
     },
     "execution_count": 3,
     "metadata": {},
     "output_type": "execute_result"
    }
   ],
   "source": [
    "%viz --view=Tree CameraSystem"
   ]
  },
  {
   "cell_type": "code",
   "execution_count": null,
   "id": "06c8dfe3",
   "metadata": {},
   "outputs": [],
   "source": []
  }
 ],
 "metadata": {
  "kernelspec": {
   "display_name": "SysML",
   "language": "sysml",
   "name": "sysml"
  },
  "language_info": {
   "codemirror_mode": "sysml",
   "file_extension": ".sysml",
   "mimetype": "text/x-sysml",
   "name": "SysML",
   "pygments_lexer": "java",
   "version": "1.0.0"
  }
 },
 "nbformat": 4,
 "nbformat_minor": 5
}
