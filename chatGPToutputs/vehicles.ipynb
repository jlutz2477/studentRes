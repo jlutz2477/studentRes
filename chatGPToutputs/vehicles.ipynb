{
 "cells": [
  {
   "cell_type": "markdown",
   "metadata": {},
   "source": [
    "Prompt to chatGPT with no input knowledge:\n",
    "\n",
    "generate Sysml v2 code for a unmanned ground vehicle"
   ]
  },
  {
   "cell_type": "code",
   "execution_count": 1,
   "metadata": {
    "vscode": {
     "languageId": "sysml"
    }
   },
   "outputs": [
    {
     "name": "stderr",
     "output_type": "stream",
     "text": [
      "ERROR:no viable alternative at input 'MobilitySystem' (1.sysml line : 2 column : 13)\n",
      "ERROR:no viable alternative at input 'SensorSuite' (1.sysml line : 6 column : 13)\n",
      "ERROR:no viable alternative at input 'ControlSystem' (1.sysml line : 10 column : 13)\n",
      "ERROR:no viable alternative at input 'PowerSupply' (1.sysml line : 14 column : 13)\n",
      "ERROR:no viable alternative at input 'UnmannedGroundVehicle' (1.sysml line : 18 column : 13)\n",
      "ERROR:no viable alternative at input 'controlSignal' (1.sysml line : 26 column : 19)\n",
      "ERROR:no viable alternative at input '->' (1.sysml line : 26 column : 34)\n",
      "ERROR:no viable alternative at input 'MobilitySystem' (1.sysml line : 26 column : 51)\n",
      "ERROR:no viable alternative at input 'dataFlow' (1.sysml line : 27 column : 19)\n",
      "ERROR:no viable alternative at input '->' (1.sysml line : 27 column : 29)\n",
      "ERROR:no viable alternative at input 'ControlSystem' (1.sysml line : 27 column : 44)\n",
      "ERROR:no viable alternative at input 'UGVOperations' (1.sysml line : 30 column : 15)\n",
      "ERROR:no viable alternative at input 'Idle' (1.sysml line : 31 column : 15)\n",
      "ERROR:no viable alternative at input ']' (1.sysml line : 31 column : 23)\n",
      "ERROR:mismatched input 'transition' expecting '}' (1.sysml line : 36 column : 9)\n",
      "ERROR:no viable alternative at input 'from' (1.sysml line : 36 column : 32)\n",
      "ERROR:no viable alternative at input 'to' (1.sysml line : 36 column : 42)\n",
      "ERROR:mismatched input 'transition' expecting '}' (1.sysml line : 37 column : 9)\n",
      "ERROR:no viable alternative at input 'from' (1.sysml line : 37 column : 34)\n",
      "ERROR:no viable alternative at input 'to' (1.sysml line : 37 column : 46)\n",
      "ERROR:missing EOF at 'transition' (1.sysml line : 38 column : 9)\n"
     ]
    },
    {
     "data": {
      "text/plain": []
     },
     "execution_count": 1,
     "metadata": {},
     "output_type": "execute_result"
    }
   ],
   "source": [
    "package unmannedGroundVehicle {\n",
    "    partdef MobilitySystem {\n",
    "        attribute maxSpeed: Real;\n",
    "    }\n",
    "\n",
    "    partdef SensorSuite {\n",
    "        attribute sensorType: String;\n",
    "    }\n",
    "\n",
    "    partdef ControlSystem {\n",
    "        attribute controlType: String;\n",
    "    }\n",
    "\n",
    "    partdef PowerSupply {\n",
    "        attribute batteryCapacity: Real; // in watt-hours\n",
    "    }\n",
    "\n",
    "    partdef UnmannedGroundVehicle {\n",
    "        part mobility: MobilitySystem;\n",
    "        part sensors: SensorSuite;\n",
    "        part control: ControlSystem;\n",
    "        part power: PowerSupply;\n",
    "    }\n",
    "\n",
    "    connection ControlConnections {\n",
    "        end point controlSignal: ControlSystem -> MobilitySystem;\n",
    "        end point dataFlow: SensorSuite -> ControlSystem;\n",
    "    }\n",
    "\n",
    "    statemach UGVOperations {\n",
    "        state [initial] Idle;\n",
    "        state Moving;\n",
    "        state Scanning;\n",
    "        state Charging;\n",
    "\n",
    "        transition StartMoving from Idle to Moving;\n",
    "        transition StartScanning from Moving to Scanning;\n",
    "        transition Stop from Scanning to Idle;\n",
    "        transition Charge from Idle to Charging;\n",
    "        transition FinishCharging from Charging to Idle;\n",
    "    }\n",
    "\n",
    "    requirement SafetyRequirements {\n",
    "        id 'REQ-001';\n",
    "        text \"The UGV must stop moving when an obstacle is detected within 1 meter.\";\n",
    "    }\n",
    "\n",
    "    requirement BatteryRequirements {\n",
    "        id 'REQ-002';\n",
    "        text \"The UGV should operate for at least 4 hours on a single charge.\";\n",
    "    }\n",
    "}\n"
   ]
  },
  {
   "cell_type": "markdown",
   "metadata": {},
   "source": [
    "Score by chatRubric: 53/100"
   ]
  },
  {
   "cell_type": "markdown",
   "metadata": {},
   "source": [
    "prompt: \n",
    "\n",
    "Generate sysml v2 block diagram for a toyota camry"
   ]
  },
  {
   "cell_type": "code",
   "execution_count": 2,
   "metadata": {
    "vscode": {
     "languageId": "sysml"
    }
   },
   "outputs": [
    {
     "name": "stderr",
     "output_type": "stream",
     "text": [
      "ERROR:no viable alternative at input 'Engine' (2.sysml line : 3 column : 13)\n",
      "ERROR:no viable alternative at input 'Transmission' (2.sysml line : 9 column : 13)\n",
      "ERROR:no viable alternative at input 'Suspension' (2.sysml line : 14 column : 13)\n",
      "ERROR:no viable alternative at input 'BrakingSystem' (2.sysml line : 18 column : 13)\n",
      "ERROR:no viable alternative at input 'ElectricalSystem' (2.sysml line : 22 column : 13)\n",
      "ERROR:no viable alternative at input 'Interior' (2.sysml line : 26 column : 13)\n",
      "ERROR:no viable alternative at input 'Exterior' (2.sysml line : 31 column : 13)\n",
      "ERROR:no viable alternative at input 'ToyotaCamry' (2.sysml line : 36 column : 13)\n",
      "ERROR:no viable alternative at input 'engineOutput' (2.sysml line : 47 column : 19)\n",
      "ERROR:no viable alternative at input '->' (2.sysml line : 47 column : 33)\n",
      "ERROR:no viable alternative at input 'Transmission' (2.sysml line : 47 column : 43)\n",
      "ERROR:no viable alternative at input 'powerFlow' (2.sysml line : 51 column : 19)\n",
      "ERROR:no viable alternative at input '->' (2.sysml line : 51 column : 30)\n",
      "ERROR:no viable alternative at input 'Interior' (2.sysml line : 51 column : 50)\n",
      "ERROR:no viable alternative at input 'powerBrakes' (2.sysml line : 52 column : 19)\n",
      "ERROR:no viable alternative at input '->' (2.sysml line : 52 column : 32)\n",
      "ERROR:no viable alternative at input 'BrakingSystem' (2.sysml line : 52 column : 52)\n",
      "ERROR:no viable alternative at input 'id' (2.sysml line : 56 column : 9)\n",
      "ERROR:no viable alternative at input ''REQ-001'' (2.sysml line : 56 column : 12)\n",
      "ERROR:no viable alternative at input '\"The vehicle must meet all applicable safety standards in the regions it is sold.\"' (2.sysml line : 57 column : 14)\n",
      "ERROR:no viable alternative at input 'id' (2.sysml line : 61 column : 9)\n",
      "ERROR:no viable alternative at input ''REQ-002'' (2.sysml line : 61 column : 12)\n",
      "ERROR:no viable alternative at input '\"The vehicle must achieve a fuel economy of at least 30 miles per gallon in city driving.\"' (2.sysml line : 62 column : 14)\n"
     ]
    },
    {
     "data": {
      "text/plain": []
     },
     "execution_count": 2,
     "metadata": {},
     "output_type": "execute_result"
    }
   ],
   "source": [
    "package ToyotaCamrySystem {\n",
    "\n",
    "    partdef Engine {\n",
    "        attribute engineType: String;\n",
    "        attribute horsepower: Real;\n",
    "        attribute torque: Real;\n",
    "    }\n",
    "\n",
    "    partdef Transmission {\n",
    "        attribute type: String; // e.g., Automatic, CVT\n",
    "        attribute gears: Integer;\n",
    "    }\n",
    "\n",
    "    partdef Suspension {\n",
    "        attribute type: String; // e.g., MacPherson strut\n",
    "    }\n",
    "\n",
    "    partdef BrakingSystem {\n",
    "        attribute type: String; // e.g., Disc, ABS\n",
    "    }\n",
    "\n",
    "    partdef ElectricalSystem {\n",
    "        attribute batteryCapacity: Real; // in Ah\n",
    "    }\n",
    "\n",
    "    partdef Interior {\n",
    "        attribute seats: Integer;\n",
    "        attribute infotainmentSystem: String;\n",
    "    }\n",
    "\n",
    "    partdef Exterior {\n",
    "        attribute bodyStyle: String; // e.g., Sedan\n",
    "        attribute dimensions: String;\n",
    "    }\n",
    "\n",
    "    partdef ToyotaCamry {\n",
    "        part engine: Engine;\n",
    "        part transmission: Transmission;\n",
    "        part suspension: Suspension;\n",
    "        part brakes: BrakingSystem;\n",
    "        part electrical: ElectricalSystem;\n",
    "        part interior: Interior;\n",
    "        part exterior: Exterior;\n",
    "    }\n",
    "    \n",
    "    connection PowertrainConnection {\n",
    "        end point engineOutput: Engine -> Transmission;\n",
    "    }\n",
    "\n",
    "    connection ElectricalConnection {\n",
    "        end point powerFlow: ElectricalSystem -> Interior;\n",
    "        end point powerBrakes: ElectricalSystem -> BrakingSystem;\n",
    "    }\n",
    "    \n",
    "    requirement SafetyStandards {\n",
    "        id 'REQ-001';\n",
    "        text \"The vehicle must meet all applicable safety standards in the regions it is sold.\";\n",
    "    }\n",
    "\n",
    "    requirement FuelEfficiencyStandards {\n",
    "        id 'REQ-002';\n",
    "        text \"The vehicle must achieve a fuel economy of at least 30 miles per gallon in city driving.\";\n",
    "    }\n",
    "}\n"
   ]
  },
  {
   "cell_type": "markdown",
   "metadata": {},
   "source": [
    "Score by chatRubric: 46/100"
   ]
  },
  {
   "cell_type": "markdown",
   "metadata": {},
   "source": [
    "prompt:\n",
    "\n",
    "generate sysml v2 block diagram for an 18 wheeler truck"
   ]
  },
  {
   "cell_type": "code",
   "execution_count": 3,
   "metadata": {
    "vscode": {
     "languageId": "sysml"
    }
   },
   "outputs": [
    {
     "name": "stderr",
     "output_type": "stream",
     "text": [
      "ERROR:no viable alternative at input 'Engine' (3.sysml line : 3 column : 13)\n",
      "ERROR:no viable alternative at input 'Transmission' (3.sysml line : 9 column : 13)\n",
      "ERROR:no viable alternative at input 'BrakingSystem' (3.sysml line : 14 column : 13)\n",
      "ERROR:no viable alternative at input 'ElectricalSystem' (3.sysml line : 18 column : 13)\n",
      "ERROR:no viable alternative at input 'Chassis' (3.sysml line : 22 column : 13)\n",
      "ERROR:no viable alternative at input 'Cabin' (3.sysml line : 27 column : 13)\n",
      "ERROR:no viable alternative at input 'Trailer' (3.sysml line : 31 column : 13)\n",
      "ERROR:no viable alternative at input 'EighteenWheelerTruck' (3.sysml line : 36 column : 13)\n",
      "ERROR:no viable alternative at input 'powerOutput' (3.sysml line : 47 column : 19)\n",
      "ERROR:no viable alternative at input '->' (3.sysml line : 47 column : 32)\n",
      "ERROR:no viable alternative at input 'Transmission' (3.sysml line : 47 column : 42)\n",
      "ERROR:no viable alternative at input 'powerDistribution' (3.sysml line : 51 column : 19)\n",
      "ERROR:no viable alternative at input '->' (3.sysml line : 51 column : 38)\n",
      "ERROR:no viable alternative at input 'Cabin' (3.sysml line : 51 column : 58)\n",
      "ERROR:no viable alternative at input 'safetySystems' (3.sysml line : 52 column : 19)\n",
      "ERROR:no viable alternative at input '->' (3.sysml line : 52 column : 34)\n",
      "ERROR:no viable alternative at input 'BrakingSystem' (3.sysml line : 52 column : 54)\n",
      "ERROR:no viable alternative at input 'id' (3.sysml line : 56 column : 9)\n",
      "ERROR:no viable alternative at input ''REQ-001'' (3.sysml line : 56 column : 12)\n",
      "ERROR:no viable alternative at input '\"The truck must comply with all applicable traffic and safety regulations for commercial vehicles.\"' (3.sysml line : 57 column : 14)\n",
      "ERROR:no viable alternative at input 'id' (3.sysml line : 61 column : 9)\n",
      "ERROR:no viable alternative at input ''REQ-002'' (3.sysml line : 61 column : 12)\n",
      "ERROR:no viable alternative at input '\"The trailer must be capable of handling a minimum load capacity of 20,000 kg.\"' (3.sysml line : 62 column : 14)\n"
     ]
    },
    {
     "data": {
      "text/plain": []
     },
     "execution_count": 3,
     "metadata": {},
     "output_type": "execute_result"
    }
   ],
   "source": [
    "package EighteenWheelerTruckSystem {\n",
    "\n",
    "    partdef Engine {\n",
    "        attribute engineType: String; // e.g., Diesel\n",
    "        attribute horsepower: Real;\n",
    "        attribute torque: Real;\n",
    "    }\n",
    "\n",
    "    partdef Transmission {\n",
    "        attribute type: String; // e.g., Manual, Automated Manual\n",
    "        attribute gears: Integer;\n",
    "    }\n",
    "\n",
    "    partdef BrakingSystem {\n",
    "        attribute type: String; // e.g., Air brake\n",
    "    }\n",
    "\n",
    "    partdef ElectricalSystem {\n",
    "        attribute batteryCapacity: Real; // in Ah\n",
    "    }\n",
    "\n",
    "    partdef Chassis {\n",
    "        attribute length: Real; // in meters\n",
    "        attribute width: Real; // in meters\n",
    "    }\n",
    "\n",
    "    partdef Cabin {\n",
    "        attribute features: String; // e.g., Sleeper cab\n",
    "    }\n",
    "\n",
    "    partdef Trailer {\n",
    "        attribute capacity: Real; // in cubic meters\n",
    "        attribute axleCount: Integer;\n",
    "    }\n",
    "\n",
    "    partdef EighteenWheelerTruck {\n",
    "        part engine: Engine;\n",
    "        part transmission: Transmission;\n",
    "        part brakes: BrakingSystem;\n",
    "        part electrical: ElectricalSystem;\n",
    "        part chassis: Chassis;\n",
    "        part cabin: Cabin;\n",
    "        part trailer: Trailer;\n",
    "    }\n",
    "\n",
    "    connection DrivetrainConnection {\n",
    "        end point powerOutput: Engine -> Transmission;\n",
    "    }\n",
    "\n",
    "    connection ElectricalConnections {\n",
    "        end point powerDistribution: ElectricalSystem -> Cabin;\n",
    "        end point safetySystems: ElectricalSystem -> BrakingSystem;\n",
    "    }\n",
    "\n",
    "    requirement OperationalSafety {\n",
    "        id 'REQ-001';\n",
    "        text \"The truck must comply with all applicable traffic and safety regulations for commercial vehicles.\";\n",
    "    }\n",
    "\n",
    "    requirement LoadCapacity {\n",
    "        id 'REQ-002';\n",
    "        text \"The trailer must be capable of handling a minimum load capacity of 20,000 kg.\";\n",
    "    }\n",
    "}\n"
   ]
  },
  {
   "cell_type": "markdown",
   "metadata": {
    "vscode": {
     "languageId": "sysml"
    }
   },
   "source": [
    "Score by chatRubric: 26/100"
   ]
  },
  {
   "cell_type": "markdown",
   "metadata": {},
   "source": [
    "Prompt:\n",
    "\n",
    "Generate Sysml v2 block diagram for an unmanned aerial system"
   ]
  },
  {
   "cell_type": "code",
   "execution_count": 4,
   "metadata": {
    "vscode": {
     "languageId": "sysml"
    }
   },
   "outputs": [
    {
     "name": "stderr",
     "output_type": "stream",
     "text": [
      "ERROR:no viable alternative at input 'PropulsionSystem' (4.sysml line : 3 column : 13)\n",
      "ERROR:no viable alternative at input 'FlightControlSystem' (4.sysml line : 8 column : 13)\n",
      "ERROR:no viable alternative at input 'SensorPayload' (4.sysml line : 12 column : 13)\n",
      "ERROR:no viable alternative at input 'CommunicationSystem' (4.sysml line : 16 column : 13)\n",
      "ERROR:no viable alternative at input 'BatterySystem' (4.sysml line : 21 column : 13)\n",
      "ERROR:no viable alternative at input 'UnmannedAerialVehicle' (4.sysml line : 26 column : 13)\n",
      "ERROR:no viable alternative at input 'powerSource' (4.sysml line : 35 column : 19)\n",
      "ERROR:no viable alternative at input '->' (4.sysml line : 35 column : 32)\n",
      "ERROR:no viable alternative at input 'PropulsionSystem' (4.sysml line : 35 column : 49)\n",
      "ERROR:no viable alternative at input 'powerSensors' (4.sysml line : 36 column : 19)\n",
      "ERROR:no viable alternative at input '->' (4.sysml line : 36 column : 33)\n",
      "ERROR:no viable alternative at input 'SensorPayload' (4.sysml line : 36 column : 50)\n",
      "ERROR:no viable alternative at input 'powerCommunication' (4.sysml line : 37 column : 19)\n",
      "ERROR:no viable alternative at input '->' (4.sysml line : 37 column : 39)\n",
      "ERROR:no viable alternative at input 'CommunicationSystem' (4.sysml line : 37 column : 56)\n",
      "ERROR:no viable alternative at input 'controlSignal' (4.sysml line : 41 column : 19)\n",
      "ERROR:no viable alternative at input '->' (4.sysml line : 41 column : 34)\n",
      "ERROR:no viable alternative at input 'PropulsionSystem' (4.sysml line : 41 column : 57)\n",
      "ERROR:no viable alternative at input 'id' (4.sysml line : 45 column : 9)\n",
      "ERROR:no viable alternative at input ''REQ-001'' (4.sysml line : 45 column : 12)\n",
      "ERROR:no viable alternative at input '\"The UAS must be capable of operating autonomously for at least 4 hours on a single charge.\"' (4.sysml line : 46 column : 14)\n",
      "ERROR:no viable alternative at input 'id' (4.sysml line : 50 column : 9)\n",
      "ERROR:no viable alternative at input ''REQ-002'' (4.sysml line : 50 column : 12)\n",
      "ERROR:no viable alternative at input '\"The communication system must comply with international aviation communication standards.\"' (4.sysml line : 51 column : 14)\n"
     ]
    },
    {
     "data": {
      "text/plain": []
     },
     "execution_count": 4,
     "metadata": {},
     "output_type": "execute_result"
    }
   ],
   "source": [
    "package UnmannedAerialSystem {\n",
    "\n",
    "    partdef PropulsionSystem {\n",
    "        attribute engineType: String; // e.g., Electric motors\n",
    "        attribute powerOutput: Real; // in kilowatts\n",
    "    }\n",
    "\n",
    "    partdef FlightControlSystem {\n",
    "        attribute controlType: String; // e.g., Remote, Autonomous\n",
    "    }\n",
    "\n",
    "    partdef SensorPayload {\n",
    "        attribute types: String; // e.g., Camera, IR sensor, Lidar\n",
    "    }\n",
    "\n",
    "    partdef CommunicationSystem {\n",
    "        attribute frequencyRange: Real; // in MHz\n",
    "        attribute protocol: String; // e.g., LTE, Satellite\n",
    "    }\n",
    "\n",
    "    partdef BatterySystem {\n",
    "        attribute capacity: Real; // in watt-hours\n",
    "        attribute voltage: Real; // in volts\n",
    "    }\n",
    "\n",
    "    partdef UnmannedAerialVehicle {\n",
    "        part propulsion: PropulsionSystem;\n",
    "        part flightControl: FlightControlSystem;\n",
    "        part sensors: SensorPayload;\n",
    "        part communication: CommunicationSystem;\n",
    "        part battery: BatterySystem;\n",
    "    }\n",
    "\n",
    "    connection PowerDistribution {\n",
    "        end point powerSource: BatterySystem -> PropulsionSystem;\n",
    "        end point powerSensors: BatterySystem -> SensorPayload;\n",
    "        end point powerCommunication: BatterySystem -> CommunicationSystem;\n",
    "    }\n",
    "\n",
    "    connection ControlLink {\n",
    "        end point controlSignal: FlightControlSystem -> PropulsionSystem;\n",
    "    }\n",
    "\n",
    "    requirement OperationalRequirements {\n",
    "        id 'REQ-001';\n",
    "        text \"The UAS must be capable of operating autonomously for at least 4 hours on a single charge.\";\n",
    "    }\n",
    "\n",
    "    requirement CommunicationStandards {\n",
    "        id 'REQ-002';\n",
    "        text \"The communication system must comply with international aviation communication standards.\";\n",
    "    }\n",
    "}\n"
   ]
  },
  {
   "cell_type": "markdown",
   "metadata": {
    "vscode": {
     "languageId": "sysml"
    }
   },
   "source": [
    "Score by chatRubric: 29/100"
   ]
  },
  {
   "cell_type": "markdown",
   "metadata": {},
   "source": [
    "prompt:\n",
    "\n",
    "Generate sysml v2 block diagram for an electric bicycle"
   ]
  },
  {
   "cell_type": "code",
   "execution_count": 5,
   "metadata": {
    "vscode": {
     "languageId": "sysml"
    }
   },
   "outputs": [
    {
     "name": "stderr",
     "output_type": "stream",
     "text": [
      "ERROR:no viable alternative at input 'Motor' (5.sysml line : 3 column : 13)\n",
      "ERROR:no viable alternative at input 'Battery' (5.sysml line : 8 column : 13)\n",
      "ERROR:no viable alternative at input 'Controller' (5.sysml line : 13 column : 13)\n",
      "ERROR:no viable alternative at input 'Frame' (5.sysml line : 17 column : 13)\n",
      "ERROR:no viable alternative at input 'BrakingSystem' (5.sysml line : 21 column : 13)\n",
      "ERROR:no viable alternative at input 'ElectricalComponents' (5.sysml line : 25 column : 13)\n",
      "ERROR:no viable alternative at input 'ElectricBicycle' (5.sysml line : 30 column : 13)\n",
      "ERROR:no viable alternative at input 'frame' (5.sysml line : 34 column : 9)\n",
      "ERROR:no viable alternative at input 'powerFlow' (5.sysml line : 40 column : 19)\n",
      "ERROR:no viable alternative at input '->' (5.sysml line : 40 column : 30)\n",
      "ERROR:no viable alternative at input 'Motor' (5.sysml line : 40 column : 41)\n",
      "ERROR:no viable alternative at input 'controlSignal' (5.sysml line : 41 column : 19)\n",
      "ERROR:no viable alternative at input '->' (5.sysml line : 41 column : 34)\n",
      "ERROR:no viable alternative at input 'Motor' (5.sysml line : 41 column : 48)\n",
      "ERROR:no viable alternative at input 'batteryToController' (5.sysml line : 42 column : 19)\n",
      "ERROR:no viable alternative at input '->' (5.sysml line : 42 column : 40)\n",
      "ERROR:no viable alternative at input 'Controller' (5.sysml line : 42 column : 51)\n",
      "ERROR:no viable alternative at input 'displayToController' (5.sysml line : 46 column : 19)\n",
      "ERROR:no viable alternative at input '->' (5.sysml line : 46 column : 40)\n",
      "ERROR:no viable alternative at input 'Controller' (5.sysml line : 46 column : 64)\n",
      "ERROR:no viable alternative at input 'id' (5.sysml line : 50 column : 9)\n",
      "ERROR:no viable alternative at input ''REQ-001'' (5.sysml line : 50 column : 12)\n",
      "ERROR:no viable alternative at input '\"The electric bicycle must meet all applicable safety standards in the regions it is sold.\"' (5.sysml line : 51 column : 14)\n",
      "ERROR:no viable alternative at input 'id' (5.sysml line : 55 column : 9)\n",
      "ERROR:no viable alternative at input ''REQ-002'' (5.sysml line : 55 column : 12)\n",
      "ERROR:no viable alternative at input '\"The battery must provide at least 40 kilometers of range on a single charge under normal operating conditions.\"' (5.sysml line : 56 column : 14)\n"
     ]
    },
    {
     "data": {
      "text/plain": []
     },
     "execution_count": 5,
     "metadata": {},
     "output_type": "execute_result"
    }
   ],
   "source": [
    "package ElectricBicycleSystem {\n",
    "\n",
    "    partdef Motor {\n",
    "        attribute type: String; // e.g., Brushless DC motor\n",
    "        attribute powerRating: Real; // in watts\n",
    "    }\n",
    "\n",
    "    partdef Battery {\n",
    "        attribute capacity: Real; // in watt-hours\n",
    "        attribute voltage: Real; // in volts\n",
    "    }\n",
    "\n",
    "    partdef Controller {\n",
    "        attribute type: String; // e.g., PWM controller\n",
    "    }\n",
    "\n",
    "    partdef Frame {\n",
    "        attribute material: String; // e.g., Aluminum, Carbon Fiber\n",
    "    }\n",
    "\n",
    "    partdef BrakingSystem {\n",
    "        attribute type: String; // e.g., Disc brakes, Rim brakes\n",
    "    }\n",
    "\n",
    "    partdef ElectricalComponents {\n",
    "        attribute lights: Boolean;\n",
    "        attribute displayType: String; // e.g., LCD\n",
    "    }\n",
    "\n",
    "    partdef ElectricBicycle {\n",
    "        part motor: Motor;\n",
    "        part battery: Battery;\n",
    "        part controller: Controller;\n",
    "        part frame: Frame;\n",
    "        part brakes: BrakingSystem;\n",
    "        part electricals: ElectricalComponents;\n",
    "    }\n",
    "\n",
    "    connection ElectricalConnections {\n",
    "        end point powerFlow: Battery -> Motor;\n",
    "        end point controlSignal: Controller -> Motor;\n",
    "        end point batteryToController: Battery -> Controller;\n",
    "    }\n",
    "\n",
    "    connection UserInterfaceConnections {\n",
    "        end point displayToController: ElectricalComponents -> Controller;\n",
    "    }\n",
    "\n",
    "    requirement SafetyStandards {\n",
    "        id 'REQ-001';\n",
    "        text \"The electric bicycle must meet all applicable safety standards in the regions it is sold.\";\n",
    "    }\n",
    "\n",
    "    requirement BatteryPerformance {\n",
    "        id 'REQ-002';\n",
    "        text \"The battery must provide at least 40 kilometers of range on a single charge under normal operating conditions.\";\n",
    "    }\n",
    "}\n"
   ]
  },
  {
   "cell_type": "markdown",
   "metadata": {},
   "source": [
    "Score by chatRubric: 28/100"
   ]
  },
  {
   "cell_type": "markdown",
   "metadata": {},
   "source": []
  }
 ],
 "metadata": {
  "kernelspec": {
   "display_name": "SysML",
   "language": "sysml",
   "name": "sysml"
  },
  "language_info": {
   "codemirror_mode": "sysml",
   "file_extension": ".sysml",
   "mimetype": "text/x-sysml",
   "name": "SysML",
   "pygments_lexer": "java",
   "version": "1.0.0"
  }
 },
 "nbformat": 4,
 "nbformat_minor": 2
}
