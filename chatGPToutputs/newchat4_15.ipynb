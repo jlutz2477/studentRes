{
 "cells": [
  {
   "cell_type": "code",
   "execution_count": 1,
   "metadata": {},
   "outputs": [
    {
     "name": "stderr",
     "output_type": "stream",
     "text": [
      "ERROR:no viable alternative at input 'unmannedGroundVehicle' (1.sysml line : 4 column : 10)\n",
      "ERROR:no viable alternative at input 'between' (1.sysml line : 10 column : 32)\n",
      "ERROR:no viable alternative at input 'mobility' (1.sysml line : 10 column : 40)\n",
      "ERROR:no viable alternative at input '.' (1.sysml line : 10 column : 48)\n",
      "ERROR:no viable alternative at input ',' (1.sysml line : 10 column : 59)\n",
      "ERROR:no viable alternative at input '.' (1.sysml line : 10 column : 72)\n",
      "ERROR:no viable alternative at input 'between' (1.sysml line : 11 column : 31)\n",
      "ERROR:no viable alternative at input 'sensors' (1.sysml line : 11 column : 39)\n",
      "ERROR:no viable alternative at input '.' (1.sysml line : 11 column : 46)\n",
      "ERROR:no viable alternative at input ',' (1.sysml line : 11 column : 57)\n",
      "ERROR:no viable alternative at input '.' (1.sysml line : 11 column : 70)\n",
      "ERROR:no viable alternative at input 'uses' (1.sysml line : 14 column : 21)\n",
      "ERROR:no viable alternative at input 'mobility' (1.sysml line : 14 column : 26)\n",
      "ERROR:no viable alternative at input '.' (1.sysml line : 14 column : 34)\n",
      "ERROR:no viable alternative at input 'uses' (1.sysml line : 15 column : 20)\n",
      "ERROR:no viable alternative at input 'sensors' (1.sysml line : 15 column : 25)\n",
      "ERROR:no viable alternative at input '.' (1.sysml line : 15 column : 32)\n",
      "ERROR:no viable alternative at input 'uses' (1.sysml line : 16 column : 25)\n",
      "ERROR:no viable alternative at input 'controlUnit' (1.sysml line : 16 column : 30)\n",
      "ERROR:no viable alternative at input '.' (1.sysml line : 16 column : 41)\n",
      "ERROR:no viable alternative at input 'operate' (1.sysml line : 21 column : 15)\n",
      "ERROR:no viable alternative at input '(' (1.sysml line : 21 column : 22)\n",
      "ERROR:no viable alternative at input 'detect' (1.sysml line : 26 column : 15)\n",
      "ERROR:no viable alternative at input '(' (1.sysml line : 26 column : 21)\n",
      "ERROR:no viable alternative at input 'sendData' (1.sysml line : 32 column : 15)\n",
      "ERROR:no viable alternative at input '(' (1.sysml line : 32 column : 23)\n"
     ]
    },
    {
     "data": {
      "text/plain": []
     },
     "execution_count": 1,
     "metadata": {},
     "output_type": "execute_result"
    }
   ],
   "source": [
    "package UGVModel {\n",
    "  import Base::*; // Importing base libraries for common definitions\n",
    "\n",
    "  system unmannedGroundVehicle {\n",
    "    part mobility: MobilitySubsystem;\n",
    "    part sensors: SensorArray;\n",
    "    part controlUnit: ControlUnit;\n",
    "\n",
    "    // Defining the connections\n",
    "    connection powerConnection between mobility.powerInput, controlUnit.powerOutput;\n",
    "    connection dataConnection between sensors.dataOutput, controlUnit.dataInput;\n",
    "\n",
    "    // Operations\n",
    "    action navigate uses mobility.operate;\n",
    "    action observe uses sensors.detect;\n",
    "    action transmitData uses controlUnit.sendData;\n",
    "  }\n",
    "\n",
    "  part def MobilitySubsystem {\n",
    "    attribute powerInput: PowerPort;\n",
    "    operation operate();\n",
    "  }\n",
    "\n",
    "  part def SensorArray {\n",
    "    port dataOutput: DataPort;\n",
    "    operation detect();\n",
    "  }\n",
    "\n",
    "  part def ControlUnit {\n",
    "    port powerOutput: PowerPort;\n",
    "    port dataInput: DataPort;\n",
    "    operation sendData();\n",
    "  }\n",
    "}\n"
   ]
  },
  {
   "cell_type": "code",
   "execution_count": null,
   "metadata": {},
   "outputs": [],
   "source": []
  }
 ],
 "metadata": {
  "kernelspec": {
   "display_name": "SysML",
   "language": "sysml",
   "name": "sysml"
  },
  "language_info": {
   "codemirror_mode": "sysml",
   "file_extension": ".sysml",
   "mimetype": "text/x-sysml",
   "name": "sysml",
   "pygments_lexer": "java",
   "version": "1.0.0"
  }
 },
 "nbformat": 4,
 "nbformat_minor": 2
}
