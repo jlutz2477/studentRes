{
 "cells": [
  {
   "cell_type": "markdown",
   "metadata": {},
   "source": [
    "Prompt to chatGPT with input knowledge:\n",
    "\n",
    "generate Sysml v2 code for a unmanned ground vehicle"
   ]
  },
  {
   "cell_type": "code",
   "execution_count": 1,
   "metadata": {},
   "outputs": [
    {
     "name": "stderr",
     "output_type": "stream",
     "text": [
      "ERROR:no viable alternative at input 'UnmannedGroundVehicle' (1.sysml line : 4 column : 11)\n",
      "ERROR:no viable alternative at input 'PowerSystem' (1.sysml line : 11 column : 11)\n",
      "ERROR:no viable alternative at input 'ControlSystem' (1.sysml line : 16 column : 11)\n",
      "ERROR:no viable alternative at input 'SensorArray' (1.sysml line : 21 column : 11)\n",
      "ERROR:no viable alternative at input 'LocomotionSystem' (1.sysml line : 26 column : 11)\n",
      "ERROR:no viable alternative at input 'command' (1.sysml line : 37 column : 9)\n",
      "ERROR:missing '}' at 'command' (1.sysml line : 37 column : 13)\n",
      "ERROR:no viable alternative at input 'data' (1.sysml line : 41 column : 9)\n",
      "ERROR:missing '}' at 'data' (1.sysml line : 41 column : 12)\n",
      "ERROR:missing EOF at '}' (1.sysml line : 42 column : 5)\n"
     ]
    },
    {
     "data": {
      "text/plain": []
     },
     "execution_count": 1,
     "metadata": {},
     "output_type": "execute_result"
    }
   ],
   "source": [
    "package UGVSystem {\n",
    "    import base::*;  // Assume 'base' contains all the basic types and utility libraries required\n",
    "\n",
    "    block UnmannedGroundVehicle {\n",
    "        part powerSystem: PowerSystem;\n",
    "        part controlSystem: ControlSystem;\n",
    "        part sensorArray: SensorArray;\n",
    "        part locomotionSystem: LocomotionSystem;\n",
    "    }\n",
    "\n",
    "    block PowerSystem {\n",
    "        attribute batteryCapacity: Real;\n",
    "        attribute voltageOutput: Real;\n",
    "    }\n",
    "\n",
    "    block ControlSystem {\n",
    "        port commandInput: CommandPort;\n",
    "        port dataOutput: DataPort;\n",
    "    }\n",
    "\n",
    "    block SensorArray {\n",
    "        port sensorOutput: DataPort;\n",
    "        item sensors: Sensor[*];\n",
    "    }\n",
    "\n",
    "    block LocomotionSystem {\n",
    "        attribute wheelCount: Integer;\n",
    "        port movementControl: CommandPort;\n",
    "    }\n",
    "\n",
    "    item Sensor {\n",
    "        attribute sensorType: String;\n",
    "        attribute range: Real;\n",
    "    }\n",
    "\n",
    "    interface CommandPort {\n",
    "        out command: String;\n",
    "    }\n",
    "\n",
    "    interface DataPort {\n",
    "        in data: String;\n",
    "    }\n",
    "\n",
    "    connection ControlToLocomotion {\n",
    "        bind controlSystem.commandInput -> locomotionSystem.movementControl;\n",
    "    }\n",
    "\n",
    "    connection SensorsToControl {\n",
    "        bind sensorArray.sensorOutput -> controlSystem.dataOutput;\n",
    "    }\n",
    "\n",
    "    diagram UGVBlockDiagram {\n",
    "        block UnmannedGroundVehicle;\n",
    "        block PowerSystem;\n",
    "        block ControlSystem;\n",
    "        block SensorArray;\n",
    "        block LocomotionSystem;\n",
    "        item Sensor;\n",
    "        connection ControlToLocomotion;\n",
    "        connection SensorsToControl;\n",
    "    }\n",
    "}\n"
   ]
  },
  {
   "cell_type": "markdown",
   "metadata": {
    "vscode": {
     "languageId": "sysml"
    }
   },
   "source": [
    "Score by chatRubric: 63/100"
   ]
  },
  {
   "cell_type": "markdown",
   "metadata": {},
   "source": [
    "Prompt: \n",
    "\n",
    "Generate Sysml v2 block diagram for a toyota camry"
   ]
  },
  {
   "cell_type": "code",
   "execution_count": 2,
   "metadata": {},
   "outputs": [
    {
     "name": "stderr",
     "output_type": "stream",
     "text": [
      "ERROR:no viable alternative at input 'ToyotaCamry' (2.sysml line : 4 column : 11)\n",
      "ERROR:no viable alternative at input 'Engine' (2.sysml line : 12 column : 11)\n",
      "ERROR:no viable alternative at input 'Transmission' (2.sysml line : 17 column : 11)\n",
      "ERROR:no viable alternative at input 'Suspension' (2.sysml line : 22 column : 11)\n",
      "ERROR:no viable alternative at input 'ElectricalSystem' (2.sysml line : 26 column : 11)\n",
      "ERROR:no viable alternative at input 'Interior' (2.sysml line : 31 column : 11)\n",
      "ERROR:no viable alternative at input 'Battery' (2.sysml line : 36 column : 11)\n",
      "ERROR:no viable alternative at input 'Lighting' (2.sysml line : 40 column : 11)\n",
      "ERROR:no viable alternative at input 'EntertainmentSystem' (2.sysml line : 44 column : 11)\n",
      "ERROR:no viable alternative at input 'AirConditioning' (2.sysml line : 49 column : 11)\n",
      "ERROR:no viable alternative at input 'ToyotaCamryBlockDiagram' (2.sysml line : 53 column : 13)\n",
      "ERROR:no viable alternative at input 'ToyotaCamry' (2.sysml line : 54 column : 15)\n",
      "ERROR:no viable alternative at input 'Engine' (2.sysml line : 55 column : 15)\n",
      "ERROR:no viable alternative at input 'Transmission' (2.sysml line : 56 column : 15)\n",
      "ERROR:no viable alternative at input 'Suspension' (2.sysml line : 57 column : 15)\n",
      "ERROR:no viable alternative at input 'ElectricalSystem' (2.sysml line : 58 column : 15)\n",
      "ERROR:no viable alternative at input 'Interior' (2.sysml line : 59 column : 15)\n",
      "ERROR:no viable alternative at input 'Battery' (2.sysml line : 60 column : 15)\n",
      "ERROR:no viable alternative at input 'Lighting' (2.sysml line : 61 column : 15)\n",
      "ERROR:no viable alternative at input 'EntertainmentSystem' (2.sysml line : 62 column : 15)\n",
      "ERROR:no viable alternative at input 'AirConditioning' (2.sysml line : 63 column : 15)\n"
     ]
    },
    {
     "data": {
      "text/plain": []
     },
     "execution_count": 2,
     "metadata": {},
     "output_type": "execute_result"
    }
   ],
   "source": [
    "package ToyotaCamryModel {\n",
    "    import base::*; // Assuming 'base' contains fundamental types and utility libraries\n",
    "\n",
    "    block ToyotaCamry {\n",
    "        part engine: Engine;\n",
    "        part transmission: Transmission;\n",
    "        part suspension: Suspension;\n",
    "        part electricalSystem: ElectricalSystem;\n",
    "        part interior: Interior;\n",
    "    }\n",
    "\n",
    "    block Engine {\n",
    "        attribute engineType: String;\n",
    "        attribute horsepower: Integer;\n",
    "    }\n",
    "\n",
    "    block Transmission {\n",
    "        attribute type: String; // e.g., Automatic, Manual\n",
    "        attribute gears: Integer;\n",
    "    }\n",
    "\n",
    "    block Suspension {\n",
    "        attribute suspensionType: String; // e.g., Standard, Sport\n",
    "    }\n",
    "\n",
    "    block ElectricalSystem {\n",
    "        part battery: Battery;\n",
    "        part lighting: Lighting;\n",
    "    }\n",
    "\n",
    "    block Interior {\n",
    "        part entertainmentSystem: EntertainmentSystem;\n",
    "        part airConditioning: AirConditioning;\n",
    "    }\n",
    "\n",
    "    block Battery {\n",
    "        attribute capacity: Real; // in kWh or Ah\n",
    "    }\n",
    "\n",
    "    block Lighting {\n",
    "        attribute headlamps: String; // e.g., LED, Halogen\n",
    "    }\n",
    "\n",
    "    block EntertainmentSystem {\n",
    "        attribute screenType: String; // e.g., Touchscreen, Standard\n",
    "        attribute soundSystemType: String; // e.g., Premium, Standard\n",
    "    }\n",
    "\n",
    "    block AirConditioning {\n",
    "        attribute climateControlType: String; // e.g., Automatic, Manual\n",
    "    }\n",
    "\n",
    "    diagram ToyotaCamryBlockDiagram {\n",
    "        block ToyotaCamry;\n",
    "        block Engine;\n",
    "        block Transmission;\n",
    "        block Suspension;\n",
    "        block ElectricalSystem;\n",
    "        block Interior;\n",
    "        block Battery;\n",
    "        block Lighting;\n",
    "        block EntertainmentSystem;\n",
    "        block AirConditioning;\n",
    "    }\n",
    "}\n"
   ]
  },
  {
   "cell_type": "markdown",
   "metadata": {
    "vscode": {
     "languageId": "sysml"
    }
   },
   "source": [
    "Score by chatRubric: 50/100"
   ]
  },
  {
   "cell_type": "markdown",
   "metadata": {},
   "source": [
    "Prompt:\n",
    "\n",
    "Generate Sysml v2 block diagram for an 18 wheeler truck\n"
   ]
  },
  {
   "cell_type": "code",
   "execution_count": 3,
   "metadata": {},
   "outputs": [
    {
     "name": "stderr",
     "output_type": "stream",
     "text": [
      "ERROR:no viable alternative at input 'EighteenWheeler' (3.sysml line : 4 column : 11)\n",
      "ERROR:no viable alternative at input 'DieselEngine' (3.sysml line : 14 column : 11)\n",
      "ERROR:no viable alternative at input 'TransmissionSystem' (3.sysml line : 20 column : 11)\n",
      "ERROR:no viable alternative at input 'Chassis' (3.sysml line : 25 column : 11)\n",
      "ERROR:no viable alternative at input 'Cab' (3.sysml line : 30 column : 11)\n",
      "ERROR:no viable alternative at input 'Trailer' (3.sysml line : 35 column : 11)\n",
      "ERROR:no viable alternative at input 'ElectricalSystem' (3.sysml line : 40 column : 11)\n",
      "ERROR:no viable alternative at input 'Lighting' (3.sysml line : 45 column : 11)\n",
      "ERROR:no viable alternative at input 'ElectronicControlUnit' (3.sysml line : 49 column : 11)\n",
      "ERROR:no viable alternative at input 'BrakingSystem' (3.sysml line : 54 column : 11)\n",
      "ERROR:no viable alternative at input 'EighteenWheelerTruckDiagram' (3.sysml line : 59 column : 13)\n",
      "ERROR:no viable alternative at input 'EighteenWheeler' (3.sysml line : 60 column : 15)\n",
      "ERROR:no viable alternative at input 'DieselEngine' (3.sysml line : 61 column : 15)\n",
      "ERROR:no viable alternative at input 'TransmissionSystem' (3.sysml line : 62 column : 15)\n",
      "ERROR:no viable alternative at input 'Chassis' (3.sysml line : 63 column : 15)\n",
      "ERROR:no viable alternative at input 'Cab' (3.sysml line : 64 column : 15)\n",
      "ERROR:no viable alternative at input 'Trailer' (3.sysml line : 65 column : 15)\n",
      "ERROR:no viable alternative at input 'ElectricalSystem' (3.sysml line : 66 column : 15)\n",
      "ERROR:no viable alternative at input 'BrakingSystem' (3.sysml line : 67 column : 15)\n",
      "ERROR:no viable alternative at input 'Lighting' (3.sysml line : 68 column : 15)\n",
      "ERROR:no viable alternative at input 'ElectronicControlUnit' (3.sysml line : 69 column : 15)\n"
     ]
    },
    {
     "data": {
      "text/plain": []
     },
     "execution_count": 3,
     "metadata": {},
     "output_type": "execute_result"
    }
   ],
   "source": [
    "package EighteenWheelerTruck {\n",
    "    import base::*; // Assuming 'base' contains fundamental types and utility libraries\n",
    "\n",
    "    block EighteenWheeler {\n",
    "        part engine: DieselEngine;\n",
    "        part transmission: TransmissionSystem;\n",
    "        part chassis: Chassis;\n",
    "        part cab: Cab;\n",
    "        part trailer: Trailer;\n",
    "        part electricalSystem: ElectricalSystem;\n",
    "        part brakingSystem: BrakingSystem;\n",
    "    }\n",
    "\n",
    "    block DieselEngine {\n",
    "        attribute horsepower: Real;\n",
    "        attribute torque: Real;\n",
    "        attribute fuelType: String = \"Diesel\";\n",
    "    }\n",
    "\n",
    "    block TransmissionSystem {\n",
    "        attribute type: String; // e.g., Manual, Automatic\n",
    "        attribute gears: Integer;\n",
    "    }\n",
    "\n",
    "    block Chassis {\n",
    "        attribute material: String; // e.g., Steel, Aluminum\n",
    "        attribute axleCount: Integer = 5; // Typical for an 18-wheeler\n",
    "    }\n",
    "\n",
    "    block Cab {\n",
    "        attribute style: String; // e.g., Sleeper, Day Cab\n",
    "        attribute comfortFeatures: String[*]; // List of features like AC, heater, etc.\n",
    "    }\n",
    "\n",
    "    block Trailer {\n",
    "        attribute capacity: Real; // Maximum load capacity in tons\n",
    "        attribute length: Real; // Length in meters\n",
    "    }\n",
    "\n",
    "    block ElectricalSystem {\n",
    "        part lighting: Lighting;\n",
    "        part electronicControlUnit: ElectronicControlUnit;\n",
    "    }\n",
    "\n",
    "    block Lighting {\n",
    "        attribute type: String; // e.g., LED, Halogen\n",
    "    }\n",
    "\n",
    "    block ElectronicControlUnit {\n",
    "        attribute processorType: String;\n",
    "        attribute functions: String[*];\n",
    "    }\n",
    "\n",
    "    block BrakingSystem {\n",
    "        attribute type: String; // e.g., Air brakes, Hydraulic brakes\n",
    "        attribute absEnabled: Boolean = true; // Anti-lock Braking System enabled\n",
    "    }\n",
    "\n",
    "    diagram EighteenWheelerTruckDiagram {\n",
    "        block EighteenWheeler;\n",
    "        block DieselEngine;\n",
    "        block TransmissionSystem;\n",
    "        block Chassis;\n",
    "        block Cab;\n",
    "        block Trailer;\n",
    "        block ElectricalSystem;\n",
    "        block BrakingSystem;\n",
    "        block Lighting;\n",
    "        block ElectronicControlUnit;\n",
    "    }\n",
    "}\n"
   ]
  },
  {
   "cell_type": "markdown",
   "metadata": {},
   "source": [
    "Score by chatRubirc: 58/100"
   ]
  },
  {
   "cell_type": "markdown",
   "metadata": {},
   "source": [
    "Prompt:\n",
    "\n",
    "Generate Sysml v2 block diagram for an unmanned aerial system"
   ]
  },
  {
   "cell_type": "code",
   "execution_count": 4,
   "metadata": {},
   "outputs": [
    {
     "name": "stderr",
     "output_type": "stream",
     "text": [
      "ERROR:no viable alternative at input 'UnmannedAerialSystem' (4.sysml line : 4 column : 11)\n",
      "ERROR:no viable alternative at input 'PropulsionSystem' (4.sysml line : 14 column : 11)\n",
      "ERROR:no viable alternative at input 'NavigationSystem' (4.sysml line : 19 column : 11)\n",
      "ERROR:no viable alternative at input 'CommunicationSystem' (4.sysml line : 23 column : 11)\n",
      "ERROR:no viable alternative at input 'Payload' (4.sysml line : 28 column : 11)\n",
      "ERROR:no viable alternative at input 'ControlSystem' (4.sysml line : 33 column : 11)\n",
      "ERROR:no viable alternative at input 'PowerManagement' (4.sysml line : 38 column : 11)\n",
      "ERROR:no viable alternative at input 'SafetyFeatures' (4.sysml line : 43 column : 11)\n",
      "ERROR:no viable alternative at input ']' (4.sysml line : 45 column : 45)\n",
      "ERROR:no viable alternative at input 'command' (4.sysml line : 49 column : 9)\n",
      "ERROR:missing '}' at 'command' (4.sysml line : 49 column : 13)\n",
      "ERROR:no viable alternative at input 'data' (4.sysml line : 53 column : 9)\n",
      "ERROR:missing '}' at 'data' (4.sysml line : 53 column : 12)\n",
      "ERROR:missing EOF at '}' (4.sysml line : 54 column : 5)\n"
     ]
    },
    {
     "data": {
      "text/plain": []
     },
     "execution_count": 4,
     "metadata": {},
     "output_type": "execute_result"
    }
   ],
   "source": [
    "package UASModel {\n",
    "    import base::*; // Assuming 'base' includes fundamental types and utility libraries\n",
    "\n",
    "    block UnmannedAerialSystem {\n",
    "        part propulsionSystem: PropulsionSystem;\n",
    "        part navigationSystem: NavigationSystem;\n",
    "        part communicationSystem: CommunicationSystem;\n",
    "        part payload: Payload;\n",
    "        part controlSystem: ControlSystem;\n",
    "        part powerManagement: PowerManagement;\n",
    "        part safetyFeatures: SafetyFeatures;\n",
    "    }\n",
    "\n",
    "    block PropulsionSystem {\n",
    "        attribute type: String; // e.g., Electric, Hybrid\n",
    "        attribute thrust: Real; // in Newtons\n",
    "    }\n",
    "\n",
    "    block NavigationSystem {\n",
    "        attribute technology: String; // e.g., GPS, INS\n",
    "    }\n",
    "\n",
    "    block CommunicationSystem {\n",
    "        attribute frequency: Real; // in MHz\n",
    "        attribute range: Real; // in km\n",
    "    }\n",
    "\n",
    "    block Payload {\n",
    "        attribute sensorType: String; // e.g., Camera, LiDAR\n",
    "        attribute specifications: String;\n",
    "    }\n",
    "\n",
    "    block ControlSystem {\n",
    "        port commandInput: CommandPort;\n",
    "        port statusOutput: DataPort;\n",
    "    }\n",
    "\n",
    "    block PowerManagement {\n",
    "        attribute batteryType: String; // e.g., Li-ion, NiMH\n",
    "        attribute capacity: Real; // in Ah\n",
    "    }\n",
    "\n",
    "    block SafetyFeatures {\n",
    "        attribute redundancyLevel: Integer; // e.g., Dual redundancy\n",
    "        attribute failSafeMechanisms: String[];\n",
    "    }\n",
    "\n",
    "    interface CommandPort {\n",
    "        out command: String;\n",
    "    }\n",
    "\n",
    "    interface DataPort {\n",
    "        in data: String;\n",
    "    }\n",
    "\n",
    "    diagram UnmannedAerialSystemDiagram {\n",
    "        block UnmannedAerialSystem;\n",
    "        block PropulsionSystem;\n",
    "        block NavigationSystem;\n",
    "        block CommunicationSystem;\n",
    "        block Payload;\n",
    "        block ControlSystem;\n",
    "        block PowerManagement;\n",
    "        block SafetyFeatures;\n",
    "    }\n",
    "}\n"
   ]
  },
  {
   "cell_type": "markdown",
   "metadata": {
    "vscode": {
     "languageId": "sysml"
    }
   },
   "source": [
    "Score by chatRubric: 54/100"
   ]
  },
  {
   "cell_type": "markdown",
   "metadata": {
    "vscode": {
     "languageId": "sysml"
    }
   },
   "source": [
    "Prompt:Actions\n",
    "\n",
    "Generate Sysml v2 block diagram for an electric bicycle"
   ]
  },
  {
   "cell_type": "code",
   "execution_count": 6,
   "metadata": {},
   "outputs": [
    {
     "name": "stderr",
     "output_type": "stream",
     "text": [
      "ERROR:no viable alternative at input 'ElectricBicycle' (6.sysml line : 4 column : 11)\n",
      "ERROR:no viable alternative at input 'frame' (6.sysml line : 5 column : 9)\n",
      "ERROR:no viable alternative at input 'BicycleFrame' (6.sysml line : 12 column : 11)\n",
      "ERROR:no viable alternative at input 'ElectricDriveSystem' (6.sysml line : 17 column : 11)\n",
      "ERROR:no viable alternative at input 'BatteryPack' (6.sysml line : 24 column : 11)\n",
      "ERROR:no viable alternative at input 'UserInterface' (6.sysml line : 30 column : 11)\n",
      "ERROR:no viable alternative at input 'MechanicalSystem' (6.sysml line : 36 column : 11)\n",
      "ERROR:no viable alternative at input 'power' (6.sysml line : 42 column : 9)\n",
      "ERROR:missing '}' at 'power' (6.sysml line : 42 column : 13)\n",
      "ERROR:no viable alternative at input 'command' (6.sysml line : 47 column : 9)\n",
      "ERROR:missing '}' at 'command' (6.sysml line : 47 column : 13)\n",
      "ERROR:missing EOF at '}' (6.sysml line : 49 column : 5)\n"
     ]
    },
    {
     "data": {
      "text/plain": []
     },
     "execution_count": 6,
     "metadata": {},
     "output_type": "execute_result"
    }
   ],
   "source": [
    "package ElectricBicycleModel {\n",
    "    import base::*; // Assuming 'base' includes fundamental types and utility libraries\n",
    "\n",
    "    block ElectricBicycle {\n",
    "        part frame: BicycleFrame;\n",
    "        part driveSystem: ElectricDriveSystem;\n",
    "        part batteryPack: BatteryPack;\n",
    "        part userInterface: UserInterface;\n",
    "        part mechanicalSystem: MechanicalSystem;\n",
    "    }\n",
    "\n",
    "    block BicycleFrame {\n",
    "        attribute material: String; // e.g., Aluminum, Carbon Fiber\n",
    "        attribute frameType: String; // e.g., Step-Through, Standard\n",
    "    }\n",
    "\n",
    "    block ElectricDriveSystem {\n",
    "        attribute motorType: String; // e.g., Hub, Mid-Drive\n",
    "        attribute powerOutput: Real; // in Watts\n",
    "        port powerInput: PowerPort;\n",
    "        port controlInput: ControlPort;\n",
    "    }\n",
    "\n",
    "    block BatteryPack {\n",
    "        attribute capacity: Real; // in Watt-hours\n",
    "        attribute voltage: Real; // in Volts\n",
    "        port powerOutput: PowerPort;\n",
    "    }\n",
    "\n",
    "    block UserInterface {\n",
    "        attribute displayType: String; // e.g., LED, LCD\n",
    "        attribute inputType: String; // e.g., Buttons, Touchscreen\n",
    "        port controlOutput: ControlPort;\n",
    "    }\n",
    "\n",
    "    block MechanicalSystem {\n",
    "        attribute brakeType: String; // e.g., Disc, Rim\n",
    "        attribute transmissionType: String; // e.g., Derailleur, Hub Gear\n",
    "    }\n",
    "\n",
    "    interface PowerPort {\n",
    "        out power: Real;\n",
    "        in power: Real;\n",
    "    }\n",
    "\n",
    "    interface ControlPort {\n",
    "        out command: String;\n",
    "        in status: String;\n",
    "    }\n",
    "\n",
    "    diagram ElectricBicycleDiagram {\n",
    "        block ElectricBicycle;\n",
    "        block BicycleFrame;\n",
    "        block ElectricDriveSystem;\n",
    "        block BatteryPack;\n",
    "        block UserInterface;\n",
    "        block MechanicalSystem;\n",
    "    }\n",
    "}\n"
   ]
  },
  {
   "cell_type": "markdown",
   "metadata": {},
   "source": [
    "Score by chatRubric: 55/100"
   ]
  },
  {
   "cell_type": "markdown",
   "metadata": {},
   "source": []
  },
  {
   "cell_type": "code",
   "execution_count": null,
   "metadata": {},
   "outputs": [],
   "source": []
  }
 ],
 "metadata": {
  "kernelspec": {
   "display_name": "SysML",
   "language": "sysml",
   "name": "sysml"
  },
  "language_info": {
   "codemirror_mode": "sysml",
   "file_extension": ".sysml",
   "mimetype": "text/x-sysml",
   "name": "sysml",
   "pygments_lexer": "java",
   "version": "1.0.0"
  }
 },
 "nbformat": 4,
 "nbformat_minor": 2
}
