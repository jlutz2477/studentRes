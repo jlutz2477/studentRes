{
 "cells": [
  {
   "cell_type": "markdown",
   "id": "afb052d2",
   "metadata": {},
   "source": [
    "# Car Example"
   ]
  },
  {
   "cell_type": "code",
   "execution_count": 1,
   "id": "9c44ae26",
   "metadata": {},
   "outputs": [
    {
     "name": "stderr",
     "output_type": "stream",
     "text": [
      "ERROR:no viable alternative at input 'CarPart' (1.sysml line : 5 column : 8)\n",
      "ERROR:no viable alternative at input 'specializes' (1.sysml line : 5 column : 16)\n",
      "ERROR:no viable alternative at input 'serialNumber' (1.sysml line : 6 column : 11)\n",
      "ERROR:no viable alternative at input 'm' (1.sysml line : 7 column : 11)\n",
      "ERROR:no viable alternative at input 'subparts' (1.sysml line : 9 column : 11)\n",
      "ERROR:no viable alternative at input 'feature' (1.sysml line : 12 column : 12)\n",
      "ERROR:no viable alternative at input 'carParts' (1.sysml line : 12 column : 20)\n",
      "ERROR:no viable alternative at input 'vehicle' (1.sysml line : 14 column : 10)\n",
      "ERROR:no viable alternative at input 'vin' (1.sysml line : 15 column : 11)\n",
      "ERROR:no viable alternative at input 'feature' (1.sysml line : 21 column : 12)\n",
      "ERROR:no viable alternative at input 'engine' (1.sysml line : 21 column : 20)\n",
      "ERROR:no viable alternative at input 'feature' (1.sysml line : 25 column : 12)\n",
      "ERROR:no viable alternative at input 'transmission' (1.sysml line : 25 column : 20)\n",
      "ERROR:no viable alternative at input 'v' (1.sysml line : 32 column : 10)\n",
      "ERROR:no viable alternative at input 'm' (1.sysml line : 33 column : 11)\n",
      "ERROR:no viable alternative at input 'e' (1.sysml line : 38 column : 10)\n",
      "ERROR:no viable alternative at input 'm' (1.sysml line : 39 column : 11)\n",
      "ERROR:no viable alternative at input 't' (1.sysml line : 42 column : 10)\n",
      "ERROR:no viable alternative at input 'm' (1.sysml line : 43 column : 11)\n"
     ]
    },
    {
     "data": {
      "text/plain": []
     },
     "execution_count": 1,
     "metadata": {},
     "output_type": "execute_result"
    }
   ],
   "source": [
    "package Vehicles_3 {\n",
    "\timport ScalarValues::*;\n",
    "\timport MassRollup_2::*;\n",
    "\t\n",
    "\tclass CarPart specializes MassedThing {\t\t\t\n",
    "\t\tfeature serialNumber: String;\n",
    "\t\tfeature m redefines MassedThing::mass;\n",
    "\t\t\n",
    "\t\tfeature subparts redefines carParts;\t\n",
    "\t}\n",
    "\t\n",
    "\tcomposite feature carParts: CarPart[0..*] subsets massedThings;\n",
    "\t\n",
    "\tfeature vehicle subsets carParts {\t\n",
    "\t\tfeature vin redefines serialNumber;\n",
    "\t\t\n",
    "\t\tfeature redefines engine;\n",
    "\t\tfeature redefines transmission;\n",
    "\t}\n",
    "\t\n",
    "\tcomposite feature engine subsets carParts {\n",
    "\t\t//...\n",
    "\t}\n",
    "\t\n",
    "\tcomposite feature transmission subsets carParts {\n",
    "\t\t//...\n",
    "\t}\n",
    "\n",
    "\t// Example usage\n",
    "\t\n",
    "\timport SI::*;\n",
    "\tfeature v: vehicle {\n",
    "\t\tfeature m redefines CarPart::m = 1000;\n",
    "\t\tcomposite :>> engine = e;\n",
    "\t\tcomposite :>> transmission = t;\n",
    "\t}\n",
    "\t\n",
    "\tfeature e :> engine {\n",
    "\t\tfeature m redefines CarPart::m = 100;\n",
    "\t}\n",
    "\t\n",
    "\tfeature t :> transmission {\n",
    "\t\tfeature m redefines CarPart::m = 50;\n",
    "\t}\n",
    "\t\n",
    "\t// v.totalMass evaluates to 1150.0\n",
    "}"
   ]
  },
  {
   "cell_type": "code",
   "execution_count": null,
   "id": "024e1246",
   "metadata": {},
   "outputs": [],
   "source": []
  }
 ],
 "metadata": {
  "kernelspec": {
   "display_name": "SysML",
   "language": "sysml",
   "name": "sysml"
  },
  "language_info": {
   "codemirror_mode": "sysml",
   "file_extension": ".sysml",
   "mimetype": "text/x-sysml",
   "name": "SysML",
   "pygments_lexer": "java",
   "version": "1.0.0"
  }
 },
 "nbformat": 4,
 "nbformat_minor": 5
}
