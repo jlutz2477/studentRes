{
 "cells": [
  {
   "cell_type": "markdown",
   "id": "26b60b37",
   "metadata": {},
   "source": [
    "# ChatGPT Code Responses"
   ]
  },
  {
   "cell_type": "markdown",
   "id": "5fe8f9ce",
   "metadata": {},
   "source": [
    "## Initial response to: write sysml v2 code for a camera"
   ]
  },
  {
   "cell_type": "code",
   "execution_count": 2,
   "id": "a3f522e7",
   "metadata": {
    "vscode": {
     "languageId": "sysml"
    }
   },
   "outputs": [
    {
     "name": "stderr",
     "output_type": "stream",
     "text": [
      "ERROR:no viable alternative at input 'aperture' (2.sysml line : 4 column : 19)\n",
      "ERROR:no viable alternative at input 'aperture' (2.sysml line : 5 column : 7)\n",
      "ERROR:no viable alternative at input 'focalLength' (2.sysml line : 5 column : 17)\n",
      "ERROR:no viable alternative at input 'focalLength' (2.sysml line : 6 column : 7)\n",
      "ERROR:no viable alternative at input '}' (2.sysml line : 6 column : 20)\n",
      "ERROR:no viable alternative at input '}' (2.sysml line : 7 column : 5)\n",
      "ERROR:no viable alternative at input 'Camera' (2.sysml line : 10 column : 9)\n",
      "ERROR:no viable alternative at input 'lens' (2.sysml line : 12 column : 15)\n",
      "ERROR:no viable alternative at input 'lens' (2.sysml line : 13 column : 7)\n",
      "ERROR:no viable alternative at input '}' (2.sysml line : 13 column : 13)\n",
      "ERROR:no viable alternative at input '}' (2.sysml line : 14 column : 5)\n",
      "ERROR:no viable alternative at input '(' (2.sysml line : 16 column : 25)\n",
      "ERROR:no viable alternative at input 'sensor' (2.sysml line : 16 column : 26)\n",
      "ERROR:no viable alternative at input '.' (2.sysml line : 16 column : 32)\n",
      "ERROR:no viable alternative at input ',' (2.sysml line : 16 column : 39)\n",
      "ERROR:no viable alternative at input '.' (2.sysml line : 16 column : 45)\n",
      "ERROR:no viable alternative at input ')' (2.sysml line : 16 column : 51)\n",
      "ERROR:no viable alternative at input 'Sensor' (2.sysml line : 20 column : 9)\n",
      "ERROR:no viable alternative at input '}' (2.sysml line : 22 column : 15)\n",
      "ERROR:no viable alternative at input '}' (2.sysml line : 23 column : 5)\n",
      "ERROR:no viable alternative at input 'Lens' (2.sysml line : 26 column : 9)\n",
      "ERROR:no viable alternative at input '}' (2.sysml line : 28 column : 14)\n",
      "ERROR:no viable alternative at input '}' (2.sysml line : 29 column : 5)\n",
      "ERROR:no viable alternative at input 'Resolution' (2.sysml line : 32 column : 8)\n",
      "ERROR:no viable alternative at input 'height' (2.sysml line : 33 column : 12)\n",
      "ERROR:no viable alternative at input 'height' (2.sysml line : 34 column : 5)\n",
      "ERROR:no viable alternative at input '}' (2.sysml line : 34 column : 13)\n",
      "ERROR:no viable alternative at input '}' (2.sysml line : 35 column : 3)\n",
      "ERROR:no viable alternative at input 'target' (2.sysml line : 38 column : 13)\n",
      "ERROR:no viable alternative at input 'target' (2.sysml line : 39 column : 5)\n",
      "ERROR:no viable alternative at input '}' (2.sysml line : 39 column : 13)\n",
      "ERROR:no viable alternative at input '}' (2.sysml line : 40 column : 3)\n",
      "ERROR:missing '}' at 'properties' (2.sysml line : 43 column : 5)\n",
      "ERROR:no viable alternative at input '}' (2.sysml line : 44 column : 19)\n",
      "ERROR:no viable alternative at input '}' (2.sysml line : 45 column : 5)\n",
      "ERROR:missing '}' at 'properties' (2.sysml line : 49 column : 5)\n",
      "ERROR:no viable alternative at input '}' (2.sysml line : 50 column : 19)\n",
      "ERROR:no viable alternative at input '}' (2.sysml line : 51 column : 5)\n",
      "ERROR:mismatched input '<EOF>' expecting '}' (2.sysml line : 53 column : 2)\n"
     ]
    },
    {
     "data": {
      "text/plain": []
     },
     "execution_count": 2,
     "metadata": {},
     "output_type": "execute_result"
    }
   ],
   "source": [
    "package CameraSystem {\n",
    "  part camera: Camera {\n",
    "    properties {\n",
    "      resolution: Resolution\n",
    "      aperture: Real\n",
    "      focalLength: Real\n",
    "    }\n",
    "  }\n",
    "\n",
    "  block Camera {\n",
    "    ports {\n",
    "      sensor: Sensor\n",
    "      lens: Lens\n",
    "    }\n",
    "    flows {\n",
    "      dataFlow: DataFlow(sensor.output, lens.input)\n",
    "    }\n",
    "  }\n",
    "\n",
    "  block Sensor {\n",
    "    ports {\n",
    "      output: OutputPort\n",
    "    }\n",
    "  }\n",
    "\n",
    "  block Lens {\n",
    "    ports {\n",
    "      input: InputPort\n",
    "    }\n",
    "  }\n",
    "\n",
    "  data Resolution {\n",
    "    width: Integer\n",
    "    height: Integer\n",
    "  }\n",
    "\n",
    "  flow DataFlow {\n",
    "    source: OutputPort\n",
    "    target: InputPort\n",
    "  }\n",
    "\n",
    "  interface OutputPort {\n",
    "    properties {\n",
    "      dataFormat: String\n",
    "    }\n",
    "  }\n",
    "\n",
    "  interface InputPort {\n",
    "    properties {\n",
    "      dataFormat: String\n",
    "    }\n",
    "  }\n",
    "}\n"
   ]
  },
  {
   "cell_type": "markdown",
   "id": "a7af18e7",
   "metadata": {},
   "source": [
    "## With only human Revision"
   ]
  },
  {
   "cell_type": "code",
   "execution_count": 1,
   "id": "bc05ff06",
   "metadata": {
    "vscode": {
     "languageId": "sysml"
    }
   },
   "outputs": [
    {
     "name": "stdout",
     "output_type": "stream",
     "text": [
      "WARNING:Duplicate of inherited member name (1.sysml line : 27 column : 19)\n",
      "WARNING:Duplicate of inherited member name (1.sysml line : 28 column : 19)\n"
     ]
    },
    {
     "data": {
      "text/plain": [
       "Package CameraSystem (760abe55-35f2-4a7b-8a7a-7c7661b6a6a8)\n"
      ]
     },
     "execution_count": 1,
     "metadata": {},
     "output_type": "execute_result"
    }
   ],
   "source": [
    "package CameraSystem {\n",
    "  part def camera{\n",
    "      attribute def resolution;\n",
    "      attribute def aperture;\n",
    "      attribute def focalLength;\n",
    "  }\n",
    "\n",
    "  port def lens {\n",
    "      out item sensor: Sensor;\n",
    "      in item lens: Lens;\n",
    "  }\n",
    "\n",
    "  part def Sensor {\n",
    "    item def output;\n",
    "  }\n",
    "\n",
    "  port def Lens {\n",
    "    item def Input;\n",
    "  }\n",
    "\n",
    "  part def 'data Resolution' {\n",
    "    attribute def width;\n",
    "    attribute def height;\n",
    "  }\n",
    "\n",
    "  flow DataFlow {\n",
    "    attribute def source;\n",
    "    attribute def target;\n",
    "  }\n",
    "}\n"
   ]
  },
  {
   "cell_type": "code",
   "execution_count": 2,
   "id": "758a8680",
   "metadata": {
    "vscode": {
     "languageId": "sysml"
    }
   },
   "outputs": [
    {
     "data": {
      "image/svg+xml": [
       "<?xml version=\"1.0\" encoding=\"UTF-8\" standalone=\"no\"?><svg xmlns=\"http://www.w3.org/2000/svg\" xmlns:xlink=\"http://www.w3.org/1999/xlink\" contentStyleType=\"text/css\" height=\"449px\" preserveAspectRatio=\"none\" style=\"width:885px;height:449px;background:#FFFFFF;\" version=\"1.1\" viewBox=\"0 0 885 449\" width=\"885px\" zoomAndPan=\"magnify\"><defs/><g><!--MD5=[fbc87193dbaf4d95561dea2c320d4a47]\n",
       "cluster E1--><g id=\"cluster_E1\"><a href=\"psysml:760abe55-35f2-4a7b-8a7a-7c7661b6a6a8\" target=\"_top\" title=\"psysml:760abe55-35f2-4a7b-8a7a-7c7661b6a6a8\" xlink:actuate=\"onRequest\" xlink:href=\"psysml:760abe55-35f2-4a7b-8a7a-7c7661b6a6a8\" xlink:show=\"new\" xlink:title=\"psysml:760abe55-35f2-4a7b-8a7a-7c7661b6a6a8\" xlink:type=\"simple\"><polygon fill=\"none\" points=\"16,6,125,6,132,29.6094,868,29.6094,868,442,16,442,16,6\" style=\"stroke:#000000;stroke-width:1.5;\"/><line style=\"stroke:#000000;stroke-width:1.5;\" x1=\"16\" x2=\"132\" y1=\"29.6094\" y2=\"29.6094\"/><text fill=\"#000000\" font-family=\"sans-serif\" font-size=\"14\" font-weight=\"bold\" lengthAdjust=\"spacing\" textLength=\"103\" x=\"20\" y=\"22.5332\">CameraSystem</text></a></g><!--MD5=[b4997ac47864f28c2f74865a473b2911]\n",
       "class E2--><a href=\"psysml:b8d3a1b9-7b49-4511-b443-1658642740e7\" target=\"_top\" title=\"psysml:b8d3a1b9-7b49-4511-b443-1658642740e7\" xlink:actuate=\"onRequest\" xlink:href=\"psysml:b8d3a1b9-7b49-4511-b443-1658642740e7\" xlink:show=\"new\" xlink:title=\"psysml:b8d3a1b9-7b49-4511-b443-1658642740e7\" xlink:type=\"simple\"><g id=\"elem_E2\"><rect fill=\"#FFFFFF\" height=\"50.7031\" id=\"E2\" style=\"stroke:#181818;stroke-width:0.5;\" width=\"60\" x=\"661\" y=\"42\"/><text fill=\"#000000\" font-family=\"sans-serif\" font-size=\"12\" font-style=\"italic\" lengthAdjust=\"spacing\" textLength=\"58\" x=\"662\" y=\"59.457\">«part  def»</text><text fill=\"#000000\" font-family=\"sans-serif\" font-size=\"14\" lengthAdjust=\"spacing\" textLength=\"47\" x=\"667.5\" y=\"76.627\">camera</text><line style=\"stroke:#181818;stroke-width:0.5;\" x1=\"662\" x2=\"720\" y1=\"84.7031\" y2=\"84.7031\"/></g></a><!--MD5=[09b614a08d8cba4a07c9adeb5e0fee81]\n",
       "class E3--><a href=\"psysml:4bd561a8-fd76-492d-97f4-1b2fc9889dcd\" target=\"_top\" title=\"psysml:4bd561a8-fd76-492d-97f4-1b2fc9889dcd\" xlink:actuate=\"onRequest\" xlink:href=\"psysml:4bd561a8-fd76-492d-97f4-1b2fc9889dcd\" xlink:show=\"new\" xlink:title=\"psysml:4bd561a8-fd76-492d-97f4-1b2fc9889dcd\" xlink:type=\"simple\"><g id=\"elem_E3\"><rect fill=\"#FFFFFF\" height=\"50.7031\" id=\"E3\" style=\"stroke:#181818;stroke-width:0.5;\" width=\"84\" x=\"530\" y=\"153\"/><text fill=\"#000000\" font-family=\"sans-serif\" font-size=\"12\" font-style=\"italic\" lengthAdjust=\"spacing\" textLength=\"82\" x=\"531\" y=\"170.457\">«attribute  def»</text><text fill=\"#000000\" font-family=\"sans-serif\" font-size=\"14\" lengthAdjust=\"spacing\" textLength=\"62\" x=\"541\" y=\"187.627\">resolution</text><line style=\"stroke:#181818;stroke-width:0.5;\" x1=\"531\" x2=\"613\" y1=\"195.7031\" y2=\"195.7031\"/></g></a><!--MD5=[ebbe1d658d1005bcc118a6aa81145e00]\n",
       "class E4--><a href=\"psysml:4664ac87-0fa1-4716-99c5-b021bbb3ddda\" target=\"_top\" title=\"psysml:4664ac87-0fa1-4716-99c5-b021bbb3ddda\" xlink:actuate=\"onRequest\" xlink:href=\"psysml:4664ac87-0fa1-4716-99c5-b021bbb3ddda\" xlink:show=\"new\" xlink:title=\"psysml:4664ac87-0fa1-4716-99c5-b021bbb3ddda\" xlink:type=\"simple\"><g id=\"elem_E4\"><rect fill=\"#FFFFFF\" height=\"50.7031\" id=\"E4\" style=\"stroke:#181818;stroke-width:0.5;\" width=\"84\" x=\"649\" y=\"153\"/><text fill=\"#000000\" font-family=\"sans-serif\" font-size=\"12\" font-style=\"italic\" lengthAdjust=\"spacing\" textLength=\"82\" x=\"650\" y=\"170.457\">«attribute  def»</text><text fill=\"#000000\" font-family=\"sans-serif\" font-size=\"14\" lengthAdjust=\"spacing\" textLength=\"54\" x=\"664\" y=\"187.627\">aperture</text><line style=\"stroke:#181818;stroke-width:0.5;\" x1=\"650\" x2=\"732\" y1=\"195.7031\" y2=\"195.7031\"/></g></a><!--MD5=[270fce915f116d4de14055a7c1d9a0f3]\n",
       "class E5--><a href=\"psysml:2201db3c-a0c3-4dee-a09a-072c035097b9\" target=\"_top\" title=\"psysml:2201db3c-a0c3-4dee-a09a-072c035097b9\" xlink:actuate=\"onRequest\" xlink:href=\"psysml:2201db3c-a0c3-4dee-a09a-072c035097b9\" xlink:show=\"new\" xlink:title=\"psysml:2201db3c-a0c3-4dee-a09a-072c035097b9\" xlink:type=\"simple\"><g id=\"elem_E5\"><rect fill=\"#FFFFFF\" height=\"50.7031\" id=\"E5\" style=\"stroke:#181818;stroke-width:0.5;\" width=\"84\" x=\"768\" y=\"153\"/><text fill=\"#000000\" font-family=\"sans-serif\" font-size=\"12\" font-style=\"italic\" lengthAdjust=\"spacing\" textLength=\"82\" x=\"769\" y=\"170.457\">«attribute  def»</text><text fill=\"#000000\" font-family=\"sans-serif\" font-size=\"14\" lengthAdjust=\"spacing\" textLength=\"74\" x=\"773\" y=\"187.627\">focalLength</text><line style=\"stroke:#181818;stroke-width:0.5;\" x1=\"769\" x2=\"851\" y1=\"195.7031\" y2=\"195.7031\"/></g></a><!--MD5=[60a26617385b1d2d0262a64233df1f8d]\n",
       "class E6--><a href=\"psysml:e125890f-331c-4bf4-964d-d37c30c1f7c0\" target=\"_top\" title=\"psysml:e125890f-331c-4bf4-964d-d37c30c1f7c0\" xlink:actuate=\"onRequest\" xlink:href=\"psysml:e125890f-331c-4bf4-964d-d37c30c1f7c0\" xlink:show=\"new\" xlink:title=\"psysml:e125890f-331c-4bf4-964d-d37c30c1f7c0\" xlink:type=\"simple\"><g id=\"elem_E6\"><rect fill=\"#FFFFFF\" height=\"50.7031\" id=\"E6\" style=\"stroke:#181818;stroke-width:0.5;\" width=\"60\" x=\"360\" y=\"42\"/><text fill=\"#000000\" font-family=\"sans-serif\" font-size=\"12\" font-style=\"italic\" lengthAdjust=\"spacing\" textLength=\"58\" x=\"361\" y=\"59.457\">«port  def»</text><text fill=\"#000000\" font-family=\"sans-serif\" font-size=\"14\" lengthAdjust=\"spacing\" textLength=\"26\" x=\"377\" y=\"76.627\">lens</text><line style=\"stroke:#181818;stroke-width:0.5;\" x1=\"361\" x2=\"419\" y1=\"84.7031\" y2=\"84.7031\"/></g></a><!--MD5=[2156ba9850f5573cc1fc38a6a4b2f02b]\n",
       "class E7--><a href=\"psysml:a4d2b582-d5d6-4fbb-984c-020176c55e88\" target=\"_top\" title=\"psysml:a4d2b582-d5d6-4fbb-984c-020176c55e88\" xlink:actuate=\"onRequest\" xlink:href=\"psysml:a4d2b582-d5d6-4fbb-984c-020176c55e88\" xlink:show=\"new\" xlink:title=\"psysml:a4d2b582-d5d6-4fbb-984c-020176c55e88\" xlink:type=\"simple\"><g id=\"elem_E7\"><rect fill=\"#FFFFFF\" height=\"50.7031\" id=\"E7\" rx=\"10\" ry=\"10\" style=\"stroke:#181818;stroke-width:0.5;\" width=\"110\" x=\"270\" y=\"153\"/><text fill=\"#000000\" font-family=\"sans-serif\" font-size=\"12\" font-style=\"italic\" lengthAdjust=\"spacing\" textLength=\"38\" x=\"306\" y=\"170.457\">«item»</text><text fill=\"#000000\" font-family=\"sans-serif\" font-size=\"14\" lengthAdjust=\"spacing\" textLength=\"96\" x=\"273\" y=\"187.627\">sensor: Sensor</text><line style=\"stroke:#181818;stroke-width:0.5;\" x1=\"271\" x2=\"379\" y1=\"195.7031\" y2=\"195.7031\"/></g></a><!--MD5=[b9389687b975829384b498ac4b7476b2]\n",
       "class E8--><a href=\"psysml:a41a5267-d773-4242-8271-0880ab854e68\" target=\"_top\" title=\"psysml:a41a5267-d773-4242-8271-0880ab854e68\" xlink:actuate=\"onRequest\" xlink:href=\"psysml:a41a5267-d773-4242-8271-0880ab854e68\" xlink:show=\"new\" xlink:title=\"psysml:a41a5267-d773-4242-8271-0880ab854e68\" xlink:type=\"simple\"><g id=\"elem_E8\"><rect fill=\"#FFFFFF\" height=\"50.7031\" id=\"E8\" rx=\"10\" ry=\"10\" style=\"stroke:#181818;stroke-width:0.5;\" width=\"79\" x=\"415.5\" y=\"153\"/><text fill=\"#000000\" font-family=\"sans-serif\" font-size=\"12\" font-style=\"italic\" lengthAdjust=\"spacing\" textLength=\"38\" x=\"436\" y=\"170.457\">«item»</text><text fill=\"#000000\" font-family=\"sans-serif\" font-size=\"14\" lengthAdjust=\"spacing\" textLength=\"65\" x=\"418.5\" y=\"187.627\">lens: Lens</text><line style=\"stroke:#181818;stroke-width:0.5;\" x1=\"416.5\" x2=\"493.5\" y1=\"195.7031\" y2=\"195.7031\"/></g></a><!--MD5=[fd4143e9d270a159db93a4ea2a975926]\n",
       "class E9--><a href=\"psysml:609c2d2c-0018-4285-aa81-9d7c3c1945e9\" target=\"_top\" title=\"psysml:609c2d2c-0018-4285-aa81-9d7c3c1945e9\" xlink:actuate=\"onRequest\" xlink:href=\"psysml:609c2d2c-0018-4285-aa81-9d7c3c1945e9\" xlink:show=\"new\" xlink:title=\"psysml:609c2d2c-0018-4285-aa81-9d7c3c1945e9\" xlink:type=\"simple\"><g id=\"elem_E9\"><rect fill=\"#FFFFFF\" height=\"50.7031\" id=\"E9\" style=\"stroke:#181818;stroke-width:0.5;\" width=\"60\" x=\"295\" y=\"264\"/><text fill=\"#000000\" font-family=\"sans-serif\" font-size=\"12\" font-style=\"italic\" lengthAdjust=\"spacing\" textLength=\"58\" x=\"296\" y=\"281.457\">«part  def»</text><text fill=\"#000000\" font-family=\"sans-serif\" font-size=\"14\" lengthAdjust=\"spacing\" textLength=\"45\" x=\"302.5\" y=\"298.627\">Sensor</text><line style=\"stroke:#181818;stroke-width:0.5;\" x1=\"296\" x2=\"354\" y1=\"306.7031\" y2=\"306.7031\"/></g></a><!--MD5=[96f4274e9e20536e775497830990834d]\n",
       "class E10--><a href=\"psysml:f4f18c0c-eb14-4653-9a7a-483a7bc6916e\" target=\"_top\" title=\"psysml:f4f18c0c-eb14-4653-9a7a-483a7bc6916e\" xlink:actuate=\"onRequest\" xlink:href=\"psysml:f4f18c0c-eb14-4653-9a7a-483a7bc6916e\" xlink:show=\"new\" xlink:title=\"psysml:f4f18c0c-eb14-4653-9a7a-483a7bc6916e\" xlink:type=\"simple\"><g id=\"elem_E10\"><rect fill=\"#FFFFFF\" height=\"50.7031\" id=\"E10\" style=\"stroke:#181818;stroke-width:0.5;\" width=\"63\" x=\"293.5\" y=\"375\"/><text fill=\"#000000\" font-family=\"sans-serif\" font-size=\"12\" font-style=\"italic\" lengthAdjust=\"spacing\" textLength=\"61\" x=\"294.5\" y=\"392.457\">«item  def»</text><text fill=\"#000000\" font-family=\"sans-serif\" font-size=\"14\" lengthAdjust=\"spacing\" textLength=\"40\" x=\"305\" y=\"409.627\">output</text><line style=\"stroke:#181818;stroke-width:0.5;\" x1=\"294.5\" x2=\"355.5\" y1=\"417.7031\" y2=\"417.7031\"/></g></a><!--MD5=[1dd1bfd58a279cf63c5f349dbc8fc6a1]\n",
       "class E11--><a href=\"psysml:93c5a1b7-4ceb-4395-81c2-bf7cc9bd11b3\" target=\"_top\" title=\"psysml:93c5a1b7-4ceb-4395-81c2-bf7cc9bd11b3\" xlink:actuate=\"onRequest\" xlink:href=\"psysml:93c5a1b7-4ceb-4395-81c2-bf7cc9bd11b3\" xlink:show=\"new\" xlink:title=\"psysml:93c5a1b7-4ceb-4395-81c2-bf7cc9bd11b3\" xlink:type=\"simple\"><g id=\"elem_E11\"><rect fill=\"#FFFFFF\" height=\"50.7031\" id=\"E11\" style=\"stroke:#181818;stroke-width:0.5;\" width=\"60\" x=\"425\" y=\"264\"/><text fill=\"#000000\" font-family=\"sans-serif\" font-size=\"12\" font-style=\"italic\" lengthAdjust=\"spacing\" textLength=\"58\" x=\"426\" y=\"281.457\">«port  def»</text><text fill=\"#000000\" font-family=\"sans-serif\" font-size=\"14\" lengthAdjust=\"spacing\" textLength=\"31\" x=\"439.5\" y=\"298.627\">Lens</text><line style=\"stroke:#181818;stroke-width:0.5;\" x1=\"426\" x2=\"484\" y1=\"306.7031\" y2=\"306.7031\"/></g></a><!--MD5=[49a0ec8f00dab7302a31f22d0f0fe584]\n",
       "class E12--><a href=\"psysml:b8cc3bb8-052e-4168-b81e-da82d610f753\" target=\"_top\" title=\"psysml:b8cc3bb8-052e-4168-b81e-da82d610f753\" xlink:actuate=\"onRequest\" xlink:href=\"psysml:b8cc3bb8-052e-4168-b81e-da82d610f753\" xlink:show=\"new\" xlink:title=\"psysml:b8cc3bb8-052e-4168-b81e-da82d610f753\" xlink:type=\"simple\"><g id=\"elem_E12\"><rect fill=\"#FFFFFF\" height=\"50.7031\" id=\"E12\" style=\"stroke:#181818;stroke-width:0.5;\" width=\"63\" x=\"423.5\" y=\"375\"/><text fill=\"#000000\" font-family=\"sans-serif\" font-size=\"12\" font-style=\"italic\" lengthAdjust=\"spacing\" textLength=\"61\" x=\"424.5\" y=\"392.457\">«item  def»</text><text fill=\"#000000\" font-family=\"sans-serif\" font-size=\"14\" lengthAdjust=\"spacing\" textLength=\"31\" x=\"439.5\" y=\"409.627\">Input</text><line style=\"stroke:#181818;stroke-width:0.5;\" x1=\"424.5\" x2=\"485.5\" y1=\"417.7031\" y2=\"417.7031\"/></g></a><!--MD5=[ee3c913d1a06f366521f9ef512b67efe]\n",
       "class E13--><a href=\"psysml:7f587824-ce5e-4fcf-8b9c-aa6713d16ae8\" target=\"_top\" title=\"psysml:7f587824-ce5e-4fcf-8b9c-aa6713d16ae8\" xlink:actuate=\"onRequest\" xlink:href=\"psysml:7f587824-ce5e-4fcf-8b9c-aa6713d16ae8\" xlink:show=\"new\" xlink:title=\"psysml:7f587824-ce5e-4fcf-8b9c-aa6713d16ae8\" xlink:type=\"simple\"><g id=\"elem_E13\"><rect fill=\"#FFFFFF\" height=\"50.7031\" id=\"E13\" style=\"stroke:#181818;stroke-width:0.5;\" width=\"105\" x=\"86.5\" y=\"42\"/><text fill=\"#000000\" font-family=\"sans-serif\" font-size=\"12\" font-style=\"italic\" lengthAdjust=\"spacing\" textLength=\"58\" x=\"110\" y=\"59.457\">«part  def»</text><text fill=\"#000000\" font-family=\"sans-serif\" font-size=\"14\" lengthAdjust=\"spacing\" textLength=\"99\" x=\"89.5\" y=\"76.627\">data Resolution</text><line style=\"stroke:#181818;stroke-width:0.5;\" x1=\"87.5\" x2=\"190.5\" y1=\"84.7031\" y2=\"84.7031\"/></g></a><!--MD5=[bee11217b2f71d958a27249dc326068c]\n",
       "class E14--><a href=\"psysml:05323ee8-abf5-4477-846a-d9944b638cb3\" target=\"_top\" title=\"psysml:05323ee8-abf5-4477-846a-d9944b638cb3\" xlink:actuate=\"onRequest\" xlink:href=\"psysml:05323ee8-abf5-4477-846a-d9944b638cb3\" xlink:show=\"new\" xlink:title=\"psysml:05323ee8-abf5-4477-846a-d9944b638cb3\" xlink:type=\"simple\"><g id=\"elem_E14\"><rect fill=\"#FFFFFF\" height=\"50.7031\" id=\"E14\" style=\"stroke:#181818;stroke-width:0.5;\" width=\"84\" x=\"32\" y=\"153\"/><text fill=\"#000000\" font-family=\"sans-serif\" font-size=\"12\" font-style=\"italic\" lengthAdjust=\"spacing\" textLength=\"82\" x=\"33\" y=\"170.457\">«attribute  def»</text><text fill=\"#000000\" font-family=\"sans-serif\" font-size=\"14\" lengthAdjust=\"spacing\" textLength=\"32\" x=\"58\" y=\"187.627\">width</text><line style=\"stroke:#181818;stroke-width:0.5;\" x1=\"33\" x2=\"115\" y1=\"195.7031\" y2=\"195.7031\"/></g></a><!--MD5=[0c48fb7552dae8cbbef69381101a84c8]\n",
       "class E15--><a href=\"psysml:782869bf-578a-4865-91b2-da4a2c6f0960\" target=\"_top\" title=\"psysml:782869bf-578a-4865-91b2-da4a2c6f0960\" xlink:actuate=\"onRequest\" xlink:href=\"psysml:782869bf-578a-4865-91b2-da4a2c6f0960\" xlink:show=\"new\" xlink:title=\"psysml:782869bf-578a-4865-91b2-da4a2c6f0960\" xlink:type=\"simple\"><g id=\"elem_E15\"><rect fill=\"#FFFFFF\" height=\"50.7031\" id=\"E15\" style=\"stroke:#181818;stroke-width:0.5;\" width=\"84\" x=\"151\" y=\"153\"/><text fill=\"#000000\" font-family=\"sans-serif\" font-size=\"12\" font-style=\"italic\" lengthAdjust=\"spacing\" textLength=\"82\" x=\"152\" y=\"170.457\">«attribute  def»</text><text fill=\"#000000\" font-family=\"sans-serif\" font-size=\"14\" lengthAdjust=\"spacing\" textLength=\"39\" x=\"173.5\" y=\"187.627\">height</text><line style=\"stroke:#181818;stroke-width:0.5;\" x1=\"152\" x2=\"234\" y1=\"195.7031\" y2=\"195.7031\"/></g></a><!--MD5=[209b3feb70ccb6233bfe1053d122c12c]\n",
       "reverse link E2 to E3--><g id=\"link_E2_E3\"><a href=\"psysml:8f7d19f1-9cea-447e-8a24-643f670aea08\" target=\"_top\" title=\"psysml:8f7d19f1-9cea-447e-8a24-643f670aea08\" xlink:actuate=\"onRequest\" xlink:href=\"psysml:8f7d19f1-9cea-447e-8a24-643f670aea08\" xlink:show=\"new\" xlink:title=\"psysml:8f7d19f1-9cea-447e-8a24-643f670aea08\" xlink:type=\"simple\"><path d=\"M652.93,103.37 C635.33,119.49 614.85,138.25 598.9,152.86 \" fill=\"none\" id=\"E2-backto-E3\" style=\"stroke:#181818;stroke-width:1.0;\"/><ellipse cx=\"658.0974\" cy=\"98.6299\" fill=\"#FFFFFF\" rx=\"8\" ry=\"8\" style=\"stroke:#181818;stroke-width:1.0;\"/><line style=\"stroke:#181818;stroke-width:1.0;\" x1=\"652.1948\" x2=\"664\" y1=\"104.0299\" y2=\"93.23\"/><line style=\"stroke:#181818;stroke-width:1.0;\" x1=\"652.6975\" x2=\"663.4973\" y1=\"92.7273\" y2=\"104.5325\"/></a></g><!--MD5=[9618e71518536f8baf3342ff6fdab317]\n",
       "reverse link E2 to E4--><g id=\"link_E2_E4\"><a href=\"psysml:26084e11-379e-40c5-85e0-921728b0c06c\" target=\"_top\" title=\"psysml:26084e11-379e-40c5-85e0-921728b0c06c\" xlink:actuate=\"onRequest\" xlink:href=\"psysml:26084e11-379e-40c5-85e0-921728b0c06c\" xlink:show=\"new\" xlink:title=\"psysml:26084e11-379e-40c5-85e0-921728b0c06c\" xlink:type=\"simple\"><path d=\"M691,108.52 C691,123.37 691,139.78 691,152.86 \" fill=\"none\" id=\"E2-backto-E4\" style=\"stroke:#181818;stroke-width:1.0;\"/><ellipse cx=\"691\" cy=\"101.23\" fill=\"#FFFFFF\" rx=\"8\" ry=\"8\" style=\"stroke:#181818;stroke-width:1.0;\"/><line style=\"stroke:#181818;stroke-width:1.0;\" x1=\"691\" x2=\"691\" y1=\"109.23\" y2=\"93.23\"/><line style=\"stroke:#181818;stroke-width:1.0;\" x1=\"683\" x2=\"699\" y1=\"101.23\" y2=\"101.23\"/></a></g><!--MD5=[4e1a83fab71cdb913c109063314ae896]\n",
       "reverse link E2 to E5--><g id=\"link_E2_E5\"><a href=\"psysml:5c1a8b14-0c40-4d49-9390-3ce1e85232a2\" target=\"_top\" title=\"psysml:5c1a8b14-0c40-4d49-9390-3ce1e85232a2\" xlink:actuate=\"onRequest\" xlink:href=\"psysml:5c1a8b14-0c40-4d49-9390-3ce1e85232a2\" xlink:show=\"new\" xlink:title=\"psysml:5c1a8b14-0c40-4d49-9390-3ce1e85232a2\" xlink:type=\"simple\"><path d=\"M729.07,103.37 C746.67,119.49 767.15,138.25 783.1,152.86 \" fill=\"none\" id=\"E2-backto-E5\" style=\"stroke:#181818;stroke-width:1.0;\"/><ellipse cx=\"723.9026\" cy=\"98.6299\" fill=\"#FFFFFF\" rx=\"8\" ry=\"8\" style=\"stroke:#181818;stroke-width:1.0;\"/><line style=\"stroke:#181818;stroke-width:1.0;\" x1=\"729.8052\" x2=\"718\" y1=\"104.0299\" y2=\"93.23\"/><line style=\"stroke:#181818;stroke-width:1.0;\" x1=\"718.5027\" x2=\"729.3025\" y1=\"104.5325\" y2=\"92.7273\"/></a></g><!--MD5=[3f50a3473f1dfb74d3f76443e03635af]\n",
       "reverse link E6 to E7--><g id=\"link_E6_E7\"><a href=\"psysml:81d17b30-5b5e-4039-a7fb-61c7adb1b834\" target=\"_top\" title=\"psysml:81d17b30-5b5e-4039-a7fb-61c7adb1b834\" xlink:actuate=\"onRequest\" xlink:href=\"psysml:81d17b30-5b5e-4039-a7fb-61c7adb1b834\" xlink:show=\"new\" xlink:title=\"psysml:81d17b30-5b5e-4039-a7fb-61c7adb1b834\" xlink:type=\"simple\"><path d=\"M368.38,104.76 C358.96,120.56 348.16,138.67 339.69,152.86 \" fill=\"none\" id=\"E6-backto-E7\" style=\"stroke:#181818;stroke-width:1.0;\"/><polygon fill=\"none\" points=\"375.25,93.23,368.7424,96.3366,369.1071,103.5385,375.6147,100.4319,375.25,93.23\" style=\"stroke:#181818;stroke-width:1.0;\"/><text fill=\"#000000\" font-family=\"sans-serif\" font-size=\"13\" lengthAdjust=\"spacing\" textLength=\"7\" x=\"335.4176\" y=\"142.2344\">1</text></a></g><!--MD5=[f4cf0736d43fd73c4ef68817c49d37d5]\n",
       "reverse link E6 to E8--><g id=\"link_E6_E8\"><a href=\"psysml:3b2879c7-9190-4ade-b120-9fbdb9b16984\" target=\"_top\" title=\"psysml:3b2879c7-9190-4ade-b120-9fbdb9b16984\" xlink:actuate=\"onRequest\" xlink:href=\"psysml:3b2879c7-9190-4ade-b120-9fbdb9b16984\" xlink:show=\"new\" xlink:title=\"psysml:3b2879c7-9190-4ade-b120-9fbdb9b16984\" xlink:type=\"simple\"><path d=\"M411.62,104.76 C421.04,120.56 431.84,138.67 440.31,152.86 \" fill=\"none\" id=\"E6-backto-E8\" style=\"stroke:#181818;stroke-width:1.0;\"/><polygon fill=\"none\" points=\"404.75,93.23,404.3853,100.4319,410.8929,103.5385,411.2576,96.3366,404.75,93.23\" style=\"stroke:#181818;stroke-width:1.0;\"/><text fill=\"#000000\" font-family=\"sans-serif\" font-size=\"13\" lengthAdjust=\"spacing\" textLength=\"7\" x=\"428.8762\" y=\"142.2344\">1</text></a></g><!--MD5=[1c0b9414cc86e0744215edee6abd8926]\n",
       "link E7 to E9--><g id=\"link_E7_E9\"><a href=\"psysml:421f1a63-8c83-4e4d-b908-4865b706431a\" target=\"_top\" title=\"psysml:421f1a63-8c83-4e4d-b908-4865b706431a\" xlink:actuate=\"onRequest\" xlink:href=\"psysml:421f1a63-8c83-4e4d-b908-4865b706431a\" xlink:show=\"new\" xlink:title=\"psysml:421f1a63-8c83-4e4d-b908-4865b706431a\" xlink:type=\"simple\"><path d=\"M325,204.23 C325,215.94 325,230.29 325,243.81 \" fill=\"none\" id=\"E7-to-E9\" style=\"stroke:#181818;stroke-width:1.0;\"/><polygon fill=\"#FFFFFF\" points=\"325,263.86,318,244.86,332,244.86,325,263.86\" style=\"stroke:#181818;stroke-width:1.0;\"/><ellipse cx=\"320\" cy=\"239.16\" fill=\"#181818\" rx=\"2\" ry=\"2\" style=\"stroke:#181818;stroke-width:1.0;\"/><ellipse cx=\"330\" cy=\"239.16\" fill=\"#181818\" rx=\"2\" ry=\"2\" style=\"stroke:#181818;stroke-width:1.0;\"/></a></g><!--MD5=[23ac544a70576c3e717098101004234c]\n",
       "reverse link E9 to E10--><g id=\"link_E9_E10\"><a href=\"psysml:31897d7a-2335-4fc7-b691-abcc2385b708\" target=\"_top\" title=\"psysml:31897d7a-2335-4fc7-b691-abcc2385b708\" xlink:actuate=\"onRequest\" xlink:href=\"psysml:31897d7a-2335-4fc7-b691-abcc2385b708\" xlink:show=\"new\" xlink:title=\"psysml:31897d7a-2335-4fc7-b691-abcc2385b708\" xlink:type=\"simple\"><path d=\"M325,330.52 C325,345.37 325,361.78 325,374.86 \" fill=\"none\" id=\"E9-backto-E10\" style=\"stroke:#181818;stroke-width:1.0;\"/><ellipse cx=\"325\" cy=\"323.23\" fill=\"#FFFFFF\" rx=\"8\" ry=\"8\" style=\"stroke:#181818;stroke-width:1.0;\"/><line style=\"stroke:#181818;stroke-width:1.0;\" x1=\"325\" x2=\"325\" y1=\"331.23\" y2=\"315.23\"/><line style=\"stroke:#181818;stroke-width:1.0;\" x1=\"317\" x2=\"333\" y1=\"323.23\" y2=\"323.23\"/></a></g><!--MD5=[4c4a73c5a655405ae5766743f691417b]\n",
       "link E8 to E11--><g id=\"link_E8_E11\"><a href=\"psysml:456858ff-238e-4c58-839e-0e703aa2c494\" target=\"_top\" title=\"psysml:456858ff-238e-4c58-839e-0e703aa2c494\" xlink:actuate=\"onRequest\" xlink:href=\"psysml:456858ff-238e-4c58-839e-0e703aa2c494\" xlink:show=\"new\" xlink:title=\"psysml:456858ff-238e-4c58-839e-0e703aa2c494\" xlink:type=\"simple\"><path d=\"M455,204.23 C455,215.94 455,230.29 455,243.81 \" fill=\"none\" id=\"E8-to-E11\" style=\"stroke:#181818;stroke-width:1.0;\"/><polygon fill=\"#FFFFFF\" points=\"455,263.86,448,244.86,462,244.86,455,263.86\" style=\"stroke:#181818;stroke-width:1.0;\"/><ellipse cx=\"450\" cy=\"239.16\" fill=\"#181818\" rx=\"2\" ry=\"2\" style=\"stroke:#181818;stroke-width:1.0;\"/><ellipse cx=\"460\" cy=\"239.16\" fill=\"#181818\" rx=\"2\" ry=\"2\" style=\"stroke:#181818;stroke-width:1.0;\"/></a></g><!--MD5=[94adabc162ce7e41b39f13be14fbaeb3]\n",
       "reverse link E11 to E12--><g id=\"link_E11_E12\"><a href=\"psysml:8b495cd9-65c6-4b36-9305-a0ad69593c8c\" target=\"_top\" title=\"psysml:8b495cd9-65c6-4b36-9305-a0ad69593c8c\" xlink:actuate=\"onRequest\" xlink:href=\"psysml:8b495cd9-65c6-4b36-9305-a0ad69593c8c\" xlink:show=\"new\" xlink:title=\"psysml:8b495cd9-65c6-4b36-9305-a0ad69593c8c\" xlink:type=\"simple\"><path d=\"M455,330.52 C455,345.37 455,361.78 455,374.86 \" fill=\"none\" id=\"E11-backto-E12\" style=\"stroke:#181818;stroke-width:1.0;\"/><ellipse cx=\"455\" cy=\"323.23\" fill=\"#FFFFFF\" rx=\"8\" ry=\"8\" style=\"stroke:#181818;stroke-width:1.0;\"/><line style=\"stroke:#181818;stroke-width:1.0;\" x1=\"455\" x2=\"455\" y1=\"331.23\" y2=\"315.23\"/><line style=\"stroke:#181818;stroke-width:1.0;\" x1=\"447\" x2=\"463\" y1=\"323.23\" y2=\"323.23\"/></a></g><!--MD5=[01db00f33b28669d6d9febea71002831]\n",
       "reverse link E13 to E14--><g id=\"link_E13_E14\"><a href=\"psysml:a49ad8c7-8304-4d1b-a313-b2d4186ab376\" target=\"_top\" title=\"psysml:a49ad8c7-8304-4d1b-a313-b2d4186ab376\" xlink:actuate=\"onRequest\" xlink:href=\"psysml:a49ad8c7-8304-4d1b-a313-b2d4186ab376\" xlink:show=\"new\" xlink:title=\"psysml:a49ad8c7-8304-4d1b-a313-b2d4186ab376\" xlink:type=\"simple\"><path d=\"M116.54,106.16 C107.32,121.62 96.91,139.08 88.69,152.86 \" fill=\"none\" id=\"E13-backto-E14\" style=\"stroke:#181818;stroke-width:1.0;\"/><ellipse cx=\"120.152\" cy=\"100.1007\" fill=\"#FFFFFF\" rx=\"8\" ry=\"8\" style=\"stroke:#181818;stroke-width:1.0;\"/><line style=\"stroke:#181818;stroke-width:1.0;\" x1=\"116.0539\" x2=\"124.25\" y1=\"106.9713\" y2=\"93.23\"/><line style=\"stroke:#181818;stroke-width:1.0;\" x1=\"113.2813\" x2=\"127.0226\" y1=\"96.0026\" y2=\"104.1987\"/></a></g><!--MD5=[e9a5e828c71fd2209a11a152f562d491]\n",
       "reverse link E13 to E15--><g id=\"link_E13_E15\"><a href=\"psysml:92f83941-bebd-449b-a328-4a2d102f7d72\" target=\"_top\" title=\"psysml:92f83941-bebd-449b-a328-4a2d102f7d72\" xlink:actuate=\"onRequest\" xlink:href=\"psysml:92f83941-bebd-449b-a328-4a2d102f7d72\" xlink:show=\"new\" xlink:title=\"psysml:92f83941-bebd-449b-a328-4a2d102f7d72\" xlink:type=\"simple\"><path d=\"M158.12,107.1 C165.67,122.32 174.11,139.36 180.8,152.86 \" fill=\"none\" id=\"E13-backto-E15\" style=\"stroke:#181818;stroke-width:1.0;\"/><ellipse cx=\"154.8064\" cy=\"100.396\" fill=\"#FFFFFF\" rx=\"8\" ry=\"8\" style=\"stroke:#181818;stroke-width:1.0;\"/><line style=\"stroke:#181818;stroke-width:1.0;\" x1=\"158.3627\" x2=\"151.25\" y1=\"107.5621\" y2=\"93.23\"/><line style=\"stroke:#181818;stroke-width:1.0;\" x1=\"147.6403\" x2=\"161.9724\" y1=\"103.9524\" y2=\"96.8397\"/></a></g><!--MD5=[f2cb62d006dc72bd80ef71d002cd74a8]\n",
       "@startuml\r\n",
       "skin sysmlbw\r\n",
       "skinparam monochrome true\r\n",
       "skinparam wrapWidth 300\r\n",
       "hide circle\r\n",
       "\r\n",
       "package \"CameraSystem\" as E1  [[psysml:760abe55-35f2-4a7b-8a7a-7c7661b6a6a8 ]]  {\r\n",
       "comp def \"camera\" as E2  <<(T,blue) part  def>> [[psysml:b8d3a1b9-7b49-4511-b443-1658642740e7 ]] {\r\n",
       "}\r\n",
       "comp def \"resolution\" as E3  <<(T,blue) attribute  def>> [[psysml:4bd561a8-fd76-492d-97f4-1b2fc9889dcd ]] {\r\n",
       "}\r\n",
       "comp def \"aperture\" as E4  <<(T,blue) attribute  def>> [[psysml:4664ac87-0fa1-4716-99c5-b021bbb3ddda ]] {\r\n",
       "}\r\n",
       "comp def \"focalLength\" as E5  <<(T,blue) attribute  def>> [[psysml:2201db3c-a0c3-4dee-a09a-072c035097b9 ]] {\r\n",
       "}\r\n",
       "comp def \"lens\" as E6  <<(T,blue) port  def>> [[psysml:e125890f-331c-4bf4-964d-d37c30c1f7c0 ]] {\r\n",
       "}\r\n",
       "comp usage \"sensor: Sensor  \" as E7  <<(T,blue) item>> [[psysml:a4d2b582-d5d6-4fbb-984c-020176c55e88 ]] {\r\n",
       "}\r\n",
       "comp usage \"lens: Lens  \" as E8  <<(T,blue) item>> [[psysml:a41a5267-d773-4242-8271-0880ab854e68 ]] {\r\n",
       "}\r\n",
       "comp def \"Sensor\" as E9  <<(T,blue) part  def>> [[psysml:609c2d2c-0018-4285-aa81-9d7c3c1945e9 ]] {\r\n",
       "}\r\n",
       "comp def \"output\" as E10  <<(T,blue) item  def>> [[psysml:f4f18c0c-eb14-4653-9a7a-483a7bc6916e ]] {\r\n",
       "}\r\n",
       "comp def \"Lens\" as E11  <<(T,blue) port  def>> [[psysml:93c5a1b7-4ceb-4395-81c2-bf7cc9bd11b3 ]] {\r\n",
       "}\r\n",
       "comp def \"Input\" as E12  <<(T,blue) item  def>> [[psysml:b8cc3bb8-052e-4168-b81e-da82d610f753 ]] {\r\n",
       "}\r\n",
       "comp def \"data Resolution\" as E13  <<(T,blue) part  def>> [[psysml:7f587824-ce5e-4fcf-8b9c-aa6713d16ae8 ]] {\r\n",
       "}\r\n",
       "comp def \"width\" as E14  <<(T,blue) attribute  def>> [[psysml:05323ee8-abf5-4477-846a-d9944b638cb3 ]] {\r\n",
       "}\r\n",
       "comp def \"height\" as E15  <<(T,blue) attribute  def>> [[psysml:782869bf-578a-4865-91b2-da4a2c6f0960 ]] {\r\n",
       "}\r\n",
       "}\r\n",
       "E2 +- - E3 [[psysml:8f7d19f1-9cea-447e-8a24-643f670aea08 ]] \r\n",
       "E2 +- - E4 [[psysml:26084e11-379e-40c5-85e0-921728b0c06c ]] \r\n",
       "E2 +- - E5 [[psysml:5c1a8b14-0c40-4d49-9390-3ce1e85232a2 ]] \r\n",
       "E6 o- - \"1\"E7 [[psysml:81d17b30-5b5e-4039-a7fb-61c7adb1b834 ]] \r\n",
       "E6 o- - \"1\"E8 [[psysml:3b2879c7-9190-4ade-b120-9fbdb9b16984 ]] \r\n",
       "E7 - -:|> E9 [[psysml:421f1a63-8c83-4e4d-b908-4865b706431a ]] \r\n",
       "E9 +- - E10 [[psysml:31897d7a-2335-4fc7-b691-abcc2385b708 ]] \r\n",
       "E8 - -:|> E11 [[psysml:456858ff-238e-4c58-839e-0e703aa2c494 ]] \r\n",
       "E11 +- - E12 [[psysml:8b495cd9-65c6-4b36-9305-a0ad69593c8c ]] \r\n",
       "E13 +- - E14 [[psysml:a49ad8c7-8304-4d1b-a313-b2d4186ab376 ]] \r\n",
       "E13 +- - E15 [[psysml:92f83941-bebd-449b-a328-4a2d102f7d72 ]] \r\n",
       "@enduml\r\n",
       "\n",
       "PlantUML version 1.2022.7(Mon Aug 22 13:01:30 EDT 2022)\n",
       "(EPL source distribution)\n",
       "Java Runtime: OpenJDK Runtime Environment\n",
       "JVM: OpenJDK 64-Bit Server VM\n",
       "Default Encoding: Cp1252\n",
       "Language: en\n",
       "Country: US\n",
       "--></g></svg>"
      ]
     },
     "execution_count": 2,
     "metadata": {},
     "output_type": "execute_result"
    }
   ],
   "source": [
    "%viz --view=Tree CameraSystem"
   ]
  },
  {
   "cell_type": "markdown",
   "id": "1a68e2b3",
   "metadata": {},
   "source": [
    "## Given working code to chatgpt, how would it rewrite its response:\n",
    "'Rewrite sysml v2 code for a camera given this sysml v2 code'"
   ]
  },
  {
   "cell_type": "code",
   "execution_count": 17,
   "id": "cf8ccbc6",
   "metadata": {
    "vscode": {
     "languageId": "sysml"
    }
   },
   "outputs": [
    {
     "name": "stderr",
     "output_type": "stream",
     "text": [
      "ERROR:An action must be typed by action definitions. (17.sysml line : 5 column : 5)\n",
      "ERROR:Features must have at least one type (17.sysml line : 5 column : 5)\n",
      "ERROR:An action must be typed by action definitions. (17.sysml line : 8 column : 7)\n",
      "ERROR:Features must have at least one type (17.sysml line : 8 column : 7)\n",
      "ERROR:An action must be typed by action definitions. (17.sysml line : 12 column : 7)\n",
      "ERROR:Features must have at least one type (17.sysml line : 12 column : 7)\n",
      "ERROR:Features must have at least one type (17.sysml line : 20 column : 7)\n",
      "ERROR:Features must have at least one type (17.sysml line : 24 column : 7)\n",
      "ERROR:An action must be typed by action definitions. (17.sysml line : 28 column : 7)\n",
      "ERROR:Features must have at least one type (17.sysml line : 28 column : 7)\n",
      "ERROR:Features must have at least one type (17.sysml line : 29 column : 18)\n",
      "ERROR:Features must have at least one type (17.sysml line : 29 column : 32)\n",
      "ERROR:An action must be typed by action definitions. (17.sysml line : 30 column : 7)\n",
      "ERROR:Features must have at least one type (17.sysml line : 30 column : 7)\n"
     ]
    },
    {
     "data": {
      "text/plain": []
     },
     "execution_count": 17,
     "metadata": {},
     "output_type": "execute_result"
    }
   ],
   "source": [
    "package CameraSystem {\n",
    "  part Camera {\n",
    "    import PictureTaking::*;\n",
    "\n",
    "    perform action takePicture[*]: PictureTaking::takePicture;\n",
    "\n",
    "    part FocusingSubsystem {\n",
    "      perform takePicture.focus;\n",
    "    }\n",
    "\n",
    "    part ImagingSubsystem {\n",
    "      perform takePicture.shoot;\n",
    "    }\n",
    "  }\n",
    "\n",
    "  package PictureTaking {\n",
    "    part Exposure;\n",
    "\n",
    "    action Focus {\n",
    "      out xrsl: Exposure;\n",
    "    }\n",
    "\n",
    "    action Shoot {\n",
    "      in xsf: Exposure;\n",
    "    }\n",
    "\n",
    "    action takePicture {\n",
    "      action focus: Focus[1];\n",
    "      flow focus.xrsl to shoot.xsf;\n",
    "      action shoot: Shoot[1];\n",
    "    }\n",
    "  }\n",
    "}\n"
   ]
  },
  {
   "cell_type": "markdown",
   "id": "48f042d5",
   "metadata": {},
   "source": [
    "## With Revision"
   ]
  },
  {
   "cell_type": "code",
   "execution_count": null,
   "id": "45c978e4",
   "metadata": {
    "vscode": {
     "languageId": "sysml"
    }
   },
   "outputs": [],
   "source": []
  }
 ],
 "metadata": {
  "kernelspec": {
   "display_name": "SysML",
   "language": "sysml",
   "name": "sysml"
  },
  "language_info": {
   "codemirror_mode": "sysml",
   "file_extension": ".sysml",
   "mimetype": "text/x-sysml",
   "name": "SysML",
   "pygments_lexer": "java",
   "version": "1.0.0"
  }
 },
 "nbformat": 4,
 "nbformat_minor": 5
}
