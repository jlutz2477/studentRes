{
 "cells": [
  {
   "cell_type": "code",
   "execution_count": 1,
   "id": "5597464a",
   "metadata": {},
   "outputs": [
    {
     "data": {
      "text/plain": [
       "PartDefinition Camera (c82734fb-4039-452e-abe2-0c91e3002c1c)\n",
       "Package PictureTaking (82ddc6dd-3dd0-4898-bc79-27d01c2c23fc)\n"
      ]
     },
     "execution_count": 1,
     "metadata": {},
     "output_type": "execute_result"
    }
   ],
   "source": [
    "part def Camera {\n",
    "\timport PictureTaking::*;\n",
    "\t\n",
    "\tperform action takePicture[*] :> PictureTaking::takePicture;\n",
    "\t\n",
    "\tpart focusingSubsystem {\n",
    "\t\tperform takePicture.focus;\n",
    "\t}\n",
    "\t\n",
    "\tpart imagingSubsystem {\n",
    "\t\tperform takePicture.shoot;\n",
    "\t}\n",
    "\t\n",
    "}\n",
    "\n",
    "package PictureTaking {\n",
    "\tpart def Exposure;\n",
    "\t\n",
    "\taction def Focus { out xrsl: Exposure; }\n",
    "\taction def Shoot { in xsf: Exposure; }\t\n",
    "\t\t\n",
    "\taction takePicture {\t\t\n",
    "\t\taction focus: Focus[1];\n",
    "\t\tflow focus.xrsl to shoot.xsf;\n",
    "\t\taction shoot: Shoot[1];\n",
    "\t}\n",
    "}"
   ]
  },
  {
   "cell_type": "code",
   "execution_count": 2,
   "id": "7b2cb175",
   "metadata": {},
   "outputs": [
    {
     "data": {
      "image/svg+xml": [
       "<?xml version=\"1.0\" encoding=\"UTF-8\" standalone=\"no\"?><svg xmlns=\"http://www.w3.org/2000/svg\" xmlns:xlink=\"http://www.w3.org/1999/xlink\" contentStyleType=\"text/css\" height=\"397px\" preserveAspectRatio=\"none\" style=\"width:465px;height:397px;background:#FFFFFF;\" version=\"1.1\" viewBox=\"0 0 465 397\" width=\"465px\" zoomAndPan=\"magnify\"><defs/><g><!--MD5=[43c9051892ef23e1a46a86907403d788]\n",
       "class E1--><a href=\"psysml:c82734fb-4039-452e-abe2-0c91e3002c1c\" target=\"_top\" title=\"psysml:c82734fb-4039-452e-abe2-0c91e3002c1c\" xlink:actuate=\"onRequest\" xlink:href=\"psysml:c82734fb-4039-452e-abe2-0c91e3002c1c\" xlink:show=\"new\" xlink:title=\"psysml:c82734fb-4039-452e-abe2-0c91e3002c1c\" xlink:type=\"simple\"><g id=\"elem_E1\"><rect fill=\"#FFFFFF\" height=\"50.7031\" id=\"E1\" style=\"stroke:#181818;stroke-width:0.5;\" width=\"60\" x=\"203\" y=\"7\"/><text fill=\"#000000\" font-family=\"sans-serif\" font-size=\"12\" font-style=\"italic\" lengthAdjust=\"spacing\" textLength=\"58\" x=\"204\" y=\"24.457\">«part  def»</text><text fill=\"#000000\" font-family=\"sans-serif\" font-size=\"14\" lengthAdjust=\"spacing\" textLength=\"50\" x=\"208\" y=\"41.627\">Camera</text><line style=\"stroke:#181818;stroke-width:0.5;\" x1=\"204\" x2=\"262\" y1=\"49.7031\" y2=\"49.7031\"/></g></a><!--MD5=[b4997ac47864f28c2f74865a473b2911]\n",
       "class E2--><a href=\"psysml:ff7a176f-7eb8-46f4-98a9-83443bdc0b98\" target=\"_top\" title=\"psysml:ff7a176f-7eb8-46f4-98a9-83443bdc0b98\" xlink:actuate=\"onRequest\" xlink:href=\"psysml:ff7a176f-7eb8-46f4-98a9-83443bdc0b98\" xlink:show=\"new\" xlink:title=\"psysml:ff7a176f-7eb8-46f4-98a9-83443bdc0b98\" xlink:type=\"simple\"><g id=\"elem_E2\"><rect fill=\"#FFFFFF\" height=\"50.7031\" id=\"E2\" rx=\"10\" ry=\"10\" style=\"stroke:#181818;stroke-width:0.5;\" width=\"263\" x=\"101.5\" y=\"229\"/><text fill=\"#000000\" font-family=\"sans-serif\" font-size=\"12\" font-style=\"italic\" lengthAdjust=\"spacing\" textLength=\"93\" x=\"186.5\" y=\"246.457\">«perform action»</text><text fill=\"#000000\" font-family=\"sans-serif\" font-size=\"14\" lengthAdjust=\"spacing\" textLength=\"253\" x=\"104.5\" y=\"263.627\">takePicture :&gt;PictureTaking::takePicture</text><line style=\"stroke:#181818;stroke-width:0.5;\" x1=\"102.5\" x2=\"363.5\" y1=\"271.7031\" y2=\"271.7031\"/></g></a><!--MD5=[09b614a08d8cba4a07c9adeb5e0fee81]\n",
       "class E3--><a href=\"psysml:ee7d4bab-90da-408d-9aad-5fc4d465d357\" target=\"_top\" title=\"psysml:ee7d4bab-90da-408d-9aad-5fc4d465d357\" xlink:actuate=\"onRequest\" xlink:href=\"psysml:ee7d4bab-90da-408d-9aad-5fc4d465d357\" xlink:show=\"new\" xlink:title=\"psysml:ee7d4bab-90da-408d-9aad-5fc4d465d357\" xlink:type=\"simple\"><g id=\"elem_E3\"><rect fill=\"#FFFFFF\" height=\"50.7031\" id=\"E3\" rx=\"10\" ry=\"10\" style=\"stroke:#181818;stroke-width:0.5;\" width=\"100\" x=\"100\" y=\"340\"/><text fill=\"#000000\" font-family=\"sans-serif\" font-size=\"12\" font-style=\"italic\" lengthAdjust=\"spacing\" textLength=\"47\" x=\"126.5\" y=\"357.457\">«action»</text><text fill=\"#000000\" font-family=\"sans-serif\" font-size=\"14\" lengthAdjust=\"spacing\" textLength=\"86\" x=\"103\" y=\"374.627\">^focus: Focus</text><line style=\"stroke:#181818;stroke-width:0.5;\" x1=\"101\" x2=\"199\" y1=\"382.7031\" y2=\"382.7031\"/></g></a><!--MD5=[ebbe1d658d1005bcc118a6aa81145e00]\n",
       "class E4--><a href=\"psysml:8fe09b81-2a16-48cc-8aa9-13b2457d9ac7\" target=\"_top\" title=\"psysml:8fe09b81-2a16-48cc-8aa9-13b2457d9ac7\" xlink:actuate=\"onRequest\" xlink:href=\"psysml:8fe09b81-2a16-48cc-8aa9-13b2457d9ac7\" xlink:show=\"new\" xlink:title=\"psysml:8fe09b81-2a16-48cc-8aa9-13b2457d9ac7\" xlink:type=\"simple\"><g id=\"elem_E4\"><rect fill=\"#FFFFFF\" height=\"50.7031\" id=\"E4\" rx=\"10\" ry=\"10\" style=\"stroke:#181818;stroke-width:0.5;\" width=\"99\" x=\"265.5\" y=\"340\"/><text fill=\"#000000\" font-family=\"sans-serif\" font-size=\"12\" font-style=\"italic\" lengthAdjust=\"spacing\" textLength=\"47\" x=\"291.5\" y=\"357.457\">«action»</text><text fill=\"#000000\" font-family=\"sans-serif\" font-size=\"14\" lengthAdjust=\"spacing\" textLength=\"85\" x=\"268.5\" y=\"374.627\">^shoot: Shoot</text><line style=\"stroke:#181818;stroke-width:0.5;\" x1=\"266.5\" x2=\"363.5\" y1=\"382.7031\" y2=\"382.7031\"/></g></a><!--MD5=[270fce915f116d4de14055a7c1d9a0f3]\n",
       "class E5--><a href=\"psysml:b969770a-9fb6-477b-b363-b193c5293846\" target=\"_top\" title=\"psysml:b969770a-9fb6-477b-b363-b193c5293846\" xlink:actuate=\"onRequest\" xlink:href=\"psysml:b969770a-9fb6-477b-b363-b193c5293846\" xlink:show=\"new\" xlink:title=\"psysml:b969770a-9fb6-477b-b363-b193c5293846\" xlink:type=\"simple\"><g id=\"elem_E5\"><rect fill=\"#FFFFFF\" height=\"50.7031\" id=\"E5\" rx=\"10\" ry=\"10\" style=\"stroke:#181818;stroke-width:0.5;\" width=\"136\" x=\"7\" y=\"118\"/><text fill=\"#000000\" font-family=\"sans-serif\" font-size=\"12\" font-style=\"italic\" lengthAdjust=\"spacing\" textLength=\"35\" x=\"57.5\" y=\"135.457\">«part»</text><text fill=\"#000000\" font-family=\"sans-serif\" font-size=\"14\" lengthAdjust=\"spacing\" textLength=\"122\" x=\"10\" y=\"152.627\">focusingSubsystem</text><line style=\"stroke:#181818;stroke-width:0.5;\" x1=\"8\" x2=\"142\" y1=\"160.7031\" y2=\"160.7031\"/></g></a><!--MD5=[60a26617385b1d2d0262a64233df1f8d]\n",
       "class E6--><a href=\"psysml:9be98002-0305-402b-9f6c-ca7dc9b32b01\" target=\"_top\" title=\"psysml:9be98002-0305-402b-9f6c-ca7dc9b32b01\" xlink:actuate=\"onRequest\" xlink:href=\"psysml:9be98002-0305-402b-9f6c-ca7dc9b32b01\" xlink:show=\"new\" xlink:title=\"psysml:9be98002-0305-402b-9f6c-ca7dc9b32b01\" xlink:type=\"simple\"><g id=\"elem_E6\"><rect fill=\"#FFFFFF\" height=\"50.7031\" id=\"E6\" rx=\"10\" ry=\"10\" style=\"stroke:#181818;stroke-width:0.5;\" width=\"59\" x=\"7.5\" y=\"229\"/><text fill=\"#000000\" font-family=\"sans-serif\" font-size=\"12\" font-style=\"italic\" lengthAdjust=\"spacing\" textLength=\"57\" x=\"8.5\" y=\"246.457\">«perform»</text><text fill=\"#000000\" font-family=\"sans-serif\" font-size=\"14\" lengthAdjust=\"spacing\" textLength=\"34\" x=\"18\" y=\"263.627\">focus</text><line style=\"stroke:#181818;stroke-width:0.5;\" x1=\"8.5\" x2=\"65.5\" y1=\"271.7031\" y2=\"271.7031\"/></g></a><!--MD5=[2156ba9850f5573cc1fc38a6a4b2f02b]\n",
       "class E7--><a href=\"psysml:390625e3-b1e2-40c6-811b-b8f47e7f2134\" target=\"_top\" title=\"psysml:390625e3-b1e2-40c6-811b-b8f47e7f2134\" xlink:actuate=\"onRequest\" xlink:href=\"psysml:390625e3-b1e2-40c6-811b-b8f47e7f2134\" xlink:show=\"new\" xlink:title=\"psysml:390625e3-b1e2-40c6-811b-b8f47e7f2134\" xlink:type=\"simple\"><g id=\"elem_E7\"><rect fill=\"#FFFFFF\" height=\"50.7031\" id=\"E7\" rx=\"10\" ry=\"10\" style=\"stroke:#181818;stroke-width:0.5;\" width=\"132\" x=\"324\" y=\"118\"/><text fill=\"#000000\" font-family=\"sans-serif\" font-size=\"12\" font-style=\"italic\" lengthAdjust=\"spacing\" textLength=\"35\" x=\"372.5\" y=\"135.457\">«part»</text><text fill=\"#000000\" font-family=\"sans-serif\" font-size=\"14\" lengthAdjust=\"spacing\" textLength=\"118\" x=\"327\" y=\"152.627\">imagingSubsystem</text><line style=\"stroke:#181818;stroke-width:0.5;\" x1=\"325\" x2=\"455\" y1=\"160.7031\" y2=\"160.7031\"/></g></a><!--MD5=[b9389687b975829384b498ac4b7476b2]\n",
       "class E8--><a href=\"psysml:085b42e0-3521-46a8-b2be-2d33d8fb18a8\" target=\"_top\" title=\"psysml:085b42e0-3521-46a8-b2be-2d33d8fb18a8\" xlink:actuate=\"onRequest\" xlink:href=\"psysml:085b42e0-3521-46a8-b2be-2d33d8fb18a8\" xlink:show=\"new\" xlink:title=\"psysml:085b42e0-3521-46a8-b2be-2d33d8fb18a8\" xlink:type=\"simple\"><g id=\"elem_E8\"><rect fill=\"#FFFFFF\" height=\"50.7031\" id=\"E8\" rx=\"10\" ry=\"10\" style=\"stroke:#181818;stroke-width:0.5;\" width=\"59\" x=\"399.5\" y=\"229\"/><text fill=\"#000000\" font-family=\"sans-serif\" font-size=\"12\" font-style=\"italic\" lengthAdjust=\"spacing\" textLength=\"57\" x=\"400.5\" y=\"246.457\">«perform»</text><text fill=\"#000000\" font-family=\"sans-serif\" font-size=\"14\" lengthAdjust=\"spacing\" textLength=\"35\" x=\"409.5\" y=\"263.627\">shoot</text><line style=\"stroke:#181818;stroke-width:0.5;\" x1=\"400.5\" x2=\"457.5\" y1=\"271.7031\" y2=\"271.7031\"/></g></a><!--MD5=[a523cb2a0b79ecf9065ad8783f96c320]\n",
       "reverse link E1 to E2--><g id=\"link_E1_E2\"><a href=\"psysml:8252be0f-6067-413e-bd77-f71547862655\" target=\"_top\" title=\"psysml:8252be0f-6067-413e-bd77-f71547862655\" xlink:actuate=\"onRequest\" xlink:href=\"psysml:8252be0f-6067-413e-bd77-f71547862655\" xlink:show=\"new\" xlink:title=\"psysml:8252be0f-6067-413e-bd77-f71547862655\" xlink:type=\"simple\"><path d=\"M233,71.59 C233,116.7 233,190.53 233,228.78 \" fill=\"none\" id=\"E1-backto-E2\" style=\"stroke:#181818;stroke-width:1.0;\"/><polygon fill=\"none\" points=\"233,58.31,229,64.31,233,70.31,237,64.31,233,58.31\" style=\"stroke:#181818;stroke-width:1.0;\"/><text fill=\"#000000\" font-family=\"sans-serif\" font-size=\"13\" lengthAdjust=\"spacing\" textLength=\"5\" x=\"227.3906\" y=\"218.1349\">*</text></a></g><!--MD5=[209b3feb70ccb6233bfe1053d122c12c]\n",
       "reverse link E2 to E3--><g id=\"link_E2_E3\"><a href=\"psysml:3acf34c4-5bfc-4cea-b43a-4484349f1a1d\" target=\"_top\" title=\"psysml:3acf34c4-5bfc-4cea-b43a-4484349f1a1d\" xlink:actuate=\"onRequest\" xlink:href=\"psysml:3acf34c4-5bfc-4cea-b43a-4484349f1a1d\" xlink:show=\"new\" xlink:title=\"psysml:3acf34c4-5bfc-4cea-b43a-4484349f1a1d\" xlink:type=\"simple\"><path d=\"M206.09,290.83 C193.9,306.85 179.78,325.39 168.76,339.86 \" fill=\"none\" id=\"E2-backto-E3\" style=\"stroke:#181818;stroke-width:1.0;\"/><polygon fill=\"#181818\" points=\"214.17,280.23,207.3533,282.5821,206.9026,289.7791,213.7194,287.427,214.17,280.23\" style=\"stroke:#181818;stroke-width:1.0;\"/><text fill=\"#000000\" font-family=\"sans-serif\" font-size=\"13\" lengthAdjust=\"spacing\" textLength=\"7\" x=\"165.4796\" y=\"329.2344\">1</text></a></g><!--MD5=[9618e71518536f8baf3342ff6fdab317]\n",
       "reverse link E2 to E4--><g id=\"link_E2_E4\"><a href=\"psysml:83df6cc8-9f72-4491-b349-21f71ea46410\" target=\"_top\" title=\"psysml:83df6cc8-9f72-4491-b349-21f71ea46410\" xlink:actuate=\"onRequest\" xlink:href=\"psysml:83df6cc8-9f72-4491-b349-21f71ea46410\" xlink:show=\"new\" xlink:title=\"psysml:83df6cc8-9f72-4491-b349-21f71ea46410\" xlink:type=\"simple\"><path d=\"M259.58,290.83 C271.63,306.85 285.58,325.39 296.47,339.86 \" fill=\"none\" id=\"E2-backto-E4\" style=\"stroke:#181818;stroke-width:1.0;\"/><polygon fill=\"#181818\" points=\"251.61,280.23,252.0211,287.4294,258.8248,289.8189,258.4137,282.6195,251.61,280.23\" style=\"stroke:#181818;stroke-width:1.0;\"/><text fill=\"#000000\" font-family=\"sans-serif\" font-size=\"13\" lengthAdjust=\"spacing\" textLength=\"7\" x=\"284.1002\" y=\"329.2344\">1</text></a></g><!--MD5=[33238bef88d6431a141d8bc8fb12bca0]\n",
       "reverse link E1 to E5--><g id=\"link_E1_E5\"><a href=\"psysml:ea4988e1-a566-4ce2-9d10-0eaf0d961834\" target=\"_top\" title=\"psysml:ea4988e1-a566-4ce2-9d10-0eaf0d961834\" xlink:actuate=\"onRequest\" xlink:href=\"psysml:ea4988e1-a566-4ce2-9d10-0eaf0d961834\" xlink:show=\"new\" xlink:title=\"psysml:ea4988e1-a566-4ce2-9d10-0eaf0d961834\" xlink:type=\"simple\"><path d=\"M191.88,61.87 C166.74,79.21 134.89,101.19 110.79,117.81 \" fill=\"none\" id=\"E1-backto-E5\" style=\"stroke:#181818;stroke-width:1.0;\"/><polygon fill=\"#181818\" points=\"202.91,54.26,195.6997,54.3699,193.028,61.0679,200.2383,60.9579,202.91,54.26\" style=\"stroke:#181818;stroke-width:1.0;\"/><text fill=\"#000000\" font-family=\"sans-serif\" font-size=\"13\" lengthAdjust=\"spacing\" textLength=\"7\" x=\"111.6607\" y=\"107.1722\">1</text></a></g><!--MD5=[85d356282659285ab4b2cfe2f634dd2b]\n",
       "reverse link E5 to E6--><g id=\"link_E5_E6\"><a href=\"psysml:331ab7f9-c03f-4a6b-927e-34ab52353e69\" target=\"_top\" title=\"psysml:331ab7f9-c03f-4a6b-927e-34ab52353e69\" xlink:actuate=\"onRequest\" xlink:href=\"psysml:331ab7f9-c03f-4a6b-927e-34ab52353e69\" xlink:show=\"new\" xlink:title=\"psysml:331ab7f9-c03f-4a6b-927e-34ab52353e69\" xlink:type=\"simple\"><path d=\"M62.03,181.69 C56.6,197.27 50.44,214.95 45.59,228.86 \" fill=\"none\" id=\"E5-backto-E6\" style=\"stroke:#181818;stroke-width:1.0;\"/><polygon fill=\"none\" points=\"66.38,169.23,60.6254,173.5756,62.4234,180.559,68.178,176.2133,66.38,169.23\" style=\"stroke:#181818;stroke-width:1.0;\"/><text fill=\"#000000\" font-family=\"sans-serif\" font-size=\"13\" lengthAdjust=\"spacing\" textLength=\"20\" x=\"25.2463\" y=\"218.2344\">1..*</text></a></g><!--MD5=[a717450b82c80b9240a525fa862496af]\n",
       "link E6 to E3--><g id=\"link_E6_E3\"><a href=\"psysml:5a377af0-cfe7-4658-82ea-7b823acb1657\" target=\"_top\" title=\"psysml:5a377af0-cfe7-4658-82ea-7b823acb1657\" xlink:actuate=\"onRequest\" xlink:href=\"psysml:5a377af0-cfe7-4658-82ea-7b823acb1657\" xlink:show=\"new\" xlink:title=\"psysml:5a377af0-cfe7-4658-82ea-7b823acb1657\" xlink:type=\"simple\"><path d=\"M62.64,280.23 C76.51,293.61 93.96,310.44 109.61,325.54 \" fill=\"none\" id=\"E6-to-E3\" style=\"stroke:#181818;stroke-width:1.0;\"/><polygon fill=\"none\" points=\"114.93,320.94,124.46,339.86,105.21,331.02,114.93,320.94\" style=\"stroke:#181818;stroke-width:1.0;\"/></a></g><!--MD5=[fc9706a6b2cf8c0e423679d303750d3f]\n",
       "reverse link E1 to E7--><g id=\"link_E1_E7\"><a href=\"psysml:0cfe69ab-c151-4ee5-884c-bd5fb79a393b\" target=\"_top\" title=\"psysml:0cfe69ab-c151-4ee5-884c-bd5fb79a393b\" xlink:actuate=\"onRequest\" xlink:href=\"psysml:0cfe69ab-c151-4ee5-884c-bd5fb79a393b\" xlink:show=\"new\" xlink:title=\"psysml:0cfe69ab-c151-4ee5-884c-bd5fb79a393b\" xlink:type=\"simple\"><path d=\"M274.24,62.13 C299.22,79.47 330.76,101.37 354.61,117.93 \" fill=\"none\" id=\"E1-backto-E7\" style=\"stroke:#181818;stroke-width:1.0;\"/><polygon fill=\"#181818\" points=\"263.27,54.52,265.9254,61.2244,273.1354,61.3519,270.48,54.6475,263.27,54.52\" style=\"stroke:#181818;stroke-width:1.0;\"/><text fill=\"#000000\" font-family=\"sans-serif\" font-size=\"13\" lengthAdjust=\"spacing\" textLength=\"7\" x=\"338.1306\" y=\"107.3215\">1</text></a></g><!--MD5=[dc164f5e8a733ab456ef1add180e9e34]\n",
       "reverse link E7 to E8--><g id=\"link_E7_E8\"><a href=\"psysml:770db43a-7a4c-46af-93a2-22a66cf4c5d8\" target=\"_top\" title=\"psysml:770db43a-7a4c-46af-93a2-22a66cf4c5d8\" xlink:actuate=\"onRequest\" xlink:href=\"psysml:770db43a-7a4c-46af-93a2-22a66cf4c5d8\" xlink:show=\"new\" xlink:title=\"psysml:770db43a-7a4c-46af-93a2-22a66cf4c5d8\" xlink:type=\"simple\"><path d=\"M403.31,181.69 C408.88,197.27 415.21,214.95 420.19,228.86 \" fill=\"none\" id=\"E7-backto-E8\" style=\"stroke:#181818;stroke-width:1.0;\"/><polygon fill=\"none\" points=\"398.85,169.23,397.1104,176.2281,402.9011,180.5255,404.6407,173.5274,398.85,169.23\" style=\"stroke:#181818;stroke-width:1.0;\"/><text fill=\"#000000\" font-family=\"sans-serif\" font-size=\"13\" lengthAdjust=\"spacing\" textLength=\"20\" x=\"395.6051\" y=\"218.2344\">1..*</text></a></g><!--MD5=[d7bb3fb34add81b710575eb3799fa2ad]\n",
       "link E8 to E4--><g id=\"link_E8_E4\"><a href=\"psysml:0cf2d0c4-d22f-480e-ae1b-bb28c28a6930\" target=\"_top\" title=\"psysml:0cf2d0c4-d22f-480e-ae1b-bb28c28a6930\" xlink:actuate=\"onRequest\" xlink:href=\"psysml:0cf2d0c4-d22f-480e-ae1b-bb28c28a6930\" xlink:show=\"new\" xlink:title=\"psysml:0cf2d0c4-d22f-480e-ae1b-bb28c28a6930\" xlink:type=\"simple\"><path d=\"M403.13,280.23 C388.99,293.75 371.17,310.79 355.26,326.01 \" fill=\"none\" id=\"E8-to-E4\" style=\"stroke:#181818;stroke-width:1.0;\"/><polygon fill=\"none\" points=\"360.06,331.1,340.77,339.86,350.38,320.98,360.06,331.1\" style=\"stroke:#181818;stroke-width:1.0;\"/></a></g><!--MD5=[8c18f47b94f41a570fd0620a1ba31f67]\n",
       "@startuml\r\n",
       "skin sysmlbw\r\n",
       "skinparam monochrome true\r\n",
       "skinparam wrapWidth 300\r\n",
       "hide circle\r\n",
       "\r\n",
       "comp def \"Camera\" as E1  <<(T,blue) part  def>> [[psysml:c82734fb-4039-452e-abe2-0c91e3002c1c ]] {\r\n",
       "}\r\n",
       "comp usage \"takePicture :>PictureTaking::takePicture \" as E2  << perform action>> [[psysml:ff7a176f-7eb8-46f4-98a9-83443bdc0b98 ]] {\r\n",
       "}\r\n",
       "comp usage \"^focus: Focus  \" as E3  <<(T,blue) action>> [[psysml:ee7d4bab-90da-408d-9aad-5fc4d465d357 ]] {\r\n",
       "}\r\n",
       "comp usage \"^shoot: Shoot  \" as E4  <<(T,blue) action>> [[psysml:8fe09b81-2a16-48cc-8aa9-13b2457d9ac7 ]] {\r\n",
       "}\r\n",
       "comp usage \"focusingSubsystem  \" as E5  <<(T,blue) part>> [[psysml:b969770a-9fb6-477b-b363-b193c5293846 ]] {\r\n",
       "}\r\n",
       "comp usage \"focus \" as E6  << perform>> [[psysml:9be98002-0305-402b-9f6c-ca7dc9b32b01 ]] {\r\n",
       "}\r\n",
       "comp usage \"imagingSubsystem  \" as E7  <<(T,blue) part>> [[psysml:390625e3-b1e2-40c6-811b-b8f47e7f2134 ]] {\r\n",
       "}\r\n",
       "comp usage \"shoot \" as E8  << perform>> [[psysml:085b42e0-3521-46a8-b2be-2d33d8fb18a8 ]] {\r\n",
       "}\r\n",
       "E1 o- - \"*\"E2 [[psysml:8252be0f-6067-413e-bd77-f71547862655 ]] \r\n",
       "E2 *- - \"1\"E3 [[psysml:3acf34c4-5bfc-4cea-b43a-4484349f1a1d ]] \r\n",
       "E2 *- - \"1\"E4 [[psysml:83df6cc8-9f72-4491-b349-21f71ea46410 ]] \r\n",
       "E1 *- - \"1\"E5 [[psysml:ea4988e1-a566-4ce2-9d10-0eaf0d961834 ]] \r\n",
       "E5 o- - \"1..*\"E6 [[psysml:331ab7f9-c03f-4a6b-927e-34ab52353e69 ]] \r\n",
       "E6 - -|> E3 [[psysml:5a377af0-cfe7-4658-82ea-7b823acb1657 ]] \r\n",
       "E1 *- - \"1\"E7 [[psysml:0cfe69ab-c151-4ee5-884c-bd5fb79a393b ]] \r\n",
       "E7 o- - \"1..*\"E8 [[psysml:770db43a-7a4c-46af-93a2-22a66cf4c5d8 ]] \r\n",
       "E8 - -|> E4 [[psysml:0cf2d0c4-d22f-480e-ae1b-bb28c28a6930 ]] \r\n",
       "@enduml\r\n",
       "\n",
       "PlantUML version 1.2022.7(Mon Aug 22 13:01:30 EDT 2022)\n",
       "(EPL source distribution)\n",
       "Java Runtime: OpenJDK Runtime Environment\n",
       "JVM: OpenJDK 64-Bit Server VM\n",
       "Default Encoding: Cp1252\n",
       "Language: en\n",
       "Country: US\n",
       "--></g></svg>"
      ]
     },
     "execution_count": 2,
     "metadata": {},
     "output_type": "execute_result"
    }
   ],
   "source": [
    "%viz --view=Tree Camera"
   ]
  },
  {
   "cell_type": "code",
   "execution_count": null,
   "id": "b527be57",
   "metadata": {},
   "outputs": [],
   "source": []
  }
 ],
 "metadata": {
  "kernelspec": {
   "display_name": "SysML",
   "language": "sysml",
   "name": "sysml"
  },
  "language_info": {
   "codemirror_mode": "sysml",
   "file_extension": ".sysml",
   "mimetype": "text/x-sysml",
   "name": "SysML",
   "pygments_lexer": "java",
   "version": "1.0.0"
  }
 },
 "nbformat": 4,
 "nbformat_minor": 5
}
