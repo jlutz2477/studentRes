{
 "cells": [
  {
   "cell_type": "markdown",
   "id": "9ce4d881",
   "metadata": {},
   "source": [
    "write sysml v2 code for this document"
   ]
  },
  {
   "cell_type": "code",
   "execution_count": 1,
   "id": "7c1aec18",
   "metadata": {},
   "outputs": [
    {
     "name": "stderr",
     "output_type": "stream",
     "text": [
      "ERROR:no viable alternative at input 'DataLink' (1.sysml line : 2 column : 18)\n",
      "ERROR:no viable alternative at input 'attribute' (1.sysml line : 3 column : 33)\n",
      "ERROR:no viable alternative at input 'attribute' (1.sysml line : 4 column : 5)\n",
      "ERROR:no viable alternative at input 'attribute' (1.sysml line : 4 column : 35)\n",
      "ERROR:no viable alternative at input 'attribute' (1.sysml line : 5 column : 5)\n",
      "ERROR:no viable alternative at input 'attribute' (1.sysml line : 5 column : 38)\n",
      "ERROR:no viable alternative at input 'attribute' (1.sysml line : 6 column : 5)\n",
      "ERROR:no viable alternative at input '}' (1.sysml line : 6 column : 32)\n",
      "ERROR:no viable alternative at input '}' (1.sysml line : 7 column : 3)\n",
      "ERROR:no viable alternative at input 'UASDataLink' (1.sysml line : 9 column : 9)\n",
      "ERROR:no viable alternative at input 'extends' (1.sysml line : 9 column : 21)\n",
      "ERROR:no viable alternative at input 'DataLink' (1.sysml line : 9 column : 29)\n",
      "ERROR:no viable alternative at input 'attribute' (1.sysml line : 10 column : 31)\n",
      "ERROR:no viable alternative at input 'attribute' (1.sysml line : 11 column : 5)\n",
      "ERROR:no viable alternative at input 'operation' (1.sysml line : 11 column : 53)\n",
      "ERROR:no viable alternative at input 'operation' (1.sysml line : 12 column : 5)\n",
      "ERROR:no viable alternative at input '(' (1.sysml line : 12 column : 36)\n",
      "ERROR:no viable alternative at input 'UGVDataLink' (1.sysml line : 15 column : 9)\n",
      "ERROR:no viable alternative at input 'extends' (1.sysml line : 15 column : 21)\n",
      "ERROR:no viable alternative at input 'DataLink' (1.sysml line : 15 column : 29)\n",
      "ERROR:no viable alternative at input 'operation' (1.sysml line : 16 column : 28)\n",
      "ERROR:no viable alternative at input 'operation' (1.sysml line : 17 column : 5)\n",
      "ERROR:no viable alternative at input '(' (1.sysml line : 17 column : 30)\n",
      "ERROR:no viable alternative at input 'BaseSecurityControlCenter' (1.sysml line : 20 column : 9)\n",
      "ERROR:no viable alternative at input 'OpticSensor' (1.sysml line : 24 column : 9)\n",
      "ERROR:mismatched input '<EOF>' expecting '}' (1.sysml line : 27 column : 1)\n"
     ]
    },
    {
     "data": {
      "text/plain": []
     },
     "execution_count": 1,
     "metadata": {},
     "output_type": "execute_result"
    }
   ],
   "source": [
    "package DataLinks {\n",
    "  abstract block DataLink {\n",
    "    attribute operationalVideo: Video\n",
    "    attribute reconnaissanceData: ReconnaissanceData\n",
    "    attribute vehicleDiagnosticData: VehicleDiagnosticData\n",
    "    attribute vehicleCommands: VehicleCommands\n",
    "  }\n",
    "\n",
    "  block UASDataLink extends DataLink {\n",
    "    attribute opticDetection: OpticDetection\n",
    "    attribute detectionIdentificationOfUASCommands: DetectionIdentification\n",
    "    operation detectLandmineThreats()\n",
    "  }\n",
    "\n",
    "  block UGVDataLink extends DataLink {\n",
    "    attribute opticSensor: OpticSensor\n",
    "    operation detectLandmines()\n",
    "  }\n",
    "\n",
    "  block BaseSecurityControlCenter {\n",
    "    // Define properties and operations related to base security control center\n",
    "  }\n",
    "\n",
    "  block OpticSensor {\n",
    "    // Define properties and operations related to the optic sensor\n",
    "  }\n",
    "}"
   ]
  },
  {
   "cell_type": "markdown",
   "id": "2dbffbd3",
   "metadata": {},
   "source": [
    "generate sysml v2 code for the functionalities of the data links in the document"
   ]
  },
  {
   "cell_type": "code",
   "execution_count": 2,
   "id": "5c4d9c94",
   "metadata": {},
   "outputs": [
    {
     "name": "stderr",
     "output_type": "stream",
     "text": [
      "ERROR:no viable alternative at input 'DataLink' (2.sysml line : 2 column : 18)\n",
      "ERROR:no viable alternative at input 'attribute' (2.sysml line : 3 column : 33)\n",
      "ERROR:no viable alternative at input 'attribute' (2.sysml line : 4 column : 5)\n",
      "ERROR:no viable alternative at input 'attribute' (2.sysml line : 4 column : 35)\n",
      "ERROR:no viable alternative at input 'attribute' (2.sysml line : 5 column : 5)\n",
      "ERROR:no viable alternative at input 'attribute' (2.sysml line : 5 column : 38)\n",
      "ERROR:no viable alternative at input 'attribute' (2.sysml line : 6 column : 5)\n",
      "ERROR:no viable alternative at input '}' (2.sysml line : 6 column : 32)\n",
      "ERROR:no viable alternative at input '}' (2.sysml line : 7 column : 3)\n",
      "ERROR:no viable alternative at input 'UASDataLink' (2.sysml line : 9 column : 9)\n",
      "ERROR:no viable alternative at input 'extends' (2.sysml line : 9 column : 21)\n",
      "ERROR:no viable alternative at input 'DataLink' (2.sysml line : 9 column : 29)\n",
      "ERROR:no viable alternative at input 'attribute' (2.sysml line : 10 column : 31)\n",
      "ERROR:no viable alternative at input 'attribute' (2.sysml line : 11 column : 5)\n",
      "ERROR:no viable alternative at input 'operation' (2.sysml line : 11 column : 53)\n",
      "ERROR:no viable alternative at input 'operation' (2.sysml line : 12 column : 5)\n",
      "ERROR:no viable alternative at input '(' (2.sysml line : 12 column : 36)\n",
      "ERROR:no viable alternative at input 'UGVDataLink' (2.sysml line : 15 column : 9)\n",
      "ERROR:no viable alternative at input 'extends' (2.sysml line : 15 column : 21)\n",
      "ERROR:no viable alternative at input 'DataLink' (2.sysml line : 15 column : 29)\n",
      "ERROR:no viable alternative at input 'operation' (2.sysml line : 16 column : 28)\n",
      "ERROR:no viable alternative at input 'operation' (2.sysml line : 17 column : 5)\n",
      "ERROR:no viable alternative at input '(' (2.sysml line : 17 column : 30)\n",
      "ERROR:no viable alternative at input 'BaseSecurityControlCenter' (2.sysml line : 20 column : 9)\n",
      "ERROR:mismatched input '<EOF>' expecting '}' (2.sysml line : 23 column : 1)\n"
     ]
    },
    {
     "data": {
      "text/plain": []
     },
     "execution_count": 2,
     "metadata": {},
     "output_type": "execute_result"
    }
   ],
   "source": [
    "package DataLinks {\n",
    "  abstract block DataLink {\n",
    "    attribute operationalVideo: Video\n",
    "    attribute reconnaissanceData: ReconnaissanceData\n",
    "    attribute vehicleDiagnosticData: VehicleDiagnosticData\n",
    "    attribute vehicleCommands: VehicleCommands\n",
    "  }\n",
    "\n",
    "  block UASDataLink extends DataLink {\n",
    "    attribute opticDetection: OpticDetection\n",
    "    attribute detectionIdentificationOfUASCommands: DetectionIdentification\n",
    "    operation detectLandmineThreats()\n",
    "  }\n",
    "\n",
    "  block UGVDataLink extends DataLink {\n",
    "    attribute opticSensor: OpticSensor\n",
    "    operation detectLandmines()\n",
    "  }\n",
    "\n",
    "  block BaseSecurityControlCenter {\n",
    "    // Define properties and operations related to base security control center\n",
    "  }\n",
    "}"
   ]
  },
  {
   "cell_type": "code",
   "execution_count": null,
   "id": "c03bc64d",
   "metadata": {},
   "outputs": [],
   "source": []
  }
 ],
 "metadata": {
  "kernelspec": {
   "display_name": "SysML",
   "language": "sysml",
   "name": "sysml"
  },
  "language_info": {
   "codemirror_mode": "sysml",
   "file_extension": ".sysml",
   "mimetype": "text/x-sysml",
   "name": "SysML",
   "pygments_lexer": "java",
   "version": "1.0.0"
  }
 },
 "nbformat": 4,
 "nbformat_minor": 5
}
