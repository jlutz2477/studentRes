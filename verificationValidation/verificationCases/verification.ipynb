{
 "cells": [
  {
   "cell_type": "code",
   "execution_count": 1,
   "metadata": {
    "vscode": {
     "languageId": "sysml"
    }
   },
   "outputs": [
    {
     "name": "stdout",
     "output_type": "stream",
     "text": [
      "WARNING:User library packages should not be marked as standard (1.sysml line : 1 column : 1)\n",
      "WARNING:Duplicate of inherited member name (1.sysml line : 35 column : 19)\n",
      "WARNING:Duplicate of inherited member name (1.sysml line : 42 column : 25)\n"
     ]
    },
    {
     "data": {
      "text/plain": [
       "LibraryPackage VerificationCases (80adc6de-385d-5253-ad54-767ce42dbd6a)\n"
      ]
     },
     "execution_count": 1,
     "metadata": {},
     "output_type": "execute_result"
    }
   ],
   "source": [
    "standard library package VerificationCases {\n",
    "\tdoc\n",
    "\t/*\n",
    "\t * This package defines the base types for verification cases and related behavioral elements \n",
    "\t * in the SysML language.\n",
    "\t */\n",
    "\n",
    "\tprivate import Cases::Case;\n",
    "\tprivate import Cases::cases;\n",
    "\tprivate import Requirements::RequirementCheck;\n",
    "\tprivate import ScalarValues::Boolean;\n",
    "\t\n",
    "\tabstract verification def VerificationCase :> Case {\n",
    "\t\tdoc\n",
    "\t\t/*\n",
    "\t\t * VerificationCase is the most general class of performances of VerificationCaseDefinitions. \n",
    "\t\t * VericationCase is the base class of all VerificationCaseDefinitions.\n",
    "\t\t */\n",
    "\t\n",
    "\t\tref verification self : VerificationCase :>> Case::self;\t\t\n",
    "\t\tsubject subj :>> Case::subj;\n",
    "\t\treturn verdict : VerdictKind :>> result;\n",
    "\t\t\n",
    "\t\tobjective obj :>> Case::obj {\n",
    "\t\t\tsubject subj = VerificationCase::subj;\n",
    "\t\t\t\n",
    "\t\t\trequirement requirementVerifications : RequirementCheck[0..*] :> subrequirements {\n",
    "\t\t\t\tdoc\n",
    "\t\t\t\t/*\n",
    "\t\t\t\t * A record of the evaluations of the RequirementChecks of requirements being verified.\n",
    "\t\t\t\t */\n",
    "\t\t\t}\n",
    "\t\t}\n",
    "\t\t\n",
    "\t\tref requirement requirementVerifications : RequirementCheck[0..*] = obj.requirementVerifications {\n",
    "\t\t\tdoc\n",
    "\t\t\t/*\n",
    "\t\t\t * Checks on whether the verifiedRequirements of the VerificationCase have been satisfied.\n",
    "\t\t\t */\n",
    "\t\t}\n",
    "\t\t\n",
    "\t\tabstract verification subVerificationCases : VerificationCase[0..*] :> verificationCases, subcases {\n",
    "\t\t\tdoc\n",
    "\t\t\t/*\n",
    "\t\t\t * The subcases of this VerificationCase that are VerificationCaseUsages.\n",
    "\t\t\t */\n",
    "\t\t}\n",
    "\t\t\n",
    "\t}\n",
    "\t\n",
    "\tabstract verification verificationCases : VerificationCase[0..*] nonunique  :> cases {\n",
    "\t\tdoc\n",
    "\t\t/*\n",
    "\t\t * verificationCases is the base feature of all VerificationCaseUsages.\n",
    "\t\t */\n",
    "\t}\n",
    "\t\n",
    "\tenum def VerdictKind {\n",
    "\t\tdoc\n",
    "\t\t/*\n",
    "\t\t * VerdictKind is an enumeration of the possible results of a VerificationCase.\n",
    "\t\t */\n",
    "\t\n",
    "\t\tpass;\n",
    "\t\tfail;\n",
    "\t\tinconclusive;\n",
    "\t\terror;\n",
    "\t}\n",
    "\t\n",
    "\tcalc def PassIf {\n",
    "\t\tdoc\n",
    "\t\t/*\n",
    "\t\t * PassIf returns a pass or fail VerdictKind depending on whether its argument is\n",
    "\t\t * true or false.\n",
    "\t\t */\n",
    "\t\n",
    "\t\tin attribute isPassing : Boolean;\n",
    "\t\treturn attribute verdict : VerdictKind = if isPassing? VerdictKind::pass else VerdictKind::fail;\n",
    "\t}\n",
    "\t\n",
    "\tmetadata def VerificationMethod {\n",
    "\t\tdoc\n",
    "\t\t/*\n",
    "\t\t * VerificationMethod can be used as metadata annotating a verification case or action.\n",
    "\t\t */\n",
    "\t\n",
    "\t\tattribute kind : VerificationMethodKind[1..*];\n",
    "\t}\n",
    "\t\n",
    "\tenum def VerificationMethodKind {\n",
    "\t\tdoc\n",
    "\t\t/*\n",
    "\t\t * VerificationMethodKind is an enumeration of the standard methods by which verification\n",
    "\t\t * can be carried out.\n",
    "\t\t */\n",
    "\t\n",
    "\t\tinspect;\n",
    "\t\tanalyze;\n",
    "\t\tdemo;\n",
    "\t\ttest;\n",
    "\t}\n",
    "\t\n",
    "}"
   ]
  },
  {
   "cell_type": "code",
   "execution_count": null,
   "metadata": {
    "vscode": {
     "languageId": "sysml"
    }
   },
   "outputs": [],
   "source": []
  }
 ],
 "metadata": {
  "kernelspec": {
   "display_name": "SysML",
   "language": "sysml",
   "name": "sysml"
  },
  "language_info": {
   "codemirror_mode": "sysml",
   "file_extension": ".sysml",
   "mimetype": "text/x-sysml",
   "name": "SysML",
   "pygments_lexer": "java",
   "version": "1.0.0"
  }
 },
 "nbformat": 4,
 "nbformat_minor": 2
}
