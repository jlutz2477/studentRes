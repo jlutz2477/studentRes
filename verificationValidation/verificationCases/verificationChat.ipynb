{
 "cells": [
  {
   "cell_type": "code",
   "execution_count": 7,
   "metadata": {},
   "outputs": [
    {
     "name": "stderr",
     "output_type": "stream",
     "text": [
      "ERROR:no viable alternative at input 'package' (7.sysml line : 1 column : 1)\n",
      "ERROR:no viable alternative at input 'verify' (7.sysml line : 6 column : 5)\n",
      "ERROR:no viable alternative at input '::' (7.sysml line : 6 column : 15)\n",
      "ERROR:no viable alternative at input '.' (7.sysml line : 6 column : 28)\n",
      "ERROR:no viable alternative at input '\"Ensure UASDataLink can successfully exchange data.\"' (7.sysml line : 7 column : 18)\n",
      "ERROR:no viable alternative at input '\"UASDataLink.exchangeData should output 'Data'.\"' (7.sysml line : 9 column : 16)\n",
      "ERROR:mismatched input 'verify' expecting '}' (7.sysml line : 13 column : 5)\n",
      "ERROR:no viable alternative at input '::' (7.sysml line : 13 column : 15)\n",
      "ERROR:no viable alternative at input '.' (7.sysml line : 13 column : 28)\n",
      "ERROR:no viable alternative at input '\"Ensure UGVDataLink can successfully receive data.\"' (7.sysml line : 14 column : 18)\n",
      "ERROR:no viable alternative at input '\"UGVDataLink.receiveData should accept 'Data' as input.\"' (7.sysml line : 16 column : 16)\n",
      "ERROR:missing EOF at '}' (7.sysml line : 18 column : 3)\n"
     ]
    },
    {
     "data": {
      "text/plain": []
     },
     "execution_count": 7,
     "metadata": {},
     "output_type": "execute_result"
    }
   ],
   "source": [
    "verification package DataLinksVerification {\n",
    "  \n",
    "  // Verification for Data Exchange\n",
    "  verification def verifyDataExchange {\n",
    "    // Verify that UASDataLink can exchange data\n",
    "    verify UAS::UASDataLink.exchangeData {\n",
    "      description: \"Ensure UASDataLink can successfully exchange data.\";\n",
    "      // Expected to output Data\n",
    "      criterion: \"UASDataLink.exchangeData should output 'Data'.\";\n",
    "    }\n",
    "    \n",
    "    // Verify that UGVDataLink can receive data\n",
    "    verify UGV::UGVDataLink.receiveData {\n",
    "      description: \"Ensure UGVDataLink can successfully receive data.\";\n",
    "      // Expected to input Data\n",
    "      criterion: \"UGVDataLink.receiveData should accept 'Data' as input.\";\n",
    "    }\n",
    "  }\n",
    "}\n",
    "\n",
    "verification package SensorAndSecurityVerification {\n",
    "  \n",
    "  // Verification for OpticSensor detecting landmines\n",
    "  verification def verifyLandmineDetection {\n",
    "    verify OpticSensor.detectLandmines {\n",
    "      description: \"Verify that the OpticSensor can detect landmines.\";\n",
    "      // Expected to output detectMines\n",
    "      criterion: \"OpticSensor.detectLandmines should output 'detectMines'.\";\n",
    "    }\n",
    "  }\n",
    "  \n",
    "  // Verification for BaseSecurityControlCenter monitoring security\n",
    "  verification def verifySecurityMonitoring {\n",
    "    verify BaseSecurityControlCenter.monitorSecurity {\n",
    "      description: \"Verify that the BaseSecurityControlCenter can monitor security.\";\n",
    "      // Expected to output monitor\n",
    "      criterion: \"BaseSecurityControlCenter.monitorSecurity should output 'monitor'.\";\n",
    "    }\n",
    "  }\n",
    "}"
   ]
  },
  {
   "cell_type": "code",
   "execution_count": null,
   "metadata": {},
   "outputs": [],
   "source": []
  },
  {
   "cell_type": "markdown",
   "metadata": {},
   "source": [
    "with rubric"
   ]
  },
  {
   "cell_type": "code",
   "execution_count": 8,
   "metadata": {},
   "outputs": [
    {
     "name": "stderr",
     "output_type": "stream",
     "text": [
      "ERROR:no viable alternative at input 'package' (8.sysml line : 3 column : 1)\n",
      "ERROR:no viable alternative at input ':' (8.sysml line : 8 column : 5)\n",
      "ERROR:no viable alternative at input '\"Verify UASDataLink's ability to exchange data, ensuring syntax accuracy, semantic representation, and naming consistency.\"' (8.sysml line : 8 column : 16)\n",
      "ERROR:no viable alternative at input '::' (8.sysml line : 11 column : 15)\n",
      "ERROR:no viable alternative at input '.' (8.sysml line : 11 column : 28)\n",
      "ERROR:no viable alternative at input '\"Output must be 'Data'. Checks for syntax accuracy, semantic accuracy, and consistency in naming and usage.\"' (8.sysml line : 12 column : 16)\n",
      "ERROR:no viable alternative at input ':' (8.sysml line : 19 column : 5)\n",
      "ERROR:no viable alternative at input '\"Ensure UGVDataLink's ability to receive data aligns with the model's intended semantics, syntax, and consistency standards.\"' (8.sysml line : 19 column : 16)\n",
      "ERROR:no viable alternative at input '::' (8.sysml line : 21 column : 15)\n",
      "ERROR:no viable alternative at input '.' (8.sysml line : 21 column : 28)\n",
      "ERROR:no viable alternative at input '\"Input accepts 'Data'. Validates syntax, semantics, and consistent usage across the model.\"' (8.sysml line : 22 column : 16)\n",
      "ERROR:missing EOF at '}' (8.sysml line : 24 column : 3)\n"
     ]
    },
    {
     "data": {
      "text/plain": []
     },
     "execution_count": 8,
     "metadata": {},
     "output_type": "execute_result"
    }
   ],
   "source": [
    "// Verification Package for DataLink Components\n",
    "// This package is designed to ensure the correctness, completeness, and clarity of the DataLink system interactions.\n",
    "verification package DataLinksVerification {\n",
    "\n",
    "  // Verify Data Exchange in UASDataLink\n",
    "  // This verification checks the syntax, semantics, and consistency of data exchange.\n",
    "  verification def verifyUASDataExchange {\n",
    "    description: \"Verify UASDataLink's ability to exchange data, ensuring syntax accuracy, semantic representation, and naming consistency.\";\n",
    "    \n",
    "    // Syntax, Semantic, and Consistency Check (30 points)\n",
    "    verify UAS::UASDataLink.exchangeData {\n",
    "      criterion: \"Output must be 'Data'. Checks for syntax accuracy, semantic accuracy, and consistency in naming and usage.\";\n",
    "    }\n",
    "  }\n",
    "\n",
    "  // Verify Data Reception in UGVDataLink\n",
    "  // Focuses on syntax, semantics, and the consistent application of SysML v2 features.\n",
    "  verification def verifyUGVDataReception {\n",
    "    description: \"Ensure UGVDataLink's ability to receive data aligns with the model's intended semantics, syntax, and consistency standards.\";\n",
    "    \n",
    "    verify UGV::UGVDataLink.receiveData {\n",
    "      criterion: \"Input accepts 'Data'. Validates syntax, semantics, and consistent usage across the model.\";\n",
    "    }\n",
    "  }\n",
    "}\n",
    "\n",
    "// Verification Package for Sensor and Security Systems\n",
    "// Aims at ensuring the completeness and clarity of OpticSensor and BaseSecurityControlCenter functionalities.\n",
    "verification package SensorAndSecurityVerification {\n",
    "\n",
    "  // OpticSensor Landmine Detection Verification\n",
    "  // Examines coverage and detail by assessing action outputs and properties.\n",
    "  verification def verifyOpticSensorLandmineDetection {\n",
    "    description: \"Assesses OpticSensor's detectLandmines action for completeness in system coverage and detail in action representation.\";\n",
    "    \n",
    "    verify OpticSensor.detectLandmines {\n",
    "      criterion: \"Should output 'detectMines', demonstrating system coverage and attention to detail.\";\n",
    "    }\n",
    "  }\n",
    "\n",
    "  // BaseSecurityControlCenter Security Monitoring Verification\n",
    "  // Ensures clarity and conciseness in monitoring security functionality.\n",
    "  verification def verifySecurityMonitoring {\n",
    "    description: \"Evaluates BaseSecurityControlCenter's monitorSecurity action for clarity in readability, conciseness, and sufficient documentation.\";\n",
    "    \n",
    "    verify BaseSecurityControlCenter.monitorSecurity {\n",
    "      criterion: \"Output should be 'monitor', showcasing clear, concise, and well-documented action definitions.\";\n",
    "    }\n",
    "  }\n",
    "}\n"
   ]
  },
  {
   "cell_type": "code",
   "execution_count": null,
   "metadata": {},
   "outputs": [],
   "source": []
  },
  {
   "cell_type": "markdown",
   "metadata": {},
   "source": [
    "# Verification cases after feeding the verification cases section on the sysmlv2 pdf docs to chatgpt"
   ]
  },
  {
   "cell_type": "markdown",
   "metadata": {},
   "source": [
    "### 1. Verification of Data Exchange and Reception"
   ]
  },
  {
   "cell_type": "code",
   "execution_count": 9,
   "metadata": {},
   "outputs": [
    {
     "name": "stderr",
     "output_type": "stream",
     "text": [
      "ERROR:Couldn't resolve reference to Namespace 'BaseTypes'. (9.sysml line : 2 column : 10)\n",
      "ERROR:Couldn't resolve reference to Feature 'DataExchangeRequirement'. (9.sysml line : 9 column : 12)\n",
      "ERROR:Couldn't resolve reference to Feature 'DataReceptionRequirement'. (9.sysml line : 10 column : 12)\n",
      "ERROR:Couldn't resolve reference to Element 'VerificationKind::test'. (9.sysml line : 14 column : 12)\n",
      "ERROR:Couldn't resolve reference to Feature 'Data'. (9.sysml line : 19 column : 26)\n",
      "ERROR:Couldn't resolve reference to Feature 'Data'. (9.sysml line : 24 column : 24)\n",
      "ERROR:Couldn't resolve reference to Type 'Boolean'. (9.sysml line : 25 column : 33)\n",
      "ERROR:Couldn't resolve reference to Type 'Boolean'. (9.sysml line : 29 column : 32)\n",
      "ERROR:Must be a valid feature (9.sysml line : 14 column : 12)\n"
     ]
    },
    {
     "name": "stdout",
     "output_type": "stream",
     "text": [
      "WARNING:Bound features should have conforming types (9.sysml line : 18 column : 5)\n",
      "WARNING:Bound features should have conforming types (9.sysml line : 23 column : 5)\n",
      "WARNING:Bound features should have conforming types (9.sysml line : 30 column : 40)\n"
     ]
    },
    {
     "data": {
      "text/plain": []
     },
     "execution_count": 9,
     "metadata": {},
     "output_type": "execute_result"
    }
   ],
   "source": [
    "verification def DataExchangeAndReceptionVerification {\n",
    "  import BaseTypes::*;\n",
    "  import VerificationCases::*;\n",
    "  \n",
    "  subject testSystem : DataLinks::DataLink;\n",
    "  \n",
    "  objective DataExchangeObjective {\n",
    "    doc /* \"Verify that UASDataLink can exchange data successfully and UGVDataLink can receive the data correctly.\" */\n",
    "    verify DataExchangeRequirement;\n",
    "    verify DataReceptionRequirement;\n",
    "  }\n",
    "  \n",
    "  metadata VerificationMethod {\n",
    "    kind = VerificationKind::test;\n",
    "  }\n",
    "  \n",
    "  action collectData {\n",
    "    in part testUAS : DataLinks::UAS::UASDataLink = DataExchangeAndReceptionVerification::testSystem;\n",
    "    out dataExchanged :> Data;\n",
    "  }\n",
    "  \n",
    "  action receiveData {\n",
    "    in part testUGV : DataLinks::UGV::UGVDataLink = DataExchangeAndReceptionVerification::testSystem;\n",
    "    in dataReceived :> Data = collectData.dataExchanged;\n",
    "    out dataCorrectlyReceived : Boolean;\n",
    "  }\n",
    "  \n",
    "  action evaluateDataExchange {\n",
    "    in dataCorrectlyReceived : Boolean = receiveData.dataCorrectlyReceived;\n",
    "    out verdict : VerdictKind = PassIf(dataCorrectlyReceived);\n",
    "  }\n",
    "  \n",
    "  return verdict : VerdictKind = evaluateDataExchange.verdict;\n",
    "}\n"
   ]
  },
  {
   "cell_type": "markdown",
   "metadata": {},
   "source": [
    "### 2. Verification of Landmine Detection by OpticSensor"
   ]
  },
  {
   "cell_type": "code",
   "execution_count": null,
   "metadata": {},
   "outputs": [],
   "source": [
    "verification def OpticSensorLandmineDetectionVerification {\n",
    "  import BaseTypes::*;\n",
    "  import VerificationCases::*;\n",
    "  \n",
    "  subject testSensor : OpticSensor;\n",
    "  \n",
    "  objective LandmineDetectionObjective {\n",
    "    doc /* \"Verify that the OpticSensor can detect landmines accurately.\" */\n",
    "    verify LandmineDetectionRequirement;\n",
    "  }\n",
    "  \n",
    "  metadata VerificationMethod {\n",
    "    kind = VerificationKind::test;\n",
    "  }\n",
    "  \n",
    "  action detectLandmines {\n",
    "    in part testSensor : OpticSensor = OpticSensorLandmineDetectionVerification::testSensor;\n",
    "    out minesDetected : Boolean;\n",
    "  }\n",
    "  \n",
    "  action evaluateDetection {\n",
    "    in minesDetected : Boolean = detectLandmines.minesDetected;\n",
    "    out verdict : VerdictKind = PassIf(minesDetected);\n",
    "  }\n",
    "  \n",
    "  return verdict : VerdictKind = evaluateDetection.verdict;\n",
    "}\n"
   ]
  },
  {
   "cell_type": "markdown",
   "metadata": {},
   "source": [
    "### 3. Verification of Security Monitoring by BaseSecurityControlCenter"
   ]
  },
  {
   "cell_type": "code",
   "execution_count": null,
   "metadata": {},
   "outputs": [],
   "source": [
    "verification def SecurityMonitoringVerification {\n",
    "  import BaseTypes::*;\n",
    "  import VerificationCases::*;\n",
    "  \n",
    "  subject testCenter : BaseSecurityControlCenter;\n",
    "  \n",
    "  objective SecurityMonitoringObjective {\n",
    "    doc /* \"Verify that the BaseSecurityControlCenter can monitor security effectively.\" */\n",
    "    verify SecurityMonitoringRequirement;\n",
    "  }\n",
    "  \n",
    "  metadata VerificationMethod {\n",
    "    kind = VerificationKind::test;\n",
    "  }\n",
    "  \n",
    "  action monitorSecurity {\n",
    "    in part testCenter : BaseSecurityControlCenter = SecurityMonitoringVerification::testCenter;\n",
    "    out monitoringEffective : Boolean;\n",
    "  }\n",
    "  \n",
    "  action evaluateMonitoring {\n",
    "    in monitoringEffective : Boolean = monitorSecurity.monitoringEffective;\n",
    "    out verdict : VerdictKind = PassIf(monitoringEffective);\n",
    "  }\n",
    "  \n",
    "  return verdict : VerdictKind = evaluateMonitoring.verdict;\n",
    "}\n"
   ]
  },
  {
   "cell_type": "markdown",
   "metadata": {},
   "source": []
  },
  {
   "cell_type": "markdown",
   "metadata": {},
   "source": [
    "SysML v2 mission"
   ]
  },
  {
   "cell_type": "code",
   "execution_count": 1,
   "metadata": {},
   "outputs": [
    {
     "data": {
      "text/plain": [
       "Package DataLinks (8e7d87df-6068-4df9-a2d2-a55a8417b3ed)\n",
       "PartDefinition OpticSensor (485addcc-5a09-48ae-bdeb-2580d4fd49da)\n",
       "PartDefinition BaseSecurityControlCenter (19fa9a6b-790a-413b-841f-f40f7ad699e7)\n"
      ]
     },
     "execution_count": 1,
     "metadata": {},
     "output_type": "execute_result"
    }
   ],
   "source": [
    "package DataLinks {\n",
    "  part def DataLink {\n",
    "    \n",
    "    action def exchangeData {\n",
    "        out Data;\n",
    "    }\n",
    "    \n",
    "    action def receiveData {\n",
    "        in Data;\n",
    "    }\n",
    "  }\n",
    "  \n",
    "  package UAS {\n",
    "    part def UASDataLink {\n",
    "      perform action exchangeData;\n",
    "    }\n",
    "  }\n",
    "  \n",
    "  package UGV {\n",
    "    part def UGVDataLink {\n",
    "      perform action receiveData;\n",
    "    }\n",
    "  }\n",
    "}\n",
    "\n",
    "part def OpticSensor {\n",
    "   \n",
    "  action def detectLandmines {\n",
    "      out detectMines;\n",
    "  }\n",
    "}\n",
    "\n",
    "part def BaseSecurityControlCenter {\n",
    "  action def monitorSecurity {\n",
    "      out monitor;\n",
    "  }\n",
    "}"
   ]
  },
  {
   "cell_type": "markdown",
   "metadata": {},
   "source": [
    "## Verification cases:"
   ]
  },
  {
   "cell_type": "markdown",
   "metadata": {},
   "source": [
    "### 1. Data Exchange Verification for UASDataLink"
   ]
  },
  {
   "cell_type": "code",
   "execution_count": 2,
   "metadata": {},
   "outputs": [
    {
     "name": "stderr",
     "output_type": "stream",
     "text": [
      "ERROR:no viable alternative at input 'action' (2.sysml line : 21 column : 3)\n",
      "ERROR:no viable alternative at input 'out' (2.sysml line : 23 column : 5)\n",
      "ERROR:no viable alternative at input 'is' (2.sysml line : 23 column : 40)\n",
      "ERROR:no viable alternative at input 'not' (2.sysml line : 23 column : 57)\n",
      "ERROR:extraneous input '}' expecting EOF (2.sysml line : 27 column : 1)\n"
     ]
    },
    {
     "data": {
      "text/plain": []
     },
     "execution_count": 2,
     "metadata": {},
     "output_type": "execute_result"
    }
   ],
   "source": [
    "verification def VerifyUASDataExchange {\n",
    "  import BaseTypes::*;\n",
    "  import VerificationCases::*;\n",
    "  \n",
    "  subject testDataLink : DataLinks::UAS::UASDataLink;\n",
    "  \n",
    "  objective VerifyDataExchangeObjective {\n",
    "    doc /* \"Verify that UASDataLink can successfully initiate data exchange.\" */\n",
    "    verify UASDataExchangeRequirement;\n",
    "  }\n",
    "  \n",
    "  metadata VerificationMethod {\n",
    "    kind = VerificationKind::test;\n",
    "  }\n",
    "  \n",
    "  action simulateDataExchange {\n",
    "    in part testDataLink : DataLinks::UAS::UASDataLink = VerifyUASDataExchange::testDataLink;\n",
    "    out dataExchanged :> Data;\n",
    "  }\n",
    "  \n",
    "  action evaluateExchange {\n",
    "    in dataExchanged :> Data = simulateDataExchange.dataExchanged;\n",
    "    out verdict : VerdictKind = PassIf(dataExchanged is not null);\n",
    "  }\n",
    "  \n",
    "  return verdict : VerdictKind = evaluateExchange.verdict;\n",
    "}\n"
   ]
  },
  {
   "cell_type": "markdown",
   "metadata": {},
   "source": [
    "### 2. Data Reception Verification for UGVDataLink"
   ]
  },
  {
   "cell_type": "code",
   "execution_count": 3,
   "metadata": {},
   "outputs": [
    {
     "name": "stderr",
     "output_type": "stream",
     "text": [
      "ERROR:no viable alternative at input 'action' (3.sysml line : 16 column : 3)\n",
      "ERROR:no viable alternative at input 'out' (3.sysml line : 19 column : 5)\n",
      "ERROR:no viable alternative at input 'is' (3.sysml line : 19 column : 44)\n",
      "ERROR:no viable alternative at input 'not' (3.sysml line : 19 column : 60)\n",
      "ERROR:missing EOF at 'return' (3.sysml line : 27 column : 3)\n"
     ]
    },
    {
     "data": {
      "text/plain": []
     },
     "execution_count": 3,
     "metadata": {},
     "output_type": "execute_result"
    }
   ],
   "source": [
    "verification def VerifyUGVDataReception {\n",
    "  import BaseTypes::*;\n",
    "  import VerificationCases::*;\n",
    "  \n",
    "  subject testDataLink : DataLinks::UGV::UGVDataLink;\n",
    "  \n",
    "  objective VerifyDataReceptionObjective {\n",
    "    doc /* \"Verify that UGVDataLink can successfully receive data from UASDataLink.\" */\n",
    "    verify UGVDataReceptionRequirement;\n",
    "  }\n",
    "  \n",
    "  metadata VerificationMethod {\n",
    "    kind = VerificationKind::test;\n",
    "  }\n",
    "  \n",
    "  action simulateDataReception {\n",
    "    in part testDataLink : DataLinks::UGV::UGVDataLink = VerifyUGVDataReception::testDataLink;\n",
    "    in receivedData :> Data;\n",
    "    out dataCorrectlyReceived : Boolean = (receivedData is not null);\n",
    "  }\n",
    "  \n",
    "  action evaluateReception {\n",
    "    in dataCorrectlyReceived : Boolean = simulateDataReception.dataCorrectlyReceived;\n",
    "    out verdict : VerdictKind = PassIf(dataCorrectlyReceived);\n",
    "  }\n",
    "  \n",
    "  return verdict : VerdictKind = evaluateReception.verdict;\n",
    "}\n"
   ]
  },
  {
   "cell_type": "markdown",
   "metadata": {},
   "source": [
    "### 3. Verification of Landmine Detection by OpticSensor"
   ]
  },
  {
   "cell_type": "code",
   "execution_count": 4,
   "metadata": {},
   "outputs": [
    {
     "name": "stderr",
     "output_type": "stream",
     "text": [
      "ERROR:Couldn't resolve reference to Namespace 'BaseTypes'. (4.sysml line : 2 column : 10)\n",
      "ERROR:Couldn't resolve reference to Feature 'OpticSensorDetectionRequirement'. (4.sysml line : 9 column : 12)\n",
      "ERROR:Couldn't resolve reference to Element 'VerificationKind::test'. (4.sysml line : 13 column : 12)\n",
      "ERROR:Couldn't resolve reference to Type 'Boolean'. (4.sysml line : 18 column : 25)\n",
      "ERROR:Couldn't resolve reference to Type 'Boolean'. (4.sysml line : 22 column : 24)\n",
      "ERROR:Must be a valid feature (4.sysml line : 13 column : 12)\n"
     ]
    },
    {
     "name": "stdout",
     "output_type": "stream",
     "text": [
      "WARNING:Bound features should have conforming types (4.sysml line : 23 column : 40)\n"
     ]
    },
    {
     "data": {
      "text/plain": []
     },
     "execution_count": 4,
     "metadata": {},
     "output_type": "execute_result"
    }
   ],
   "source": [
    "verification def VerifyOpticSensorDetection {\n",
    "  import BaseTypes::*;\n",
    "  import VerificationCases::*;\n",
    "  \n",
    "  subject testSensor : OpticSensor;\n",
    "  \n",
    "  objective VerifyDetectionObjective {\n",
    "    doc /* \"Verify that the OpticSensor can detect landmines accurately.\" */\n",
    "    verify OpticSensorDetectionRequirement;\n",
    "  }\n",
    "  \n",
    "  metadata VerificationMethod {\n",
    "    kind = VerificationKind::test;\n",
    "  }\n",
    "  \n",
    "  action simulateDetection {\n",
    "    in part testSensor : OpticSensor = VerifyOpticSensorDetection::testSensor;\n",
    "    out minesDetected : Boolean;\n",
    "  }\n",
    "  \n",
    "  action evaluateDetection {\n",
    "    in minesDetected : Boolean = simulateDetection.minesDetected;\n",
    "    out verdict : VerdictKind = PassIf(minesDetected);\n",
    "  }\n",
    "  \n",
    "  return verdict : VerdictKind = evaluateDetection.verdict;\n",
    "}\n"
   ]
  },
  {
   "cell_type": "code",
   "execution_count": 15,
   "metadata": {},
   "outputs": [
    {
     "name": "stderr",
     "output_type": "stream",
     "text": [
      "ERROR:no viable alternative at input ';' (15.sysml line : 7 column : 74)\n"
     ]
    },
    {
     "data": {
      "text/plain": []
     },
     "execution_count": 15,
     "metadata": {},
     "output_type": "execute_result"
    }
   ],
   "source": [
    "import BaseTypes::*;\n",
    "import VerificationCases::*;\n",
    "// Assume VerificationCases::* includes VerificationKind\n",
    "\n",
    "// Define OpticSensorDetectionRequirement if it's not defined elsewhere\n",
    "requirement def OpticSensorDetectionRequirement {\n",
    "  doc /* \"Requirement for OpticSensor to detect landmines accurately.\" */;\n",
    "}\n",
    "\n",
    "verification def VerifyOpticSensorDetection {\n",
    "  \n",
    "  subject testSensor : OpticSensor;\n",
    "  \n",
    "  objective VerifyDetectionObjective {\n",
    "    doc /* \"Verify that the OpticSensor can detect landmines accurately.\" */\n",
    "    verify OpticSensorDetectionRequirement;\n",
    "  }\n",
    "  \n",
    "  metadata VerificationMethod {\n",
    "    kind = test; // Assuming 'test' is defined correctly in VerificationKind\n",
    "  }\n",
    "  \n",
    "  action simulateDetection {\n",
    "    in part testSensor : OpticSensor = VerifyOpticSensorDetection::testSensor;\n",
    "    out minesDetected : Boolean;\n",
    "  }\n",
    "  \n",
    "  action evaluateDetection {\n",
    "    in minesDetected : Boolean = simulateDetection.minesDetected;\n",
    "    out verdict : VerdictKind = PassIf(minesDetected); // Ensure PassIf and VerdictKind are defined and used correctly\n",
    "  }\n",
    "  \n",
    "  return verdict : VerdictKind = evaluateDetection.verdict;\n",
    "}\n"
   ]
  },
  {
   "cell_type": "markdown",
   "metadata": {
    "vscode": {
     "languageId": "sysml"
    }
   },
   "source": [
    "### 4. Verification of Security Monitoring by BaseSecurityControlCenter"
   ]
  },
  {
   "cell_type": "code",
   "execution_count": 5,
   "metadata": {},
   "outputs": [
    {
     "name": "stderr",
     "output_type": "stream",
     "text": [
      "ERROR:Couldn't resolve reference to Namespace 'BaseTypes'. (5.sysml line : 2 column : 10)\n",
      "ERROR:Couldn't resolve reference to Feature 'SecurityMonitoringRequirement'. (5.sysml line : 9 column : 12)\n",
      "ERROR:Couldn't resolve reference to Element 'VerificationKind::test'. (5.sysml line : 13 column : 12)\n",
      "ERROR:Couldn't resolve reference to Type 'Boolean'. (5.sysml line : 18 column : 31)\n",
      "ERROR:Couldn't resolve reference to Type 'Boolean'. (5.sysml line : 22 column : 30)\n",
      "ERROR:Must be a valid feature (5.sysml line : 13 column : 12)\n"
     ]
    },
    {
     "name": "stdout",
     "output_type": "stream",
     "text": [
      "WARNING:Bound features should have conforming types (5.sysml line : 23 column : 40)\n"
     ]
    },
    {
     "data": {
      "text/plain": []
     },
     "execution_count": 5,
     "metadata": {},
     "output_type": "execute_result"
    }
   ],
   "source": [
    "verification def VerifySecurityMonitoring {\n",
    "  import BaseTypes::*;\n",
    "  import VerificationCases::*;\n",
    "  \n",
    "  subject testCenter : BaseSecurityControlCenter;\n",
    "  \n",
    "  objective VerifyMonitoringObjective {\n",
    "    doc /* \"Verify that the BaseSecurityControlCenter can monitor security effectively.\" */\n",
    "    verify SecurityMonitoringRequirement;\n",
    "  }\n",
    "  \n",
    "  metadata VerificationMethod {\n",
    "    kind = VerificationKind::test;\n",
    "  }\n",
    "  \n",
    "  action simulateMonitoring {\n",
    "    in part testCenter : BaseSecurityControlCenter = VerifySecurityMonitoring::testCenter;\n",
    "    out monitoringEffective : Boolean;\n",
    "  }\n",
    "  \n",
    "  action evaluateMonitoring {\n",
    "    in monitoringEffective : Boolean = simulateMonitoring.monitoringEffective;\n",
    "    out verdict : VerdictKind = PassIf(monitoringEffective);\n",
    "  }\n",
    "  \n",
    "  return verdict : VerdictKind = evaluateMonitoring.verdict;\n",
    "}\n"
   ]
  },
  {
   "cell_type": "code",
   "execution_count": null,
   "metadata": {},
   "outputs": [],
   "source": []
  }
 ],
 "metadata": {
  "kernelspec": {
   "display_name": "SysML",
   "language": "sysml",
   "name": "sysml"
  },
  "language_info": {
   "codemirror_mode": "sysml",
   "file_extension": ".sysml",
   "mimetype": "text/x-sysml",
   "name": "sysml",
   "pygments_lexer": "java",
   "version": "1.0.0"
  }
 },
 "nbformat": 4,
 "nbformat_minor": 2
}
