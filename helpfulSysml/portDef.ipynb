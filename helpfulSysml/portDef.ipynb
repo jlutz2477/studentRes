{
 "cells": [
  {
   "cell_type": "code",
   "execution_count": 1,
   "metadata": {
    "vscode": {
     "languageId": "sysml"
    }
   },
   "outputs": [
    {
     "data": {
      "text/plain": [
       "Package Port Example (6f3659b2-5b0c-4310-9cbe-2a158039fe54)\n"
      ]
     },
     "execution_count": 1,
     "metadata": {},
     "output_type": "execute_result"
    }
   ],
   "source": [
    "package 'Port Example' {\n",
    "\t\n",
    "\tattribute def Temp;\n",
    "\t\n",
    "\tpart def Fuel;\n",
    "\t\n",
    "\tport def FuelOutPort {\n",
    "\t\tattribute temperature : Temp;\n",
    "\t\tout item fuelSupply : Fuel;\n",
    "\t\tin item fuelReturn : Fuel;\n",
    "\t}\n",
    "\t\n",
    "\tport def FuelInPort {\n",
    "\t\tattribute temperature : Temp;\n",
    "\t\tin item fuelSupply : Fuel;\n",
    "\t\tout item fuelReturn : Fuel;\n",
    "\t}\n",
    "\t\n",
    "\tpart def FuelTankAssembly {\n",
    "\t\tport fuelTankPort : FuelOutPort;\n",
    "\t}\n",
    "\t\n",
    "\tpart def Engine {\n",
    "\t\tport engineFuelPort : FuelInPort;\n",
    "\t}\n",
    "}"
   ]
  },
  {
   "cell_type": "code",
   "execution_count": null,
   "metadata": {
    "vscode": {
     "languageId": "sysml"
    }
   },
   "outputs": [],
   "source": []
  }
 ],
 "metadata": {
  "kernelspec": {
   "display_name": "SysML",
   "language": "sysml",
   "name": "sysml"
  },
  "language_info": {
   "codemirror_mode": "sysml",
   "file_extension": ".sysml",
   "mimetype": "text/x-sysml",
   "name": "SysML",
   "pygments_lexer": "java",
   "version": "1.0.0"
  }
 },
 "nbformat": 4,
 "nbformat_minor": 2
}
