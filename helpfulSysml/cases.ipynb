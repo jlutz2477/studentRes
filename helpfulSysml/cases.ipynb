{
 "cells": [
  {
   "cell_type": "code",
   "execution_count": 1,
   "metadata": {
    "vscode": {
     "languageId": "sysml"
    }
   },
   "outputs": [
    {
     "name": "stdout",
     "output_type": "stream",
     "text": [
      "WARNING:User library packages should not be marked as standard (1.sysml line : 1 column : 1)\n",
      "WARNING:Duplicate of inherited member name (1.sysml line : 24 column : 21)\n",
      "WARNING:Duplicate of inherited member name (1.sysml line : 31 column : 10)\n"
     ]
    },
    {
     "data": {
      "text/plain": [
       "LibraryPackage AnalysisCases (135fa920-93b6-5f8d-8053-fec98c034158)\n"
      ]
     },
     "execution_count": 1,
     "metadata": {},
     "output_type": "execute_result"
    }
   ],
   "source": [
    "standard library package AnalysisCases {\n",
    "\tdoc\n",
    "\t/*\n",
    "\t * This package defines the base types for analysis cases and related behavioral elements \n",
    "\t * in the SysML language.\n",
    "\t */\n",
    "\n",
    "\tprivate import Performances::Evaluation;\n",
    "\tprivate import Performances::evaluations;\n",
    "\tprivate import Calculations::Calculation;\n",
    "\tprivate import Cases::Case;\n",
    "\tprivate import Cases::cases;\n",
    "\t\n",
    "\tabstract analysis def AnalysisCase :> Case {\n",
    "\t\tdoc\n",
    "\t\t/*\n",
    "\t\t * AnalysisCase is the most general class of performances of AnalysisCaseDefinitions. \n",
    "\t\t * AnalysisCase is the base class of all AnalysisCaseDefinitions.\n",
    "\t\t */\n",
    "\t\n",
    "\t\tref analysis self : AnalysisCase :>> Case::self;\t\t\n",
    "\t\tsubject subj :>> Case::subj;\n",
    "\t\t\n",
    "\t\tabstract analysis subAnalysisCases : AnalysisCase[0..*] :> analysisCases, subcases {\n",
    "\t\t\tdoc\n",
    "\t\t\t/*\n",
    "\t\t\t * Other AnalysisCases carried out as part of the performance of this AnalysisCase.\n",
    "\t\t\t */\n",
    "\t\t}\n",
    "\t\n",
    "\t\taction analysisSteps : AnalysisAction[0..*] :> subactions {\n",
    "\t\t\tdoc\n",
    "\t\t\t/*\n",
    "\t\t\t * The subactions of this AnalysisCase that are AnalysisActions.\n",
    "\t\t\t */\n",
    "\t\t}\t\t\n",
    "\t}\n",
    "\t\n",
    "\tabstract analysis analysisCases : AnalysisCase[0..*] nonunique :> cases {\n",
    "\t\tdoc\n",
    "\t\t/*\n",
    "\t\t * analysisCases is the base feature of all AnalysisCaseUsages.\n",
    "\t\t */\n",
    "\t}\n",
    "\t\n",
    "\taction def AnalysisAction {\n",
    "\t\tdoc\n",
    "\t\t/*\n",
    "\t\t * An AnalysisAction is a specialized kind of Action intended to be used as a step in an AnalysisCase.\n",
    "\t\t */\n",
    "\t}\n",
    "\t\n",
    "\tcalc def AnalysisCalculation :> Calculation, AnalysisAction {\n",
    "\t\tdoc\n",
    "\t\t/*\n",
    "\t\t * An AnalysisCalculation is a specialized kind of Calculation inteded to be used in a step of an AnalysisCase.\n",
    "\t\t */\n",
    "\t}\n",
    "\t\n",
    "}"
   ]
  },
  {
   "cell_type": "code",
   "execution_count": 2,
   "metadata": {
    "vscode": {
     "languageId": "sysml"
    }
   },
   "outputs": [
    {
     "name": "stdout",
     "output_type": "stream",
     "text": [
      "WARNING:User library packages should not be marked as standard (2.sysml line : 1 column : 1)\n",
      "WARNING:Duplicate of inherited member name (2.sysml line : 35 column : 12)\n",
      "WARNING:Duplicate of inherited member name (2.sysml line : 42 column : 16)\n"
     ]
    },
    {
     "data": {
      "text/plain": [
       "LibraryPackage UseCases (a7817469-2b9f-557f-8694-5162f5b61108)\n"
      ]
     },
     "execution_count": 2,
     "metadata": {},
     "output_type": "execute_result"
    }
   ],
   "source": [
    "standard library package UseCases {\n",
    "\tdoc\n",
    "\t/*\n",
    "\t * This package defines the base types for use cases and related behavioral elements in the SysML language.\n",
    "\t */\n",
    "\t \n",
    "\tprivate import Cases::Case;\n",
    "\tprivate import Cases::cases;\n",
    "\t\n",
    "\tuse case def UseCase :> Case {\n",
    "\t\tdoc\n",
    "\t\t/*\n",
    "\t\t * UseCase is the most general class of performances of UseCaseDefinitions. \n",
    "\t\t * UseCase is the base class of all UseCaseDefinitions.\n",
    "\t\t */\n",
    "\t\n",
    "\t\tref use case self : UseCase :>> Case::self;\n",
    "\t\tsubject subj :>> Case::subj;\n",
    "\t\tobjective obj :>> Case::obj;\n",
    "\t\t\n",
    "\t\tref use case start: UseCase :>> start {\n",
    "\t\t\tdoc\n",
    "\t\t\t/*\n",
    "\t\t\t * The starting snapshot of a Use Case. \n",
    "\t\t\t */\n",
    "\t\t}\n",
    "\t\t\n",
    "\t\tref use case done: UseCase :>> done {\n",
    "\t\t\tdoc\n",
    "\t\t\t/*\n",
    "\t\t\t * The ending snapshot of a Use Case.\n",
    "\t\t\t */\n",
    "\t\t}\n",
    "\n",
    "\t\tabstract subUseCases : UseCase[0..*] :> subcases {\n",
    "\t\t\tdoc\n",
    "\t\t\t/*\n",
    "\t\t\t * Other UseCases carried out as part of the performance of this UseCase.\n",
    "\t\t\t */\n",
    "\t\t}\n",
    "\t\t\n",
    "\t\tabstract ref includedUseCases : UseCase[0..*] :> enclosedPerformances {\n",
    "\t\t\tdoc\n",
    "\t\t\t/*\n",
    "\t\t\t * Other UseCases included by this UseCase (i.e., as modeled by an \n",
    "\t\t\t * IncludeUseCaseUsage).\n",
    "\t\t\t */\n",
    "\t\t}\n",
    "\t}\n",
    "\t\n",
    "\tuse case useCases : UseCase[0..*] nonunique :> cases {\n",
    "\t\tdoc\n",
    "\t\t/*\n",
    "\t\t * useCases is the base feature of all UseCaseUsages.\n",
    "\t\t */\n",
    "\t}\n",
    "}"
   ]
  },
  {
   "cell_type": "code",
   "execution_count": null,
   "metadata": {
    "vscode": {
     "languageId": "sysml"
    }
   },
   "outputs": [],
   "source": []
  }
 ],
 "metadata": {
  "kernelspec": {
   "display_name": "SysML",
   "language": "sysml",
   "name": "sysml"
  },
  "language_info": {
   "codemirror_mode": "sysml",
   "file_extension": ".sysml",
   "mimetype": "text/x-sysml",
   "name": "SysML",
   "pygments_lexer": "java",
   "version": "1.0.0"
  }
 },
 "nbformat": 4,
 "nbformat_minor": 2
}
