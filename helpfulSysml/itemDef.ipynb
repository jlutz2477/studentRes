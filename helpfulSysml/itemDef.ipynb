{
 "cells": [
  {
   "cell_type": "code",
   "execution_count": 1,
   "metadata": {
    "vscode": {
     "languageId": "sysml"
    }
   },
   "outputs": [
    {
     "data": {
      "text/plain": [
       "Package Items Example (b3c128f6-935c-4d6a-98b3-f289f70d6a9b)\n"
      ]
     },
     "execution_count": 1,
     "metadata": {},
     "output_type": "execute_result"
    }
   ],
   "source": [
    "package 'Items Example' {\n",
    "\timport ScalarValues::*;\n",
    "\t\n",
    "\titem def Fuel;\n",
    "\titem def Person;\n",
    "\t\n",
    "\tpart def Vehicle {\n",
    "\t\tattribute mass : Real;\n",
    "\t\t\n",
    "\t\tref item driver : Person;\n",
    "\n",
    "\t\tpart fuelTank {\n",
    "\t\t\titem fuel: Fuel;\n",
    "\t\t}\t\t\n",
    "\t}\n",
    "\t\n",
    "}"
   ]
  },
  {
   "cell_type": "code",
   "execution_count": null,
   "metadata": {
    "vscode": {
     "languageId": "sysml"
    }
   },
   "outputs": [],
   "source": []
  }
 ],
 "metadata": {
  "kernelspec": {
   "display_name": "SysML",
   "language": "sysml",
   "name": "sysml"
  },
  "language_info": {
   "codemirror_mode": "sysml",
   "file_extension": ".sysml",
   "mimetype": "text/x-sysml",
   "name": "SysML",
   "pygments_lexer": "java",
   "version": "1.0.0"
  }
 },
 "nbformat": 4,
 "nbformat_minor": 2
}
