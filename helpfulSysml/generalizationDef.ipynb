{
 "cells": [
  {
   "cell_type": "code",
   "execution_count": 1,
   "metadata": {},
   "outputs": [
    {
     "data": {
      "text/plain": [
       "Package Generalization Example (06ad19c1-0b6c-4662-9feb-2a224c4d86e2)\n"
      ]
     },
     "execution_count": 1,
     "metadata": {},
     "output_type": "execute_result"
    }
   ],
   "source": [
    "package 'Generalization Example' {\n",
    "\n",
    "\tabstract part def Vehicle;\n",
    "\t\n",
    "\tpart def HumanDrivenVehicle specializes Vehicle {\n",
    "\t\tref part driver : Person;\n",
    "\t}\n",
    "\t\n",
    "\tpart def PoweredVehicle :> Vehicle {\n",
    "\t\tpart eng : Engine;\n",
    "\t}\n",
    "\t\n",
    "\tpart def HumanDrivenPoweredVehicle :> \n",
    "\t\tHumanDrivenVehicle, PoweredVehicle;\n",
    "\t\n",
    "\tpart def Engine;\t\n",
    "\tpart def Person;\n",
    "\t\n",
    "}"
   ]
  },
  {
   "cell_type": "code",
   "execution_count": null,
   "metadata": {},
   "outputs": [],
   "source": []
  }
 ],
 "metadata": {
  "kernelspec": {
   "display_name": "SysML",
   "language": "sysml",
   "name": "sysml"
  },
  "language_info": {
   "codemirror_mode": "sysml",
   "file_extension": ".sysml",
   "mimetype": "text/x-sysml",
   "name": "sysml",
   "pygments_lexer": "java",
   "version": "1.0.0"
  }
 },
 "nbformat": 4,
 "nbformat_minor": 2
}
