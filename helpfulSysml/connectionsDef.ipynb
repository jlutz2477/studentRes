{
 "cells": [
  {
   "cell_type": "code",
   "execution_count": 1,
   "metadata": {
    "vscode": {
     "languageId": "sysml"
    }
   },
   "outputs": [
    {
     "data": {
      "text/plain": [
       "Package Connections Example (6d8a102e-49f9-4cb0-b4d9-9406e9f84d37)\n"
      ]
     },
     "execution_count": 1,
     "metadata": {},
     "output_type": "execute_result"
    }
   ],
   "source": [
    "package 'Connections Example' {\n",
    "\t\n",
    "\tpart def WheelHubAssembly;\n",
    "\tpart def WheelAssembly;\n",
    "\tpart def Tire;\n",
    "\tpart def TireBead;\n",
    "\tpart def Wheel;\n",
    "\tpart def TireMountingRim;\n",
    "\tpart def LugBoltMountingHole;\n",
    "\tpart def Hub;\n",
    "\tpart def LugBoltThreadableHole;\n",
    "\tpart def LugBoltJoint;\n",
    "\t\n",
    "\tconnection def PressureSeat {\n",
    "\t\tend bead : TireBead[1];\n",
    "\t\tend mountingRim : TireMountingRim[1];\n",
    "\t}\n",
    "\t\n",
    "\tpart wheelHubAssembly : WheelHubAssembly {\n",
    "\t\t\n",
    "\t\tpart wheel : WheelAssembly[1] {\n",
    "\t\t\tpart t : Tire[1] {\n",
    "\t\t\t\tpart bead : TireBead[2];\t\t\t\n",
    "\t\t\t}\n",
    "\t\t\tpart w: Wheel[1] {\n",
    "\t\t\t\tpart rim : TireMountingRim[2];\n",
    "\t\t\t\tpart mountingHoles : LugBoltMountingHole[5];\n",
    "\t\t\t}\t\t\t\t\t\t\n",
    "\t\t\tconnection : PressureSeat \n",
    "\t\t\t\tconnect bead references t.bead \n",
    "\t\t\t\tto mountingRim references w.rim;\t\t\n",
    "\t\t}\n",
    "\t\t\n",
    "\t\tpart lugBoltJoints : LugBoltJoint[0..5];\n",
    "\t\tpart hub : Hub[1] {\n",
    "\t\t\tpart h : LugBoltThreadableHole[5];\n",
    "\t\t}\n",
    "\t\tconnect lugBoltJoints[0..1] to wheel.w.mountingHoles[1];\n",
    "\t\tconnect lugBoltJoints[0..1] to hub.h[1];\n",
    "\t}\n",
    "\t\n",
    "}"
   ]
  },
  {
   "cell_type": "code",
   "execution_count": null,
   "metadata": {
    "vscode": {
     "languageId": "sysml"
    }
   },
   "outputs": [],
   "source": []
  }
 ],
 "metadata": {
  "kernelspec": {
   "display_name": "SysML",
   "language": "sysml",
   "name": "sysml"
  },
  "language_info": {
   "codemirror_mode": "sysml",
   "file_extension": ".sysml",
   "mimetype": "text/x-sysml",
   "name": "SysML",
   "pygments_lexer": "java",
   "version": "1.0.0"
  }
 },
 "nbformat": 4,
 "nbformat_minor": 2
}
