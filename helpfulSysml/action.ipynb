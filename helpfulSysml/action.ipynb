{
 "cells": [
  {
   "cell_type": "code",
   "execution_count": 1,
   "metadata": {
    "vscode": {
     "languageId": "sysml"
    }
   },
   "outputs": [
    {
     "data": {
      "text/plain": [
       "Package Action Definition Example (2ae87029-6247-4035-9847-aae4f5079eb2)\n"
      ]
     },
     "execution_count": 1,
     "metadata": {},
     "output_type": "execute_result"
    }
   ],
   "source": [
    "package 'Action Definition Example' {\n",
    "\titem def Scene;\n",
    "\titem def Image;\n",
    "\titem def Picture;\n",
    "\t\n",
    "\taction def Focus { in scene : Scene; out image : Image; }\n",
    "\taction def Shoot { in image: Image; out picture : Picture; }\t\n",
    "\t\t\n",
    "\taction def TakePicture { in scene : Scene; out picture : Picture;\n",
    "\t\tbind focus.scene = scene;\n",
    "\t\t\n",
    "\t\taction focus: Focus { in scene; out image; }\n",
    "\t\t\n",
    "\t\tflow from focus.image to shoot.image;\n",
    "\t\t\n",
    "\t\taction shoot: Shoot { in image; out picture; }\n",
    "\t\t\n",
    "\t\tbind shoot.picture = picture;\n",
    "\t}\n",
    "\t\n",
    "}"
   ]
  },
  {
   "cell_type": "code",
   "execution_count": null,
   "metadata": {
    "vscode": {
     "languageId": "sysml"
    }
   },
   "outputs": [],
   "source": []
  }
 ],
 "metadata": {
  "kernelspec": {
   "display_name": "SysML",
   "language": "sysml",
   "name": "sysml"
  },
  "language_info": {
   "codemirror_mode": "sysml",
   "file_extension": ".sysml",
   "mimetype": "text/x-sysml",
   "name": "SysML",
   "pygments_lexer": "java",
   "version": "1.0.0"
  }
 },
 "nbformat": 4,
 "nbformat_minor": 2
}
