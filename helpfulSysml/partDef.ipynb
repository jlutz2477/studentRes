{
 "cells": [
  {
   "cell_type": "code",
   "execution_count": 1,
   "metadata": {},
   "outputs": [
    {
     "data": {
      "text/plain": [
       "Package Parts Example-1 (b1d61296-2c3c-427a-ada9-0f4515fe62f9)\n"
      ]
     },
     "execution_count": 1,
     "metadata": {},
     "output_type": "execute_result"
    }
   ],
   "source": [
    "package 'Parts Example-1' {\n",
    "\t\n",
    "\t// Definitions\n",
    "\t\n",
    "\tpart def Vehicle {\n",
    "\t\tpart eng : Engine;\n",
    "\t}\n",
    "\t\n",
    "\tpart def Engine {\n",
    "\t\tpart cyl : Cylinder[4..6];\n",
    "\t}\n",
    "\t\n",
    "\tpart def Cylinder;\n",
    "\t\n",
    "\t// Usages\n",
    "\t\n",
    "\tpart smallVehicle : Vehicle {\n",
    "\t\tpart redefines eng {\n",
    "\t\t\tpart redefines cyl[4];\n",
    "\t\t}\n",
    "\t}\n",
    "\t\n",
    "\tpart bigVehicle : Vehicle {\n",
    "\t\tpart redefines eng {\n",
    "\t\t\tpart redefines cyl[6];\n",
    "\t\t}\n",
    "\t}\n",
    "\t\n",
    "}"
   ]
  },
  {
   "cell_type": "code",
   "execution_count": null,
   "metadata": {},
   "outputs": [],
   "source": []
  }
 ],
 "metadata": {
  "kernelspec": {
   "display_name": "SysML",
   "language": "sysml",
   "name": "sysml"
  },
  "language_info": {
   "codemirror_mode": "sysml",
   "file_extension": ".sysml",
   "mimetype": "text/x-sysml",
   "name": "sysml",
   "pygments_lexer": "java",
   "version": "1.0.0"
  }
 },
 "nbformat": 4,
 "nbformat_minor": 2
}
