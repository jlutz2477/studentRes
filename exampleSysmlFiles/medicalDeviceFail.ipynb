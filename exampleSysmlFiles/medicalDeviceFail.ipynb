{
 "cells": [
  {
   "cell_type": "code",
   "execution_count": 1,
   "metadata": {
    "vscode": {
     "languageId": "sysml"
    }
   },
   "outputs": [
    {
     "data": {
      "text/plain": [
       "Package MedicalDeviceFailure (0fc14850-3fb8-4478-aa3f-73eda6f8a093)\n"
      ]
     },
     "execution_count": 1,
     "metadata": {},
     "output_type": "execute_result"
    }
   ],
   "source": [
    "package MedicalDeviceFailure {\n",
    "\timport CauseAndEffect::*;\n",
    "\t\n",
    "\tpart medicalDevice {\n",
    "\t\tpart battery {\n",
    "\t\t\tevent occurrence depleted;\n",
    "\t\t\tevent occurrence cannotBeCharged;\n",
    "\t\t}\n",
    "\t\t\n",
    "\t\tevent occurrence deviceFails;\n",
    "\t\t\n",
    "\t\tref patient {\n",
    "\t\t\tevent occurrence therapyDelayed;\n",
    "\t\t}\n",
    "\t\t\n",
    "\t\t#multicausation connection {\n",
    "\t\t\tend #cause ::> battery.depleted;\n",
    "\t\t\tend #cause ::> battery.cannotBeCharged;\n",
    "\t\t\tend #effect ::> deviceFails;\n",
    "\t\t}\n",
    "\t\t\n",
    "\t\t#causation connect deviceFails to patient.therapyDelayed;\n",
    "\t}\t\n",
    "\t\n",
    "}"
   ]
  },
  {
   "cell_type": "code",
   "execution_count": null,
   "metadata": {
    "vscode": {
     "languageId": "sysml"
    }
   },
   "outputs": [],
   "source": []
  }
 ],
 "metadata": {
  "kernelspec": {
   "display_name": "SysML",
   "language": "sysml",
   "name": "sysml"
  },
  "language_info": {
   "codemirror_mode": "sysml",
   "file_extension": ".sysml",
   "mimetype": "text/x-sysml",
   "name": "SysML",
   "pygments_lexer": "java",
   "version": "1.0.0"
  }
 },
 "nbformat": 4,
 "nbformat_minor": 2
}
