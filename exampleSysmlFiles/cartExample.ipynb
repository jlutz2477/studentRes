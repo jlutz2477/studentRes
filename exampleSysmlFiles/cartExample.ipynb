{
 "cells": [
  {
   "cell_type": "code",
   "execution_count": 1,
   "metadata": {
    "vscode": {
     "languageId": "sysml"
    }
   },
   "outputs": [
    {
     "data": {
      "text/plain": [
       "Package CartSample (14c3281f-a79d-4820-a06c-9b56b82fe306)\n"
      ]
     },
     "execution_count": 1,
     "metadata": {},
     "output_type": "execute_result"
    }
   ],
   "source": [
    "// State Space Representation cart example\n",
    "\n",
    "package CartSample {\n",
    "    import StateSpaceRepresentation::*;\n",
    "    part def Cart {\n",
    "        attribute mass :> ISQ::mass;\n",
    "\n",
    "        attribute def CartInput :> Input {\n",
    "            attribute force :> ISQ::force;\n",
    "        }\n",
    "\n",
    "        attribute def CartOutput :> Output {\n",
    "            attribute velocity :> ISQ::speed;\n",
    "        }\n",
    "\n",
    "        attribute def CartState :> StateSpace {\n",
    "            attribute velocity :> ISQ::speed;\n",
    "        }\n",
    "\n",
    "        attribute def CartStateDerivative :> StateDerivative {\n",
    "            ref :>> stateSpace : CartState;\n",
    "            attribute accel :> ISQ::acceleration;\n",
    "        }\n",
    "    }\n",
    "\n",
    "    part def Pusher {\n",
    "        attribute def PusherOutput :> Output {\n",
    "            attribute force :> ISQ::force;\n",
    "        }\n",
    "    }\n",
    "\n",
    "    part context {\n",
    "        part cart : Cart {\n",
    "            action cartBehavior : ContinuousStateSpaceDynamics {\n",
    "                in input : CartInput;\n",
    "                out output : CartOutput;\n",
    "                :>> stateSpace : CartState;\n",
    "\n",
    "                calc :>> getDerivative { \n",
    "                \tin input: CartInput; \n",
    "                \tin stateSpace: CartState;\n",
    "                    CartStateDerivative(input.force / mass)\n",
    "                }\n",
    "                calc :>> getOutput {\n",
    "                \tin :>> stateSpace : CartState;\n",
    "                    CartOutput(stateSpace.velocity)\n",
    "                }\n",
    "            }\n",
    "        }\n",
    "        part pusher : Pusher {\n",
    "            attribute pusherForce :> ISQ::force;\n",
    "\n",
    "            action pusherBehavior : ContinuousStateSpaceDynamics {\n",
    "                in input;\n",
    "                out output : PusherOutput;\n",
    "                calc :>> getOutput {\n",
    "                    PusherOutput(pusherForce)\n",
    "                }\n",
    "            }\n",
    "        }\n",
    "\n",
    "        flow pusher.pusherBehavior.output.force to cart.cartBehavior.input.force;\n",
    "    }\n",
    "}"
   ]
  },
  {
   "cell_type": "code",
   "execution_count": null,
   "metadata": {
    "vscode": {
     "languageId": "sysml"
    }
   },
   "outputs": [],
   "source": []
  }
 ],
 "metadata": {
  "kernelspec": {
   "display_name": "SysML",
   "language": "sysml",
   "name": "sysml"
  },
  "language_info": {
   "codemirror_mode": "sysml",
   "file_extension": ".sysml",
   "mimetype": "text/x-sysml",
   "name": "SysML",
   "pygments_lexer": "java",
   "version": "1.0.0"
  }
 },
 "nbformat": 4,
 "nbformat_minor": 2
}
