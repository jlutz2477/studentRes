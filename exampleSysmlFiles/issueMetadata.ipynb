{
 "cells": [
  {
   "cell_type": "code",
   "execution_count": 1,
   "metadata": {
    "vscode": {
     "languageId": "sysml"
    }
   },
   "outputs": [
    {
     "data": {
      "text/plain": [
       "Package IssueMetadataExample (2bc9611f-53be-4544-8aea-8a532fc7bfd4)\n"
      ]
     },
     "execution_count": 1,
     "metadata": {},
     "output_type": "execute_result"
    }
   ],
   "source": [
    "package IssueMetadataExample {\n",
    "\timport ModelingMetadata::Issue;\n",
    "\t\n",
    "    //Example: the following identifies an issue with the interface\n",
    "    \n",
    "    metadata InterfaceCompatibilityIssue : Issue about engineToTransmissionInterface {\n",
    "    \ttext = \"This issue is about the interface compatability between the engine and transmission.\" +\n",
    "               \"The interface def includes an end defined by a ClutchPort.\" +\n",
    "               \"However, the interface usage connects the transmission port that is defined by ~DrivePwrPort.\" +\n",
    "               \"This should have surfaced a compatibility issue, since the interface is not really compatible with its definition\";\n",
    "    }\n",
    "    \n",
    "    interface def EngineToTransmissionInterface{\n",
    "        end p1:DrivePwrPort;\n",
    "        end p2:ClutchPort;\n",
    "    }\n",
    "    port def DrivePwrPort;\n",
    "    port def ClutchPort;\n",
    "    \n",
    "    part engine{\n",
    "        port drivePwrPort:DrivePwrPort;\n",
    "    }\n",
    "    part transmission{\n",
    "        port clutchPort:~DrivePwrPort;\n",
    "    }\n",
    "\n",
    "    interface engineToTransmissionInterface:EngineToTransmissionInterface\n",
    "        connect engine.drivePwrPort to transmission.clutchPort;       \n",
    "\n",
    "}"
   ]
  },
  {
   "cell_type": "code",
   "execution_count": null,
   "metadata": {
    "vscode": {
     "languageId": "sysml"
    }
   },
   "outputs": [],
   "source": []
  }
 ],
 "metadata": {
  "kernelspec": {
   "display_name": "SysML",
   "language": "sysml",
   "name": "sysml"
  },
  "language_info": {
   "codemirror_mode": "sysml",
   "file_extension": ".sysml",
   "mimetype": "text/x-sysml",
   "name": "SysML",
   "pygments_lexer": "java",
   "version": "1.0.0"
  }
 },
 "nbformat": 4,
 "nbformat_minor": 2
}
