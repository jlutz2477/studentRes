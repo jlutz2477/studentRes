{
 "cells": [
  {
   "cell_type": "code",
   "execution_count": 1,
   "metadata": {
    "vscode": {
     "languageId": "sysml"
    }
   },
   "outputs": [
    {
     "data": {
      "text/plain": [
       "Package Flashlight Example (7298c636-cb0b-4f50-b20e-cfe8fae5f34b)\n"
      ]
     },
     "execution_count": 1,
     "metadata": {},
     "output_type": "execute_result"
    }
   ],
   "source": [
    "package 'Flashlight Example' {\n",
    "\t\n",
    "\tattribute def OnOffCmd;\n",
    "\tattribute def Light;\n",
    "\t\n",
    "\tport def OnOffCmdPort {\n",
    "\t\tout onOffCmd : OnOffCmd;\n",
    "\t}\n",
    "\t\n",
    "\tport def LightPort {\n",
    "\t\tout light: Light;\n",
    "\t}\n",
    "\t\n",
    "\tpart context {\n",
    "\t\tpart user {\n",
    "\t\t\tport onOffCmdPort: OnOffCmdPort;\n",
    "\t\t\tperform illuminateRegion.sendOnOffCmd {\n",
    "\t\t\t\tout onOffCmd = onOffCmdPort.onOffCmd;\n",
    "\t\t\t}\n",
    "\t\t}\n",
    "\t\t\n",
    "\t\tinterface userToFlashlight connect user.onOffCmdPort to flashlight.onOffCmdPort {\n",
    "\t\t\tref flow references illuminateRegion.onOffCmdFlow\n",
    "\t\t\t\tfrom source.onOffCmd to target.onOffCmd; \n",
    "\t\t}\n",
    "\t\t\n",
    "\t\tpart flashlight {\n",
    "\t\t\tport onOffCmdPort: ~OnOffCmdPort;\n",
    "\t\t\t\n",
    "\t\t\tperform illuminateRegion.produceDirectedLight {\n",
    "\t\t\t\tin onOffCmd = onOffCmdPort.onOffCmd;\n",
    "\t\t\t\tout light = lightPort.light;\n",
    "\t\t\t}\n",
    "\t\t\t\n",
    "\t\t\tport lightPort: LightPort ;\n",
    "\t\t}\n",
    "\t\tpart reflectingSource {\n",
    "\t\t\tport lightPort: ~LightPort;\n",
    "\t\t\t\n",
    "\t\t\tperform illuminateRegion.reflectLight {\n",
    "\t\t\t\tin light = lightPort.light;\n",
    "\t\t\t}\n",
    "\t\t}\n",
    "\t}\n",
    "\t\n",
    "\taction illuminateRegion {\n",
    "\t\taction sendOnOffCmd { out onOffCmd: OnOffCmd; }\n",
    "\t\t\n",
    "\t\tsuccession flow onOffCmdFlow from sendOnOffCmd.onOffCmd to produceDirectedLight.onOffCmd;\n",
    "\t\t\n",
    "\t\taction produceDirectedLight { in onOffCmd; out light: Light; }\n",
    "\t\t\n",
    "\t\tsuccession flow lightFlow from produceDirectedLight.light to reflectLight.light;\n",
    "\t\t\n",
    "\t\taction reflectLight { in light: Light; }\n",
    "\t}\n",
    "\t\n",
    "\t\n",
    "\t\n",
    "}"
   ]
  },
  {
   "cell_type": "code",
   "execution_count": null,
   "metadata": {
    "vscode": {
     "languageId": "sysml"
    }
   },
   "outputs": [],
   "source": []
  }
 ],
 "metadata": {
  "kernelspec": {
   "display_name": "SysML",
   "language": "sysml",
   "name": "sysml"
  },
  "language_info": {
   "codemirror_mode": "sysml",
   "file_extension": ".sysml",
   "mimetype": "text/x-sysml",
   "name": "SysML",
   "pygments_lexer": "java",
   "version": "1.0.0"
  }
 },
 "nbformat": 4,
 "nbformat_minor": 2
}
