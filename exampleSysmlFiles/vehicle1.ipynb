{
 "cells": [
  {
   "cell_type": "code",
   "execution_count": 1,
   "id": "63a39373",
   "metadata": {},
   "outputs": [
    {
     "name": "stderr",
     "output_type": "stream",
     "text": [
      "ERROR:no viable alternative at input 'Vehicle' (1.sysml line : 4 column : 8)\n",
      "ERROR:no viable alternative at input 'specializes' (1.sysml line : 4 column : 16)\n",
      "ERROR:no viable alternative at input 'vin' (1.sysml line : 5 column : 11)\n",
      "ERROR:no viable alternative at input 'm' (1.sysml line : 6 column : 11)\n",
      "ERROR:no viable alternative at input 'engine' (1.sysml line : 8 column : 13)\n",
      "ERROR:no viable alternative at input 'transmission' (1.sysml line : 9 column : 13)\n",
      "ERROR:no viable alternative at input 'Engine' (1.sysml line : 12 column : 8)\n",
      "ERROR:no viable alternative at input 'specializes' (1.sysml line : 12 column : 15)\n",
      "ERROR:no viable alternative at input 'serialNumber' (1.sysml line : 13 column : 11)\n",
      "ERROR:no viable alternative at input 'm' (1.sysml line : 14 column : 11)\n",
      "ERROR:no viable alternative at input 'Transmission' (1.sysml line : 19 column : 8)\n",
      "ERROR:no viable alternative at input 'specializes' (1.sysml line : 19 column : 21)\n",
      "ERROR:no viable alternative at input 'serialNumber' (1.sysml line : 20 column : 11)\n",
      "ERROR:no viable alternative at input 'm' (1.sysml line : 21 column : 11)\n",
      "ERROR:no viable alternative at input 'v' (1.sysml line : 29 column : 10)\n",
      "ERROR:no viable alternative at input 'm' (1.sysml line : 30 column : 11)\n",
      "ERROR:no viable alternative at input 'engine' (1.sysml line : 31 column : 13)\n",
      "ERROR:no viable alternative at input 'm' (1.sysml line : 32 column : 12)\n",
      "ERROR:no viable alternative at input 'transmission' (1.sysml line : 34 column : 13)\n",
      "ERROR:no viable alternative at input 'm' (1.sysml line : 35 column : 12)\n"
     ]
    },
    {
     "data": {
      "text/plain": []
     },
     "execution_count": 1,
     "metadata": {},
     "output_type": "execute_result"
    }
   ],
   "source": [
    "package Vehicles_1 {\n",
    "\timport MassRollup_1::*;\n",
    "\n",
    "\tclass Vehicle specializes MassedThing {\n",
    "\t\tfeature vin: String;\n",
    "\t\tfeature m redefines mass;\n",
    "\t\n",
    "\t\tcomposite engine: Engine subsets subcomponents;\n",
    "\t\tcomposite transmission: Transmission subsets subcomponents;\n",
    "\t}\n",
    "\t\n",
    "\tclass Engine specializes MassedThing {\n",
    "\t\tfeature serialNumber: String;\n",
    "\t\tfeature m redefines mass;\n",
    "\t\t\n",
    "\t\t// ...\n",
    "\t}\n",
    "\t\n",
    "\tclass Transmission specializes MassedThing {\n",
    "\t\tfeature serialNumber: String;\n",
    "\t\tfeature m redefines mass;\n",
    "\t\t\n",
    "\t\t// ...\n",
    "\t}\n",
    "\t\n",
    "\t// Example usage\n",
    "\t\n",
    "\timport SI::*;\n",
    "\tfeature v: Vehicle {\n",
    "\t\tfeature m redefines Vehicle::m = 1000;\n",
    "\t\tcomposite engine redefines Vehicle::engine {\n",
    "\t\t\tfeature m redefines Engine::m = 100;\n",
    "\t\t}\n",
    "\t\tcomposite transmission redefines Vehicle::transmission {\n",
    "\t\t\tfeature m redefines Transmission::m = 50;\n",
    "\t\t}\n",
    "\t}\n",
    "\n",
    "\t// v.totalMass evaluates to 1150.0\n",
    "}"
   ]
  },
  {
   "cell_type": "code",
   "execution_count": null,
   "id": "f9513740",
   "metadata": {},
   "outputs": [],
   "source": [
    "%viz --view=Tree Vehicles_1"
   ]
  }
 ],
 "metadata": {
  "kernelspec": {
   "display_name": "SysML",
   "language": "sysml",
   "name": "sysml"
  },
  "language_info": {
   "codemirror_mode": "sysml",
   "file_extension": ".sysml",
   "mimetype": "text/x-sysml",
   "name": "SysML",
   "pygments_lexer": "java",
   "version": "1.0.0"
  }
 },
 "nbformat": 4,
 "nbformat_minor": 5
}
