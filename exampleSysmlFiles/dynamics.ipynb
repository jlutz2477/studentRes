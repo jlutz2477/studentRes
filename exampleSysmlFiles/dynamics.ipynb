{
 "cells": [
  {
   "cell_type": "code",
   "execution_count": 1,
   "metadata": {
    "vscode": {
     "languageId": "sysml"
    }
   },
   "outputs": [
    {
     "data": {
      "text/plain": [
       "Package 10d-Dynamics Analysis (ae157198-74e4-4bdf-8041-fb020b6879e7)\n"
      ]
     },
     "execution_count": 1,
     "metadata": {},
     "output_type": "execute_result"
    }
   ],
   "source": [
    "package '10d-Dynamics Analysis' {\n",
    "\timport ISQ::*;\n",
    "\t\n",
    "\tpackage VehicleModel {\n",
    "\t\n",
    "\t\tpart def Vehicle {\n",
    "\t\t\tattribute mass :> ISQ::mass;\n",
    "\t\t}\n",
    "\t\n",
    "\t}\n",
    "\t\n",
    "\tpackage DynamicsModel {\n",
    "\t    \n",
    "\t    calc def Acceleration {\n",
    "\t    \tin p : PowerValue;\n",
    "\t    \tin m : MassValue;\n",
    "\t    \tin v : SpeedValue;\n",
    "\t    \treturn : AccelerationValue = p / (m * v);\n",
    "\t    }\n",
    "\t    \n",
    "\t    calc def Velocity {\n",
    "\t    \tin v0 : SpeedValue; \n",
    "\t    \tin a : AccelerationValue; \n",
    "\t    \tin dt : TimeValue;\n",
    "\t    \treturn : SpeedValue = v0 + a * dt;\n",
    "\t    }\n",
    "\t    \n",
    "\t    calc def Position {\n",
    "\t    \tin x0 : LengthValue;\n",
    "\t    \tin v : SpeedValue; \n",
    "\t    \tin dt : TimeValue;\n",
    "\t    \treturn : LengthValue = x0 + v * dt;\n",
    "\t    }\n",
    "\t    \n",
    "\t    action def StraightLineDynamics {\n",
    "\t        in power : PowerValue;\n",
    "\t        in mass : MassValue;\n",
    "\t        in delta_t : TimeValue;\n",
    "\t        in x_in : LengthValue;\n",
    "\t        in v_in : SpeedValue;\n",
    "\t        out x_out : LengthValue = Position(x_in, v_in, delta_t);\n",
    "\t        out v_out : SpeedValue = Velocity(v_in, a_out, delta_t);\n",
    "\t        out a_out : AccelerationValue = Acceleration(power, mass, v_in);\n",
    "\t    }\n",
    "\t}\n",
    "\t\n",
    "\tpackage AnalysisModel {\n",
    "\t\timport VehicleModel::*;\n",
    "\t\timport DynamicsModel::*;\n",
    "\t\timport SampledFunctions::*;\n",
    "\t\timport ScalarValues::Natural;\n",
    "\t\timport SequenceFunctions::*;\n",
    "\t\t\n",
    "\t\tanalysis def DynamicsAnalysis {\n",
    "\t\t\tsubject vehicle : Vehicle;\n",
    "\t\t\tin attribute powerProfile :> ISQ::power[*];\n",
    "\t\t\tin attribute initialPosition :> ISQ::length;\n",
    "\t\t\tin attribute initialSpeed :> ISQ::speed;\n",
    "\t\t\tin attribute deltaT :> ISQ::time;\n",
    "\t\t\treturn attribute accelerationProfile :> ISQ::acceleration[*] := ();\n",
    "\t\t\t\n",
    "\t\t\tprivate attribute position := initialPosition;\n",
    "\t\t\tprivate attribute speed := initialSpeed;\n",
    "\t\t\t\n",
    "\t\t\tfor i in 1..powerProfile->size()-1 {\n",
    "\t\t\t\tperform action dynamics : StraightLineDynamics {\n",
    "\t\t\t\t\tin power = powerProfile#(i);\n",
    "\t\t\t\t\tin mass = vehicle.mass;\n",
    "\t\t\t\t\tin delta_t = deltaT;\n",
    "\t\t\t\t\tin x_in = position;\n",
    "\t\t\t\t\tin v_in = speed;\n",
    "\t\t\t\t}\n",
    "\t\t\t\tthen assign position := dynamics.x_out;\n",
    "\t\t\t\tthen assign speed := dynamics.v_out;\n",
    "\t\t\t\tthen assign accelerationProfile := accelerationProfile->including(dynamics.a_out);\n",
    "\t\t\t}\n",
    "\t\t}\n",
    "\t}\n",
    "\t\n",
    "}"
   ]
  },
  {
   "cell_type": "code",
   "execution_count": null,
   "metadata": {
    "vscode": {
     "languageId": "sysml"
    }
   },
   "outputs": [],
   "source": []
  }
 ],
 "metadata": {
  "kernelspec": {
   "display_name": "SysML",
   "language": "sysml",
   "name": "sysml"
  },
  "language_info": {
   "codemirror_mode": "sysml",
   "file_extension": ".sysml",
   "mimetype": "text/x-sysml",
   "name": "SysML",
   "pygments_lexer": "java",
   "version": "1.0.0"
  }
 },
 "nbformat": 4,
 "nbformat_minor": 2
}
