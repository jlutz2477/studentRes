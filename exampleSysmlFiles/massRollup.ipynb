{
 "cells": [
  {
   "cell_type": "code",
   "execution_count": 1,
   "metadata": {
    "vscode": {
     "languageId": "sysml"
    }
   },
   "outputs": [
    {
     "data": {
      "text/plain": [
       "Package MassRollup (d4753d9d-95bc-413e-b531-ba4322106515)\n"
      ]
     },
     "execution_count": 1,
     "metadata": {},
     "output_type": "execute_result"
    }
   ],
   "source": [
    "package MassRollup {\n",
    "\timport NumericalFunctions::*;\n",
    "\t\n",
    "\tpart def MassedThing {\n",
    "\t\tattribute mass :> ISQ::mass; \n",
    "\t\tattribute totalMass :> ISQ::mass;\n",
    "\t}\n",
    "\t\n",
    "\tpart simpleThing : MassedThing {\n",
    "\t\tattribute redefines totalMass = mass;\n",
    "\t}\n",
    "\t\n",
    "\tpart compositeThing : MassedThing {\n",
    "\t\tpart subcomponents: MassedThing[*];\n",
    "\t\t\n",
    "\t\tattribute redefines totalMass default\n",
    "\t\t\tmass + sum(subcomponents.totalMass); \n",
    "\t}\n",
    "\t\n",
    "\tpart filteredMassThing :> compositeThing {\n",
    "\t\tabstract attribute minMass :> ISQ::mass;\n",
    "\t\t\n",
    "\t\tattribute redefines totalMass =\n",
    "\t\t\tmass + sum(subcomponents.totalMass.?{in p :> ISQ::mass; p > minMass});\n",
    "\t}\n",
    "\n",
    "}"
   ]
  },
  {
   "cell_type": "code",
   "execution_count": null,
   "metadata": {
    "vscode": {
     "languageId": "sysml"
    }
   },
   "outputs": [],
   "source": []
  }
 ],
 "metadata": {
  "kernelspec": {
   "display_name": "SysML",
   "language": "sysml",
   "name": "sysml"
  },
  "language_info": {
   "codemirror_mode": "sysml",
   "file_extension": ".sysml",
   "mimetype": "text/x-sysml",
   "name": "SysML",
   "pygments_lexer": "java",
   "version": "1.0.0"
  }
 },
 "nbformat": 4,
 "nbformat_minor": 2
}
