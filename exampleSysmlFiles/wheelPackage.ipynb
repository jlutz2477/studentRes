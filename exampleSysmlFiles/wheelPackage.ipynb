{
 "cells": [
  {
   "cell_type": "code",
   "execution_count": 1,
   "metadata": {
    "vscode": {
     "languageId": "sysml"
    }
   },
   "outputs": [
    {
     "data": {
      "text/plain": [
       "Package Wheel Package (d3ca049f-a480-4dab-b033-dfc153ea3c43)\n"
      ]
     },
     "execution_count": 1,
     "metadata": {},
     "output_type": "execute_result"
    }
   ],
   "source": [
    "package 'Wheel Package' {\n",
    "\tdoc\n",
    "\t/*\n",
    "\t * Example from the SysML 1.6 spec, subclause 8.4.1 Wheel Hub Assembly.\n",
    "\t */\n",
    "\n",
    "\timport ISQ::*;\n",
    "\t\n",
    "\tpressure = force / length^2; \n",
    "\t\n",
    "\tpart def WheelHubAssembly {\n",
    "\t\tpart wheel: WheelAssembly[1];\n",
    "\t\tpart lugBoltJoints: LugBoltJoint[5] {\n",
    "\t\t\tref redefines threadedHole subsets hub.h;\n",
    "\t\t\tref redefines mountingHole subsets wheel.w.mountingHoles;\n",
    "\t\t}\n",
    "\t\tpart hub: Hub[1];\n",
    "\t}\n",
    "\t\n",
    "\tpart def WheelAssembly {\n",
    "\t\tinflationPressure :> pressure;\n",
    "\t\t\n",
    "\t\tpart t: Tire[1] {\n",
    "\t\t\tpart bead redefines Tire::bead;\n",
    "\t\t}\n",
    "\t\tpart w: Wheel[1] {\n",
    "\t\t\tpart rim redefines Wheel::rim;\n",
    "\t\t}\t\t\n",
    "\t\t\t\t\n",
    "\t\tconnection : PressureSeat connect t.bead to w.rim;\t\t\n",
    "\t}\n",
    "\t\n",
    "\tpart def Tire {\n",
    "\t\ttireSpecification : ScalarValues::String;\n",
    "\t\t\n",
    "\t\tpart bead : TireBead[2];\n",
    "\t\t\n",
    "\t\taction mountTire;\n",
    "\t}\n",
    "\t\n",
    "\tpart def TireBead;\n",
    "\t\n",
    "\tconnection def PressureSeat {\n",
    "\t\tend : TireBead[1];\n",
    "\t\tend : TireMountingRim[1];\n",
    "\t}\n",
    "\t\n",
    "\tpart def Wheel {\n",
    "\t\tdiameter :> length;\n",
    "\t\twidth :> length;\n",
    "\t\t\n",
    "\t\tpart rim : TireMountingRim[2];\n",
    "\t\tpart v : InflationValve[1];\n",
    "\t\tpart weight : BalanceWeight[0..6];\n",
    "\t\tpart mountingHoles : LugBoltMountingHole[5];\n",
    "\t}\n",
    "\t\n",
    "\tconnection def BandMount {\n",
    "\t\tend : Wheel[1];\n",
    "\t\tend : WirelessTirePressureMonitor[1];\n",
    "\t}\n",
    "\t\n",
    "\tpart def WirelessTirePressureMonitor {\n",
    "\t\taction transmitPressure;\n",
    "\t}\n",
    "\t\n",
    "\tpart def TireMountingRim;\n",
    "\t\n",
    "\tpart def InflationValve;\n",
    "\t\n",
    "\tpart def BalanceWeight;\n",
    "\t\n",
    "\tpart def LugBoltMountingHole {\n",
    "\t\tlugBoltSize :> length;\n",
    "\t}\n",
    "\t\n",
    "\tpart def LugBoltJoint {\n",
    "\t\ttorque :> ISQ::torque;\n",
    "\t\tboltTension :> force;\n",
    "\t\t\n",
    "\t\tref mountingHole: LugBoltMountingHole[1];\n",
    "\t\tref threadedHole: LugBoltThreadableHole[1];\n",
    "\t}\n",
    "\t\n",
    "\tpart def Hub {\n",
    "\t\tpart h: LugBoltThreadableHole[5];\n",
    "\t}\n",
    "\t\n",
    "\tpart def LugBoltThreadableHole {\n",
    "\t\tlugBoltSize :> length;\n",
    "\t\tthreadSize :> length;\n",
    "\t}\n",
    "\t\n",
    "}"
   ]
  },
  {
   "cell_type": "code",
   "execution_count": null,
   "metadata": {
    "vscode": {
     "languageId": "sysml"
    }
   },
   "outputs": [],
   "source": []
  }
 ],
 "metadata": {
  "kernelspec": {
   "display_name": "SysML",
   "language": "sysml",
   "name": "sysml"
  },
  "language_info": {
   "codemirror_mode": "sysml",
   "file_extension": ".sysml",
   "mimetype": "text/x-sysml",
   "name": "SysML",
   "pygments_lexer": "java",
   "version": "1.0.0"
  }
 },
 "nbformat": 4,
 "nbformat_minor": 2
}
