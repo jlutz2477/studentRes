{
 "cells": [
  {
   "cell_type": "code",
   "execution_count": 1,
   "metadata": {
    "vscode": {
     "languageId": "sysml"
    }
   },
   "outputs": [
    {
     "data": {
      "text/plain": [
       "Package 18-Use Case (fbaf4af1-f4e6-4519-94c7-70ccc089b275)\n"
      ]
     },
     "execution_count": 1,
     "metadata": {},
     "output_type": "execute_result"
    }
   ],
   "source": [
    "package '18-Use Case' {\n",
    "\t\n",
    "\tpart def Vehicle;\n",
    "\tpart def Person;\n",
    "\tpart def Environment;\n",
    "\tpart def 'Fuel Station';\n",
    "\t\n",
    "\tuse case 'provide transportation' {\n",
    "\t\tsubject vehicle : Vehicle;\n",
    "\t\t\n",
    "\t\tactor driver : Person;\n",
    "\t\tactor passengers : Person[0..4];\n",
    "\t\tactor environment : Environment;\n",
    "\t\t\n",
    "\t\tobjective {\n",
    "\t\t\tdoc \n",
    "\t\t\t/* Satisfy mission requirements to transport driver and passengers \n",
    "\t\t\t * from starting location to ending location in conformance with \n",
    "\t\t\t * the driving profile and meet the mission requirements for safety, \n",
    "\t\t\t * reliability, comfort, and affordability.\n",
    "\t\t\t */\n",
    "\t\t}\n",
    "\t\t\n",
    "\t\tref :>> start {\n",
    "\t\t\tdoc /* Mock-up of a pre-condition. */\n",
    "\t\t\tassert constraint {\n",
    "\t\t\t\tdoc /* Vehicle at starting location */\n",
    "\t\t\t}\n",
    "\t\t}\n",
    "\t\t\n",
    "\t\tfirst start;\n",
    "\t\t\n",
    "\t\tthen include 'enter vehicle' {\n",
    "\t\t\tactor :>> driver = 'provide transportation'::driver;\n",
    "\t\t\tactor :>> passengers = 'provide transportation'::passengers;\n",
    "\t\t}\n",
    "\t\t\n",
    "\t\tthen use case 'drive vehicle' {\n",
    "\t\t\tinclude 'add fuel'[0..*] {\n",
    "\t\t\t\tdoc\n",
    "\t\t\t\t/*\n",
    "\t\t\t\t * Mock-up of an extension point.\n",
    "\t\t\t\t * (But reference to 'add fuel' is in the wrong direction, and it doesn't\n",
    "\t\t\t\t * make the extension condition sufficient to trigger the behavior.)\n",
    "\t\t\t\t */\n",
    "\t\t\t \n",
    "\t\t\t\tactor :>> fueler = driver;\n",
    "\t\t\t\tref :>> start {\n",
    "\t\t\t\t\tdoc /* Fuel level < 10% max fuel */\n",
    "\t\t\t\t}\n",
    "\t\t\t}\n",
    "\t\t}\n",
    "\t\t\n",
    "\t\tthen include 'exit vehicle' {\n",
    "\t\t\tactor :>> driver = 'provide transportation'::driver;\n",
    "\t\t\tactor :>> passengers = 'provide transportation'::passengers;\n",
    "\t\t}\n",
    "\t\t\n",
    "\t\tthen done;\n",
    "\t\t\n",
    "\t\tref :>> done {\n",
    "\t\t\tdoc /* Mock-up of a post-condition. */\n",
    "\t\t\tassert constraint {\n",
    "\t\t\t\tdoc /* Vehicle at ending location */\n",
    "\t\t\t}\n",
    "\t\t}\n",
    "\t\t\n",
    "\t}\n",
    "\t\n",
    "\tuse case 'enter vehicle' {\n",
    "\t\tsubject vehicle : Vehicle;\n",
    "\t\tactor driver : Person;\n",
    "\t\tactor passengers : Person[0..4];\n",
    "\t}\n",
    "\t\n",
    "\tuse case 'exit vehicle' {\n",
    "\t\tsubject vehicle : Vehicle;\n",
    "\t\tactor driver : Person;\n",
    "\t\tactor passengers : Person[0..4];\n",
    "\t}\n",
    "\t\t\n",
    "\tuse case 'add fuel' {\n",
    "\t\tsubject vehicle : Vehicle;\n",
    "\t\tactor fueler : Person;\n",
    "\t\tactor 'fuel station' : 'Fuel Station';\n",
    "\t}\n",
    "}"
   ]
  },
  {
   "cell_type": "code",
   "execution_count": null,
   "metadata": {
    "vscode": {
     "languageId": "sysml"
    }
   },
   "outputs": [],
   "source": []
  }
 ],
 "metadata": {
  "kernelspec": {
   "display_name": "SysML",
   "language": "sysml",
   "name": "sysml"
  },
  "language_info": {
   "codemirror_mode": "sysml",
   "file_extension": ".sysml",
   "mimetype": "text/x-sysml",
   "name": "SysML",
   "pygments_lexer": "java",
   "version": "1.0.0"
  }
 },
 "nbformat": 4,
 "nbformat_minor": 2
}
