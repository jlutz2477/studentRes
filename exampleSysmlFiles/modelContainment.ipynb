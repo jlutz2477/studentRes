{
 "cells": [
  {
   "cell_type": "code",
   "execution_count": 1,
   "metadata": {
    "vscode": {
     "languageId": "sysml"
    }
   },
   "outputs": [
    {
     "name": "stderr",
     "output_type": "stream",
     "text": [
      "ERROR:Couldn't resolve reference to Namespace ''8-Requirements''. (1.sysml line : 3 column : 9)\n",
      "ERROR:Couldn't resolve reference to Namespace ''2a-Parts Interconnection''. (1.sysml line : 2 column : 9)\n",
      "ERROR:Couldn't resolve reference to Membership 'MassLimitationRequirement'. (1.sysml line : 6 column : 10)\n",
      "ERROR:Couldn't resolve reference to Membership ''vehicle1_c1 Specification Context'::'vehicle1-c1 Specification''. (1.sysml line : 23 column : 11)\n",
      "ERROR:Couldn't resolve reference to Element 'vehicle1_c1'. (1.sysml line : 21 column : 28)\n",
      "ERROR:Couldn't resolve reference to Membership 'VehicleA'. (1.sysml line : 34 column : 11)\n",
      "ERROR:Couldn't resolve reference to Membership 'Transmission'. (1.sysml line : 57 column : 11)\n",
      "ERROR:Couldn't resolve reference to Membership 'Engine'. (1.sysml line : 56 column : 11)\n"
     ]
    },
    {
     "data": {
      "text/plain": []
     },
     "execution_count": 1,
     "metadata": {},
     "output_type": "execute_result"
    }
   ],
   "source": [
    "package '13a-Model Containment' {\n",
    "\timport '2a-Parts Interconnection'::*;\n",
    "\timport '8-Requirements'::*;\n",
    "\t\n",
    "\trequirement BodyAndInteriorRequirements {\n",
    "\t\timport MassLimitationRequirement; \n",
    "\t}\n",
    "\t\n",
    "\trequirement PowerTrainRequirements;\n",
    "\t\n",
    "\tpackage 'Vehicle Model' {\n",
    "\t\tdoc\n",
    "\t\t/*\n",
    "\t\t * This package is used to represent a top-level \"model\".\n",
    "\t\t * There is no specific syntax for identifying a package\n",
    "\t\t * used in this way.\n",
    "\t\t */\n",
    "\t\n",
    "\t\t\n",
    "\t\tpackage 'Vehicle1-Configuration' {\t\t\t\n",
    "\t\t\talias 'Sport Sedan' for vehicle1_c1;\n",
    "\t\t\t\n",
    "\t\t\timport 'vehicle1_c1 Specification Context'::'vehicle1-c1 Specification';\t\t\n",
    "\t\t}\n",
    "\t\t\n",
    "\t\tpackage 'Vehicle Reference Model' {\n",
    "\t\t\tdoc\n",
    "\t\t\t/*\n",
    "\t\t\t * This package is used to represent a \"model library\".\n",
    "\t\t\t * There is no specific syntax for identifying a package\n",
    "\t\t\t * used in this way.\n",
    "\t\t\t */\n",
    "\t\t\n",
    "\t\t\timport VehicleA;\t\t\t\n",
    "\t\t\timport VehicleSubsystems;\n",
    "\t\t\t\n",
    "\t\t\t//*\n",
    "\t\t\t// The following would transitively import all the\n",
    "\t\t\t// members of the VehicleSubsystems package, rather\n",
    "\t\t\t// then importing the package itself.\n",
    "\t\t\t \n",
    "\t\t\t   import VehicleSubsystems::*;\n",
    "\t\t\t*/\n",
    "\t\t}\n",
    "\t\t\n",
    "\t\tpackage VehicleSubsystems {\n",
    "\t\t\timport 'Body&Interior';\n",
    "\t\t\timport 'PowerTrain';\n",
    "\t\t}\n",
    "\t\t\n",
    "\t\tpackage 'Body&Interior' {\n",
    "\t\t\timport BodyAndInteriorRequirements;\t\t\t\n",
    "\t\t}\n",
    "\t\t\n",
    "\t\tpackage PowerTrain {\n",
    "\t\t\timport Engine;\n",
    "\t\t\timport Transmission;\n",
    "\t\t\timport PowerTrainRequirements;\t\t\t\n",
    "\t\t}\n",
    "\t}\n",
    "\t\n",
    "}"
   ]
  },
  {
   "cell_type": "code",
   "execution_count": null,
   "metadata": {
    "vscode": {
     "languageId": "sysml"
    }
   },
   "outputs": [],
   "source": []
  }
 ],
 "metadata": {
  "kernelspec": {
   "display_name": "SysML",
   "language": "sysml",
   "name": "sysml"
  },
  "language_info": {
   "codemirror_mode": "sysml",
   "file_extension": ".sysml",
   "mimetype": "text/x-sysml",
   "name": "SysML",
   "pygments_lexer": "java",
   "version": "1.0.0"
  }
 },
 "nbformat": 4,
 "nbformat_minor": 2
}
