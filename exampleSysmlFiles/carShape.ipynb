{
 "cells": [
  {
   "cell_type": "code",
   "execution_count": 1,
   "metadata": {
    "vscode": {
     "languageId": "sysml"
    }
   },
   "outputs": [
    {
     "data": {
      "text/plain": [
       "Package CarWithShapeAndCSG (049cc37d-7f53-4ab4-b0f5-36e27da6046b)\n"
      ]
     },
     "execution_count": 1,
     "metadata": {},
     "output_type": "execute_result"
    }
   ],
   "source": [
    "package CarWithShapeAndCSG {\n",
    "\timport SpatialItems::*;\n",
    "    import ShapeItems::*;\n",
    "    import Objects::Point;\n",
    "\timport Quantities::VectorQuantityValue;\n",
    "\timport MeasurementReferences::CoordinateFrame;\n",
    "\timport MeasurementReferences::TranslationRotationSequence;\n",
    "\timport MeasurementReferences::Translation;\n",
    "\timport MeasurementReferences::Rotation;\n",
    "\timport SI::*;\n",
    "\n",
    "\tpart def Car :> SpatialItem {\n",
    "\t\tdoc\n",
    "\t\t/*\n",
    "\t\t * Car with simple engine\n",
    "\t\t */\n",
    "\t\n",
    "        item :>> shape = Cuboid(4800 [mm], 1840 [mm], 1350 [mm]);\n",
    "\n",
    "        attribute datum :>> coordinateFrame {\n",
    "            :>> mRefs = (mm, mm, mm);\n",
    "        }\n",
    "\n",
    "\t\tpart powerSource : Engine [1] :> componentItems {\n",
    "\t\t\t:>> ecf { \n",
    "\t\t\t\t:>> mRefs = datum.mRefs;\n",
    "\t\t\t\t:>> transformation : TranslationRotationSequence {\n",
    "\t\t\t\t\t:>> source = datum;\n",
    "\t\t\t\t\t:>> elements = ( Translation((3800, (1840-190)/2, 40)[datum]) );\n",
    "\t\t\t\t}\n",
    "\t\t\t}\n",
    "\t\t}\n",
    "\t}\n",
    "\n",
    "\tpart def Engine :> SpatialItem {\n",
    "\t\tdoc\n",
    "\t\t/*\n",
    "\t\t * Simple 2-cylinder engine\n",
    "\t\t * \n",
    "\t\t * Note: The engine shape is modeled as a rectangular box with two cylindrical holes, a gross simplification.\n",
    "\t\t */\n",
    "\t\n",
    "\t\titem :>> shape [1];\n",
    "\t\t\n",
    "\t\tattribute <ecf> engineCoordinateFrame :>> coordinateFrame;\t\t\n",
    "\n",
    "\t\tpart rawEngineBlock : SpatialItem [1] {\n",
    "\t\t\titem :>> shape : Box [1] {\n",
    "\t    \t\t:>> length = 300 [mm];\n",
    "\t    \t\t:>> width = 190 [mm];\n",
    "\t    \t\t:>> height = 330 [mm];\n",
    "\t\t\t}\n",
    "\t\t}\n",
    "\t\t\n",
    "\t\tprivate attribute rearCylinderSpacing = 90 [mm];\n",
    "\t\tprivate item cylinder1 : SpatialItem [1] {\n",
    "\t\t\titem :>> shape : Cylinder [1] {\n",
    "\t    \t\t:>> radius = 55 [mm];\n",
    "\t    \t\t:>> height = 350 [mm];\n",
    "\t\t\t}\n",
    "\t\t\tattribute :>> coordinateFrame {\n",
    "\t\t\t\t:>> transformation : TranslationRotationSequence {\n",
    "\t\t\t\t\t:>> source = ecf;\n",
    "\t\t\t\t\t:>> elements = (Translation( (rearCylinderSpacing, rawEngineBlock.shape.width/2, -10)[ecf]));\n",
    "\t\t\t\t}\n",
    "\t\t\t}\n",
    "\t\t}\n",
    "\t\t\n",
    "\t\tprivate attribute cylinderSpacing = 2*cylinder1.shape.radius + 20 [mm];\n",
    "\t\tprivate item cylinder2 : SpatialItem [1] {\n",
    "\t\t\titem :>> shape : Cylinder [1] {\n",
    "\t    \t\t:>> radius = cylinder1.shape.radius;\n",
    "\t    \t\t:>> height = cylinder1.shape.height;\n",
    "\t\t\t}\n",
    "\t\t\tattribute :>> coordinateFrame {\n",
    "\t\t\t\t:>> transformation : TranslationRotationSequence {\n",
    "\t\t\t\t\t:>> source = ecf;\n",
    "\t\t\t\t\t:>> elements = ( Translation((rearCylinderSpacing + cylinderSpacing, rawEngineBlock.shape.width/2, -10)[ecf]) );\n",
    "\t\t\t\t}\n",
    "\t\t\t}\n",
    "\t\t}\n",
    "\n",
    "\t\t/* CSG difference of rawEngineBlock minus cylinder1 minus cylinder2 */\n",
    "\t\tattribute :> differencesOf[1] {\n",
    "\t\t\titem :>> elements = (rawEngineBlock, cylinder1, cylinder2);\n",
    "\t\t}\n",
    "\t}\n",
    "}"
   ]
  },
  {
   "cell_type": "code",
   "execution_count": null,
   "metadata": {
    "vscode": {
     "languageId": "sysml"
    }
   },
   "outputs": [],
   "source": []
  }
 ],
 "metadata": {
  "kernelspec": {
   "display_name": "SysML",
   "language": "sysml",
   "name": "sysml"
  },
  "language_info": {
   "codemirror_mode": "sysml",
   "file_extension": ".sysml",
   "mimetype": "text/x-sysml",
   "name": "SysML",
   "pygments_lexer": "java",
   "version": "1.0.0"
  }
 },
 "nbformat": 4,
 "nbformat_minor": 2
}
