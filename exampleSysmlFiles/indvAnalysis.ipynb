{
 "cells": [
  {
   "cell_type": "code",
   "execution_count": 1,
   "metadata": {
    "vscode": {
     "languageId": "sysml"
    }
   },
   "outputs": [
    {
     "data": {
      "text/plain": [
       "Package AnalysisIndividualExample (84e61f05-3894-47c0-8656-d4ebc45a620a)\n"
      ]
     },
     "execution_count": 1,
     "metadata": {},
     "output_type": "execute_result"
    }
   ],
   "source": [
    "package AnalysisIndividualExample {\n",
    "\tpackage VehicleQuantities {\n",
    "\t    import ScalarValues::*;\n",
    "\t    import Quantities::*;\n",
    "\t    import MeasurementReferences::*;\n",
    "\t    import ISQ::*;\n",
    "\t    import USCustomaryUnits::*;\n",
    "\t    \n",
    "\t    attribute def DistancePerVolumeUnit :> DerivedUnit {\n",
    "\t    \tprivate attribute distancePF: QuantityPowerFactor[1] { :>> quantity = isq.L; :>> exponent = 1; }\n",
    "\t        private attribute volumePF: QuantityPowerFactor[1] { :>> quantity = isq.L; :>> exponent = -3; }\n",
    "\t        attribute :>> quantityDimension { :>> quantityPowerFactors = (distancePF, volumePF); }\n",
    "\t    }\n",
    "\n",
    "\t    attribute def DistancePerVolumeValue :> ScalarQuantityValue {\n",
    "\t        :>> num : Real;\n",
    "\t        :>> mRef : DistancePerVolumeUnit;\n",
    "\t    }\n",
    "\t    \n",
    "\t    attribute gallon : VolumeUnit = 231.0 * 'in' ** 3;\n",
    "\t    attribute mpg : DistancePerVolumeUnit = 'mi' / gallon;\n",
    "\t    attribute hp : PowerUnit = 745.7[SI::W];\n",
    "\t}\n",
    "\t\n",
    "\tpackage VehicleModel {\n",
    "\t    import VehicleQuantities::*;\n",
    "\t    \n",
    "\t    part def Vehicle {\n",
    "\t    \tattribute power :> ISQ::power;\n",
    "\t    }\n",
    "\t    \n",
    "\t    part def Engine {\n",
    "\t    \tattribute peakPower :> ISQ::power;\n",
    "\t    \tattribute fuelEfficiency : Real;\n",
    "\t    }\n",
    "\t    \n",
    "\t    part vehicle_c1 : Vehicle {\n",
    "\t    \tattribute :>> power = engine.peakPower;\n",
    "\t    \tpart engine : Engine[1];\n",
    "\t    }\n",
    "\t}\n",
    "\t\n",
    "\tpackage FuelEconomyAnalysisModel {\n",
    "\t    import VehicleModel::*;\n",
    "\t    import SequenceFunctions::size;\n",
    "\t    import SampledFunctions::SampledFunction;\n",
    "\t    import SampledFunctions::SamplePair;\n",
    "\t    import ControlFunctions::forAll;\n",
    "\t    \n",
    "\t    action def FuelConsumption {\n",
    "\t\t\tin power : PowerValue[*];\n",
    "\t\t\tout fuelEconomy : DistancePerVolumeValue;\n",
    "\t\t}\n",
    "\t\t\n",
    "\t\tanalysis def FuelEconomyAnalysis {\n",
    "\t\t\tsubject vehicle: Vehicle;\n",
    "\n",
    "\t\t    action fuelConsumption : FuelConsumption {\n",
    "\t\t    \tin power = vehicle.power;\n",
    "\t\t        out fuelEconomy : DistancePerVolumeValue;\n",
    "\t        }\n",
    "\t        \n",
    "\t\t\treturn calculatedFuelEconomy : DistancePerVolumeValue =\n",
    "\t\t\t\tfuelConsumption.fuelEconomy;\t        \n",
    "\t    }\n",
    "\t}\n",
    "\t\n",
    "\tpackage IndividualAnalysisModel {\n",
    "\t\timport VehicleModel::*;\n",
    "\t\timport FuelEconomyAnalysisModel::*;\n",
    "\t\t\n",
    "\t\tindividual part def Vehicle_1 :> Vehicle;\n",
    "\t\tindividual part def Engine_1 :> Engine;\n",
    "\t\t\n",
    "\t\tindividual analysis def FuelEconomyAnalysis_1 :> FuelEconomyAnalysis;\n",
    "\t\tindividual action def FuelConsumption_1 :> FuelConsumption;\n",
    "\t\t\n",
    "\t\tindividual analysis fuelEconomyAnalysis_1 : FuelEconomyAnalysis_1 {\n",
    "\t\t\tsubject vehicle : Vehicle_1 :> vehicle_c1 {\n",
    "\t\t\t\tindividual part :>> engine : Engine_1 {\n",
    "\t\t\t\t\tattribute :>> peakPower = 200[hp];\n",
    "\t\t\t\t\tattribute :>> fuelEfficiency = 0.4;\n",
    "\t\t\t\t}\n",
    "\t\t\t}\n",
    "\t\t\tindividual action :>> fuelConsumption : FuelEconomyAnalysis_1 {\n",
    "\t\t\t\tsnapshot :>> done :> fuelConsumption {\n",
    "\t\t\t\t\tout :>> fuelEconomy = 35[mph];\n",
    "\t\t\t\t}\n",
    "\t\t\t}\n",
    "\t\t}\n",
    "\t\t\n",
    "\t}\n",
    "\t\n",
    "}"
   ]
  },
  {
   "cell_type": "code",
   "execution_count": null,
   "metadata": {
    "vscode": {
     "languageId": "sysml"
    }
   },
   "outputs": [],
   "source": []
  }
 ],
 "metadata": {
  "kernelspec": {
   "display_name": "SysML",
   "language": "sysml",
   "name": "sysml"
  },
  "language_info": {
   "codemirror_mode": "sysml",
   "file_extension": ".sysml",
   "mimetype": "text/x-sysml",
   "name": "SysML",
   "pygments_lexer": "java",
   "version": "1.0.0"
  }
 },
 "nbformat": 4,
 "nbformat_minor": 2
}
