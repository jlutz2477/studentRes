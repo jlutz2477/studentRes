{
 "cells": [
  {
   "cell_type": "code",
   "execution_count": 1,
   "metadata": {
    "vscode": {
     "languageId": "sysml"
    }
   },
   "outputs": [
    {
     "data": {
      "text/plain": [
       "Package VehicleRequirementDerivation (8db79ef3-fae5-4026-89b7-2150ed9d10a8)\n"
      ]
     },
     "execution_count": 1,
     "metadata": {},
     "output_type": "execute_result"
    }
   ],
   "source": [
    "package VehicleRequirementDerivation {\n",
    "\timport RequirementDerivation::*;\n",
    "\t\n",
    "\tpart vehicle {\n",
    "\t\tattribute mass :> ISQ::mass;\n",
    "\t\t\n",
    "\t\tpart chassis {\n",
    "\t\t\tattribute mass :> ISQ::mass;\n",
    "\t\t}\n",
    "\t\t\n",
    "\t\tpart engine {\n",
    "\t\t\tattribute mass :> ISQ::mass;\n",
    "\t\t}\n",
    "\t}\n",
    "\t\n",
    "\trequirement def MassRequirement {\n",
    "\t\tsubject mass :> ISQ::mass;\n",
    "\t\tattribute massLimit :> ISQ::mass;\n",
    "\t\trequire constraint { mass <= massLimit }\n",
    "\t}\n",
    "\t\n",
    "\trequirement vehicleMassRequirement : MassRequirement {\n",
    "\t\tsubject :>> mass = vehicle.mass;\n",
    "\t}\n",
    "\t\n",
    "\trequirement chassisMassRequirement : MassRequirement {\n",
    "\t\tsubject :>> mass = vehicle.chassis.mass;\n",
    "\t}\n",
    "\t\n",
    "\trequirement engineMassRequirement : MassRequirement {\n",
    "\t\tsubject :>> mass = vehicle.engine.mass;\n",
    "\t}\n",
    "\t\n",
    "\t#derivation connection {\n",
    "\t\tend #original ::> vehicleMassRequirement;\n",
    "\t\tend #derive ::> chassisMassRequirement;\n",
    "\t\tend #derive ::> engineMassRequirement;\n",
    "\t}\n",
    "\t\n",
    "}"
   ]
  },
  {
   "cell_type": "code",
   "execution_count": null,
   "metadata": {
    "vscode": {
     "languageId": "sysml"
    }
   },
   "outputs": [],
   "source": []
  }
 ],
 "metadata": {
  "kernelspec": {
   "display_name": "SysML",
   "language": "sysml",
   "name": "sysml"
  },
  "language_info": {
   "codemirror_mode": "sysml",
   "file_extension": ".sysml",
   "mimetype": "text/x-sysml",
   "name": "SysML",
   "pygments_lexer": "java",
   "version": "1.0.0"
  }
 },
 "nbformat": 4,
 "nbformat_minor": 2
}
